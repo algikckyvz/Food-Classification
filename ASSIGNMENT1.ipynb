{
  "cells": [
    {
      "cell_type": "markdown",
      "metadata": {
        "id": "view-in-github",
        "colab_type": "text"
      },
      "source": [
        "<a href=\"https://colab.research.google.com/github/algikckyvz/Food-Classification/blob/main/ASSIGNMENT1.ipynb\" target=\"_parent\"><img src=\"https://colab.research.google.com/assets/colab-badge.svg\" alt=\"Open In Colab\"/></a>"
      ]
    },
    {
      "cell_type": "code",
      "execution_count": 2,
      "metadata": {
        "colab": {
          "base_uri": "https://localhost:8080/"
        },
        "id": "r1pEL6Wz99e-",
        "outputId": "3782b437-c93f-473e-b524-0c723fcfc0d2"
      },
      "outputs": [
        {
          "output_type": "stream",
          "name": "stdout",
          "text": [
            "Mounted at /content/drive\n"
          ]
        }
      ],
      "source": [
        "from google.colab import drive\n",
        "drive.mount('/content/drive')"
      ]
    },
    {
      "cell_type": "code",
      "execution_count": 3,
      "metadata": {
        "id": "f_4OAy5j-90W"
      },
      "outputs": [],
      "source": [
        "import zipfile\n",
        "with zipfile.ZipFile('/content/drive/MyDrive/CMP719-CV/archive.zip','r') as z:\n",
        "  z.extractall(\".\")"
      ]
    },
    {
      "cell_type": "code",
      "execution_count": 3,
      "metadata": {
        "id": "qRGLsXI0Aays"
      },
      "outputs": [],
      "source": [
        "import torch\n",
        "from torch.utils.data import Dataset\n",
        "\n",
        "from PIL import Image\n",
        "\n",
        "class LoaderClass(Dataset):\n",
        "    def __init__(self,data,labels,phase,transforms):\n",
        "        super(LoaderClass, self).__init__()\n",
        "        self.transforms = transforms\n",
        "        self.labels = labels[phase + \"_labels\"]\n",
        "        self.data = data[phase + \"_data\"]\n",
        "        self.phase = phase\n",
        "\n",
        "\n",
        "\n",
        "    def __len__(self):\n",
        "        return len(self.labels)\n",
        "\n",
        "    def __getitem__(self, idx):\n",
        "        label = self.labels[idx]\n",
        "        img = self.data[idx]\n",
        "        img = Image.fromarray(img)\n",
        "        img = self.transforms(img)\n",
        "        return img,torch.from_numpy(label)"
      ]
    },
    {
      "cell_type": "code",
      "execution_count": 2,
      "metadata": {
        "colab": {
          "base_uri": "https://localhost:8080/"
        },
        "id": "ZVmRrAOT_gQi",
        "outputId": "2993e4c2-5555-452e-f614-f03f7af25fda"
      },
      "outputs": [
        {
          "output_type": "stream",
          "name": "stdout",
          "text": [
            "/content/drive/MyDrive/Colab Notebooks/CV/ASSIGNMENT1\n"
          ]
        }
      ],
      "source": [
        "%cd '/content/drive/MyDrive/Colab Notebooks/CV/ASSIGNMENT1'\n",
        "from tensorflow.train import Feature\n",
        "from torch.utils.data import DataLoader\n",
        "import torch\n",
        "from torch.nn import CrossEntropyLoss , L1Loss , NLLLoss\n",
        "from torch import optim\n",
        "from torchvision import transforms, utils\n",
        "import numpy as np\n",
        "import os\n",
        "from PIL import Image,ImageFile\n",
        "import matplotlib.pyplot as plt"
      ]
    },
    {
      "cell_type": "code",
      "execution_count": 4,
      "metadata": {
        "colab": {
          "base_uri": "https://localhost:8080/"
        },
        "id": "FTjF4iTRA0WO",
        "outputId": "42971708-d50c-48b6-83b6-116e6c814996"
      },
      "outputs": [
        {
          "output_type": "stream",
          "name": "stdout",
          "text": [
            "['Meat', 'Seafood', 'Vegetable-Fruit', 'Soup', 'Dairy product', 'Egg', 'Noodles-Pasta', 'Rice', 'Dessert', 'Bread', 'Fried food']\n",
            "Meat\n",
            "0\n",
            "Seafood\n",
            "1\n",
            "Vegetable-Fruit\n",
            "2\n",
            "Soup\n",
            "3\n",
            "Dairy product\n",
            "4\n",
            "Egg\n",
            "5\n",
            "Noodles-Pasta\n",
            "6\n",
            "Rice\n",
            "7\n",
            "Dessert\n",
            "8\n",
            "Bread\n",
            "9\n",
            "Fried food\n",
            "10\n"
          ]
        }
      ],
      "source": [
        "DATA_PATH = '/content/'\n",
        "NUM_FOOD = 11\n",
        "\n",
        "evaluation_data = []\n",
        "evaluation_labels = []\n",
        "\n",
        "validation_data = []\n",
        "validation_labels = []\n",
        "\n",
        "training_data = []\n",
        "training_labels = []\n",
        "\n",
        "# PARSING EVALUTION IMAGES    \n",
        "# PARSE THE NAME LESS THAN 1 AND APPEND TO LIST  \n",
        "path_evaluation = os.path.join(DATA_PATH, \"evaluation\")\n",
        "FOOD = [x for x in os.listdir(path_evaluation) if x != '.config']#'.DS_Store'\n",
        "print(FOOD)\n",
        "for folder in os.listdir(path_evaluation):\n",
        "  print(folder)\n",
        "  class_index = FOOD.index(folder)\n",
        "  print(class_index)\n",
        "  for image_name in os.listdir(path_evaluation + \"/\" + folder):\n",
        "    if int(os.path.splitext(image_name)[0]) < 1:\n",
        "      img = Image.open(path_evaluation + \"/\" + folder + \"/\" + image_name)\n",
        "      food_label = (np.arange(NUM_FOOD) == class_index).astype(np.float32)\n",
        "      evaluation_data.append(np.array(img))\n",
        "      evaluation_labels.append(food_label) "
      ]
    },
    {
      "cell_type": "code",
      "execution_count": 5,
      "metadata": {
        "colab": {
          "base_uri": "https://localhost:8080/"
        },
        "id": "iwD9UbDYBNvQ",
        "outputId": "97e70776-282f-4cb1-e06d-d5a3c19055d0"
      },
      "outputs": [
        {
          "output_type": "stream",
          "name": "stdout",
          "text": [
            "['72.jpg', '75.jpg', '441.jpg', '30.jpg', '310.jpg', '183.jpg', '33.jpg', '109.jpg', '107.jpg', '62.jpg', '163.jpg', '283.jpg', '87.jpg', '303.jpg', '92.jpg', '147.jpg', '227.jpg', '100.jpg', '344.jpg', '307.jpg', '364.jpg', '162.jpg', '34.jpg', '407.jpg', '102.jpg', '383.jpg', '249.jpg', '250.jpg', '354.jpg', '398.jpg', '206.jpg', '448.jpg', '281.jpg', '26.jpg', '374.jpg', '18.jpg', '425.jpg', '5.jpg', '381.jpg', '265.jpg', '171.jpg', '35.jpg', '24.jpg', '274.jpg', '431.jpg', '143.jpg', '299.jpg', '446.jpg', '358.jpg', '415.jpg', '184.jpg', '309.jpg', '55.jpg', '210.jpg', '83.jpg', '151.jpg', '192.jpg', '111.jpg', '376.jpg', '73.jpg', '115.jpg', '298.jpg', '108.jpg', '345.jpg', '37.jpg', '159.jpg', '17.jpg', '233.jpg', '325.jpg', '8.jpg', '116.jpg', '308.jpg', '89.jpg', '127.jpg', '335.jpg', '275.jpg', '315.jpg', '355.jpg', '22.jpg', '150.jpg', '405.jpg', '114.jpg', '47.jpg', '392.jpg', '444.jpg', '320.jpg', '244.jpg', '430.jpg', '211.jpg', '359.jpg', '409.jpg', '132.jpg', '336.jpg', '270.jpg', '240.jpg', '286.jpg', '101.jpg', '169.jpg', '120.jpg', '199.jpg', '436.jpg', '122.jpg', '20.jpg', '50.jpg', '42.jpg', '65.jpg', '305.jpg', '290.jpg', '180.jpg', '203.jpg', '243.jpg', '128.jpg', '221.jpg', '175.jpg', '375.jpg', '389.jpg', '142.jpg', '373.jpg', '60.jpg', '66.jpg', '291.jpg', '356.jpg', '153.jpg', '112.jpg', '80.jpg', '256.jpg', '311.jpg', '71.jpg', '144.jpg', '437.jpg', '390.jpg', '349.jpg', '130.jpg', '348.jpg', '14.jpg', '368.jpg', '208.jpg', '95.jpg', '158.jpg', '367.jpg', '419.jpg', '254.jpg', '1.jpg', '245.jpg', '216.jpg', '385.jpg', '6.jpg', '268.jpg', '205.jpg', '445.jpg', '294.jpg', '300.jpg', '207.jpg', '188.jpg', '292.jpg', '179.jpg', '197.jpg', '88.jpg', '21.jpg', '49.jpg', '139.jpg', '287.jpg', '165.jpg', '242.jpg', '289.jpg', '386.jpg', '79.jpg', '279.jpg', '361.jpg', '235.jpg', '201.jpg', '170.jpg', '362.jpg', '257.jpg', '421.jpg', '167.jpg', '125.jpg', '435.jpg', '331.jpg', '418.jpg', '406.jpg', '103.jpg', '29.jpg', '382.jpg', '312.jpg', '63.jpg', '434.jpg', '93.jpg', '45.jpg', '316.jpg', '137.jpg', '351.jpg', '141.jpg', '302.jpg', '438.jpg', '273.jpg', '321.jpg', '422.jpg', '378.jpg', '53.jpg', '350.jpg', '391.jpg', '157.jpg', '323.jpg', '3.jpg', '388.jpg', '56.jpg', '395.jpg', '214.jpg', '40.jpg', '295.jpg', '76.jpg', '172.jpg', '410.jpg', '84.jpg', '119.jpg', '121.jpg', '91.jpg', '133.jpg', '117.jpg', '176.jpg', '124.jpg', '104.jpg', '326.jpg', '327.jpg', '149.jpg', '200.jpg', '236.jpg', '164.jpg', '217.jpg', '400.jpg', '417.jpg', '154.jpg', '237.jpg', '218.jpg', '261.jpg', '41.jpg', '403.jpg', '198.jpg', '413.jpg', '190.jpg', '334.jpg', '420.jpg', '59.jpg', '238.jpg', '439.jpg', '288.jpg', '9.jpg', '32.jpg', '324.jpg', '136.jpg', '322.jpg', '239.jpg', '231.jpg', '387.jpg', '253.jpg', '276.jpg', '411.jpg', '225.jpg', '285.jpg', '202.jpg', '160.jpg', '428.jpg', '313.jpg', '443.jpg', '64.jpg', '105.jpg', '98.jpg', '330.jpg', '178.jpg', '126.jpg', '78.jpg', '138.jpg', '134.jpg', '25.jpg', '220.jpg', '432.jpg', '38.jpg', '347.jpg', '67.jpg', '384.jpg', '51.jpg', '70.jpg', '416.jpg', '219.jpg', '82.jpg', '99.jpg', '360.jpg', '342.jpg', '333.jpg', '397.jpg', '118.jpg', '193.jpg', '338.jpg', '426.jpg', '15.jpg', '370.jpg', '68.jpg', '2.jpg', '113.jpg', '252.jpg', '427.jpg', '301.jpg', '140.jpg', '123.jpg', '304.jpg', '182.jpg', '329.jpg', '372.jpg', '168.jpg', '319.jpg', '339.jpg', '234.jpg', '402.jpg', '77.jpg', '317.jpg', '223.jpg', '46.jpg', '96.jpg', '181.jpg', '58.jpg', '424.jpg', '36.jpg', '396.jpg', '31.jpg', '332.jpg', '145.jpg', '69.jpg', '228.jpg', '297.jpg', '185.jpg', '251.jpg', '357.jpg', '353.jpg', '412.jpg', '7.jpg', '94.jpg', '282.jpg', '267.jpg', '129.jpg', '284.jpg', '110.jpg', '195.jpg', '377.jpg', '186.jpg', '85.jpg', '318.jpg', '57.jpg', '43.jpg', '189.jpg', '337.jpg', '173.jpg', '229.jpg', '52.jpg', '213.jpg', '260.jpg', '401.jpg', '10.jpg', '343.jpg', '328.jpg', '61.jpg', '86.jpg', '440.jpg', '393.jpg', '48.jpg', '340.jpg', '414.jpg', '131.jpg', '166.jpg', '306.jpg', '259.jpg', '394.jpg', '366.jpg', '352.jpg', '399.jpg', '39.jpg', '204.jpg', '423.jpg', '215.jpg', '196.jpg', '263.jpg', '271.jpg', '230.jpg', '16.jpg', '447.jpg', '404.jpg', '433.jpg', '408.jpg', '280.jpg', '23.jpg', '264.jpg', '90.jpg', '363.jpg', '97.jpg', '262.jpg', '106.jpg', '258.jpg', '19.jpg', '191.jpg', '209.jpg', '341.jpg', '272.jpg', '232.jpg', '314.jpg', '135.jpg', '13.jpg', '369.jpg', '222.jpg', '152.jpg', '296.jpg', '27.jpg', '54.jpg', '247.jpg', '194.jpg', '248.jpg', '266.jpg', '346.jpg', '11.jpg', '293.jpg', '212.jpg', '365.jpg', '4.jpg', '429.jpg', '241.jpg', '380.jpg', '0.jpg', '146.jpg', '269.jpg', '371.jpg', '174.jpg', '278.jpg', '187.jpg', '177.jpg', '226.jpg', '379.jpg', '442.jpg', '44.jpg', '12.jpg', '155.jpg', '148.jpg', '161.jpg', '277.jpg', '81.jpg', '28.jpg', '74.jpg', '224.jpg', '156.jpg', '246.jpg', '255.jpg']\n",
            "['325.jpg', '118.jpg', '226.jpg', '27.jpg', '90.jpg', '281.jpg', '390.jpg', '115.jpg', '231.jpg', '23.jpg', '400.jpg', '334.jpg', '353.jpg', '438.jpg', '314.jpg', '290.jpg', '358.jpg', '324.jpg', '92.jpg', '269.jpg', '53.jpg', '124.jpg', '339.jpg', '264.jpg', '363.jpg', '75.jpg', '401.jpg', '164.jpg', '208.jpg', '306.jpg', '224.jpg', '373.jpg', '301.jpg', '55.jpg', '165.jpg', '147.jpg', '283.jpg', '303.jpg', '357.jpg', '38.jpg', '310.jpg', '273.jpg', '173.jpg', '243.jpg', '121.jpg', '394.jpg', '278.jpg', '126.jpg', '175.jpg', '74.jpg', '327.jpg', '161.jpg', '416.jpg', '66.jpg', '125.jpg', '60.jpg', '318.jpg', '221.jpg', '148.jpg', '261.jpg', '205.jpg', '247.jpg', '410.jpg', '219.jpg', '228.jpg', '309.jpg', '286.jpg', '36.jpg', '259.jpg', '300.jpg', '298.jpg', '201.jpg', '212.jpg', '48.jpg', '276.jpg', '135.jpg', '285.jpg', '377.jpg', '169.jpg', '179.jpg', '385.jpg', '252.jpg', '253.jpg', '225.jpg', '391.jpg', '427.jpg', '100.jpg', '439.jpg', '80.jpg', '56.jpg', '172.jpg', '284.jpg', '211.jpg', '93.jpg', '384.jpg', '85.jpg', '351.jpg', '431.jpg', '191.jpg', '129.jpg', '202.jpg', '151.jpg', '392.jpg', '105.jpg', '39.jpg', '316.jpg', '136.jpg', '194.jpg', '190.jpg', '34.jpg', '88.jpg', '77.jpg', '140.jpg', '370.jpg', '186.jpg', '251.jpg', '430.jpg', '244.jpg', '411.jpg', '142.jpg', '33.jpg', '20.jpg', '432.jpg', '213.jpg', '97.jpg', '395.jpg', '313.jpg', '262.jpg', '15.jpg', '406.jpg', '0.jpg', '95.jpg', '332.jpg', '146.jpg', '441.jpg', '321.jpg', '428.jpg', '17.jpg', '64.jpg', '360.jpg', '65.jpg', '133.jpg', '354.jpg', '288.jpg', '434.jpg', '246.jpg', '258.jpg', '69.jpg', '340.jpg', '76.jpg', '32.jpg', '29.jpg', '343.jpg', '435.jpg', '72.jpg', '220.jpg', '145.jpg', '235.jpg', '218.jpg', '232.jpg', '11.jpg', '409.jpg', '51.jpg', '336.jpg', '299.jpg', '70.jpg', '81.jpg', '227.jpg', '425.jpg', '24.jpg', '107.jpg', '417.jpg', '109.jpg', '245.jpg', '71.jpg', '46.jpg', '192.jpg', '240.jpg', '424.jpg', '280.jpg', '18.jpg', '320.jpg', '114.jpg', '346.jpg', '44.jpg', '367.jpg', '294.jpg', '154.jpg', '289.jpg', '387.jpg', '420.jpg', '376.jpg', '87.jpg', '49.jpg', '120.jpg', '293.jpg', '156.jpg', '323.jpg', '177.jpg', '317.jpg', '250.jpg', '37.jpg', '155.jpg', '123.jpg', '319.jpg', '210.jpg', '204.jpg', '13.jpg', '40.jpg', '183.jpg', '111.jpg', '152.jpg', '122.jpg', '5.jpg', '62.jpg', '312.jpg', '35.jpg', '375.jpg', '181.jpg', '437.jpg', '257.jpg', '203.jpg', '271.jpg', '433.jpg', '138.jpg', '287.jpg', '3.jpg', '58.jpg', '130.jpg', '389.jpg', '198.jpg', '14.jpg', '79.jpg', '193.jpg', '41.jpg', '362.jpg', '268.jpg', '388.jpg', '47.jpg', '361.jpg', '326.jpg', '236.jpg', '110.jpg', '45.jpg', '315.jpg', '28.jpg', '83.jpg', '399.jpg', '22.jpg', '344.jpg', '307.jpg', '150.jpg', '104.jpg', '137.jpg', '171.jpg', '305.jpg', '216.jpg', '9.jpg', '26.jpg', '282.jpg', '338.jpg', '397.jpg', '196.jpg', '57.jpg', '166.jpg', '342.jpg', '274.jpg', '304.jpg', '414.jpg', '238.jpg', '260.jpg', '101.jpg', '16.jpg', '429.jpg', '383.jpg', '266.jpg', '6.jpg', '12.jpg', '86.jpg', '415.jpg', '311.jpg', '249.jpg', '199.jpg', '275.jpg', '217.jpg', '25.jpg', '403.jpg', '380.jpg', '197.jpg', '393.jpg', '89.jpg', '248.jpg', '442.jpg', '272.jpg', '214.jpg', '141.jpg', '374.jpg', '443.jpg', '396.jpg', '157.jpg', '255.jpg', '102.jpg', '263.jpg', '419.jpg', '167.jpg', '365.jpg', '61.jpg', '113.jpg', '277.jpg', '99.jpg', '163.jpg', '162.jpg', '207.jpg', '68.jpg', '67.jpg', '445.jpg', '178.jpg', '98.jpg', '43.jpg', '159.jpg', '78.jpg', '423.jpg', '368.jpg', '333.jpg', '96.jpg', '206.jpg', '128.jpg', '291.jpg', '355.jpg', '352.jpg', '132.jpg', '341.jpg', '108.jpg', '440.jpg', '335.jpg', '116.jpg', '366.jpg', '54.jpg', '160.jpg', '413.jpg', '4.jpg', '331.jpg', '195.jpg', '436.jpg', '371.jpg', '200.jpg', '10.jpg', '256.jpg', '350.jpg', '386.jpg', '302.jpg', '239.jpg', '127.jpg', '382.jpg', '182.jpg', '21.jpg', '158.jpg', '254.jpg', '404.jpg', '1.jpg', '270.jpg', '176.jpg', '84.jpg', '185.jpg', '330.jpg', '153.jpg', '234.jpg', '359.jpg', '241.jpg', '372.jpg', '405.jpg', '408.jpg', '180.jpg', '242.jpg', '295.jpg', '7.jpg', '112.jpg', '59.jpg', '364.jpg', '106.jpg', '329.jpg', '134.jpg', '188.jpg', '230.jpg', '292.jpg', '63.jpg', '349.jpg', '215.jpg', '174.jpg', '131.jpg', '31.jpg', '402.jpg', '42.jpg', '444.jpg', '50.jpg', '143.jpg', '187.jpg', '418.jpg', '447.jpg', '229.jpg', '170.jpg', '73.jpg', '379.jpg', '422.jpg', '426.jpg', '337.jpg', '381.jpg', '446.jpg', '144.jpg', '421.jpg', '209.jpg', '265.jpg', '267.jpg', '223.jpg', '91.jpg', '398.jpg', '119.jpg', '348.jpg', '184.jpg', '52.jpg', '378.jpg', '237.jpg', '117.jpg', '189.jpg', '328.jpg', '233.jpg', '356.jpg', '347.jpg', '296.jpg', '279.jpg', '19.jpg', '149.jpg', '103.jpg', '322.jpg', '297.jpg', '308.jpg', '345.jpg', '94.jpg', '2.jpg', '222.jpg', '8.jpg', '30.jpg', '82.jpg', '168.jpg', '369.jpg', '407.jpg', '412.jpg', '139.jpg', '448.jpg']\n",
            "['72.jpg', '75.jpg', '30.jpg', '310.jpg', '183.jpg', '33.jpg', '109.jpg', '107.jpg', '62.jpg', '163.jpg', '283.jpg', '87.jpg', '303.jpg', '92.jpg', '147.jpg', '227.jpg', '100.jpg', '344.jpg', '307.jpg', '162.jpg', '34.jpg', '102.jpg', '249.jpg', '250.jpg', '206.jpg', '281.jpg', '26.jpg', '18.jpg', '5.jpg', '265.jpg', '171.jpg', '35.jpg', '24.jpg', '274.jpg', '143.jpg', '299.jpg', '184.jpg', '309.jpg', '55.jpg', '210.jpg', '83.jpg', '151.jpg', '192.jpg', '111.jpg', '73.jpg', '115.jpg', '298.jpg', '108.jpg', '345.jpg', '37.jpg', '159.jpg', '17.jpg', '233.jpg', '325.jpg', '8.jpg', '116.jpg', '308.jpg', '89.jpg', '127.jpg', '335.jpg', '275.jpg', '315.jpg', '22.jpg', '150.jpg', '114.jpg', '47.jpg', '320.jpg', '244.jpg', '211.jpg', '132.jpg', '336.jpg', '270.jpg', '240.jpg', '286.jpg', '101.jpg', '169.jpg', '120.jpg', '199.jpg', '122.jpg', '20.jpg', '50.jpg', '42.jpg', '65.jpg', '305.jpg', '290.jpg', '180.jpg', '203.jpg', '243.jpg', '128.jpg', '221.jpg', '175.jpg', '142.jpg', '60.jpg', '66.jpg', '291.jpg', '153.jpg', '112.jpg', '80.jpg', '256.jpg', '311.jpg', '71.jpg', '144.jpg', '130.jpg', '14.jpg', '208.jpg', '95.jpg', '158.jpg', '254.jpg', '1.jpg', '245.jpg', '216.jpg', '6.jpg', '268.jpg', '205.jpg', '294.jpg', '300.jpg', '207.jpg', '188.jpg', '292.jpg', '179.jpg', '197.jpg', '88.jpg', '21.jpg', '49.jpg', '139.jpg', '287.jpg', '165.jpg', '242.jpg', '289.jpg', '79.jpg', '279.jpg', '235.jpg', '201.jpg', '170.jpg', '257.jpg', '167.jpg', '125.jpg', '331.jpg', '103.jpg', '29.jpg', '312.jpg', '63.jpg', '93.jpg', '45.jpg', '316.jpg', '137.jpg', '141.jpg', '302.jpg', '273.jpg', '321.jpg', '53.jpg', '157.jpg', '323.jpg', '3.jpg', '56.jpg', '214.jpg', '40.jpg', '295.jpg', '76.jpg', '172.jpg', '84.jpg', '119.jpg', '121.jpg', '91.jpg', '133.jpg', '117.jpg', '176.jpg', '124.jpg', '104.jpg', '326.jpg', '327.jpg', '149.jpg', '200.jpg', '236.jpg', '164.jpg', '217.jpg', '154.jpg', '237.jpg', '218.jpg', '261.jpg', '41.jpg', '198.jpg', '190.jpg', '334.jpg', '59.jpg', '238.jpg', '288.jpg', '9.jpg', '32.jpg', '324.jpg', '136.jpg', '322.jpg', '239.jpg', '231.jpg', '253.jpg', '276.jpg', '225.jpg', '285.jpg', '202.jpg', '160.jpg', '313.jpg', '64.jpg', '105.jpg', '98.jpg', '330.jpg', '178.jpg', '126.jpg', '78.jpg', '138.jpg', '134.jpg', '25.jpg', '220.jpg', '38.jpg', '67.jpg', '51.jpg', '70.jpg', '219.jpg', '82.jpg', '99.jpg', '342.jpg', '333.jpg', '118.jpg', '193.jpg', '338.jpg', '15.jpg', '68.jpg', '2.jpg', '113.jpg', '252.jpg', '301.jpg', '140.jpg', '123.jpg', '304.jpg', '182.jpg', '329.jpg', '168.jpg', '319.jpg', '339.jpg', '234.jpg', '77.jpg', '317.jpg', '223.jpg', '46.jpg', '96.jpg', '181.jpg', '58.jpg', '36.jpg', '31.jpg', '332.jpg', '145.jpg', '69.jpg', '228.jpg', '297.jpg', '185.jpg', '251.jpg', '7.jpg', '94.jpg', '282.jpg', '267.jpg', '129.jpg', '284.jpg', '110.jpg', '195.jpg', '186.jpg', '85.jpg', '318.jpg', '57.jpg', '43.jpg', '189.jpg', '337.jpg', '173.jpg', '229.jpg', '52.jpg', '213.jpg', '260.jpg', '10.jpg', '343.jpg', '328.jpg', '61.jpg', '86.jpg', '48.jpg', '340.jpg', '131.jpg', '166.jpg', '306.jpg', '259.jpg', '39.jpg', '204.jpg', '215.jpg', '196.jpg', '263.jpg', '271.jpg', '230.jpg', '16.jpg', '280.jpg', '23.jpg', '264.jpg', '90.jpg', '97.jpg', '262.jpg', '106.jpg', '258.jpg', '19.jpg', '191.jpg', '209.jpg', '341.jpg', '272.jpg', '232.jpg', '314.jpg', '135.jpg', '13.jpg', '222.jpg', '152.jpg', '296.jpg', '27.jpg', '54.jpg', '247.jpg', '194.jpg', '248.jpg', '266.jpg', '346.jpg', '11.jpg', '293.jpg', '212.jpg', '4.jpg', '241.jpg', '0.jpg', '146.jpg', '269.jpg', '174.jpg', '278.jpg', '187.jpg', '177.jpg', '226.jpg', '44.jpg', '12.jpg', '155.jpg', '148.jpg', '161.jpg', '277.jpg', '81.jpg', '28.jpg', '74.jpg', '224.jpg', '156.jpg', '246.jpg', '255.jpg']\n",
            "['211.jpg', '271.jpg', '24.jpg', '279.jpg', '275.jpg', '185.jpg', '140.jpg', '223.jpg', '226.jpg', '253.jpg', '254.jpg', '345.jpg', '145.jpg', '147.jpg', '160.jpg', '118.jpg', '222.jpg', '75.jpg', '252.jpg', '125.jpg', '188.jpg', '19.jpg', '233.jpg', '121.jpg', '227.jpg', '87.jpg', '92.jpg', '328.jpg', '183.jpg', '276.jpg', '216.jpg', '219.jpg', '161.jpg', '173.jpg', '205.jpg', '15.jpg', '28.jpg', '166.jpg', '179.jpg', '154.jpg', '292.jpg', '268.jpg', '168.jpg', '273.jpg', '11.jpg', '67.jpg', '306.jpg', '17.jpg', '153.jpg', '157.jpg', '315.jpg', '327.jpg', '94.jpg', '54.jpg', '129.jpg', '80.jpg', '214.jpg', '137.jpg', '7.jpg', '267.jpg', '64.jpg', '344.jpg', '58.jpg', '139.jpg', '126.jpg', '38.jpg', '128.jpg', '9.jpg', '322.jpg', '73.jpg', '278.jpg', '284.jpg', '116.jpg', '305.jpg', '57.jpg', '39.jpg', '324.jpg', '69.jpg', '293.jpg', '317.jpg', '249.jpg', '295.jpg', '229.jpg', '243.jpg', '203.jpg', '282.jpg', '207.jpg', '109.jpg', '130.jpg', '272.jpg', '78.jpg', '232.jpg', '96.jpg', '16.jpg', '302.jpg', '175.jpg', '0.jpg', '304.jpg', '255.jpg', '104.jpg', '312.jpg', '263.jpg', '288.jpg', '174.jpg', '256.jpg', '313.jpg', '342.jpg', '25.jpg', '2.jpg', '296.jpg', '235.jpg', '280.jpg', '274.jpg', '201.jpg', '177.jpg', '45.jpg', '4.jpg', '245.jpg', '27.jpg', '49.jpg', '193.jpg', '66.jpg', '196.jpg', '63.jpg', '262.jpg', '79.jpg', '95.jpg', '135.jpg', '138.jpg', '142.jpg', '158.jpg', '48.jpg', '72.jpg', '331.jpg', '103.jpg', '172.jpg', '85.jpg', '40.jpg', '290.jpg', '337.jpg', '3.jpg', '107.jpg', '127.jpg', '212.jpg', '115.jpg', '36.jpg', '321.jpg', '298.jpg', '250.jpg', '338.jpg', '47.jpg', '62.jpg', '200.jpg', '307.jpg', '102.jpg', '248.jpg', '300.jpg', '310.jpg', '270.jpg', '150.jpg', '332.jpg', '5.jpg', '220.jpg', '108.jpg', '70.jpg', '101.jpg', '259.jpg', '192.jpg', '83.jpg', '225.jpg', '167.jpg', '111.jpg', '31.jpg', '132.jpg', '117.jpg', '169.jpg', '10.jpg', '65.jpg', '242.jpg', '88.jpg', '265.jpg', '230.jpg', '20.jpg', '46.jpg', '186.jpg', '155.jpg', '12.jpg', '320.jpg', '18.jpg', '114.jpg', '224.jpg', '325.jpg', '247.jpg', '33.jpg', '89.jpg', '61.jpg', '144.jpg', '309.jpg', '163.jpg', '151.jpg', '294.jpg', '187.jpg', '301.jpg', '29.jpg', '308.jpg', '182.jpg', '136.jpg', '323.jpg', '257.jpg', '178.jpg', '53.jpg', '326.jpg', '316.jpg', '189.jpg', '120.jpg', '156.jpg', '8.jpg', '303.jpg', '122.jpg', '231.jpg', '340.jpg', '191.jpg', '210.jpg', '209.jpg', '197.jpg', '55.jpg', '97.jpg', '34.jpg', '106.jpg', '240.jpg', '319.jpg', '100.jpg', '251.jpg', '32.jpg', '341.jpg', '1.jpg', '90.jpg', '149.jpg', '208.jpg', '76.jpg', '113.jpg', '330.jpg', '239.jpg', '311.jpg', '228.jpg', '133.jpg', '237.jpg', '56.jpg', '84.jpg', '281.jpg', '266.jpg', '343.jpg', '26.jpg', '286.jpg', '195.jpg', '260.jpg', '165.jpg', '206.jpg', '86.jpg', '346.jpg', '180.jpg', '37.jpg', '277.jpg', '318.jpg', '190.jpg', '30.jpg', '297.jpg', '289.jpg', '234.jpg', '184.jpg', '42.jpg', '314.jpg', '246.jpg', '50.jpg', '13.jpg', '41.jpg', '217.jpg', '134.jpg', '119.jpg', '143.jpg', '21.jpg', '91.jpg', '112.jpg', '22.jpg', '60.jpg', '244.jpg', '170.jpg', '14.jpg', '44.jpg', '285.jpg', '131.jpg', '194.jpg', '283.jpg', '236.jpg', '264.jpg', '98.jpg', '152.jpg', '71.jpg', '6.jpg', '124.jpg', '23.jpg', '77.jpg', '202.jpg', '215.jpg', '336.jpg', '258.jpg', '164.jpg', '74.jpg', '334.jpg', '35.jpg', '82.jpg', '299.jpg', '148.jpg', '204.jpg', '123.jpg', '291.jpg', '333.jpg', '59.jpg', '181.jpg', '198.jpg', '335.jpg', '99.jpg', '110.jpg', '339.jpg', '162.jpg', '218.jpg', '176.jpg', '171.jpg', '261.jpg', '159.jpg', '68.jpg', '52.jpg', '238.jpg', '93.jpg', '269.jpg', '287.jpg', '199.jpg', '141.jpg', '105.jpg', '329.jpg', '51.jpg', '81.jpg', '43.jpg', '146.jpg', '221.jpg', '213.jpg', '241.jpg']\n",
            "['72.jpg', '75.jpg', '30.jpg', '183.jpg', '33.jpg', '109.jpg', '107.jpg', '62.jpg', '163.jpg', '87.jpg', '92.jpg', '147.jpg', '227.jpg', '100.jpg', '162.jpg', '34.jpg', '102.jpg', '206.jpg', '26.jpg', '18.jpg', '5.jpg', '171.jpg', '35.jpg', '24.jpg', '143.jpg', '184.jpg', '55.jpg', '210.jpg', '83.jpg', '151.jpg', '192.jpg', '111.jpg', '73.jpg', '115.jpg', '108.jpg', '37.jpg', '159.jpg', '17.jpg', '8.jpg', '116.jpg', '89.jpg', '127.jpg', '22.jpg', '150.jpg', '114.jpg', '47.jpg', '211.jpg', '132.jpg', '101.jpg', '169.jpg', '120.jpg', '199.jpg', '122.jpg', '20.jpg', '50.jpg', '42.jpg', '65.jpg', '180.jpg', '203.jpg', '128.jpg', '221.jpg', '175.jpg', '142.jpg', '60.jpg', '66.jpg', '153.jpg', '112.jpg', '80.jpg', '71.jpg', '144.jpg', '130.jpg', '14.jpg', '208.jpg', '95.jpg', '158.jpg', '1.jpg', '216.jpg', '6.jpg', '205.jpg', '207.jpg', '188.jpg', '179.jpg', '197.jpg', '88.jpg', '21.jpg', '49.jpg', '139.jpg', '165.jpg', '79.jpg', '201.jpg', '170.jpg', '167.jpg', '125.jpg', '103.jpg', '29.jpg', '63.jpg', '93.jpg', '45.jpg', '137.jpg', '141.jpg', '53.jpg', '157.jpg', '3.jpg', '56.jpg', '214.jpg', '40.jpg', '76.jpg', '172.jpg', '84.jpg', '119.jpg', '121.jpg', '91.jpg', '133.jpg', '117.jpg', '176.jpg', '124.jpg', '104.jpg', '149.jpg', '200.jpg', '164.jpg', '217.jpg', '154.jpg', '218.jpg', '41.jpg', '198.jpg', '190.jpg', '59.jpg', '9.jpg', '32.jpg', '136.jpg', '231.jpg', '225.jpg', '202.jpg', '160.jpg', '64.jpg', '105.jpg', '98.jpg', '178.jpg', '126.jpg', '78.jpg', '138.jpg', '134.jpg', '25.jpg', '220.jpg', '38.jpg', '67.jpg', '51.jpg', '70.jpg', '219.jpg', '82.jpg', '99.jpg', '118.jpg', '193.jpg', '15.jpg', '68.jpg', '2.jpg', '113.jpg', '140.jpg', '123.jpg', '182.jpg', '168.jpg', '77.jpg', '223.jpg', '46.jpg', '96.jpg', '181.jpg', '58.jpg', '36.jpg', '31.jpg', '145.jpg', '69.jpg', '228.jpg', '185.jpg', '7.jpg', '94.jpg', '129.jpg', '110.jpg', '195.jpg', '186.jpg', '85.jpg', '57.jpg', '43.jpg', '189.jpg', '173.jpg', '229.jpg', '52.jpg', '213.jpg', '10.jpg', '61.jpg', '86.jpg', '48.jpg', '131.jpg', '166.jpg', '39.jpg', '204.jpg', '215.jpg', '196.jpg', '230.jpg', '16.jpg', '23.jpg', '90.jpg', '97.jpg', '106.jpg', '19.jpg', '191.jpg', '209.jpg', '135.jpg', '13.jpg', '222.jpg', '152.jpg', '27.jpg', '54.jpg', '194.jpg', '11.jpg', '212.jpg', '4.jpg', '0.jpg', '146.jpg', '174.jpg', '187.jpg', '177.jpg', '226.jpg', '44.jpg', '12.jpg', '155.jpg', '148.jpg', '161.jpg', '81.jpg', '28.jpg', '74.jpg', '224.jpg', '156.jpg']\n",
            "['108.jpg', '67.jpg', '0.jpg', '209.jpg', '215.jpg', '102.jpg', '153.jpg', '192.jpg', '59.jpg', '204.jpg', '124.jpg', '217.jpg', '58.jpg', '45.jpg', '97.jpg', '20.jpg', '143.jpg', '198.jpg', '62.jpg', '141.jpg', '121.jpg', '2.jpg', '81.jpg', '196.jpg', '72.jpg', '186.jpg', '176.jpg', '71.jpg', '229.jpg', '203.jpg', '118.jpg', '55.jpg', '179.jpg', '11.jpg', '109.jpg', '107.jpg', '187.jpg', '126.jpg', '30.jpg', '174.jpg', '129.jpg', '42.jpg', '84.jpg', '52.jpg', '16.jpg', '105.jpg', '65.jpg', '133.jpg', '12.jpg', '134.jpg', '128.jpg', '79.jpg', '43.jpg', '7.jpg', '61.jpg', '149.jpg', '158.jpg', '230.jpg', '76.jpg', '25.jpg', '96.jpg', '184.jpg', '132.jpg', '77.jpg', '1.jpg', '155.jpg', '49.jpg', '32.jpg', '86.jpg', '136.jpg', '101.jpg', '6.jpg', '208.jpg', '99.jpg', '9.jpg', '223.jpg', '53.jpg', '123.jpg', '163.jpg', '218.jpg', '142.jpg', '56.jpg', '135.jpg', '114.jpg', '103.jpg', '138.jpg', '63.jpg', '35.jpg', '19.jpg', '231.jpg', '210.jpg', '127.jpg', '160.jpg', '27.jpg', '29.jpg', '190.jpg', '10.jpg', '177.jpg', '147.jpg', '205.jpg', '44.jpg', '150.jpg', '185.jpg', '228.jpg', '106.jpg', '98.jpg', '75.jpg', '137.jpg', '69.jpg', '144.jpg', '110.jpg', '54.jpg', '130.jpg', '151.jpg', '199.jpg', '148.jpg', '219.jpg', '46.jpg', '95.jpg', '47.jpg', '140.jpg', '156.jpg', '21.jpg', '164.jpg', '168.jpg', '70.jpg', '13.jpg', '169.jpg', '225.jpg', '178.jpg', '104.jpg', '161.jpg', '112.jpg', '14.jpg', '90.jpg', '50.jpg', '213.jpg', '175.jpg', '211.jpg', '182.jpg', '28.jpg', '41.jpg', '66.jpg', '122.jpg', '146.jpg', '220.jpg', '74.jpg', '226.jpg', '40.jpg', '191.jpg', '193.jpg', '207.jpg', '202.jpg', '22.jpg', '91.jpg', '216.jpg', '183.jpg', '200.jpg', '38.jpg', '167.jpg', '24.jpg', '78.jpg', '73.jpg', '33.jpg', '87.jpg', '92.jpg', '39.jpg', '180.jpg', '173.jpg', '31.jpg', '165.jpg', '206.jpg', '34.jpg', '221.jpg', '224.jpg', '154.jpg', '116.jpg', '125.jpg', '117.jpg', '26.jpg', '197.jpg', '194.jpg', '120.jpg', '68.jpg', '115.jpg', '214.jpg', '188.jpg', '172.jpg', '51.jpg', '57.jpg', '131.jpg', '5.jpg', '111.jpg', '152.jpg', '201.jpg', '60.jpg', '18.jpg', '4.jpg', '171.jpg', '166.jpg', '227.jpg', '15.jpg', '36.jpg', '8.jpg', '212.jpg', '3.jpg', '222.jpg', '37.jpg', '100.jpg', '88.jpg', '17.jpg', '181.jpg', '48.jpg', '195.jpg', '159.jpg', '94.jpg', '162.jpg', '93.jpg', '83.jpg', '82.jpg', '170.jpg', '189.jpg', '113.jpg', '64.jpg', '145.jpg', '119.jpg', '139.jpg', '89.jpg', '80.jpg', '157.jpg', '85.jpg', '23.jpg']\n",
            "['72.jpg', '75.jpg', '441.jpg', '30.jpg', '310.jpg', '493.jpg', '183.jpg', '33.jpg', '109.jpg', '107.jpg', '62.jpg', '163.jpg', '283.jpg', '87.jpg', '303.jpg', '92.jpg', '147.jpg', '227.jpg', '100.jpg', '344.jpg', '307.jpg', '364.jpg', '162.jpg', '34.jpg', '407.jpg', '102.jpg', '383.jpg', '249.jpg', '460.jpg', '250.jpg', '354.jpg', '453.jpg', '398.jpg', '206.jpg', '448.jpg', '281.jpg', '26.jpg', '374.jpg', '18.jpg', '425.jpg', '5.jpg', '381.jpg', '265.jpg', '171.jpg', '35.jpg', '24.jpg', '469.jpg', '274.jpg', '431.jpg', '143.jpg', '299.jpg', '446.jpg', '358.jpg', '465.jpg', '415.jpg', '184.jpg', '309.jpg', '55.jpg', '210.jpg', '83.jpg', '449.jpg', '151.jpg', '192.jpg', '111.jpg', '376.jpg', '73.jpg', '115.jpg', '298.jpg', '108.jpg', '345.jpg', '37.jpg', '159.jpg', '17.jpg', '233.jpg', '325.jpg', '8.jpg', '116.jpg', '308.jpg', '89.jpg', '127.jpg', '335.jpg', '275.jpg', '315.jpg', '355.jpg', '22.jpg', '486.jpg', '150.jpg', '495.jpg', '461.jpg', '498.jpg', '483.jpg', '405.jpg', '114.jpg', '47.jpg', '392.jpg', '444.jpg', '320.jpg', '244.jpg', '430.jpg', '211.jpg', '458.jpg', '359.jpg', '409.jpg', '132.jpg', '336.jpg', '270.jpg', '240.jpg', '286.jpg', '101.jpg', '169.jpg', '120.jpg', '199.jpg', '436.jpg', '122.jpg', '20.jpg', '50.jpg', '42.jpg', '65.jpg', '305.jpg', '290.jpg', '180.jpg', '203.jpg', '243.jpg', '128.jpg', '221.jpg', '175.jpg', '375.jpg', '389.jpg', '142.jpg', '373.jpg', '60.jpg', '66.jpg', '291.jpg', '356.jpg', '153.jpg', '112.jpg', '80.jpg', '256.jpg', '311.jpg', '71.jpg', '144.jpg', '437.jpg', '390.jpg', '349.jpg', '130.jpg', '348.jpg', '456.jpg', '14.jpg', '368.jpg', '208.jpg', '95.jpg', '158.jpg', '367.jpg', '419.jpg', '254.jpg', '1.jpg', '245.jpg', '216.jpg', '450.jpg', '385.jpg', '6.jpg', '484.jpg', '268.jpg', '205.jpg', '445.jpg', '294.jpg', '476.jpg', '300.jpg', '207.jpg', '188.jpg', '292.jpg', '179.jpg', '464.jpg', '197.jpg', '88.jpg', '21.jpg', '49.jpg', '139.jpg', '478.jpg', '287.jpg', '165.jpg', '492.jpg', '242.jpg', '289.jpg', '386.jpg', '463.jpg', '79.jpg', '279.jpg', '361.jpg', '235.jpg', '201.jpg', '170.jpg', '362.jpg', '257.jpg', '421.jpg', '167.jpg', '125.jpg', '467.jpg', '462.jpg', '435.jpg', '331.jpg', '418.jpg', '406.jpg', '103.jpg', '29.jpg', '459.jpg', '382.jpg', '312.jpg', '63.jpg', '434.jpg', '93.jpg', '45.jpg', '316.jpg', '137.jpg', '351.jpg', '473.jpg', '141.jpg', '302.jpg', '438.jpg', '273.jpg', '321.jpg', '422.jpg', '378.jpg', '53.jpg', '350.jpg', '391.jpg', '157.jpg', '323.jpg', '3.jpg', '474.jpg', '388.jpg', '56.jpg', '395.jpg', '214.jpg', '40.jpg', '295.jpg', '76.jpg', '172.jpg', '491.jpg', '410.jpg', '84.jpg', '119.jpg', '121.jpg', '91.jpg', '133.jpg', '117.jpg', '176.jpg', '124.jpg', '104.jpg', '326.jpg', '327.jpg', '149.jpg', '200.jpg', '236.jpg', '164.jpg', '217.jpg', '400.jpg', '417.jpg', '154.jpg', '237.jpg', '218.jpg', '261.jpg', '41.jpg', '403.jpg', '198.jpg', '413.jpg', '190.jpg', '334.jpg', '420.jpg', '59.jpg', '238.jpg', '439.jpg', '470.jpg', '288.jpg', '9.jpg', '32.jpg', '324.jpg', '136.jpg', '322.jpg', '239.jpg', '231.jpg', '387.jpg', '253.jpg', '276.jpg', '411.jpg', '225.jpg', '285.jpg', '202.jpg', '160.jpg', '428.jpg', '313.jpg', '443.jpg', '64.jpg', '105.jpg', '98.jpg', '330.jpg', '475.jpg', '178.jpg', '126.jpg', '78.jpg', '138.jpg', '134.jpg', '485.jpg', '25.jpg', '220.jpg', '432.jpg', '38.jpg', '454.jpg', '347.jpg', '67.jpg', '384.jpg', '51.jpg', '70.jpg', '416.jpg', '219.jpg', '82.jpg', '99.jpg', '360.jpg', '342.jpg', '333.jpg', '397.jpg', '481.jpg', '497.jpg', '487.jpg', '489.jpg', '118.jpg', '193.jpg', '338.jpg', '426.jpg', '15.jpg', '370.jpg', '68.jpg', '2.jpg', '113.jpg', '480.jpg', '252.jpg', '427.jpg', '301.jpg', '140.jpg', '123.jpg', '304.jpg', '452.jpg', '479.jpg', '182.jpg', '329.jpg', '372.jpg', '168.jpg', '499.jpg', '319.jpg', '339.jpg', '234.jpg', '402.jpg', '77.jpg', '317.jpg', '223.jpg', '46.jpg', '96.jpg', '181.jpg', '58.jpg', '424.jpg', '36.jpg', '396.jpg', '31.jpg', '332.jpg', '145.jpg', '69.jpg', '228.jpg', '297.jpg', '185.jpg', '251.jpg', '357.jpg', '353.jpg', '412.jpg', '7.jpg', '94.jpg', '282.jpg', '267.jpg', '129.jpg', '472.jpg', '284.jpg', '110.jpg', '195.jpg', '468.jpg', '377.jpg', '186.jpg', '488.jpg', '85.jpg', '318.jpg', '477.jpg', '57.jpg', '43.jpg', '494.jpg', '189.jpg', '337.jpg', '173.jpg', '229.jpg', '52.jpg', '213.jpg', '260.jpg', '401.jpg', '10.jpg', '343.jpg', '328.jpg', '61.jpg', '86.jpg', '440.jpg', '393.jpg', '471.jpg', '48.jpg', '340.jpg', '414.jpg', '131.jpg', '166.jpg', '455.jpg', '490.jpg', '306.jpg', '259.jpg', '394.jpg', '366.jpg', '352.jpg', '399.jpg', '39.jpg', '204.jpg', '423.jpg', '215.jpg', '196.jpg', '263.jpg', '271.jpg', '230.jpg', '451.jpg', '16.jpg', '447.jpg', '404.jpg', '433.jpg', '408.jpg', '280.jpg', '23.jpg', '264.jpg', '90.jpg', '363.jpg', '97.jpg', '262.jpg', '106.jpg', '258.jpg', '19.jpg', '466.jpg', '191.jpg', '209.jpg', '341.jpg', '272.jpg', '232.jpg', '314.jpg', '135.jpg', '13.jpg', '457.jpg', '369.jpg', '482.jpg', '222.jpg', '152.jpg', '296.jpg', '27.jpg', '54.jpg', '247.jpg', '194.jpg', '248.jpg', '266.jpg', '346.jpg', '11.jpg', '293.jpg', '212.jpg', '365.jpg', '4.jpg', '429.jpg', '241.jpg', '380.jpg', '0.jpg', '146.jpg', '269.jpg', '371.jpg', '174.jpg', '278.jpg', '187.jpg', '177.jpg', '226.jpg', '379.jpg', '442.jpg', '44.jpg', '12.jpg', '155.jpg', '148.jpg', '161.jpg', '277.jpg', '81.jpg', '496.jpg', '28.jpg', '74.jpg', '224.jpg', '156.jpg', '246.jpg', '255.jpg']\n",
            "['108.jpg', '443.jpg', '433.jpg', '414.jpg', '494.jpg', '398.jpg', '60.jpg', '449.jpg', '236.jpg', '57.jpg', '388.jpg', '119.jpg', '113.jpg', '421.jpg', '61.jpg', '286.jpg', '431.jpg', '326.jpg', '303.jpg', '222.jpg', '271.jpg', '435.jpg', '422.jpg', '51.jpg', '43.jpg', '189.jpg', '75.jpg', '96.jpg', '3.jpg', '80.jpg', '251.jpg', '224.jpg', '65.jpg', '485.jpg', '358.jpg', '54.jpg', '268.jpg', '92.jpg', '163.jpg', '87.jpg', '2.jpg', '136.jpg', '310.jpg', '314.jpg', '167.jpg', '402.jpg', '120.jpg', '141.jpg', '353.jpg', '187.jpg', '238.jpg', '122.jpg', '74.jpg', '350.jpg', '277.jpg', '276.jpg', '290.jpg', '49.jpg', '305.jpg', '168.jpg', '436.jpg', '161.jpg', '295.jpg', '368.jpg', '248.jpg', '137.jpg', '230.jpg', '411.jpg', '426.jpg', '446.jpg', '444.jpg', '497.jpg', '357.jpg', '158.jpg', '151.jpg', '110.jpg', '292.jpg', '212.jpg', '145.jpg', '400.jpg', '135.jpg', '237.jpg', '182.jpg', '244.jpg', '1.jpg', '348.jpg', '138.jpg', '217.jpg', '154.jpg', '418.jpg', '134.jpg', '227.jpg', '117.jpg', '221.jpg', '215.jpg', '382.jpg', '316.jpg', '304.jpg', '461.jpg', '279.jpg', '231.jpg', '424.jpg', '213.jpg', '372.jpg', '129.jpg', '170.jpg', '35.jpg', '191.jpg', '123.jpg', '218.jpg', '184.jpg', '355.jpg', '190.jpg', '293.jpg', '235.jpg', '327.jpg', '282.jpg', '247.jpg', '84.jpg', '162.jpg', '216.jpg', '36.jpg', '219.jpg', '25.jpg', '475.jpg', '85.jpg', '68.jpg', '495.jpg', '150.jpg', '417.jpg', '42.jpg', '183.jpg', '409.jpg', '324.jpg', '401.jpg', '262.jpg', '312.jpg', '403.jpg', '106.jpg', '330.jpg', '165.jpg', '264.jpg', '256.jpg', '301.jpg', '69.jpg', '146.jpg', '441.jpg', '125.jpg', '41.jpg', '115.jpg', '413.jpg', '202.jpg', '270.jpg', '438.jpg', '460.jpg', '176.jpg', '79.jpg', '246.jpg', '19.jpg', '297.jpg', '131.jpg', '45.jpg', '104.jpg', '242.jpg', '442.jpg', '139.jpg', '72.jpg', '32.jpg', '228.jpg', '333.jpg', '416.jpg', '188.jpg', '40.jpg', '454.jpg', '232.jpg', '11.jpg', '483.jpg', '387.jpg', '78.jpg', '114.jpg', '469.jpg', '253.jpg', '496.jpg', '147.jpg', '26.jpg', '265.jpg', '109.jpg', '56.jpg', '33.jpg', '349.jpg', '389.jpg', '181.jpg', '309.jpg', '392.jpg', '396.jpg', '23.jpg', '281.jpg', '486.jpg', '275.jpg', '360.jpg', '272.jpg', '482.jpg', '71.jpg', '95.jpg', '395.jpg', '445.jpg', '164.jpg', '121.jpg', '210.jpg', '283.jpg', '385.jpg', '467.jpg', '21.jpg', '473.jpg', '320.jpg', '291.jpg', '90.jpg', '373.jpg', '261.jpg', '379.jpg', '269.jpg', '62.jpg', '50.jpg', '107.jpg', '103.jpg', '325.jpg', '100.jpg', '315.jpg', '4.jpg', '366.jpg', '97.jpg', '363.jpg', '198.jpg', '148.jpg', '20.jpg', '468.jpg', '406.jpg', '98.jpg', '59.jpg', '354.jpg', '367.jpg', '376.jpg', '101.jpg', '407.jpg', '245.jpg', '288.jpg', '273.jpg', '344.jpg', '127.jpg', '338.jpg', '195.jpg', '116.jpg', '201.jpg', '5.jpg', '240.jpg', '130.jpg', '209.jpg', '206.jpg', '317.jpg', '384.jpg', '380.jpg', '302.jpg', '7.jpg', '263.jpg', '434.jpg', '452.jpg', '318.jpg', '490.jpg', '489.jpg', '171.jpg', '140.jpg', '378.jpg', '439.jpg', '371.jpg', '260.jpg', '428.jpg', '455.jpg', '172.jpg', '225.jpg', '16.jpg', '343.jpg', '102.jpg', '266.jpg', '456.jpg', '464.jpg', '13.jpg', '76.jpg', '143.jpg', '375.jpg', '383.jpg', '423.jpg', '211.jpg', '8.jpg', '342.jpg', '67.jpg', '278.jpg', '477.jpg', '166.jpg', '328.jpg', '17.jpg', '29.jpg', '329.jpg', '321.jpg', '296.jpg', '133.jpg', '448.jpg', '126.jpg', '169.jpg', '415.jpg', '255.jpg', '285.jpg', '399.jpg', '259.jpg', '144.jpg', '466.jpg', '319.jpg', '365.jpg', '393.jpg', '289.jpg', '81.jpg', '99.jpg', '322.jpg', '364.jpg', '44.jpg', '214.jpg', '229.jpg', '347.jpg', '173.jpg', '124.jpg', '346.jpg', '419.jpg', '86.jpg', '73.jpg', '38.jpg', '257.jpg', '412.jpg', '250.jpg', '9.jpg', '391.jpg', '254.jpg', '175.jpg', '432.jpg', '220.jpg', '437.jpg', '93.jpg', '470.jpg', '478.jpg', '336.jpg', '105.jpg', '10.jpg', '374.jpg', '28.jpg', '457.jpg', '205.jpg', '239.jpg', '200.jpg', '394.jpg', '55.jpg', '307.jpg', '179.jpg', '47.jpg', '332.jpg', '492.jpg', '352.jpg', '70.jpg', '37.jpg', '249.jpg', '280.jpg', '311.jpg', '30.jpg', '53.jpg', '34.jpg', '499.jpg', '118.jpg', '459.jpg', '341.jpg', '359.jpg', '493.jpg', '361.jpg', '0.jpg', '458.jpg', '66.jpg', '465.jpg', '31.jpg', '474.jpg', '390.jpg', '480.jpg', '14.jpg', '180.jpg', '204.jpg', '451.jpg', '174.jpg', '27.jpg', '186.jpg', '226.jpg', '132.jpg', '345.jpg', '208.jpg', '153.jpg', '284.jpg', '405.jpg', '196.jpg', '462.jpg', '313.jpg', '306.jpg', '77.jpg', '377.jpg', '243.jpg', '207.jpg', '241.jpg', '94.jpg', '429.jpg', '178.jpg', '339.jpg', '299.jpg', '420.jpg', '160.jpg', '15.jpg', '6.jpg', '22.jpg', '463.jpg', '479.jpg', '152.jpg', '258.jpg', '356.jpg', '481.jpg', '484.jpg', '24.jpg', '64.jpg', '142.jpg', '194.jpg', '362.jpg', '425.jpg', '156.jpg', '453.jpg', '370.jpg', '447.jpg', '491.jpg', '48.jpg', '397.jpg', '410.jpg', '52.jpg', '233.jpg', '381.jpg', '82.jpg', '193.jpg', '427.jpg', '308.jpg', '203.jpg', '369.jpg', '155.jpg', '351.jpg', '404.jpg', '83.jpg', '498.jpg', '58.jpg', '334.jpg', '112.jpg', '185.jpg', '450.jpg', '298.jpg', '331.jpg', '294.jpg', '386.jpg', '192.jpg', '487.jpg', '471.jpg', '234.jpg', '157.jpg', '340.jpg', '430.jpg', '39.jpg', '252.jpg', '128.jpg', '89.jpg', '12.jpg', '91.jpg', '476.jpg', '323.jpg', '274.jpg', '159.jpg', '337.jpg', '300.jpg', '63.jpg', '111.jpg', '335.jpg', '199.jpg', '408.jpg', '149.jpg', '177.jpg', '472.jpg', '88.jpg', '18.jpg', '46.jpg', '440.jpg', '197.jpg', '488.jpg', '223.jpg', '287.jpg', '267.jpg']\n",
            "['72.jpg', '75.jpg', '30.jpg', '33.jpg', '109.jpg', '107.jpg', '62.jpg', '87.jpg', '92.jpg', '100.jpg', '34.jpg', '102.jpg', '26.jpg', '18.jpg', '5.jpg', '35.jpg', '24.jpg', '143.jpg', '55.jpg', '83.jpg', '111.jpg', '73.jpg', '115.jpg', '108.jpg', '37.jpg', '17.jpg', '8.jpg', '116.jpg', '89.jpg', '127.jpg', '22.jpg', '114.jpg', '47.jpg', '132.jpg', '101.jpg', '120.jpg', '122.jpg', '20.jpg', '50.jpg', '42.jpg', '65.jpg', '128.jpg', '142.jpg', '60.jpg', '66.jpg', '112.jpg', '80.jpg', '71.jpg', '130.jpg', '14.jpg', '95.jpg', '1.jpg', '6.jpg', '88.jpg', '21.jpg', '49.jpg', '139.jpg', '79.jpg', '125.jpg', '103.jpg', '29.jpg', '63.jpg', '93.jpg', '45.jpg', '137.jpg', '141.jpg', '53.jpg', '3.jpg', '56.jpg', '40.jpg', '76.jpg', '84.jpg', '119.jpg', '121.jpg', '91.jpg', '133.jpg', '117.jpg', '124.jpg', '104.jpg', '41.jpg', '59.jpg', '9.jpg', '32.jpg', '136.jpg', '64.jpg', '105.jpg', '98.jpg', '126.jpg', '78.jpg', '138.jpg', '134.jpg', '25.jpg', '38.jpg', '67.jpg', '51.jpg', '70.jpg', '82.jpg', '99.jpg', '118.jpg', '15.jpg', '68.jpg', '2.jpg', '113.jpg', '140.jpg', '123.jpg', '77.jpg', '46.jpg', '96.jpg', '58.jpg', '36.jpg', '31.jpg', '69.jpg', '7.jpg', '94.jpg', '129.jpg', '110.jpg', '85.jpg', '57.jpg', '43.jpg', '52.jpg', '10.jpg', '61.jpg', '86.jpg', '48.jpg', '131.jpg', '39.jpg', '16.jpg', '23.jpg', '90.jpg', '97.jpg', '106.jpg', '19.jpg', '135.jpg', '13.jpg', '27.jpg', '54.jpg', '11.jpg', '4.jpg', '0.jpg', '44.jpg', '12.jpg', '81.jpg', '28.jpg', '74.jpg']\n",
            "['101.jpg', '24.jpg', '141.jpg', '22.jpg', '16.jpg', '110.jpg', '10.jpg', '99.jpg', '88.jpg', '37.jpg', '131.jpg', '87.jpg', '15.jpg', '31.jpg', '72.jpg', '129.jpg', '56.jpg', '38.jpg', '113.jpg', '127.jpg', '133.jpg', '4.jpg', '18.jpg', '0.jpg', '65.jpg', '33.jpg', '30.jpg', '43.jpg', '136.jpg', '40.jpg', '75.jpg', '7.jpg', '130.jpg', '126.jpg', '116.jpg', '21.jpg', '44.jpg', '85.jpg', '3.jpg', '89.jpg', '11.jpg', '139.jpg', '45.jpg', '76.jpg', '13.jpg', '66.jpg', '19.jpg', '98.jpg', '123.jpg', '125.jpg', '20.jpg', '57.jpg', '54.jpg', '84.jpg', '32.jpg', '26.jpg', '108.jpg', '59.jpg', '67.jpg', '35.jpg', '142.jpg', '137.jpg', '58.jpg', '138.jpg', '27.jpg', '50.jpg', '122.jpg', '48.jpg', '2.jpg', '82.jpg', '95.jpg', '109.jpg', '63.jpg', '114.jpg', '1.jpg', '25.jpg', '115.jpg', '80.jpg', '71.jpg', '102.jpg', '39.jpg', '86.jpg', '47.jpg', '62.jpg', '14.jpg', '34.jpg', '132.jpg', '23.jpg', '17.jpg', '106.jpg', '68.jpg', '53.jpg', '94.jpg', '12.jpg', '96.jpg', '83.jpg', '112.jpg', '42.jpg', '105.jpg', '81.jpg', '49.jpg', '128.jpg', '51.jpg', '93.jpg', '134.jpg', '5.jpg', '97.jpg', '78.jpg', '74.jpg', '104.jpg', '60.jpg', '6.jpg', '77.jpg', '121.jpg', '36.jpg', '55.jpg', '91.jpg', '120.jpg', '92.jpg', '73.jpg', '143.jpg', '69.jpg', '118.jpg', '124.jpg', '28.jpg', '119.jpg', '117.jpg', '29.jpg', '61.jpg', '41.jpg', '135.jpg', '107.jpg', '100.jpg', '79.jpg', '46.jpg', '52.jpg', '9.jpg', '140.jpg', '103.jpg', '64.jpg', '111.jpg', '8.jpg', '90.jpg', '70.jpg']\n",
            "['72.jpg', '75.jpg', '30.jpg', '310.jpg', '183.jpg', '33.jpg', '109.jpg', '107.jpg', '62.jpg', '163.jpg', '283.jpg', '87.jpg', '303.jpg', '92.jpg', '147.jpg', '227.jpg', '100.jpg', '307.jpg', '162.jpg', '34.jpg', '102.jpg', '249.jpg', '250.jpg', '206.jpg', '281.jpg', '26.jpg', '18.jpg', '5.jpg', '265.jpg', '171.jpg', '35.jpg', '24.jpg', '274.jpg', '143.jpg', '299.jpg', '184.jpg', '309.jpg', '55.jpg', '210.jpg', '83.jpg', '151.jpg', '192.jpg', '111.jpg', '73.jpg', '115.jpg', '298.jpg', '108.jpg', '37.jpg', '159.jpg', '17.jpg', '233.jpg', '325.jpg', '8.jpg', '116.jpg', '308.jpg', '89.jpg', '127.jpg', '275.jpg', '315.jpg', '22.jpg', '150.jpg', '114.jpg', '47.jpg', '320.jpg', '244.jpg', '211.jpg', '132.jpg', '270.jpg', '240.jpg', '286.jpg', '101.jpg', '169.jpg', '120.jpg', '199.jpg', '122.jpg', '20.jpg', '50.jpg', '42.jpg', '65.jpg', '305.jpg', '290.jpg', '180.jpg', '203.jpg', '243.jpg', '128.jpg', '221.jpg', '175.jpg', '142.jpg', '60.jpg', '66.jpg', '291.jpg', '153.jpg', '112.jpg', '80.jpg', '256.jpg', '311.jpg', '71.jpg', '144.jpg', '130.jpg', '14.jpg', '208.jpg', '95.jpg', '158.jpg', '254.jpg', '1.jpg', '245.jpg', '216.jpg', '6.jpg', '268.jpg', '205.jpg', '294.jpg', '300.jpg', '207.jpg', '188.jpg', '292.jpg', '179.jpg', '197.jpg', '88.jpg', '21.jpg', '49.jpg', '139.jpg', '287.jpg', '165.jpg', '242.jpg', '289.jpg', '79.jpg', '279.jpg', '235.jpg', '201.jpg', '170.jpg', '257.jpg', '167.jpg', '125.jpg', '103.jpg', '29.jpg', '312.jpg', '63.jpg', '93.jpg', '45.jpg', '316.jpg', '137.jpg', '141.jpg', '302.jpg', '273.jpg', '321.jpg', '53.jpg', '157.jpg', '323.jpg', '3.jpg', '56.jpg', '214.jpg', '40.jpg', '295.jpg', '76.jpg', '172.jpg', '84.jpg', '119.jpg', '121.jpg', '91.jpg', '133.jpg', '117.jpg', '176.jpg', '124.jpg', '104.jpg', '326.jpg', '149.jpg', '200.jpg', '236.jpg', '164.jpg', '217.jpg', '154.jpg', '237.jpg', '218.jpg', '261.jpg', '41.jpg', '198.jpg', '190.jpg', '59.jpg', '238.jpg', '288.jpg', '9.jpg', '32.jpg', '324.jpg', '136.jpg', '322.jpg', '239.jpg', '231.jpg', '253.jpg', '276.jpg', '225.jpg', '285.jpg', '202.jpg', '160.jpg', '313.jpg', '64.jpg', '105.jpg', '98.jpg', '178.jpg', '126.jpg', '78.jpg', '138.jpg', '134.jpg', '25.jpg', '220.jpg', '38.jpg', '67.jpg', '51.jpg', '70.jpg', '219.jpg', '82.jpg', '99.jpg', '118.jpg', '193.jpg', '15.jpg', '68.jpg', '2.jpg', '113.jpg', '252.jpg', '301.jpg', '140.jpg', '123.jpg', '304.jpg', '182.jpg', '168.jpg', '319.jpg', '234.jpg', '77.jpg', '317.jpg', '223.jpg', '46.jpg', '96.jpg', '181.jpg', '58.jpg', '36.jpg', '31.jpg', '145.jpg', '69.jpg', '228.jpg', '297.jpg', '185.jpg', '251.jpg', '7.jpg', '94.jpg', '282.jpg', '267.jpg', '129.jpg', '284.jpg', '110.jpg', '195.jpg', '186.jpg', '85.jpg', '318.jpg', '57.jpg', '43.jpg', '189.jpg', '173.jpg', '229.jpg', '52.jpg', '213.jpg', '260.jpg', '10.jpg', '61.jpg', '86.jpg', '48.jpg', '131.jpg', '166.jpg', '306.jpg', '259.jpg', '39.jpg', '204.jpg', '215.jpg', '196.jpg', '263.jpg', '271.jpg', '230.jpg', '16.jpg', '280.jpg', '23.jpg', '264.jpg', '90.jpg', '97.jpg', '262.jpg', '106.jpg', '258.jpg', '19.jpg', '191.jpg', '209.jpg', '272.jpg', '232.jpg', '314.jpg', '135.jpg', '13.jpg', '222.jpg', '152.jpg', '296.jpg', '27.jpg', '54.jpg', '247.jpg', '194.jpg', '248.jpg', '266.jpg', '11.jpg', '293.jpg', '212.jpg', '4.jpg', '241.jpg', '0.jpg', '146.jpg', '269.jpg', '174.jpg', '278.jpg', '187.jpg', '177.jpg', '226.jpg', '44.jpg', '12.jpg', '155.jpg', '148.jpg', '161.jpg', '277.jpg', '81.jpg', '28.jpg', '74.jpg', '224.jpg', '156.jpg', '246.jpg', '255.jpg']\n",
            "['240.jpg', '13.jpg', '274.jpg', '257.jpg', '150.jpg', '43.jpg', '96.jpg', '7.jpg', '64.jpg', '6.jpg', '159.jpg', '186.jpg', '147.jpg', '78.jpg', '304.jpg', '187.jpg', '75.jpg', '223.jpg', '63.jpg', '88.jpg', '293.jpg', '8.jpg', '124.jpg', '227.jpg', '87.jpg', '92.jpg', '23.jpg', '183.jpg', '105.jpg', '294.jpg', '113.jpg', '44.jpg', '215.jpg', '188.jpg', '319.jpg', '28.jpg', '258.jpg', '49.jpg', '190.jpg', '21.jpg', '207.jpg', '145.jpg', '3.jpg', '0.jpg', '15.jpg', '325.jpg', '311.jpg', '40.jpg', '114.jpg', '154.jpg', '229.jpg', '54.jpg', '260.jpg', '144.jpg', '84.jpg', '53.jpg', '173.jpg', '213.jpg', '134.jpg', '307.jpg', '129.jpg', '289.jpg', '51.jpg', '193.jpg', '60.jpg', '253.jpg', '202.jpg', '115.jpg', '222.jpg', '89.jpg', '243.jpg', '39.jpg', '256.jpg', '79.jpg', '61.jpg', '107.jpg', '139.jpg', '135.jpg', '65.jpg', '9.jpg', '252.jpg', '121.jpg', '90.jpg', '19.jpg', '208.jpg', '149.jpg', '73.jpg', '251.jpg', '201.jpg', '315.jpg', '310.jpg', '178.jpg', '262.jpg', '45.jpg', '123.jpg', '137.jpg', '22.jpg', '254.jpg', '167.jpg', '86.jpg', '16.jpg', '323.jpg', '291.jpg', '146.jpg', '255.jpg', '164.jpg', '181.jpg', '263.jpg', '231.jpg', '278.jpg', '130.jpg', '138.jpg', '99.jpg', '225.jpg', '174.jpg', '70.jpg', '143.jpg', '125.jpg', '226.jpg', '273.jpg', '241.jpg', '205.jpg', '27.jpg', '242.jpg', '80.jpg', '196.jpg', '141.jpg', '31.jpg', '170.jpg', '245.jpg', '166.jpg', '153.jpg', '216.jpg', '317.jpg', '72.jpg', '93.jpg', '36.jpg', '133.jpg', '119.jpg', '128.jpg', '168.jpg', '76.jpg', '318.jpg', '228.jpg', '4.jpg', '298.jpg', '58.jpg', '56.jpg', '108.jpg', '206.jpg', '2.jpg', '211.jpg', '62.jpg', '218.jpg', '162.jpg', '249.jpg', '248.jpg', '179.jpg', '69.jpg', '169.jpg', '320.jpg', '182.jpg', '265.jpg', '106.jpg', '37.jpg', '313.jpg', '122.jpg', '259.jpg', '111.jpg', '151.jpg', '198.jpg', '312.jpg', '185.jpg', '286.jpg', '20.jpg', '197.jpg', '203.jpg', '235.jpg', '287.jpg', '171.jpg', '109.jpg', '305.jpg', '77.jpg', '142.jpg', '148.jpg', '155.jpg', '132.jpg', '5.jpg', '244.jpg', '224.jpg', '116.jpg', '247.jpg', '33.jpg', '275.jpg', '266.jpg', '95.jpg', '55.jpg', '163.jpg', '192.jpg', '292.jpg', '204.jpg', '285.jpg', '175.jpg', '308.jpg', '239.jpg', '161.jpg', '326.jpg', '290.jpg', '158.jpg', '176.jpg', '110.jpg', '103.jpg', '85.jpg', '270.jpg', '280.jpg', '177.jpg', '233.jpg', '98.jpg', '199.jpg', '272.jpg', '297.jpg', '57.jpg', '314.jpg', '220.jpg', '322.jpg', '189.jpg', '210.jpg', '100.jpg', '316.jpg', '157.jpg', '83.jpg', '126.jpg', '97.jpg', '71.jpg', '94.jpg', '102.jpg', '269.jpg', '120.jpg', '156.jpg', '14.jpg', '284.jpg', '236.jpg', '82.jpg', '295.jpg', '321.jpg', '66.jpg', '136.jpg', '237.jpg', '276.jpg', '191.jpg', '232.jpg', '26.jpg', '230.jpg', '303.jpg', '18.jpg', '52.jpg', '281.jpg', '200.jpg', '11.jpg', '17.jpg', '10.jpg', '246.jpg', '165.jpg', '30.jpg', '194.jpg', '25.jpg', '221.jpg', '209.jpg', '217.jpg', '261.jpg', '67.jpg', '283.jpg', '268.jpg', '47.jpg', '219.jpg', '309.jpg', '140.jpg', '41.jpg', '296.jpg', '214.jpg', '277.jpg', '104.jpg', '172.jpg', '271.jpg', '101.jpg', '184.jpg', '250.jpg', '299.jpg', '24.jpg', '264.jpg', '212.jpg', '42.jpg', '195.jpg', '29.jpg', '152.jpg', '74.jpg', '68.jpg', '234.jpg', '32.jpg', '117.jpg', '301.jpg', '91.jpg', '112.jpg', '34.jpg', '118.jpg', '180.jpg', '12.jpg', '81.jpg', '59.jpg', '300.jpg', '48.jpg', '302.jpg', '238.jpg', '306.jpg', '46.jpg', '279.jpg', '131.jpg', '267.jpg', '50.jpg', '127.jpg', '38.jpg', '160.jpg', '288.jpg', '35.jpg', '1.jpg', '282.jpg', '324.jpg']\n",
            "['72.jpg', '75.jpg', '30.jpg', '33.jpg', '109.jpg', '107.jpg', '62.jpg', '87.jpg', '92.jpg', '100.jpg', '34.jpg', '102.jpg', '26.jpg', '18.jpg', '5.jpg', '35.jpg', '24.jpg', '143.jpg', '55.jpg', '83.jpg', '111.jpg', '73.jpg', '115.jpg', '108.jpg', '37.jpg', '17.jpg', '8.jpg', '116.jpg', '89.jpg', '127.jpg', '22.jpg', '114.jpg', '47.jpg', '132.jpg', '101.jpg', '120.jpg', '122.jpg', '20.jpg', '50.jpg', '42.jpg', '65.jpg', '128.jpg', '142.jpg', '60.jpg', '66.jpg', '112.jpg', '80.jpg', '71.jpg', '144.jpg', '130.jpg', '14.jpg', '95.jpg', '1.jpg', '6.jpg', '88.jpg', '21.jpg', '49.jpg', '139.jpg', '79.jpg', '125.jpg', '103.jpg', '29.jpg', '63.jpg', '93.jpg', '45.jpg', '137.jpg', '141.jpg', '53.jpg', '3.jpg', '56.jpg', '40.jpg', '76.jpg', '84.jpg', '119.jpg', '121.jpg', '91.jpg', '133.jpg', '117.jpg', '124.jpg', '104.jpg', '41.jpg', '59.jpg', '9.jpg', '32.jpg', '136.jpg', '64.jpg', '105.jpg', '98.jpg', '126.jpg', '78.jpg', '138.jpg', '134.jpg', '25.jpg', '38.jpg', '67.jpg', '51.jpg', '70.jpg', '82.jpg', '99.jpg', '118.jpg', '15.jpg', '68.jpg', '2.jpg', '113.jpg', '140.jpg', '123.jpg', '77.jpg', '46.jpg', '96.jpg', '58.jpg', '36.jpg', '31.jpg', '145.jpg', '69.jpg', '7.jpg', '94.jpg', '129.jpg', '110.jpg', '85.jpg', '57.jpg', '43.jpg', '52.jpg', '10.jpg', '61.jpg', '86.jpg', '48.jpg', '131.jpg', '39.jpg', '16.jpg', '23.jpg', '90.jpg', '97.jpg', '106.jpg', '19.jpg', '135.jpg', '13.jpg', '27.jpg', '54.jpg', '11.jpg', '4.jpg', '0.jpg', '146.jpg', '44.jpg', '12.jpg', '81.jpg', '28.jpg', '74.jpg']\n",
            "['101.jpg', '28.jpg', '24.jpg', '137.jpg', '22.jpg', '131.jpg', '94.jpg', '43.jpg', '82.jpg', '6.jpg', '37.jpg', '86.jpg', '87.jpg', '118.jpg', '36.jpg', '72.jpg', '7.jpg', '3.jpg', '79.jpg', '8.jpg', '0.jpg', '65.jpg', '33.jpg', '30.jpg', '13.jpg', '32.jpg', '56.jpg', '75.jpg', '145.jpg', '144.jpg', '98.jpg', '116.jpg', '88.jpg', '25.jpg', '10.jpg', '53.jpg', '89.jpg', '11.jpg', '49.jpg', '93.jpg', '40.jpg', '127.jpg', '66.jpg', '123.jpg', '105.jpg', '106.jpg', '58.jpg', '16.jpg', '20.jpg', '61.jpg', '54.jpg', '76.jpg', '9.jpg', '26.jpg', '108.jpg', '41.jpg', '99.jpg', '35.jpg', '142.jpg', '45.jpg', '90.jpg', '129.jpg', '27.jpg', '50.jpg', '122.jpg', '91.jpg', '46.jpg', '64.jpg', '14.jpg', '59.jpg', '109.jpg', '29.jpg', '114.jpg', '95.jpg', '70.jpg', '115.jpg', '80.jpg', '71.jpg', '102.jpg', '96.jpg', '12.jpg', '18.jpg', '111.jpg', '124.jpg', '69.jpg', '121.jpg', '77.jpg', '57.jpg', '44.jpg', '15.jpg', '83.jpg', '112.jpg', '2.jpg', '42.jpg', '138.jpg', '1.jpg', '17.jpg', '128.jpg', '34.jpg', '110.jpg', '47.jpg', '5.jpg', '97.jpg', '38.jpg', '74.jpg', '120.jpg', '21.jpg', '134.jpg', '103.jpg', '51.jpg', '67.jpg', '119.jpg', '113.jpg', '143.jpg', '140.jpg', '136.jpg', '84.jpg', '146.jpg', '39.jpg', '63.jpg', '81.jpg', '19.jpg', '133.jpg', '68.jpg', '132.jpg', '62.jpg', '141.jpg', '125.jpg', '78.jpg', '23.jpg', '73.jpg', '104.jpg', '135.jpg', '55.jpg', '107.jpg', '126.jpg', '60.jpg', '52.jpg', '92.jpg', '4.jpg', '85.jpg', '117.jpg', '100.jpg', '31.jpg', '139.jpg', '48.jpg', '130.jpg']\n",
            "['72.jpg', '75.jpg', '30.jpg', '33.jpg', '62.jpg', '87.jpg', '92.jpg', '34.jpg', '26.jpg', '18.jpg', '5.jpg', '35.jpg', '24.jpg', '55.jpg', '83.jpg', '73.jpg', '37.jpg', '17.jpg', '8.jpg', '89.jpg', '22.jpg', '47.jpg', '20.jpg', '50.jpg', '42.jpg', '65.jpg', '60.jpg', '66.jpg', '80.jpg', '71.jpg', '14.jpg', '95.jpg', '1.jpg', '6.jpg', '88.jpg', '21.jpg', '49.jpg', '79.jpg', '29.jpg', '63.jpg', '93.jpg', '45.jpg', '53.jpg', '3.jpg', '56.jpg', '40.jpg', '76.jpg', '84.jpg', '91.jpg', '41.jpg', '59.jpg', '9.jpg', '32.jpg', '64.jpg', '78.jpg', '25.jpg', '38.jpg', '67.jpg', '51.jpg', '70.jpg', '82.jpg', '15.jpg', '68.jpg', '2.jpg', '77.jpg', '46.jpg', '58.jpg', '36.jpg', '31.jpg', '69.jpg', '7.jpg', '94.jpg', '85.jpg', '57.jpg', '43.jpg', '52.jpg', '10.jpg', '61.jpg', '86.jpg', '48.jpg', '39.jpg', '16.jpg', '23.jpg', '90.jpg', '19.jpg', '13.jpg', '27.jpg', '54.jpg', '11.jpg', '4.jpg', '0.jpg', '44.jpg', '12.jpg', '81.jpg', '28.jpg', '74.jpg']\n",
            "['17.jpg', '85.jpg', '26.jpg', '1.jpg', '73.jpg', '2.jpg', '67.jpg', '82.jpg', '90.jpg', '91.jpg', '60.jpg', '24.jpg', '68.jpg', '33.jpg', '41.jpg', '25.jpg', '61.jpg', '72.jpg', '4.jpg', '88.jpg', '71.jpg', '55.jpg', '93.jpg', '23.jpg', '30.jpg', '28.jpg', '69.jpg', '75.jpg', '27.jpg', '66.jpg', '78.jpg', '7.jpg', '80.jpg', '36.jpg', '0.jpg', '11.jpg', '95.jpg', '21.jpg', '83.jpg', '20.jpg', '48.jpg', '3.jpg', '39.jpg', '54.jpg', '52.jpg', '8.jpg', '31.jpg', '13.jpg', '51.jpg', '45.jpg', '92.jpg', '35.jpg', '57.jpg', '59.jpg', '34.jpg', '47.jpg', '12.jpg', '58.jpg', '63.jpg', '19.jpg', '89.jpg', '53.jpg', '70.jpg', '79.jpg', '65.jpg', '10.jpg', '29.jpg', '16.jpg', '44.jpg', '76.jpg', '50.jpg', '49.jpg', '43.jpg', '46.jpg', '87.jpg', '56.jpg', '74.jpg', '22.jpg', '94.jpg', '64.jpg', '77.jpg', '42.jpg', '84.jpg', '81.jpg', '40.jpg', '38.jpg', '32.jpg', '86.jpg', '18.jpg', '37.jpg', '6.jpg', '62.jpg', '9.jpg', '5.jpg', '14.jpg', '15.jpg']\n",
            "['72.jpg', '75.jpg', '441.jpg', '30.jpg', '310.jpg', '493.jpg', '183.jpg', '33.jpg', '109.jpg', '107.jpg', '62.jpg', '163.jpg', '283.jpg', '87.jpg', '303.jpg', '92.jpg', '147.jpg', '227.jpg', '100.jpg', '344.jpg', '307.jpg', '364.jpg', '162.jpg', '34.jpg', '407.jpg', '102.jpg', '383.jpg', '249.jpg', '460.jpg', '250.jpg', '354.jpg', '453.jpg', '398.jpg', '206.jpg', '448.jpg', '281.jpg', '26.jpg', '374.jpg', '18.jpg', '425.jpg', '5.jpg', '381.jpg', '265.jpg', '171.jpg', '35.jpg', '24.jpg', '469.jpg', '274.jpg', '431.jpg', '143.jpg', '299.jpg', '446.jpg', '358.jpg', '465.jpg', '415.jpg', '184.jpg', '309.jpg', '55.jpg', '210.jpg', '83.jpg', '449.jpg', '151.jpg', '192.jpg', '111.jpg', '376.jpg', '73.jpg', '115.jpg', '298.jpg', '108.jpg', '345.jpg', '37.jpg', '159.jpg', '17.jpg', '233.jpg', '325.jpg', '8.jpg', '116.jpg', '308.jpg', '89.jpg', '127.jpg', '335.jpg', '275.jpg', '315.jpg', '355.jpg', '22.jpg', '486.jpg', '150.jpg', '495.jpg', '461.jpg', '498.jpg', '483.jpg', '405.jpg', '114.jpg', '47.jpg', '392.jpg', '444.jpg', '320.jpg', '244.jpg', '430.jpg', '211.jpg', '458.jpg', '359.jpg', '409.jpg', '132.jpg', '336.jpg', '270.jpg', '240.jpg', '286.jpg', '101.jpg', '169.jpg', '120.jpg', '199.jpg', '436.jpg', '122.jpg', '20.jpg', '50.jpg', '42.jpg', '65.jpg', '305.jpg', '290.jpg', '180.jpg', '203.jpg', '243.jpg', '128.jpg', '221.jpg', '175.jpg', '375.jpg', '389.jpg', '142.jpg', '373.jpg', '60.jpg', '66.jpg', '291.jpg', '356.jpg', '153.jpg', '112.jpg', '80.jpg', '256.jpg', '311.jpg', '71.jpg', '144.jpg', '437.jpg', '390.jpg', '349.jpg', '130.jpg', '348.jpg', '456.jpg', '14.jpg', '368.jpg', '208.jpg', '95.jpg', '158.jpg', '367.jpg', '419.jpg', '254.jpg', '1.jpg', '245.jpg', '216.jpg', '450.jpg', '385.jpg', '6.jpg', '484.jpg', '268.jpg', '205.jpg', '445.jpg', '294.jpg', '476.jpg', '300.jpg', '207.jpg', '188.jpg', '292.jpg', '179.jpg', '464.jpg', '197.jpg', '88.jpg', '21.jpg', '49.jpg', '139.jpg', '478.jpg', '287.jpg', '165.jpg', '492.jpg', '242.jpg', '289.jpg', '386.jpg', '463.jpg', '79.jpg', '279.jpg', '361.jpg', '235.jpg', '201.jpg', '170.jpg', '362.jpg', '257.jpg', '421.jpg', '167.jpg', '125.jpg', '467.jpg', '462.jpg', '435.jpg', '331.jpg', '418.jpg', '406.jpg', '103.jpg', '29.jpg', '459.jpg', '382.jpg', '312.jpg', '63.jpg', '434.jpg', '93.jpg', '45.jpg', '316.jpg', '137.jpg', '351.jpg', '473.jpg', '141.jpg', '302.jpg', '438.jpg', '273.jpg', '321.jpg', '422.jpg', '378.jpg', '53.jpg', '350.jpg', '391.jpg', '157.jpg', '323.jpg', '3.jpg', '474.jpg', '388.jpg', '56.jpg', '395.jpg', '214.jpg', '40.jpg', '295.jpg', '76.jpg', '172.jpg', '491.jpg', '410.jpg', '84.jpg', '119.jpg', '121.jpg', '91.jpg', '133.jpg', '117.jpg', '176.jpg', '124.jpg', '104.jpg', '326.jpg', '327.jpg', '149.jpg', '200.jpg', '236.jpg', '164.jpg', '217.jpg', '400.jpg', '417.jpg', '154.jpg', '237.jpg', '218.jpg', '261.jpg', '41.jpg', '403.jpg', '198.jpg', '413.jpg', '190.jpg', '334.jpg', '420.jpg', '59.jpg', '238.jpg', '439.jpg', '470.jpg', '288.jpg', '9.jpg', '32.jpg', '324.jpg', '136.jpg', '322.jpg', '239.jpg', '231.jpg', '387.jpg', '253.jpg', '276.jpg', '411.jpg', '225.jpg', '285.jpg', '202.jpg', '160.jpg', '428.jpg', '313.jpg', '443.jpg', '64.jpg', '105.jpg', '98.jpg', '330.jpg', '475.jpg', '178.jpg', '126.jpg', '78.jpg', '138.jpg', '134.jpg', '485.jpg', '25.jpg', '220.jpg', '432.jpg', '38.jpg', '454.jpg', '347.jpg', '67.jpg', '384.jpg', '51.jpg', '70.jpg', '416.jpg', '219.jpg', '82.jpg', '99.jpg', '360.jpg', '342.jpg', '333.jpg', '397.jpg', '481.jpg', '497.jpg', '487.jpg', '489.jpg', '118.jpg', '193.jpg', '338.jpg', '426.jpg', '15.jpg', '370.jpg', '68.jpg', '2.jpg', '113.jpg', '480.jpg', '252.jpg', '427.jpg', '301.jpg', '140.jpg', '123.jpg', '304.jpg', '452.jpg', '479.jpg', '182.jpg', '329.jpg', '372.jpg', '168.jpg', '499.jpg', '319.jpg', '339.jpg', '234.jpg', '402.jpg', '77.jpg', '317.jpg', '223.jpg', '46.jpg', '96.jpg', '181.jpg', '58.jpg', '424.jpg', '36.jpg', '396.jpg', '31.jpg', '332.jpg', '145.jpg', '69.jpg', '228.jpg', '297.jpg', '185.jpg', '251.jpg', '357.jpg', '353.jpg', '412.jpg', '7.jpg', '94.jpg', '282.jpg', '267.jpg', '129.jpg', '472.jpg', '284.jpg', '110.jpg', '195.jpg', '468.jpg', '377.jpg', '186.jpg', '488.jpg', '85.jpg', '318.jpg', '477.jpg', '57.jpg', '43.jpg', '494.jpg', '189.jpg', '337.jpg', '173.jpg', '229.jpg', '52.jpg', '213.jpg', '260.jpg', '401.jpg', '10.jpg', '343.jpg', '328.jpg', '61.jpg', '86.jpg', '440.jpg', '393.jpg', '471.jpg', '48.jpg', '340.jpg', '414.jpg', '131.jpg', '166.jpg', '455.jpg', '490.jpg', '306.jpg', '259.jpg', '394.jpg', '366.jpg', '352.jpg', '399.jpg', '39.jpg', '204.jpg', '423.jpg', '215.jpg', '196.jpg', '263.jpg', '271.jpg', '230.jpg', '451.jpg', '16.jpg', '447.jpg', '404.jpg', '433.jpg', '408.jpg', '280.jpg', '23.jpg', '264.jpg', '90.jpg', '363.jpg', '97.jpg', '262.jpg', '106.jpg', '258.jpg', '19.jpg', '466.jpg', '191.jpg', '209.jpg', '341.jpg', '272.jpg', '232.jpg', '314.jpg', '135.jpg', '13.jpg', '457.jpg', '369.jpg', '482.jpg', '222.jpg', '152.jpg', '296.jpg', '27.jpg', '54.jpg', '247.jpg', '194.jpg', '248.jpg', '266.jpg', '346.jpg', '11.jpg', '293.jpg', '212.jpg', '365.jpg', '4.jpg', '429.jpg', '241.jpg', '380.jpg', '0.jpg', '146.jpg', '269.jpg', '371.jpg', '174.jpg', '278.jpg', '187.jpg', '177.jpg', '226.jpg', '379.jpg', '442.jpg', '44.jpg', '12.jpg', '155.jpg', '148.jpg', '161.jpg', '277.jpg', '81.jpg', '496.jpg', '28.jpg', '74.jpg', '224.jpg', '156.jpg', '246.jpg', '255.jpg']\n",
            "['108.jpg', '443.jpg', '433.jpg', '414.jpg', '494.jpg', '398.jpg', '60.jpg', '449.jpg', '236.jpg', '57.jpg', '388.jpg', '119.jpg', '113.jpg', '421.jpg', '61.jpg', '286.jpg', '431.jpg', '326.jpg', '303.jpg', '222.jpg', '271.jpg', '435.jpg', '422.jpg', '51.jpg', '43.jpg', '189.jpg', '75.jpg', '96.jpg', '3.jpg', '80.jpg', '251.jpg', '224.jpg', '65.jpg', '485.jpg', '358.jpg', '54.jpg', '268.jpg', '92.jpg', '163.jpg', '87.jpg', '2.jpg', '136.jpg', '310.jpg', '314.jpg', '167.jpg', '402.jpg', '120.jpg', '141.jpg', '353.jpg', '187.jpg', '238.jpg', '122.jpg', '74.jpg', '350.jpg', '277.jpg', '276.jpg', '290.jpg', '49.jpg', '305.jpg', '168.jpg', '436.jpg', '161.jpg', '295.jpg', '368.jpg', '248.jpg', '137.jpg', '230.jpg', '411.jpg', '426.jpg', '446.jpg', '444.jpg', '497.jpg', '357.jpg', '158.jpg', '151.jpg', '110.jpg', '292.jpg', '212.jpg', '145.jpg', '400.jpg', '135.jpg', '237.jpg', '182.jpg', '244.jpg', '1.jpg', '348.jpg', '138.jpg', '217.jpg', '154.jpg', '418.jpg', '134.jpg', '227.jpg', '117.jpg', '221.jpg', '215.jpg', '382.jpg', '316.jpg', '304.jpg', '461.jpg', '279.jpg', '231.jpg', '424.jpg', '213.jpg', '372.jpg', '129.jpg', '170.jpg', '35.jpg', '191.jpg', '123.jpg', '218.jpg', '184.jpg', '355.jpg', '190.jpg', '293.jpg', '235.jpg', '327.jpg', '282.jpg', '247.jpg', '84.jpg', '162.jpg', '216.jpg', '36.jpg', '219.jpg', '25.jpg', '475.jpg', '85.jpg', '68.jpg', '495.jpg', '150.jpg', '417.jpg', '42.jpg', '183.jpg', '409.jpg', '324.jpg', '401.jpg', '262.jpg', '312.jpg', '403.jpg', '106.jpg', '330.jpg', '165.jpg', '264.jpg', '256.jpg', '301.jpg', '69.jpg', '146.jpg', '441.jpg', '125.jpg', '41.jpg', '115.jpg', '413.jpg', '202.jpg', '270.jpg', '438.jpg', '460.jpg', '176.jpg', '79.jpg', '246.jpg', '19.jpg', '297.jpg', '131.jpg', '45.jpg', '104.jpg', '242.jpg', '442.jpg', '139.jpg', '72.jpg', '32.jpg', '228.jpg', '333.jpg', '416.jpg', '188.jpg', '40.jpg', '454.jpg', '232.jpg', '11.jpg', '483.jpg', '387.jpg', '78.jpg', '114.jpg', '469.jpg', '253.jpg', '496.jpg', '147.jpg', '26.jpg', '265.jpg', '109.jpg', '56.jpg', '33.jpg', '349.jpg', '389.jpg', '181.jpg', '309.jpg', '392.jpg', '396.jpg', '23.jpg', '281.jpg', '486.jpg', '275.jpg', '360.jpg', '272.jpg', '482.jpg', '71.jpg', '95.jpg', '395.jpg', '445.jpg', '164.jpg', '121.jpg', '210.jpg', '283.jpg', '385.jpg', '467.jpg', '21.jpg', '473.jpg', '320.jpg', '291.jpg', '90.jpg', '373.jpg', '261.jpg', '379.jpg', '269.jpg', '62.jpg', '50.jpg', '107.jpg', '103.jpg', '325.jpg', '100.jpg', '315.jpg', '4.jpg', '366.jpg', '97.jpg', '363.jpg', '198.jpg', '148.jpg', '20.jpg', '468.jpg', '406.jpg', '98.jpg', '59.jpg', '354.jpg', '367.jpg', '376.jpg', '101.jpg', '407.jpg', '245.jpg', '288.jpg', '273.jpg', '344.jpg', '127.jpg', '338.jpg', '195.jpg', '116.jpg', '201.jpg', '5.jpg', '240.jpg', '130.jpg', '209.jpg', '206.jpg', '317.jpg', '384.jpg', '380.jpg', '302.jpg', '7.jpg', '263.jpg', '434.jpg', '452.jpg', '318.jpg', '490.jpg', '489.jpg', '171.jpg', '140.jpg', '378.jpg', '439.jpg', '371.jpg', '260.jpg', '428.jpg', '455.jpg', '172.jpg', '225.jpg', '16.jpg', '343.jpg', '102.jpg', '266.jpg', '456.jpg', '464.jpg', '13.jpg', '76.jpg', '143.jpg', '375.jpg', '383.jpg', '423.jpg', '211.jpg', '8.jpg', '342.jpg', '67.jpg', '278.jpg', '477.jpg', '166.jpg', '328.jpg', '17.jpg', '29.jpg', '329.jpg', '321.jpg', '296.jpg', '133.jpg', '448.jpg', '126.jpg', '169.jpg', '415.jpg', '255.jpg', '285.jpg', '399.jpg', '259.jpg', '144.jpg', '466.jpg', '319.jpg', '365.jpg', '393.jpg', '289.jpg', '81.jpg', '99.jpg', '322.jpg', '364.jpg', '44.jpg', '214.jpg', '229.jpg', '347.jpg', '173.jpg', '124.jpg', '346.jpg', '419.jpg', '86.jpg', '73.jpg', '38.jpg', '257.jpg', '412.jpg', '250.jpg', '9.jpg', '391.jpg', '254.jpg', '175.jpg', '432.jpg', '220.jpg', '437.jpg', '93.jpg', '470.jpg', '478.jpg', '336.jpg', '105.jpg', '10.jpg', '374.jpg', '28.jpg', '457.jpg', '205.jpg', '239.jpg', '200.jpg', '394.jpg', '55.jpg', '307.jpg', '179.jpg', '47.jpg', '332.jpg', '492.jpg', '352.jpg', '70.jpg', '37.jpg', '249.jpg', '280.jpg', '311.jpg', '30.jpg', '53.jpg', '34.jpg', '499.jpg', '118.jpg', '459.jpg', '341.jpg', '359.jpg', '493.jpg', '361.jpg', '0.jpg', '458.jpg', '66.jpg', '465.jpg', '31.jpg', '474.jpg', '390.jpg', '480.jpg', '14.jpg', '180.jpg', '204.jpg', '451.jpg', '174.jpg', '27.jpg', '186.jpg', '226.jpg', '132.jpg', '345.jpg', '208.jpg', '153.jpg', '284.jpg', '405.jpg', '196.jpg', '462.jpg', '313.jpg', '306.jpg', '77.jpg', '377.jpg', '243.jpg', '207.jpg', '241.jpg', '94.jpg', '429.jpg', '178.jpg', '339.jpg', '299.jpg', '420.jpg', '160.jpg', '15.jpg', '6.jpg', '22.jpg', '463.jpg', '479.jpg', '152.jpg', '258.jpg', '356.jpg', '481.jpg', '484.jpg', '24.jpg', '64.jpg', '142.jpg', '194.jpg', '362.jpg', '425.jpg', '156.jpg', '453.jpg', '370.jpg', '447.jpg', '491.jpg', '48.jpg', '397.jpg', '410.jpg', '52.jpg', '233.jpg', '381.jpg', '82.jpg', '193.jpg', '427.jpg', '308.jpg', '203.jpg', '369.jpg', '155.jpg', '351.jpg', '404.jpg', '83.jpg', '498.jpg', '58.jpg', '334.jpg', '112.jpg', '185.jpg', '450.jpg', '298.jpg', '331.jpg', '294.jpg', '386.jpg', '192.jpg', '487.jpg', '471.jpg', '234.jpg', '157.jpg', '340.jpg', '430.jpg', '39.jpg', '252.jpg', '128.jpg', '89.jpg', '12.jpg', '91.jpg', '476.jpg', '323.jpg', '274.jpg', '159.jpg', '337.jpg', '300.jpg', '63.jpg', '111.jpg', '335.jpg', '199.jpg', '408.jpg', '149.jpg', '177.jpg', '472.jpg', '88.jpg', '18.jpg', '46.jpg', '440.jpg', '197.jpg', '488.jpg', '223.jpg', '287.jpg', '267.jpg']\n",
            "['72.jpg', '75.jpg', '30.jpg', '310.jpg', '183.jpg', '33.jpg', '109.jpg', '107.jpg', '62.jpg', '163.jpg', '283.jpg', '87.jpg', '303.jpg', '92.jpg', '147.jpg', '227.jpg', '100.jpg', '344.jpg', '307.jpg', '162.jpg', '34.jpg', '102.jpg', '249.jpg', '250.jpg', '354.jpg', '206.jpg', '281.jpg', '26.jpg', '18.jpg', '5.jpg', '265.jpg', '171.jpg', '35.jpg', '24.jpg', '274.jpg', '143.jpg', '299.jpg', '358.jpg', '184.jpg', '309.jpg', '55.jpg', '210.jpg', '83.jpg', '151.jpg', '192.jpg', '111.jpg', '73.jpg', '115.jpg', '298.jpg', '108.jpg', '345.jpg', '37.jpg', '159.jpg', '17.jpg', '233.jpg', '325.jpg', '8.jpg', '116.jpg', '308.jpg', '89.jpg', '127.jpg', '335.jpg', '275.jpg', '315.jpg', '355.jpg', '22.jpg', '150.jpg', '114.jpg', '47.jpg', '320.jpg', '244.jpg', '211.jpg', '359.jpg', '132.jpg', '336.jpg', '270.jpg', '240.jpg', '286.jpg', '101.jpg', '169.jpg', '120.jpg', '199.jpg', '122.jpg', '20.jpg', '50.jpg', '42.jpg', '65.jpg', '305.jpg', '290.jpg', '180.jpg', '203.jpg', '243.jpg', '128.jpg', '221.jpg', '175.jpg', '142.jpg', '60.jpg', '66.jpg', '291.jpg', '356.jpg', '153.jpg', '112.jpg', '80.jpg', '256.jpg', '311.jpg', '71.jpg', '144.jpg', '349.jpg', '130.jpg', '348.jpg', '14.jpg', '208.jpg', '95.jpg', '158.jpg', '254.jpg', '1.jpg', '245.jpg', '216.jpg', '6.jpg', '268.jpg', '205.jpg', '294.jpg', '300.jpg', '207.jpg', '188.jpg', '292.jpg', '179.jpg', '197.jpg', '88.jpg', '21.jpg', '49.jpg', '139.jpg', '287.jpg', '165.jpg', '242.jpg', '289.jpg', '79.jpg', '279.jpg', '361.jpg', '235.jpg', '201.jpg', '170.jpg', '257.jpg', '167.jpg', '125.jpg', '331.jpg', '103.jpg', '29.jpg', '312.jpg', '63.jpg', '93.jpg', '45.jpg', '316.jpg', '137.jpg', '351.jpg', '141.jpg', '302.jpg', '273.jpg', '321.jpg', '53.jpg', '350.jpg', '157.jpg', '323.jpg', '3.jpg', '56.jpg', '214.jpg', '40.jpg', '295.jpg', '76.jpg', '172.jpg', '84.jpg', '119.jpg', '121.jpg', '91.jpg', '133.jpg', '117.jpg', '176.jpg', '124.jpg', '104.jpg', '326.jpg', '327.jpg', '149.jpg', '200.jpg', '236.jpg', '164.jpg', '217.jpg', '154.jpg', '237.jpg', '218.jpg', '261.jpg', '41.jpg', '198.jpg', '190.jpg', '334.jpg', '59.jpg', '238.jpg', '288.jpg', '9.jpg', '32.jpg', '324.jpg', '136.jpg', '322.jpg', '239.jpg', '231.jpg', '253.jpg', '276.jpg', '225.jpg', '285.jpg', '202.jpg', '160.jpg', '313.jpg', '64.jpg', '105.jpg', '98.jpg', '330.jpg', '178.jpg', '126.jpg', '78.jpg', '138.jpg', '134.jpg', '25.jpg', '220.jpg', '38.jpg', '347.jpg', '67.jpg', '51.jpg', '70.jpg', '219.jpg', '82.jpg', '99.jpg', '360.jpg', '342.jpg', '333.jpg', '118.jpg', '193.jpg', '338.jpg', '15.jpg', '68.jpg', '2.jpg', '113.jpg', '252.jpg', '301.jpg', '140.jpg', '123.jpg', '304.jpg', '182.jpg', '329.jpg', '168.jpg', '319.jpg', '339.jpg', '234.jpg', '77.jpg', '317.jpg', '223.jpg', '46.jpg', '96.jpg', '181.jpg', '58.jpg', '36.jpg', '31.jpg', '332.jpg', '145.jpg', '69.jpg', '228.jpg', '297.jpg', '185.jpg', '251.jpg', '357.jpg', '353.jpg', '7.jpg', '94.jpg', '282.jpg', '267.jpg', '129.jpg', '284.jpg', '110.jpg', '195.jpg', '186.jpg', '85.jpg', '318.jpg', '57.jpg', '43.jpg', '189.jpg', '337.jpg', '173.jpg', '229.jpg', '52.jpg', '213.jpg', '260.jpg', '10.jpg', '343.jpg', '328.jpg', '61.jpg', '86.jpg', '48.jpg', '340.jpg', '131.jpg', '166.jpg', '306.jpg', '259.jpg', '352.jpg', '39.jpg', '204.jpg', '215.jpg', '196.jpg', '263.jpg', '271.jpg', '230.jpg', '16.jpg', '280.jpg', '23.jpg', '264.jpg', '90.jpg', '97.jpg', '262.jpg', '106.jpg', '258.jpg', '19.jpg', '191.jpg', '209.jpg', '341.jpg', '272.jpg', '232.jpg', '314.jpg', '135.jpg', '13.jpg', '222.jpg', '152.jpg', '296.jpg', '27.jpg', '54.jpg', '247.jpg', '194.jpg', '248.jpg', '266.jpg', '346.jpg', '11.jpg', '293.jpg', '212.jpg', '4.jpg', '241.jpg', '0.jpg', '146.jpg', '269.jpg', '174.jpg', '278.jpg', '187.jpg', '177.jpg', '226.jpg', '44.jpg', '12.jpg', '155.jpg', '148.jpg', '161.jpg', '277.jpg', '81.jpg', '28.jpg', '74.jpg', '224.jpg', '156.jpg', '246.jpg', '255.jpg']\n",
            "['47.jpg', '328.jpg', '35.jpg', '49.jpg', '127.jpg', '223.jpg', '360.jpg', '301.jpg', '248.jpg', '59.jpg', '349.jpg', '298.jpg', '339.jpg', '147.jpg', '324.jpg', '220.jpg', '264.jpg', '75.jpg', '82.jpg', '79.jpg', '216.jpg', '204.jpg', '159.jpg', '323.jpg', '227.jpg', '87.jpg', '92.jpg', '194.jpg', '186.jpg', '183.jpg', '238.jpg', '14.jpg', '126.jpg', '226.jpg', '94.jpg', '158.jpg', '67.jpg', '28.jpg', '337.jpg', '268.jpg', '176.jpg', '6.jpg', '95.jpg', '338.jpg', '312.jpg', '11.jpg', '98.jpg', '173.jpg', '37.jpg', '142.jpg', '45.jpg', '335.jpg', '84.jpg', '181.jpg', '27.jpg', '31.jpg', '66.jpg', '141.jpg', '331.jpg', '352.jpg', '96.jpg', '36.jpg', '322.jpg', '344.jpg', '182.jpg', '188.jpg', '225.jpg', '105.jpg', '290.jpg', '237.jpg', '57.jpg', '198.jpg', '192.jpg', '13.jpg', '332.jpg', '325.jpg', '20.jpg', '251.jpg', '259.jpg', '261.jpg', '234.jpg', '293.jpg', '252.jpg', '249.jpg', '273.jpg', '314.jpg', '305.jpg', '65.jpg', '58.jpg', '245.jpg', '109.jpg', '80.jpg', '341.jpg', '285.jpg', '228.jpg', '272.jpg', '327.jpg', '191.jpg', '279.jpg', '30.jpg', '288.jpg', '150.jpg', '71.jpg', '138.jpg', '18.jpg', '329.jpg', '154.jpg', '215.jpg', '170.jpg', '97.jpg', '318.jpg', '21.jpg', '271.jpg', '131.jpg', '202.jpg', '243.jpg', '144.jpg', '86.jpg', '72.jpg', '357.jpg', '361.jpg', '53.jpg', '195.jpg', '302.jpg', '50.jpg', '0.jpg', '137.jpg', '107.jpg', '276.jpg', '308.jpg', '212.jpg', '111.jpg', '201.jpg', '63.jpg', '73.jpg', '25.jpg', '250.jpg', '253.jpg', '135.jpg', '260.jpg', '78.jpg', '160.jpg', '22.jpg', '62.jpg', '178.jpg', '121.jpg', '307.jpg', '102.jpg', '266.jpg', '1.jpg', '310.jpg', '334.jpg', '313.jpg', '211.jpg', '315.jpg', '255.jpg', '129.jpg', '38.jpg', '77.jpg', '115.jpg', '304.jpg', '336.jpg', '306.jpg', '83.jpg', '55.jpg', '134.jpg', '289.jpg', '151.jpg', '76.jpg', '320.jpg', '214.jpg', '200.jpg', '270.jpg', '267.jpg', '326.jpg', '122.jpg', '197.jpg', '294.jpg', '5.jpg', '282.jpg', '169.jpg', '291.jpg', '110.jpg', '155.jpg', '12.jpg', '213.jpg', '26.jpg', '355.jpg', '224.jpg', '17.jpg', '196.jpg', '54.jpg', '33.jpg', '116.jpg', '106.jpg', '112.jpg', '358.jpg', '163.jpg', '210.jpg', '254.jpg', '43.jpg', '348.jpg', '235.jpg', '8.jpg', '287.jpg', '48.jpg', '70.jpg', '242.jpg', '193.jpg', '40.jpg', '29.jpg', '39.jpg', '350.jpg', '246.jpg', '240.jpg', '156.jpg', '233.jpg', '303.jpg', '101.jpg', '187.jpg', '162.jpg', '149.jpg', '278.jpg', '9.jpg', '166.jpg', '133.jpg', '24.jpg', '69.jpg', '56.jpg', '52.jpg', '15.jpg', '148.jpg', '165.jpg', '60.jpg', '317.jpg', '10.jpg', '125.jpg', '281.jpg', '132.jpg', '284.jpg', '342.jpg', '161.jpg', '189.jpg', '354.jpg', '353.jpg', '346.jpg', '42.jpg', '108.jpg', '343.jpg', '146.jpg', '139.jpg', '351.jpg', '3.jpg', '167.jpg', '217.jpg', '299.jpg', '280.jpg', '34.jpg', '206.jpg', '269.jpg', '359.jpg', '153.jpg', '177.jpg', '91.jpg', '46.jpg', '117.jpg', '274.jpg', '300.jpg', '292.jpg', '124.jpg', '244.jpg', '179.jpg', '61.jpg', '340.jpg', '275.jpg', '113.jpg', '265.jpg', '241.jpg', '172.jpg', '283.jpg', '356.jpg', '330.jpg', '120.jpg', '175.jpg', '88.jpg', '90.jpg', '32.jpg', '209.jpg', '103.jpg', '239.jpg', '185.jpg', '168.jpg', '296.jpg', '222.jpg', '2.jpg', '180.jpg', '199.jpg', '218.jpg', '152.jpg', '44.jpg', '319.jpg', '295.jpg', '7.jpg', '205.jpg', '345.jpg', '157.jpg', '230.jpg', '68.jpg', '99.jpg', '297.jpg', '309.jpg', '130.jpg', '89.jpg', '74.jpg', '140.jpg', '143.jpg', '190.jpg', '316.jpg', '229.jpg', '145.jpg', '51.jpg', '257.jpg', '203.jpg', '231.jpg', '4.jpg', '236.jpg', '232.jpg', '41.jpg', '262.jpg', '277.jpg', '123.jpg', '347.jpg', '333.jpg', '171.jpg', '247.jpg', '136.jpg', '64.jpg', '174.jpg', '184.jpg', '119.jpg', '207.jpg', '23.jpg', '16.jpg', '256.jpg', '81.jpg', '114.jpg', '85.jpg', '286.jpg', '258.jpg', '164.jpg', '208.jpg', '311.jpg', '263.jpg', '128.jpg', '321.jpg', '100.jpg', '104.jpg', '219.jpg', '118.jpg', '93.jpg', '221.jpg', '19.jpg']\n",
            "['72.jpg', '75.jpg', '30.jpg', '310.jpg', '183.jpg', '33.jpg', '109.jpg', '107.jpg', '62.jpg', '163.jpg', '283.jpg', '87.jpg', '303.jpg', '92.jpg', '147.jpg', '227.jpg', '100.jpg', '307.jpg', '162.jpg', '34.jpg', '102.jpg', '249.jpg', '250.jpg', '206.jpg', '281.jpg', '26.jpg', '18.jpg', '5.jpg', '265.jpg', '171.jpg', '35.jpg', '24.jpg', '274.jpg', '143.jpg', '299.jpg', '184.jpg', '309.jpg', '55.jpg', '210.jpg', '83.jpg', '151.jpg', '192.jpg', '111.jpg', '73.jpg', '115.jpg', '298.jpg', '108.jpg', '37.jpg', '159.jpg', '17.jpg', '233.jpg', '325.jpg', '8.jpg', '116.jpg', '308.jpg', '89.jpg', '127.jpg', '275.jpg', '315.jpg', '22.jpg', '150.jpg', '114.jpg', '47.jpg', '320.jpg', '244.jpg', '211.jpg', '132.jpg', '270.jpg', '240.jpg', '286.jpg', '101.jpg', '169.jpg', '120.jpg', '199.jpg', '122.jpg', '20.jpg', '50.jpg', '42.jpg', '65.jpg', '305.jpg', '290.jpg', '180.jpg', '203.jpg', '243.jpg', '128.jpg', '221.jpg', '175.jpg', '142.jpg', '60.jpg', '66.jpg', '291.jpg', '153.jpg', '112.jpg', '80.jpg', '256.jpg', '311.jpg', '71.jpg', '144.jpg', '130.jpg', '14.jpg', '208.jpg', '95.jpg', '158.jpg', '254.jpg', '1.jpg', '245.jpg', '216.jpg', '6.jpg', '268.jpg', '205.jpg', '294.jpg', '300.jpg', '207.jpg', '188.jpg', '292.jpg', '179.jpg', '197.jpg', '88.jpg', '21.jpg', '49.jpg', '139.jpg', '287.jpg', '165.jpg', '242.jpg', '289.jpg', '79.jpg', '279.jpg', '235.jpg', '201.jpg', '170.jpg', '257.jpg', '167.jpg', '125.jpg', '103.jpg', '29.jpg', '312.jpg', '63.jpg', '93.jpg', '45.jpg', '316.jpg', '137.jpg', '141.jpg', '302.jpg', '273.jpg', '321.jpg', '53.jpg', '157.jpg', '323.jpg', '3.jpg', '56.jpg', '214.jpg', '40.jpg', '295.jpg', '76.jpg', '172.jpg', '84.jpg', '119.jpg', '121.jpg', '91.jpg', '133.jpg', '117.jpg', '176.jpg', '124.jpg', '104.jpg', '149.jpg', '200.jpg', '236.jpg', '164.jpg', '217.jpg', '154.jpg', '237.jpg', '218.jpg', '261.jpg', '41.jpg', '198.jpg', '190.jpg', '59.jpg', '238.jpg', '288.jpg', '9.jpg', '32.jpg', '324.jpg', '136.jpg', '322.jpg', '239.jpg', '231.jpg', '253.jpg', '276.jpg', '225.jpg', '285.jpg', '202.jpg', '160.jpg', '313.jpg', '64.jpg', '105.jpg', '98.jpg', '178.jpg', '126.jpg', '78.jpg', '138.jpg', '134.jpg', '25.jpg', '220.jpg', '38.jpg', '67.jpg', '51.jpg', '70.jpg', '219.jpg', '82.jpg', '99.jpg', '118.jpg', '193.jpg', '15.jpg', '68.jpg', '2.jpg', '113.jpg', '252.jpg', '301.jpg', '140.jpg', '123.jpg', '304.jpg', '182.jpg', '168.jpg', '319.jpg', '234.jpg', '77.jpg', '317.jpg', '223.jpg', '46.jpg', '96.jpg', '181.jpg', '58.jpg', '36.jpg', '31.jpg', '145.jpg', '69.jpg', '228.jpg', '297.jpg', '185.jpg', '251.jpg', '7.jpg', '94.jpg', '282.jpg', '267.jpg', '129.jpg', '284.jpg', '110.jpg', '195.jpg', '186.jpg', '85.jpg', '318.jpg', '57.jpg', '43.jpg', '189.jpg', '173.jpg', '229.jpg', '52.jpg', '213.jpg', '260.jpg', '10.jpg', '61.jpg', '86.jpg', '48.jpg', '131.jpg', '166.jpg', '306.jpg', '259.jpg', '39.jpg', '204.jpg', '215.jpg', '196.jpg', '263.jpg', '271.jpg', '230.jpg', '16.jpg', '280.jpg', '23.jpg', '264.jpg', '90.jpg', '97.jpg', '262.jpg', '106.jpg', '258.jpg', '19.jpg', '191.jpg', '209.jpg', '272.jpg', '232.jpg', '314.jpg', '135.jpg', '13.jpg', '222.jpg', '152.jpg', '296.jpg', '27.jpg', '54.jpg', '247.jpg', '194.jpg', '248.jpg', '266.jpg', '11.jpg', '293.jpg', '212.jpg', '4.jpg', '241.jpg', '0.jpg', '146.jpg', '269.jpg', '174.jpg', '278.jpg', '187.jpg', '177.jpg', '226.jpg', '44.jpg', '12.jpg', '155.jpg', '148.jpg', '161.jpg', '277.jpg', '81.jpg', '28.jpg', '74.jpg', '224.jpg', '156.jpg', '246.jpg', '255.jpg']\n",
            "['240.jpg', '222.jpg', '274.jpg', '257.jpg', '150.jpg', '189.jpg', '181.jpg', '94.jpg', '105.jpg', '6.jpg', '159.jpg', '85.jpg', '147.jpg', '138.jpg', '182.jpg', '75.jpg', '46.jpg', '63.jpg', '88.jpg', '212.jpg', '8.jpg', '124.jpg', '227.jpg', '87.jpg', '92.jpg', '264.jpg', '183.jpg', '98.jpg', '294.jpg', '252.jpg', '44.jpg', '196.jpg', '188.jpg', '234.jpg', '28.jpg', '19.jpg', '49.jpg', '59.jpg', '21.jpg', '207.jpg', '69.jpg', '3.jpg', '146.jpg', '68.jpg', '325.jpg', '311.jpg', '40.jpg', '114.jpg', '237.jpg', '52.jpg', '247.jpg', '10.jpg', '144.jpg', '84.jpg', '53.jpg', '229.jpg', '260.jpg', '25.jpg', '307.jpg', '284.jpg', '289.jpg', '70.jpg', '15.jpg', '60.jpg', '276.jpg', '160.jpg', '115.jpg', '152.jpg', '89.jpg', '243.jpg', '204.jpg', '256.jpg', '79.jpg', '86.jpg', '107.jpg', '139.jpg', '13.jpg', '65.jpg', '32.jpg', '301.jpg', '121.jpg', '97.jpg', '191.jpg', '208.jpg', '200.jpg', '73.jpg', '7.jpg', '201.jpg', '315.jpg', '310.jpg', '126.jpg', '106.jpg', '45.jpg', '304.jpg', '137.jpg', '22.jpg', '254.jpg', '167.jpg', '48.jpg', '280.jpg', '323.jpg', '291.jpg', '269.jpg', '255.jpg', '217.jpg', '58.jpg', '271.jpg', '253.jpg', '187.jpg', '130.jpg', '134.jpg', '118.jpg', '285.jpg', '278.jpg', '219.jpg', '143.jpg', '125.jpg', '226.jpg', '273.jpg', '0.jpg', '205.jpg', '54.jpg', '242.jpg', '80.jpg', '263.jpg', '141.jpg', '145.jpg', '170.jpg', '245.jpg', '306.jpg', '153.jpg', '216.jpg', '223.jpg', '72.jpg', '93.jpg', '31.jpg', '133.jpg', '119.jpg', '128.jpg', '319.jpg', '76.jpg', '57.jpg', '297.jpg', '241.jpg', '298.jpg', '36.jpg', '56.jpg', '108.jpg', '206.jpg', '113.jpg', '211.jpg', '62.jpg', '261.jpg', '162.jpg', '249.jpg', '266.jpg', '179.jpg', '228.jpg', '169.jpg', '320.jpg', '168.jpg', '265.jpg', '258.jpg', '37.jpg', '64.jpg', '122.jpg', '39.jpg', '111.jpg', '151.jpg', '190.jpg', '312.jpg', '251.jpg', '286.jpg', '20.jpg', '197.jpg', '203.jpg', '235.jpg', '287.jpg', '171.jpg', '109.jpg', '305.jpg', '317.jpg', '142.jpg', '148.jpg', '155.jpg', '132.jpg', '5.jpg', '244.jpg', '224.jpg', '116.jpg', '194.jpg', '33.jpg', '275.jpg', '11.jpg', '95.jpg', '55.jpg', '163.jpg', '192.jpg', '292.jpg', '215.jpg', '202.jpg', '175.jpg', '308.jpg', '231.jpg', '161.jpg', '149.jpg', '290.jpg', '158.jpg', '176.jpg', '195.jpg', '103.jpg', '318.jpg', '270.jpg', '23.jpg', '177.jpg', '233.jpg', '178.jpg', '199.jpg', '232.jpg', '185.jpg', '43.jpg', '135.jpg', '38.jpg', '239.jpg', '173.jpg', '210.jpg', '100.jpg', '316.jpg', '157.jpg', '83.jpg', '78.jpg', '262.jpg', '71.jpg', '282.jpg', '102.jpg', '174.jpg', '120.jpg', '156.jpg', '14.jpg', '110.jpg', '164.jpg', '99.jpg', '295.jpg', '321.jpg', '66.jpg', '322.jpg', '218.jpg', '225.jpg', '209.jpg', '314.jpg', '26.jpg', '16.jpg', '303.jpg', '18.jpg', '213.jpg', '281.jpg', '236.jpg', '293.jpg', '17.jpg', '61.jpg', '246.jpg', '165.jpg', '30.jpg', '248.jpg', '220.jpg', '221.jpg', '272.jpg', '154.jpg', '41.jpg', '51.jpg', '283.jpg', '268.jpg', '47.jpg', '82.jpg', '309.jpg', '123.jpg', '198.jpg', '27.jpg', '214.jpg', '277.jpg', '104.jpg', '172.jpg', '230.jpg', '101.jpg', '184.jpg', '250.jpg', '299.jpg', '24.jpg', '90.jpg', '4.jpg', '42.jpg', '186.jpg', '29.jpg', '296.jpg', '74.jpg', '2.jpg', '77.jpg', '324.jpg', '117.jpg', '140.jpg', '91.jpg', '112.jpg', '34.jpg', '193.jpg', '180.jpg', '12.jpg', '81.jpg', '238.jpg', '300.jpg', '131.jpg', '302.jpg', '288.jpg', '259.jpg', '96.jpg', '279.jpg', '166.jpg', '129.jpg', '50.jpg', '127.jpg', '67.jpg', '313.jpg', '9.jpg', '35.jpg', '1.jpg', '267.jpg', '136.jpg']\n"
          ]
        }
      ],
      "source": [
        "# IMPORT IMAGES FROM FOLDERS RANDOMLY. THIS IMPROVES VALIDATION ACCURACY. \n",
        "import random \n",
        "from random import seed,sample\n",
        "\n",
        "DATA_PATH = '/content/'\n",
        "\n",
        "path_validation = os.path.join(DATA_PATH, \"validation\")\n",
        "for folder in os.listdir(path_validation):\n",
        "  class_index = FOOD.index(folder)\n",
        "  seed(1)\n",
        "  image_count = [i for i in os.listdir(path_validation + \"/\" + folder)]\n",
        "  print(image_count)\n",
        "\n",
        "  if len(image_count) < 1200:\n",
        "    subset = sample(image_count, len(image_count))\n",
        "  else: \n",
        "    subset =sample(image_count, 1200)\n",
        "  print(subset)\n",
        "\n",
        "  for image_name in subset:\n",
        "    img = Image.open(path_validation + \"/\" + folder + \"/\" + image_name)\n",
        "    food_label = (np.arange(NUM_FOOD) == class_index).astype(np.float32)\n",
        "    validation_data.append(np.array(img))\n",
        "    validation_labels.append(food_label)"
      ]
    },
    {
      "cell_type": "code",
      "execution_count": 6,
      "metadata": {
        "colab": {
          "base_uri": "https://localhost:8080/"
        },
        "id": "LorMuGFaDI7f",
        "outputId": "00938523-8e08-45bb-9e4c-fa1c047f200d"
      },
      "outputs": [
        {
          "output_type": "stream",
          "name": "stdout",
          "text": [
            "['535.jpg', '72.jpg', '75.jpg', '441.jpg', '851.jpg', '549.jpg', '30.jpg', '1158.jpg', '1038.jpg', '809.jpg', '567.jpg', '720.jpg', '534.jpg', '310.jpg', '493.jpg', '1213.jpg', '1013.jpg', '183.jpg', '522.jpg', '1079.jpg', '33.jpg', '1289.jpg', '569.jpg', '109.jpg', '934.jpg', '945.jpg', '554.jpg', '107.jpg', '1267.jpg', '62.jpg', '163.jpg', '1104.jpg', '1059.jpg', '1165.jpg', '898.jpg', '283.jpg', '87.jpg', '1061.jpg', '303.jpg', '92.jpg', '1264.jpg', '982.jpg', '147.jpg', '227.jpg', '100.jpg', '344.jpg', '818.jpg', '1207.jpg', '1171.jpg', '1309.jpg', '728.jpg', '667.jpg', '307.jpg', '1282.jpg', '364.jpg', '1133.jpg', '985.jpg', '518.jpg', '162.jpg', '577.jpg', '34.jpg', '407.jpg', '537.jpg', '761.jpg', '102.jpg', '1076.jpg', '383.jpg', '1241.jpg', '249.jpg', '870.jpg', '460.jpg', '1018.jpg', '250.jpg', '354.jpg', '453.jpg', '398.jpg', '206.jpg', '1021.jpg', '923.jpg', '448.jpg', '281.jpg', '1123.jpg', '1191.jpg', '26.jpg', '374.jpg', '783.jpg', '18.jpg', '1089.jpg', '723.jpg', '1239.jpg', '425.jpg', '1162.jpg', '1105.jpg', '806.jpg', '5.jpg', '603.jpg', '1295.jpg', '1310.jpg', '513.jpg', '381.jpg', '986.jpg', '265.jpg', '171.jpg', '1150.jpg', '35.jpg', '907.jpg', '24.jpg', '1151.jpg', '606.jpg', '647.jpg', '469.jpg', '274.jpg', '431.jpg', '956.jpg', '801.jpg', '1313.jpg', '639.jpg', '726.jpg', '816.jpg', '781.jpg', '892.jpg', '143.jpg', '520.jpg', '299.jpg', '983.jpg', '738.jpg', '1243.jpg', '1188.jpg', '1317.jpg', '1090.jpg', '446.jpg', '358.jpg', '807.jpg', '1232.jpg', '1220.jpg', '465.jpg', '415.jpg', '184.jpg', '309.jpg', '55.jpg', '1070.jpg', '210.jpg', '908.jpg', '695.jpg', '925.jpg', '83.jpg', '1069.jpg', '747.jpg', '449.jpg', '1028.jpg', '1015.jpg', '1086.jpg', '992.jpg', '1056.jpg', '151.jpg', '192.jpg', '524.jpg', '111.jpg', '376.jpg', '73.jpg', '115.jpg', '822.jpg', '910.jpg', '751.jpg', '298.jpg', '108.jpg', '1027.jpg', '345.jpg', '921.jpg', '1095.jpg', '623.jpg', '586.jpg', '865.jpg', '37.jpg', '159.jpg', '1301.jpg', '1055.jpg', '547.jpg', '17.jpg', '1305.jpg', '1293.jpg', '756.jpg', '1279.jpg', '944.jpg', '1263.jpg', '1175.jpg', '1166.jpg', '1099.jpg', '884.jpg', '233.jpg', '325.jpg', '8.jpg', '842.jpg', '824.jpg', '1183.jpg', '663.jpg', '557.jpg', '1091.jpg', '116.jpg', '826.jpg', '1138.jpg', '702.jpg', '308.jpg', '579.jpg', '89.jpg', '862.jpg', '1073.jpg', '942.jpg', '127.jpg', '335.jpg', '1181.jpg', '275.jpg', '1201.jpg', '315.jpg', '719.jpg', '1236.jpg', '355.jpg', '1011.jpg', '872.jpg', '922.jpg', '563.jpg', '22.jpg', '1189.jpg', '486.jpg', '150.jpg', '495.jpg', '1182.jpg', '461.jpg', '498.jpg', '593.jpg', '1246.jpg', '1315.jpg', '792.jpg', '813.jpg', '829.jpg', '1174.jpg', '550.jpg', '483.jpg', '405.jpg', '114.jpg', '1216.jpg', '587.jpg', '47.jpg', '392.jpg', '1272.jpg', '791.jpg', '917.jpg', '591.jpg', '444.jpg', '320.jpg', '627.jpg', '1120.jpg', '1009.jpg', '1005.jpg', '244.jpg', '1036.jpg', '939.jpg', '430.jpg', '1064.jpg', '1002.jpg', '211.jpg', '1254.jpg', '458.jpg', '589.jpg', '767.jpg', '1062.jpg', '608.jpg', '859.jpg', '953.jpg', '359.jpg', '771.jpg', '409.jpg', '525.jpg', '132.jpg', '736.jpg', '994.jpg', '515.jpg', '1211.jpg', '1049.jpg', '336.jpg', '611.jpg', '270.jpg', '1085.jpg', '1075.jpg', '1172.jpg', '849.jpg', '240.jpg', '1193.jpg', '1222.jpg', '1294.jpg', '1221.jpg', '286.jpg', '1109.jpg', '673.jpg', '1234.jpg', '101.jpg', '1026.jpg', '681.jpg', '974.jpg', '169.jpg', '120.jpg', '664.jpg', '831.jpg', '740.jpg', '199.jpg', '436.jpg', '588.jpg', '1116.jpg', '1223.jpg', '533.jpg', '1020.jpg', '718.jpg', '1314.jpg', '931.jpg', '1118.jpg', '1167.jpg', '1050.jpg', '1214.jpg', '122.jpg', '517.jpg', '714.jpg', '599.jpg', '20.jpg', '1204.jpg', '50.jpg', '42.jpg', '1159.jpg', '65.jpg', '1047.jpg', '914.jpg', '305.jpg', '505.jpg', '632.jpg', '996.jpg', '933.jpg', '290.jpg', '180.jpg', '203.jpg', '754.jpg', '243.jpg', '128.jpg', '221.jpg', '175.jpg', '375.jpg', '389.jpg', '1259.jpg', '896.jpg', '142.jpg', '640.jpg', '373.jpg', '60.jpg', '66.jpg', '1274.jpg', '291.jpg', '356.jpg', '634.jpg', '789.jpg', '668.jpg', '815.jpg', '1303.jpg', '1200.jpg', '153.jpg', '112.jpg', '80.jpg', '629.jpg', '704.jpg', '256.jpg', '311.jpg', '1244.jpg', '71.jpg', '644.jpg', '678.jpg', '694.jpg', '144.jpg', '1194.jpg', '752.jpg', '866.jpg', '1224.jpg', '437.jpg', '390.jpg', '504.jpg', '349.jpg', '1037.jpg', '725.jpg', '1321.jpg', '730.jpg', '749.jpg', '130.jpg', '1255.jpg', '1280.jpg', '1147.jpg', '348.jpg', '456.jpg', '1226.jpg', '976.jpg', '666.jpg', '14.jpg', '1144.jpg', '1195.jpg', '1235.jpg', '635.jpg', '628.jpg', '1081.jpg', '1126.jpg', '500.jpg', '368.jpg', '1292.jpg', '208.jpg', '1080.jpg', '564.jpg', '913.jpg', '1286.jpg', '95.jpg', '1196.jpg', '158.jpg', '367.jpg', '594.jpg', '419.jpg', '1192.jpg', '686.jpg', '1007.jpg', '840.jpg', '919.jpg', '1304.jpg', '920.jpg', '894.jpg', '254.jpg', '1.jpg', '1248.jpg', '245.jpg', '891.jpg', '216.jpg', '450.jpg', '566.jpg', '385.jpg', '1176.jpg', '6.jpg', '580.jpg', '687.jpg', '1115.jpg', '484.jpg', '616.jpg', '268.jpg', '205.jpg', '445.jpg', '786.jpg', '1231.jpg', '542.jpg', '1257.jpg', '1319.jpg', '294.jpg', '820.jpg', '476.jpg', '839.jpg', '531.jpg', '300.jpg', '207.jpg', '1040.jpg', '1048.jpg', '1300.jpg', '597.jpg', '1265.jpg', '188.jpg', '701.jpg', '651.jpg', '1046.jpg', '967.jpg', '1256.jpg', '292.jpg', '778.jpg', '179.jpg', '990.jpg', '464.jpg', '1077.jpg', '1258.jpg', '776.jpg', '760.jpg', '932.jpg', '879.jpg', '648.jpg', '197.jpg', '88.jpg', '21.jpg', '49.jpg', '860.jpg', '645.jpg', '669.jpg', '659.jpg', '530.jpg', '139.jpg', '478.jpg', '287.jpg', '928.jpg', '1212.jpg', '165.jpg', '492.jpg', '852.jpg', '242.jpg', '289.jpg', '386.jpg', '672.jpg', '1228.jpg', '693.jpg', '463.jpg', '643.jpg', '79.jpg', '279.jpg', '1262.jpg', '677.jpg', '1276.jpg', '817.jpg', '361.jpg', '841.jpg', '506.jpg', '235.jpg', '1271.jpg', '795.jpg', '1322.jpg', '201.jpg', '803.jpg', '582.jpg', '170.jpg', '362.jpg', '257.jpg', '421.jpg', '167.jpg', '1098.jpg', '794.jpg', '125.jpg', '716.jpg', '467.jpg', '1209.jpg', '858.jpg', '462.jpg', '1324.jpg', '798.jpg', '900.jpg', '435.jpg', '1000.jpg', '748.jpg', '1106.jpg', '742.jpg', '1164.jpg', '561.jpg', '331.jpg', '418.jpg', '406.jpg', '103.jpg', '655.jpg', '1219.jpg', '989.jpg', '543.jpg', '1008.jpg', '796.jpg', '29.jpg', '459.jpg', '732.jpg', '947.jpg', '610.jpg', '1270.jpg', '938.jpg', '975.jpg', '382.jpg', '312.jpg', '63.jpg', '656.jpg', '1029.jpg', '886.jpg', '434.jpg', '93.jpg', '926.jpg', '45.jpg', '755.jpg', '1072.jpg', '705.jpg', '788.jpg', '968.jpg', '316.jpg', '137.jpg', '1318.jpg', '351.jpg', '473.jpg', '141.jpg', '733.jpg', '984.jpg', '1017.jpg', '1044.jpg', '1014.jpg', '1179.jpg', '1252.jpg', '1030.jpg', '302.jpg', '438.jpg', '1177.jpg', '876.jpg', '1067.jpg', '1210.jpg', '1127.jpg', '915.jpg', '576.jpg', '273.jpg', '1218.jpg', '638.jpg', '804.jpg', '828.jpg', '321.jpg', '1082.jpg', '581.jpg', '422.jpg', '378.jpg', '53.jpg', '724.jpg', '350.jpg', '954.jpg', '391.jpg', '790.jpg', '856.jpg', '157.jpg', '690.jpg', '753.jpg', '323.jpg', '1168.jpg', '3.jpg', '474.jpg', '1135.jpg', '388.jpg', '1287.jpg', '56.jpg', '1148.jpg', '395.jpg', '936.jpg', '214.jpg', '40.jpg', '871.jpg', '1034.jpg', '969.jpg', '995.jpg', '1022.jpg', '572.jpg', '782.jpg', '295.jpg', '76.jpg', '805.jpg', '1023.jpg', '172.jpg', '491.jpg', '698.jpg', '410.jpg', '1297.jpg', '84.jpg', '670.jpg', '1124.jpg', '585.jpg', '119.jpg', '121.jpg', '539.jpg', '91.jpg', '993.jpg', '1113.jpg', '583.jpg', '1186.jpg', '133.jpg', '955.jpg', '117.jpg', '988.jpg', '999.jpg', '176.jpg', '1149.jpg', '1296.jpg', '1019.jpg', '727.jpg', '739.jpg', '1197.jpg', '1247.jpg', '124.jpg', '708.jpg', '607.jpg', '709.jpg', '916.jpg', '1010.jpg', '104.jpg', '962.jpg', '875.jpg', '1132.jpg', '653.jpg', '326.jpg', '762.jpg', '1031.jpg', '327.jpg', '149.jpg', '1125.jpg', '1112.jpg', '981.jpg', '200.jpg', '236.jpg', '630.jpg', '164.jpg', '217.jpg', '400.jpg', '417.jpg', '935.jpg', '154.jpg', '237.jpg', '833.jpg', '218.jpg', '897.jpg', '710.jpg', '893.jpg', '261.jpg', '570.jpg', '1122.jpg', '41.jpg', '403.jpg', '198.jpg', '703.jpg', '979.jpg', '1145.jpg', '642.jpg', '707.jpg', '1283.jpg', '413.jpg', '190.jpg', '759.jpg', '334.jpg', '420.jpg', '59.jpg', '568.jpg', '717.jpg', '692.jpg', '1229.jpg', '963.jpg', '885.jpg', '558.jpg', '626.jpg', '1094.jpg', '844.jpg', '1001.jpg', '909.jpg', '1240.jpg', '238.jpg', '439.jpg', '470.jpg', '288.jpg', '625.jpg', '509.jpg', '712.jpg', '555.jpg', '1004.jpg', '924.jpg', '9.jpg', '1045.jpg', '765.jpg', '1060.jpg', '857.jpg', '32.jpg', '324.jpg', '602.jpg', '136.jpg', '529.jpg', '322.jpg', '764.jpg', '1024.jpg', '239.jpg', '878.jpg', '1032.jpg', '991.jpg', '231.jpg', '660.jpg', '847.jpg', '1003.jpg', '387.jpg', '253.jpg', '838.jpg', '1155.jpg', '574.jpg', '744.jpg', '1093.jpg', '276.jpg', '1306.jpg', '952.jpg', '411.jpg', '225.jpg', '1261.jpg', '285.jpg', '202.jpg', '160.jpg', '428.jpg', '313.jpg', '1311.jpg', '443.jpg', '64.jpg', '972.jpg', '105.jpg', '1121.jpg', '987.jpg', '98.jpg', '880.jpg', '330.jpg', '1205.jpg', '475.jpg', '178.jpg', '126.jpg', '1143.jpg', '78.jpg', '138.jpg', '134.jpg', '485.jpg', '1312.jpg', '25.jpg', '965.jpg', '220.jpg', '432.jpg', '38.jpg', '454.jpg', '821.jpg', '977.jpg', '971.jpg', '347.jpg', '696.jpg', '67.jpg', '689.jpg', '613.jpg', '1131.jpg', '832.jpg', '551.jpg', '384.jpg', '1225.jpg', '1230.jpg', '51.jpg', '958.jpg', '1096.jpg', '540.jpg', '1068.jpg', '592.jpg', '722.jpg', '502.jpg', '70.jpg', '877.jpg', '1025.jpg', '802.jpg', '416.jpg', '219.jpg', '1130.jpg', '612.jpg', '1129.jpg', '82.jpg', '1249.jpg', '99.jpg', '360.jpg', '772.jpg', '342.jpg', '1278.jpg', '333.jpg', '1063.jpg', '397.jpg', '481.jpg', '604.jpg', '777.jpg', '497.jpg', '487.jpg', '766.jpg', '697.jpg', '633.jpg', '489.jpg', '118.jpg', '193.jpg', '1284.jpg', '338.jpg', '426.jpg', '1237.jpg', '15.jpg', '521.jpg', '978.jpg', '614.jpg', '918.jpg', '370.jpg', '745.jpg', '68.jpg', '2.jpg', '113.jpg', '797.jpg', '779.jpg', '501.jpg', '480.jpg', '252.jpg', '427.jpg', '1277.jpg', '980.jpg', '301.jpg', '808.jpg', '1141.jpg', '684.jpg', '140.jpg', '575.jpg', '1242.jpg', '123.jpg', '565.jpg', '966.jpg', '304.jpg', '596.jpg', '452.jpg', '479.jpg', '182.jpg', '658.jpg', '329.jpg', '590.jpg', '1058.jpg', '1323.jpg', '895.jpg', '773.jpg', '372.jpg', '810.jpg', '1137.jpg', '1154.jpg', '1102.jpg', '1173.jpg', '867.jpg', '1114.jpg', '168.jpg', '499.jpg', '1190.jpg', '973.jpg', '319.jpg', '339.jpg', '881.jpg', '234.jpg', '402.jpg', '964.jpg', '598.jpg', '77.jpg', '1260.jpg', '930.jpg', '1157.jpg', '1153.jpg', '512.jpg', '507.jpg', '317.jpg', '223.jpg', '508.jpg', '46.jpg', '1208.jpg', '731.jpg', '96.jpg', '902.jpg', '556.jpg', '1088.jpg', '617.jpg', '181.jpg', '780.jpg', '58.jpg', '911.jpg', '424.jpg', '1087.jpg', '36.jpg', '1041.jpg', '396.jpg', '835.jpg', '899.jpg', '31.jpg', '1206.jpg', '332.jpg', '1215.jpg', '145.jpg', '1170.jpg', '649.jpg', '622.jpg', '683.jpg', '887.jpg', '69.jpg', '228.jpg', '1184.jpg', '297.jpg', '185.jpg', '251.jpg', '1142.jpg', '1035.jpg', '357.jpg', '1071.jpg', '830.jpg', '353.jpg', '685.jpg', '1039.jpg', '814.jpg', '784.jpg', '1251.jpg', '412.jpg', '7.jpg', '1074.jpg', '94.jpg', '282.jpg', '863.jpg', '267.jpg', '129.jpg', '763.jpg', '1107.jpg', '957.jpg', '472.jpg', '713.jpg', '1291.jpg', '284.jpg', '110.jpg', '641.jpg', '601.jpg', '195.jpg', '468.jpg', '1053.jpg', '1275.jpg', '377.jpg', '573.jpg', '774.jpg', '186.jpg', '519.jpg', '1298.jpg', '488.jpg', '85.jpg', '1185.jpg', '318.jpg', '477.jpg', '553.jpg', '57.jpg', '1238.jpg', '43.jpg', '1198.jpg', '940.jpg', '494.jpg', '189.jpg', '538.jpg', '676.jpg', '337.jpg', '823.jpg', '734.jpg', '1156.jpg', '1245.jpg', '173.jpg', '523.jpg', '948.jpg', '854.jpg', '545.jpg', '1217.jpg', '800.jpg', '937.jpg', '869.jpg', '785.jpg', '949.jpg', '229.jpg', '52.jpg', '1097.jpg', '213.jpg', '260.jpg', '401.jpg', '1110.jpg', '901.jpg', '837.jpg', '1299.jpg', '10.jpg', '343.jpg', '328.jpg', '61.jpg', '86.jpg', '1290.jpg', '440.jpg', '950.jpg', '393.jpg', '1033.jpg', '874.jpg', '471.jpg', '546.jpg', '1051.jpg', '528.jpg', '1078.jpg', '843.jpg', '706.jpg', '1307.jpg', '1054.jpg', '853.jpg', '48.jpg', '1100.jpg', '620.jpg', '836.jpg', '340.jpg', '414.jpg', '743.jpg', '131.jpg', '166.jpg', '1199.jpg', '652.jpg', '1316.jpg', '675.jpg', '812.jpg', '455.jpg', '490.jpg', '306.jpg', '1136.jpg', '905.jpg', '799.jpg', '259.jpg', '929.jpg', '1233.jpg', '1152.jpg', '1103.jpg', '618.jpg', '1117.jpg', '394.jpg', '366.jpg', '746.jpg', '1146.jpg', '352.jpg', '399.jpg', '848.jpg', '688.jpg', '39.jpg', '1180.jpg', '961.jpg', '624.jpg', '204.jpg', '423.jpg', '654.jpg', '906.jpg', '215.jpg', '196.jpg', '864.jpg', '559.jpg', '941.jpg', '1042.jpg', '1043.jpg', '1139.jpg', '263.jpg', '1108.jpg', '271.jpg', '811.jpg', '230.jpg', '769.jpg', '527.jpg', '775.jpg', '825.jpg', '1160.jpg', '451.jpg', '516.jpg', '584.jpg', '605.jpg', '711.jpg', '861.jpg', '819.jpg', '16.jpg', '1320.jpg', '447.jpg', '404.jpg', '1302.jpg', '514.jpg', '433.jpg', '1269.jpg', '510.jpg', '408.jpg', '280.jpg', '951.jpg', '23.jpg', '636.jpg', '1057.jpg', '264.jpg', '90.jpg', '662.jpg', '737.jpg', '363.jpg', '97.jpg', '1253.jpg', '262.jpg', '834.jpg', '106.jpg', '258.jpg', '1169.jpg', '889.jpg', '19.jpg', '466.jpg', '191.jpg', '209.jpg', '341.jpg', '1203.jpg', '552.jpg', '272.jpg', '232.jpg', '1134.jpg', '314.jpg', '135.jpg', '770.jpg', '13.jpg', '621.jpg', '457.jpg', '511.jpg', '1266.jpg', '1111.jpg', '526.jpg', '369.jpg', '482.jpg', '222.jpg', '152.jpg', '904.jpg', '888.jpg', '1227.jpg', '665.jpg', '296.jpg', '27.jpg', '54.jpg', '997.jpg', '247.jpg', '532.jpg', '503.jpg', '787.jpg', '855.jpg', '758.jpg', '671.jpg', '194.jpg', '578.jpg', '248.jpg', '646.jpg', '637.jpg', '266.jpg', '1065.jpg', '1273.jpg', '998.jpg', '346.jpg', '959.jpg', '700.jpg', '11.jpg', '873.jpg', '293.jpg', '1163.jpg', '631.jpg', '212.jpg', '927.jpg', '365.jpg', '615.jpg', '4.jpg', '1161.jpg', '1092.jpg', '429.jpg', '548.jpg', '560.jpg', '544.jpg', '241.jpg', '600.jpg', '661.jpg', '757.jpg', '1178.jpg', '1084.jpg', '680.jpg', '380.jpg', '0.jpg', '741.jpg', '946.jpg', '650.jpg', '682.jpg', '1250.jpg', '146.jpg', '1202.jpg', '1285.jpg', '1281.jpg', '768.jpg', '269.jpg', '371.jpg', '1140.jpg', '657.jpg', '174.jpg', '1288.jpg', '1101.jpg', '868.jpg', '1128.jpg', '278.jpg', '187.jpg', '177.jpg', '846.jpg', '226.jpg', '735.jpg', '793.jpg', '379.jpg', '442.jpg', '903.jpg', '44.jpg', '1012.jpg', '1016.jpg', '619.jpg', '1083.jpg', '12.jpg', '155.jpg', '148.jpg', '1006.jpg', '883.jpg', '729.jpg', '536.jpg', '1187.jpg', '161.jpg', '571.jpg', '827.jpg', '277.jpg', '595.jpg', '943.jpg', '845.jpg', '912.jpg', '721.jpg', '81.jpg', '562.jpg', '691.jpg', '1268.jpg', '496.jpg', '850.jpg', '541.jpg', '1119.jpg', '882.jpg', '609.jpg', '28.jpg', '74.jpg', '715.jpg', '890.jpg', '750.jpg', '674.jpg', '224.jpg', '156.jpg', '970.jpg', '1066.jpg', '246.jpg', '255.jpg', '1308.jpg', '1052.jpg', '679.jpg', '960.jpg', '699.jpg']\n",
            "['994.jpg', '262.jpg', '1090.jpg', '362.jpg', '587.jpg', '85.jpg', '1190.jpg', '887.jpg', '276.jpg', '245.jpg', '842.jpg', '284.jpg', '162.jpg', '1205.jpg', '1277.jpg', '680.jpg', '851.jpg', '1137.jpg', '418.jpg', '292.jpg', '194.jpg', '335.jpg', '670.jpg', '537.jpg', '344.jpg', '307.jpg', '848.jpg', '522.jpg', '411.jpg', '205.jpg', '118.jpg', '577.jpg', '414.jpg', '531.jpg', '565.jpg', '1185.jpg', '527.jpg', '932.jpg', '893.jpg', '464.jpg', '1257.jpg', '731.jpg', '1177.jpg', '100.jpg', '333.jpg', '605.jpg', '89.jpg', '504.jpg', '581.jpg', '591.jpg', '962.jpg', '189.jpg', '943.jpg', '800.jpg', '1255.jpg', '1168.jpg', '473.jpg', '247.jpg', '1198.jpg', '523.jpg', '134.jpg', '787.jpg', '460.jpg', '784.jpg', '242.jpg', '1230.jpg', '360.jpg', '356.jpg', '765.jpg', '1042.jpg', '660.jpg', '547.jpg', '304.jpg', '869.jpg', '22.jpg', '290.jpg', '546.jpg', '868.jpg', '529.jpg', '601.jpg', '34.jpg', '1215.jpg', '1239.jpg', '214.jpg', '637.jpg', '13.jpg', '485.jpg', '640.jpg', '1259.jpg', '337.jpg', '651.jpg', '945.jpg', '1080.jpg', '1146.jpg', '941.jpg', '776.jpg', '51.jpg', '837.jpg', '218.jpg', '770.jpg', '334.jpg', '1208.jpg', '543.jpg', '615.jpg', '720.jpg', '160.jpg', '401.jpg', '767.jpg', '393.jpg', '433.jpg', '1007.jpg', '978.jpg', '801.jpg', '412.jpg', '555.jpg', '106.jpg', '1160.jpg', '564.jpg', '173.jpg', '1249.jpg', '763.jpg', '963.jpg', '371.jpg', '261.jpg', '441.jpg', '394.jpg', '352.jpg', '916.jpg', '508.jpg', '518.jpg', '179.jpg', '112.jpg', '1108.jpg', '644.jpg', '1099.jpg', '271.jpg', '1052.jpg', '383.jpg', '925.jpg', '623.jpg', '898.jpg', '964.jpg', '62.jpg', '788.jpg', '361.jpg', '989.jpg', '150.jpg', '437.jpg', '897.jpg', '876.jpg', '908.jpg', '175.jpg', '1159.jpg', '1266.jpg', '277.jpg', '389.jpg', '610.jpg', '804.jpg', '930.jpg', '583.jpg', '318.jpg', '1184.jpg', '813.jpg', '1171.jpg', '572.jpg', '972.jpg', '833.jpg', '633.jpg', '730.jpg', '716.jpg', '1189.jpg', '803.jpg', '229.jpg', '1248.jpg', '252.jpg', '147.jpg', '1265.jpg', '87.jpg', '454.jpg', '169.jpg', '250.jpg', '1047.jpg', '609.jpg', '854.jpg', '614.jpg', '423.jpg', '820.jpg', '61.jpg', '339.jpg', '1040.jpg', '1307.jpg', '1268.jpg', '25.jpg', '993.jpg', '711.jpg', '892.jpg', '724.jpg', '430.jpg', '385.jpg', '1310.jpg', '56.jpg', '457.jpg', '524.jpg', '969.jpg', '53.jpg', '50.jpg', '1083.jpg', '795.jpg', '859.jpg', '183.jpg', '1021.jpg', '786.jpg', '902.jpg', '66.jpg', '785.jpg', '206.jpg', '574.jpg', '913.jpg', '1122.jpg', '308.jpg', '840.jpg', '715.jpg', '1144.jpg', '573.jpg', '315.jpg', '890.jpg', '1082.jpg', '1245.jpg', '940.jpg', '283.jpg', '176.jpg', '832.jpg', '968.jpg', '1061.jpg', '599.jpg', '1286.jpg', '739.jpg', '515.jpg', '236.jpg', '113.jpg', '6.jpg', '882.jpg', '1091.jpg', '1093.jpg', '631.jpg', '129.jpg', '197.jpg', '1232.jpg', '1191.jpg', '37.jpg', '525.jpg', '142.jpg', '221.jpg', '1199.jpg', '655.jpg', '104.jpg', '861.jpg', '19.jpg', '857.jpg', '200.jpg', '164.jpg', '363.jpg', '1210.jpg', '88.jpg', '641.jpg', '1211.jpg', '618.jpg', '91.jpg', '281.jpg', '1068.jpg', '1028.jpg', '1306.jpg', '664.jpg', '939.jpg', '400.jpg', '829.jpg', '81.jpg', '700.jpg', '1048.jpg', '345.jpg', '406.jpg', '1004.jpg', '321.jpg', '998.jpg', '223.jpg', '886.jpg', '563.jpg', '806.jpg', '39.jpg', '1092.jpg', '135.jpg', '526.jpg', '503.jpg', '1174.jpg', '1123.jpg', '1321.jpg', '478.jpg', '1057.jpg', '505.jpg', '550.jpg', '451.jpg', '191.jpg', '217.jpg', '903.jpg', '910.jpg', '1024.jpg', '193.jpg', '907.jpg', '624.jpg', '1157.jpg', '1074.jpg', '130.jpg', '384.jpg', '532.jpg', '459.jpg', '834.jpg', '877.jpg', '212.jpg', '312.jpg', '1002.jpg', '692.jpg', '530.jpg', '20.jpg', '171.jpg', '1201.jpg', '1149.jpg', '42.jpg', '1264.jpg', '107.jpg', '567.jpg', '741.jpg', '181.jpg', '831.jpg', '625.jpg', '864.jpg', '65.jpg', '597.jpg', '635.jpg', '714.jpg', '1161.jpg', '102.jpg', '1076.jpg', '507.jpg', '196.jpg', '790.jpg', '967.jpg', '248.jpg', '901.jpg', '1217.jpg', '78.jpg']\n",
            "['535.jpg', '72.jpg', '75.jpg', '441.jpg', '851.jpg', '549.jpg', '30.jpg', '809.jpg', '567.jpg', '720.jpg', '534.jpg', '310.jpg', '493.jpg', '183.jpg', '522.jpg', '33.jpg', '569.jpg', '109.jpg', '554.jpg', '107.jpg', '62.jpg', '163.jpg', '283.jpg', '87.jpg', '303.jpg', '92.jpg', '147.jpg', '227.jpg', '100.jpg', '344.jpg', '818.jpg', '728.jpg', '667.jpg', '307.jpg', '364.jpg', '518.jpg', '162.jpg', '577.jpg', '34.jpg', '407.jpg', '537.jpg', '761.jpg', '102.jpg', '383.jpg', '249.jpg', '460.jpg', '250.jpg', '354.jpg', '453.jpg', '398.jpg', '206.jpg', '448.jpg', '281.jpg', '26.jpg', '374.jpg', '783.jpg', '18.jpg', '723.jpg', '425.jpg', '806.jpg', '5.jpg', '603.jpg', '513.jpg', '381.jpg', '265.jpg', '171.jpg', '35.jpg', '24.jpg', '606.jpg', '647.jpg', '469.jpg', '274.jpg', '431.jpg', '801.jpg', '639.jpg', '726.jpg', '816.jpg', '781.jpg', '143.jpg', '520.jpg', '299.jpg', '738.jpg', '446.jpg', '358.jpg', '807.jpg', '465.jpg', '415.jpg', '184.jpg', '309.jpg', '55.jpg', '210.jpg', '695.jpg', '83.jpg', '747.jpg', '449.jpg', '151.jpg', '192.jpg', '524.jpg', '111.jpg', '376.jpg', '73.jpg', '115.jpg', '822.jpg', '751.jpg', '298.jpg', '108.jpg', '345.jpg', '623.jpg', '586.jpg', '37.jpg', '159.jpg', '547.jpg', '17.jpg', '756.jpg', '233.jpg', '325.jpg', '8.jpg', '842.jpg', '824.jpg', '663.jpg', '557.jpg', '116.jpg', '826.jpg', '702.jpg', '308.jpg', '579.jpg', '89.jpg', '127.jpg', '335.jpg', '275.jpg', '315.jpg', '719.jpg', '355.jpg', '563.jpg', '22.jpg', '486.jpg', '150.jpg', '495.jpg', '461.jpg', '498.jpg', '593.jpg', '792.jpg', '813.jpg', '829.jpg', '550.jpg', '483.jpg', '405.jpg', '114.jpg', '587.jpg', '47.jpg', '392.jpg', '791.jpg', '591.jpg', '444.jpg', '320.jpg', '627.jpg', '244.jpg', '430.jpg', '211.jpg', '458.jpg', '589.jpg', '767.jpg', '608.jpg', '359.jpg', '771.jpg', '409.jpg', '525.jpg', '132.jpg', '736.jpg', '515.jpg', '336.jpg', '611.jpg', '270.jpg', '849.jpg', '240.jpg', '286.jpg', '673.jpg', '101.jpg', '681.jpg', '169.jpg', '120.jpg', '664.jpg', '831.jpg', '740.jpg', '199.jpg', '436.jpg', '588.jpg', '533.jpg', '718.jpg', '122.jpg', '517.jpg', '714.jpg', '599.jpg', '20.jpg', '50.jpg', '42.jpg', '65.jpg', '305.jpg', '505.jpg', '632.jpg', '290.jpg', '180.jpg', '203.jpg', '754.jpg', '243.jpg', '128.jpg', '221.jpg', '175.jpg', '375.jpg', '389.jpg', '142.jpg', '640.jpg', '373.jpg', '60.jpg', '66.jpg', '291.jpg', '356.jpg', '634.jpg', '789.jpg', '668.jpg', '815.jpg', '153.jpg', '112.jpg', '80.jpg', '629.jpg', '704.jpg', '256.jpg', '311.jpg', '71.jpg', '644.jpg', '678.jpg', '694.jpg', '144.jpg', '752.jpg', '437.jpg', '390.jpg', '504.jpg', '349.jpg', '725.jpg', '730.jpg', '749.jpg', '130.jpg', '348.jpg', '456.jpg', '666.jpg', '14.jpg', '635.jpg', '628.jpg', '500.jpg', '368.jpg', '208.jpg', '564.jpg', '95.jpg', '158.jpg', '367.jpg', '594.jpg', '419.jpg', '686.jpg', '840.jpg', '254.jpg', '1.jpg', '245.jpg', '216.jpg', '450.jpg', '566.jpg', '385.jpg', '6.jpg', '580.jpg', '687.jpg', '484.jpg', '616.jpg', '268.jpg', '205.jpg', '445.jpg', '786.jpg', '542.jpg', '294.jpg', '820.jpg', '476.jpg', '839.jpg', '531.jpg', '300.jpg', '207.jpg', '597.jpg', '188.jpg', '701.jpg', '651.jpg', '292.jpg', '778.jpg', '179.jpg', '464.jpg', '776.jpg', '760.jpg', '648.jpg', '197.jpg', '88.jpg', '21.jpg', '49.jpg', '645.jpg', '669.jpg', '659.jpg', '530.jpg', '139.jpg', '478.jpg', '287.jpg', '165.jpg', '492.jpg', '852.jpg', '242.jpg', '289.jpg', '386.jpg', '672.jpg', '693.jpg', '463.jpg', '643.jpg', '79.jpg', '279.jpg', '677.jpg', '817.jpg', '361.jpg', '841.jpg', '506.jpg', '235.jpg', '795.jpg', '201.jpg', '803.jpg', '582.jpg', '170.jpg', '362.jpg', '257.jpg', '421.jpg', '167.jpg', '794.jpg', '125.jpg', '716.jpg', '467.jpg', '462.jpg', '798.jpg', '435.jpg', '748.jpg', '742.jpg', '561.jpg', '331.jpg', '418.jpg', '406.jpg', '103.jpg', '655.jpg', '543.jpg', '796.jpg', '29.jpg', '459.jpg', '732.jpg', '610.jpg', '382.jpg', '312.jpg', '63.jpg', '656.jpg', '434.jpg', '93.jpg', '45.jpg', '755.jpg', '705.jpg', '788.jpg', '316.jpg', '137.jpg', '351.jpg', '473.jpg', '141.jpg', '733.jpg', '302.jpg', '438.jpg', '576.jpg', '273.jpg', '638.jpg', '804.jpg', '828.jpg', '321.jpg', '581.jpg', '422.jpg', '378.jpg', '53.jpg', '724.jpg', '350.jpg', '391.jpg', '790.jpg', '157.jpg', '690.jpg', '753.jpg', '323.jpg', '3.jpg', '474.jpg', '388.jpg', '56.jpg', '395.jpg', '214.jpg', '40.jpg', '572.jpg', '782.jpg', '295.jpg', '76.jpg', '805.jpg', '172.jpg', '491.jpg', '698.jpg', '410.jpg', '84.jpg', '670.jpg', '585.jpg', '119.jpg', '121.jpg', '539.jpg', '91.jpg', '583.jpg', '133.jpg', '117.jpg', '176.jpg', '727.jpg', '739.jpg', '124.jpg', '708.jpg', '607.jpg', '709.jpg', '104.jpg', '653.jpg', '326.jpg', '762.jpg', '327.jpg', '149.jpg', '200.jpg', '236.jpg', '630.jpg', '164.jpg', '217.jpg', '400.jpg', '417.jpg', '154.jpg', '237.jpg', '833.jpg', '218.jpg', '710.jpg', '261.jpg', '570.jpg', '41.jpg', '403.jpg', '198.jpg', '703.jpg', '642.jpg', '707.jpg', '413.jpg', '190.jpg', '759.jpg', '334.jpg', '420.jpg', '59.jpg', '568.jpg', '717.jpg', '692.jpg', '558.jpg', '626.jpg', '844.jpg', '238.jpg', '439.jpg', '470.jpg', '288.jpg', '625.jpg', '509.jpg', '712.jpg', '555.jpg', '9.jpg', '765.jpg', '32.jpg', '324.jpg', '602.jpg', '136.jpg', '529.jpg', '322.jpg', '764.jpg', '239.jpg', '231.jpg', '660.jpg', '847.jpg', '387.jpg', '253.jpg', '838.jpg', '574.jpg', '744.jpg', '276.jpg', '411.jpg', '225.jpg', '285.jpg', '202.jpg', '160.jpg', '428.jpg', '313.jpg', '443.jpg', '64.jpg', '105.jpg', '98.jpg', '330.jpg', '475.jpg', '178.jpg', '126.jpg', '78.jpg', '138.jpg', '134.jpg', '485.jpg', '25.jpg', '220.jpg', '432.jpg', '38.jpg', '454.jpg', '821.jpg', '347.jpg', '696.jpg', '67.jpg', '689.jpg', '613.jpg', '832.jpg', '551.jpg', '384.jpg', '51.jpg', '540.jpg', '592.jpg', '722.jpg', '502.jpg', '70.jpg', '802.jpg', '416.jpg', '219.jpg', '612.jpg', '82.jpg', '99.jpg', '360.jpg', '772.jpg', '342.jpg', '333.jpg', '397.jpg', '481.jpg', '604.jpg', '777.jpg', '497.jpg', '487.jpg', '766.jpg', '697.jpg', '633.jpg', '489.jpg', '118.jpg', '193.jpg', '338.jpg', '426.jpg', '15.jpg', '521.jpg', '614.jpg', '370.jpg', '745.jpg', '68.jpg', '2.jpg', '113.jpg', '797.jpg', '779.jpg', '501.jpg', '480.jpg', '252.jpg', '427.jpg', '301.jpg', '808.jpg', '684.jpg', '140.jpg', '575.jpg', '123.jpg', '565.jpg', '304.jpg', '596.jpg', '452.jpg', '479.jpg', '182.jpg', '658.jpg', '329.jpg', '590.jpg', '773.jpg', '372.jpg', '810.jpg', '168.jpg', '499.jpg', '319.jpg', '339.jpg', '234.jpg', '402.jpg', '598.jpg', '77.jpg', '512.jpg', '507.jpg', '317.jpg', '223.jpg', '508.jpg', '46.jpg', '731.jpg', '96.jpg', '556.jpg', '617.jpg', '181.jpg', '780.jpg', '58.jpg', '424.jpg', '36.jpg', '396.jpg', '835.jpg', '31.jpg', '332.jpg', '145.jpg', '649.jpg', '622.jpg', '683.jpg', '69.jpg', '228.jpg', '297.jpg', '185.jpg', '251.jpg', '357.jpg', '830.jpg', '353.jpg', '685.jpg', '814.jpg', '784.jpg', '412.jpg', '7.jpg', '94.jpg', '282.jpg', '267.jpg', '129.jpg', '763.jpg', '472.jpg', '713.jpg', '284.jpg', '110.jpg', '641.jpg', '601.jpg', '195.jpg', '468.jpg', '377.jpg', '573.jpg', '774.jpg', '186.jpg', '519.jpg', '488.jpg', '85.jpg', '318.jpg', '477.jpg', '553.jpg', '57.jpg', '43.jpg', '494.jpg', '189.jpg', '538.jpg', '676.jpg', '337.jpg', '823.jpg', '734.jpg', '173.jpg', '523.jpg', '854.jpg', '545.jpg', '800.jpg', '785.jpg', '229.jpg', '52.jpg', '213.jpg', '260.jpg', '401.jpg', '837.jpg', '10.jpg', '343.jpg', '328.jpg', '61.jpg', '86.jpg', '440.jpg', '393.jpg', '471.jpg', '546.jpg', '528.jpg', '843.jpg', '706.jpg', '853.jpg', '48.jpg', '620.jpg', '836.jpg', '340.jpg', '414.jpg', '743.jpg', '131.jpg', '166.jpg', '652.jpg', '675.jpg', '812.jpg', '455.jpg', '490.jpg', '306.jpg', '799.jpg', '259.jpg', '618.jpg', '394.jpg', '366.jpg', '746.jpg', '352.jpg', '399.jpg', '848.jpg', '688.jpg', '39.jpg', '624.jpg', '204.jpg', '423.jpg', '654.jpg', '215.jpg', '196.jpg', '559.jpg', '263.jpg', '271.jpg', '811.jpg', '230.jpg', '769.jpg', '527.jpg', '775.jpg', '825.jpg', '451.jpg', '516.jpg', '584.jpg', '605.jpg', '711.jpg', '819.jpg', '16.jpg', '447.jpg', '404.jpg', '514.jpg', '433.jpg', '510.jpg', '408.jpg', '280.jpg', '23.jpg', '636.jpg', '264.jpg', '90.jpg', '662.jpg', '737.jpg', '363.jpg', '97.jpg', '262.jpg', '834.jpg', '106.jpg', '258.jpg', '19.jpg', '466.jpg', '191.jpg', '209.jpg', '341.jpg', '552.jpg', '272.jpg', '232.jpg', '314.jpg', '135.jpg', '770.jpg', '13.jpg', '621.jpg', '457.jpg', '511.jpg', '526.jpg', '369.jpg', '482.jpg', '222.jpg', '152.jpg', '665.jpg', '296.jpg', '27.jpg', '54.jpg', '247.jpg', '532.jpg', '503.jpg', '787.jpg', '758.jpg', '671.jpg', '194.jpg', '578.jpg', '248.jpg', '646.jpg', '637.jpg', '266.jpg', '346.jpg', '700.jpg', '11.jpg', '293.jpg', '631.jpg', '212.jpg', '365.jpg', '615.jpg', '4.jpg', '429.jpg', '548.jpg', '560.jpg', '544.jpg', '241.jpg', '600.jpg', '661.jpg', '757.jpg', '680.jpg', '380.jpg', '0.jpg', '741.jpg', '650.jpg', '682.jpg', '146.jpg', '768.jpg', '269.jpg', '371.jpg', '657.jpg', '174.jpg', '278.jpg', '187.jpg', '177.jpg', '846.jpg', '226.jpg', '735.jpg', '793.jpg', '379.jpg', '442.jpg', '44.jpg', '619.jpg', '12.jpg', '155.jpg', '148.jpg', '729.jpg', '536.jpg', '161.jpg', '571.jpg', '827.jpg', '277.jpg', '595.jpg', '845.jpg', '721.jpg', '81.jpg', '562.jpg', '691.jpg', '496.jpg', '850.jpg', '541.jpg', '609.jpg', '28.jpg', '74.jpg', '715.jpg', '750.jpg', '674.jpg', '224.jpg', '156.jpg', '246.jpg', '255.jpg', '679.jpg', '699.jpg']\n",
            "['495.jpg', '168.jpg', '379.jpg', '646.jpg', '265.jpg', '245.jpg', '557.jpg', '220.jpg', '194.jpg', '238.jpg', '838.jpg', '260.jpg', '323.jpg', '682.jpg', '66.jpg', '192.jpg', '475.jpg', '344.jpg', '76.jpg', '403.jpg', '814.jpg', '578.jpg', '346.jpg', '75.jpg', '215.jpg', '692.jpg', '205.jpg', '636.jpg', '255.jpg', '437.jpg', '396.jpg', '298.jpg', '803.jpg', '728.jpg', '283.jpg', '147.jpg', '52.jpg', '745.jpg', '720.jpg', '474.jpg', '746.jpg', '153.jpg', '217.jpg', '363.jpg', '81.jpg', '497.jpg', '311.jpg', '246.jpg', '413.jpg', '750.jpg', '684.jpg', '725.jpg', '382.jpg', '504.jpg', '812.jpg', '629.jpg', '715.jpg', '32.jpg', '21.jpg', '793.jpg', '327.jpg', '123.jpg', '734.jpg', '822.jpg', '517.jpg', '488.jpg', '662.jpg', '478.jpg', '702.jpg', '13.jpg', '742.jpg', '148.jpg', '819.jpg', '347.jpg', '657.jpg', '384.jpg', '340.jpg', '50.jpg', '386.jpg', '464.jpg', '780.jpg', '821.jpg', '832.jpg', '491.jpg', '424.jpg', '518.jpg', '160.jpg', '500.jpg', '621.jpg', '133.jpg', '326.jpg', '843.jpg', '101.jpg', '828.jpg', '480.jpg', '769.jpg', '166.jpg', '272.jpg', '391.jpg', '309.jpg', '190.jpg', '528.jpg', '51.jpg', '159.jpg', '132.jpg', '772.jpg', '27.jpg', '378.jpg', '126.jpg', '818.jpg', '847.jpg', '249.jpg', '79.jpg', '527.jpg', '129.jpg', '31.jpg', '317.jpg', '698.jpg', '800.jpg', '240.jpg', '270.jpg', '67.jpg', '144.jpg', '493.jpg', '243.jpg', '614.jpg', '827.jpg', '349.jpg', '117.jpg', '802.jpg', '610.jpg', '507.jpg', '705.jpg', '544.jpg', '542.jpg', '440.jpg', '850.jpg', '784.jpg', '549.jpg', '56.jpg', '502.jpg', '355.jpg', '99.jpg', '479.jpg', '142.jpg', '237.jpg', '723.jpg', '428.jpg', '638.jpg', '499.jpg', '140.jpg', '447.jpg', '613.jpg', '653.jpg', '105.jpg', '351.jpg', '526.jpg', '312.jpg', '72.jpg', '521.jpg', '370.jpg', '468.jpg', '282.jpg', '748.jpg', '765.jpg', '228.jpg', '100.jpg', '390.jpg', '43.jpg', '664.jpg', '427.jpg', '556.jpg', '436.jpg', '747.jpg', '301.jpg', '224.jpg', '307.jpg', '431.jpg', '465.jpg', '109.jpg', '288.jpg', '522.jpg', '292.jpg', '594.jpg', '293.jpg', '17.jpg', '377.jpg', '122.jpg', '516.jpg', '49.jpg', '274.jpg', '611.jpg', '359.jpg', '341.jpg', '768.jpg', '510.jpg', '839.jpg', '530.jpg', '509.jpg', '257.jpg', '432.jpg', '744.jpg', '8.jpg', '303.jpg', '361.jpg', '40.jpg', '732.jpg', '164.jpg', '599.jpg', '566.jpg', '547.jpg', '254.jpg', '592.jpg', '496.jpg', '353.jpg', '41.jpg', '163.jpg', '678.jpg', '554.jpg', '670.jpg', '47.jpg', '162.jpg', '771.jpg', '536.jpg', '551.jpg', '204.jpg', '113.jpg', '704.jpg', '219.jpg', '439.jpg', '71.jpg', '397.jpg', '155.jpg', '410.jpg', '77.jpg', '362.jpg', '90.jpg', '5.jpg', '165.jpg', '335.jpg', '634.jpg', '453.jpg', '463.jpg', '471.jpg', '143.jpg', '677.jpg', '185.jpg', '608.jpg', '429.jpg', '590.jpg', '840.jpg', '563.jpg', '567.jpg', '654.jpg', '34.jpg', '112.jpg', '848.jpg', '324.jpg', '286.jpg', '540.jpg', '181.jpg', '753.jpg', '128.jpg', '63.jpg', '115.jpg', '423.jpg', '402.jpg', '845.jpg', '505.jpg', '134.jpg', '345.jpg', '721.jpg', '11.jpg', '278.jpg', '247.jpg', '770.jpg', '125.jpg', '91.jpg', '778.jpg', '601.jpg', '589.jpg', '637.jpg', '467.jpg', '461.jpg', '543.jpg', '710.jpg', '789.jpg', '729.jpg', '111.jpg', '541.jpg', '501.jpg', '213.jpg', '193.jpg', '394.jpg', '489.jpg', '749.jpg', '35.jpg', '761.jpg', '415.jpg', '150.jpg', '849.jpg', '336.jpg', '490.jpg', '575.jpg', '786.jpg', '266.jpg', '763.jpg', '545.jpg', '321.jpg', '655.jpg', '796.jpg', '189.jpg', '645.jpg', '779.jpg', '178.jpg', '304.jpg', '319.jpg', '830.jpg', '537.jpg', '727.jpg', '639.jpg', '3.jpg', '392.jpg', '297.jpg', '29.jpg', '842.jpg', '223.jpg', '649.jpg', '644.jpg', '358.jpg', '445.jpg', '688.jpg', '139.jpg', '612.jpg', '9.jpg', '597.jpg', '191.jpg', '250.jpg', '186.jpg', '404.jpg', '61.jpg', '706.jpg', '366.jpg', '46.jpg', '104.jpg', '59.jpg', '685.jpg', '62.jpg', '691.jpg', '826.jpg']\n",
            "['535.jpg', '72.jpg', '75.jpg', '441.jpg', '549.jpg', '30.jpg', '567.jpg', '534.jpg', '310.jpg', '493.jpg', '183.jpg', '522.jpg', '33.jpg', '569.jpg', '109.jpg', '554.jpg', '107.jpg', '62.jpg', '163.jpg', '283.jpg', '87.jpg', '303.jpg', '92.jpg', '147.jpg', '227.jpg', '100.jpg', '344.jpg', '667.jpg', '307.jpg', '364.jpg', '518.jpg', '162.jpg', '577.jpg', '34.jpg', '407.jpg', '537.jpg', '102.jpg', '383.jpg', '249.jpg', '460.jpg', '250.jpg', '354.jpg', '453.jpg', '398.jpg', '206.jpg', '448.jpg', '281.jpg', '26.jpg', '374.jpg', '18.jpg', '425.jpg', '5.jpg', '603.jpg', '513.jpg', '381.jpg', '265.jpg', '171.jpg', '35.jpg', '24.jpg', '606.jpg', '647.jpg', '469.jpg', '274.jpg', '431.jpg', '639.jpg', '143.jpg', '520.jpg', '299.jpg', '446.jpg', '358.jpg', '465.jpg', '415.jpg', '184.jpg', '309.jpg', '55.jpg', '210.jpg', '695.jpg', '83.jpg', '449.jpg', '151.jpg', '192.jpg', '524.jpg', '111.jpg', '376.jpg', '73.jpg', '115.jpg', '298.jpg', '108.jpg', '345.jpg', '623.jpg', '586.jpg', '37.jpg', '159.jpg', '547.jpg', '17.jpg', '233.jpg', '325.jpg', '8.jpg', '663.jpg', '557.jpg', '116.jpg', '702.jpg', '308.jpg', '579.jpg', '89.jpg', '127.jpg', '335.jpg', '275.jpg', '315.jpg', '355.jpg', '563.jpg', '22.jpg', '486.jpg', '150.jpg', '495.jpg', '461.jpg', '498.jpg', '593.jpg', '550.jpg', '483.jpg', '405.jpg', '114.jpg', '587.jpg', '47.jpg', '392.jpg', '591.jpg', '444.jpg', '320.jpg', '627.jpg', '244.jpg', '430.jpg', '211.jpg', '458.jpg', '589.jpg', '608.jpg', '359.jpg', '409.jpg', '525.jpg', '132.jpg', '515.jpg', '336.jpg', '611.jpg', '270.jpg', '240.jpg', '286.jpg', '673.jpg', '101.jpg', '681.jpg', '169.jpg', '120.jpg', '664.jpg', '199.jpg', '436.jpg', '588.jpg', '533.jpg', '122.jpg', '517.jpg', '599.jpg', '20.jpg', '50.jpg', '42.jpg', '65.jpg', '305.jpg', '505.jpg', '632.jpg', '290.jpg', '180.jpg', '203.jpg', '243.jpg', '128.jpg', '221.jpg', '175.jpg', '375.jpg', '389.jpg', '142.jpg', '640.jpg', '373.jpg', '60.jpg', '66.jpg', '291.jpg', '356.jpg', '634.jpg', '668.jpg', '153.jpg', '112.jpg', '80.jpg', '629.jpg', '704.jpg', '256.jpg', '311.jpg', '71.jpg', '644.jpg', '678.jpg', '694.jpg', '144.jpg', '437.jpg', '390.jpg', '504.jpg', '349.jpg', '130.jpg', '348.jpg', '456.jpg', '666.jpg', '14.jpg', '635.jpg', '628.jpg', '500.jpg', '368.jpg', '208.jpg', '564.jpg', '95.jpg', '158.jpg', '367.jpg', '594.jpg', '419.jpg', '686.jpg', '254.jpg', '1.jpg', '245.jpg', '216.jpg', '450.jpg', '566.jpg', '385.jpg', '6.jpg', '580.jpg', '687.jpg', '484.jpg', '616.jpg', '268.jpg', '205.jpg', '445.jpg', '542.jpg', '294.jpg', '476.jpg', '531.jpg', '300.jpg', '207.jpg', '597.jpg', '188.jpg', '701.jpg', '651.jpg', '292.jpg', '179.jpg', '464.jpg', '648.jpg', '197.jpg', '88.jpg', '21.jpg', '49.jpg', '645.jpg', '669.jpg', '659.jpg', '530.jpg', '139.jpg', '478.jpg', '287.jpg', '165.jpg', '492.jpg', '242.jpg', '289.jpg', '386.jpg', '672.jpg', '693.jpg', '463.jpg', '643.jpg', '79.jpg', '279.jpg', '677.jpg', '361.jpg', '506.jpg', '235.jpg', '201.jpg', '582.jpg', '170.jpg', '362.jpg', '257.jpg', '421.jpg', '167.jpg', '125.jpg', '467.jpg', '462.jpg', '435.jpg', '561.jpg', '331.jpg', '418.jpg', '406.jpg', '103.jpg', '655.jpg', '543.jpg', '29.jpg', '459.jpg', '610.jpg', '382.jpg', '312.jpg', '63.jpg', '656.jpg', '434.jpg', '93.jpg', '45.jpg', '705.jpg', '316.jpg', '137.jpg', '351.jpg', '473.jpg', '141.jpg', '302.jpg', '438.jpg', '576.jpg', '273.jpg', '638.jpg', '321.jpg', '581.jpg', '422.jpg', '378.jpg', '53.jpg', '350.jpg', '391.jpg', '157.jpg', '690.jpg', '323.jpg', '3.jpg', '474.jpg', '388.jpg', '56.jpg', '395.jpg', '214.jpg', '40.jpg', '572.jpg', '295.jpg', '76.jpg', '172.jpg', '491.jpg', '698.jpg', '410.jpg', '84.jpg', '670.jpg', '585.jpg', '119.jpg', '121.jpg', '539.jpg', '91.jpg', '583.jpg', '133.jpg', '117.jpg', '176.jpg', '124.jpg', '708.jpg', '607.jpg', '104.jpg', '653.jpg', '326.jpg', '327.jpg', '149.jpg', '200.jpg', '236.jpg', '630.jpg', '164.jpg', '217.jpg', '400.jpg', '417.jpg', '154.jpg', '237.jpg', '218.jpg', '261.jpg', '570.jpg', '41.jpg', '403.jpg', '198.jpg', '703.jpg', '642.jpg', '707.jpg', '413.jpg', '190.jpg', '334.jpg', '420.jpg', '59.jpg', '568.jpg', '692.jpg', '558.jpg', '626.jpg', '238.jpg', '439.jpg', '470.jpg', '288.jpg', '625.jpg', '509.jpg', '555.jpg', '9.jpg', '32.jpg', '324.jpg', '602.jpg', '136.jpg', '529.jpg', '322.jpg', '239.jpg', '231.jpg', '660.jpg', '387.jpg', '253.jpg', '574.jpg', '276.jpg', '411.jpg', '225.jpg', '285.jpg', '202.jpg', '160.jpg', '428.jpg', '313.jpg', '443.jpg', '64.jpg', '105.jpg', '98.jpg', '330.jpg', '475.jpg', '178.jpg', '126.jpg', '78.jpg', '138.jpg', '134.jpg', '485.jpg', '25.jpg', '220.jpg', '432.jpg', '38.jpg', '454.jpg', '347.jpg', '696.jpg', '67.jpg', '689.jpg', '613.jpg', '551.jpg', '384.jpg', '51.jpg', '540.jpg', '592.jpg', '502.jpg', '70.jpg', '416.jpg', '219.jpg', '612.jpg', '82.jpg', '99.jpg', '360.jpg', '342.jpg', '333.jpg', '397.jpg', '481.jpg', '604.jpg', '497.jpg', '487.jpg', '697.jpg', '633.jpg', '489.jpg', '118.jpg', '193.jpg', '338.jpg', '426.jpg', '15.jpg', '521.jpg', '614.jpg', '370.jpg', '68.jpg', '2.jpg', '113.jpg', '501.jpg', '480.jpg', '252.jpg', '427.jpg', '301.jpg', '684.jpg', '140.jpg', '575.jpg', '123.jpg', '565.jpg', '304.jpg', '596.jpg', '452.jpg', '479.jpg', '182.jpg', '658.jpg', '329.jpg', '590.jpg', '372.jpg', '168.jpg', '499.jpg', '319.jpg', '339.jpg', '234.jpg', '402.jpg', '598.jpg', '77.jpg', '512.jpg', '507.jpg', '317.jpg', '223.jpg', '508.jpg', '46.jpg', '96.jpg', '556.jpg', '617.jpg', '181.jpg', '58.jpg', '424.jpg', '36.jpg', '396.jpg', '31.jpg', '332.jpg', '145.jpg', '649.jpg', '622.jpg', '683.jpg', '69.jpg', '228.jpg', '297.jpg', '185.jpg', '251.jpg', '357.jpg', '353.jpg', '685.jpg', '412.jpg', '7.jpg', '94.jpg', '282.jpg', '267.jpg', '129.jpg', '472.jpg', '284.jpg', '110.jpg', '641.jpg', '601.jpg', '195.jpg', '468.jpg', '377.jpg', '573.jpg', '186.jpg', '519.jpg', '488.jpg', '85.jpg', '318.jpg', '477.jpg', '553.jpg', '57.jpg', '43.jpg', '494.jpg', '189.jpg', '538.jpg', '676.jpg', '337.jpg', '173.jpg', '523.jpg', '545.jpg', '229.jpg', '52.jpg', '213.jpg', '260.jpg', '401.jpg', '10.jpg', '343.jpg', '328.jpg', '61.jpg', '86.jpg', '440.jpg', '393.jpg', '471.jpg', '546.jpg', '528.jpg', '706.jpg', '48.jpg', '620.jpg', '340.jpg', '414.jpg', '131.jpg', '166.jpg', '652.jpg', '675.jpg', '455.jpg', '490.jpg', '306.jpg', '259.jpg', '618.jpg', '394.jpg', '366.jpg', '352.jpg', '399.jpg', '688.jpg', '39.jpg', '624.jpg', '204.jpg', '423.jpg', '654.jpg', '215.jpg', '196.jpg', '559.jpg', '263.jpg', '271.jpg', '230.jpg', '527.jpg', '451.jpg', '516.jpg', '584.jpg', '605.jpg', '16.jpg', '447.jpg', '404.jpg', '514.jpg', '433.jpg', '510.jpg', '408.jpg', '280.jpg', '23.jpg', '636.jpg', '264.jpg', '90.jpg', '662.jpg', '363.jpg', '97.jpg', '262.jpg', '106.jpg', '258.jpg', '19.jpg', '466.jpg', '191.jpg', '209.jpg', '341.jpg', '552.jpg', '272.jpg', '232.jpg', '314.jpg', '135.jpg', '13.jpg', '621.jpg', '457.jpg', '511.jpg', '526.jpg', '369.jpg', '482.jpg', '222.jpg', '152.jpg', '665.jpg', '296.jpg', '27.jpg', '54.jpg', '247.jpg', '532.jpg', '503.jpg', '671.jpg', '194.jpg', '578.jpg', '248.jpg', '646.jpg', '637.jpg', '266.jpg', '346.jpg', '700.jpg', '11.jpg', '293.jpg', '631.jpg', '212.jpg', '365.jpg', '615.jpg', '4.jpg', '429.jpg', '548.jpg', '560.jpg', '544.jpg', '241.jpg', '600.jpg', '661.jpg', '680.jpg', '380.jpg', '0.jpg', '650.jpg', '682.jpg', '146.jpg', '269.jpg', '371.jpg', '657.jpg', '174.jpg', '278.jpg', '187.jpg', '177.jpg', '226.jpg', '379.jpg', '442.jpg', '44.jpg', '619.jpg', '12.jpg', '155.jpg', '148.jpg', '536.jpg', '161.jpg', '571.jpg', '277.jpg', '595.jpg', '81.jpg', '562.jpg', '691.jpg', '496.jpg', '541.jpg', '609.jpg', '28.jpg', '74.jpg', '674.jpg', '224.jpg', '156.jpg', '246.jpg', '255.jpg', '679.jpg', '699.jpg']\n",
            "['525.jpg', '352.jpg', '639.jpg', '672.jpg', '405.jpg', '145.jpg', '370.jpg', '168.jpg', '661.jpg', '32.jpg', '419.jpg', '325.jpg', '617.jpg', '364.jpg', '574.jpg', '342.jpg', '209.jpg', '75.jpg', '426.jpg', '582.jpg', '531.jpg', '433.jpg', '89.jpg', '214.jpg', '162.jpg', '92.jpg', '344.jpg', '241.jpg', '260.jpg', '493.jpg', '602.jpg', '566.jpg', '51.jpg', '562.jpg', '553.jpg', '616.jpg', '497.jpg', '224.jpg', '706.jpg', '188.jpg', '200.jpg', '207.jpg', '580.jpg', '140.jpg', '434.jpg', '442.jpg', '696.jpg', '340.jpg', '212.jpg', '308.jpg', '71.jpg', '503.jpg', '473.jpg', '47.jpg', '91.jpg', '228.jpg', '657.jpg', '412.jpg', '144.jpg', '321.jpg', '459.jpg', '16.jpg', '69.jpg', '353.jpg', '225.jpg', '404.jpg', '537.jpg', '512.jpg', '49.jpg', '475.jpg', '454.jpg', '60.jpg', '59.jpg', '440.jpg', '288.jpg', '345.jpg', '487.jpg', '7.jpg', '563.jpg', '203.jpg', '573.jpg', '4.jpg', '626.jpg', '58.jpg', '518.jpg', '329.jpg', '206.jpg', '350.jpg', '408.jpg', '559.jpg', '285.jpg', '142.jpg', '375.jpg', '185.jpg', '294.jpg', '33.jpg', '635.jpg', '52.jpg', '482.jpg', '597.jpg', '178.jpg', '284.jpg', '149.jpg', '196.jpg', '237.jpg', '226.jpg', '257.jpg', '636.jpg', '30.jpg', '529.jpg', '129.jpg', '458.jpg', '468.jpg', '675.jpg', '95.jpg', '70.jpg', '35.jpg', '507.jpg', '334.jpg', '399.jpg', '48.jpg', '90.jpg', '357.jpg', '38.jpg', '46.jpg', '41.jpg', '665.jpg', '236.jpg', '72.jpg', '229.jpg', '213.jpg', '539.jpg', '684.jpg', '307.jpg', '300.jpg', '634.jpg', '471.jpg', '80.jpg', '547.jpg', '546.jpg', '246.jpg', '34.jpg', '184.jpg', '115.jpg', '62.jpg', '113.jpg', '109.jpg', '655.jpg', '287.jpg', '447.jpg', '486.jpg', '311.jpg', '510.jpg', '93.jpg', '415.jpg', '175.jpg', '505.jpg', '620.jpg', '269.jpg', '262.jpg', '467.jpg', '137.jpg', '480.jpg', '76.jpg', '649.jpg', '319.jpg', '498.jpg', '227.jpg', '323.jpg', '231.jpg', '327.jpg', '384.jpg', '678.jpg', '643.jpg', '22.jpg', '289.jpg', '282.jpg', '541.jpg', '360.jpg', '303.jpg', '445.jpg', '163.jpg', '428.jpg', '120.jpg', '102.jpg', '632.jpg', '161.jpg', '685.jpg', '263.jpg', '687.jpg', '68.jpg', '268.jpg', '44.jpg', '202.jpg', '295.jpg', '457.jpg', '647.jpg', '302.jpg', '255.jpg', '508.jpg', '315.jpg', '682.jpg', '57.jpg', '517.jpg', '516.jpg', '612.jpg', '460.jpg', '20.jpg', '490.jpg', '341.jpg', '436.jpg', '238.jpg', '524.jpg', '594.jpg', '29.jpg', '244.jpg', '520.jpg', '549.jpg', '578.jpg', '511.jpg', '502.jpg', '283.jpg', '351.jpg', '485.jpg', '186.jpg', '94.jpg', '610.jpg', '230.jpg', '108.jpg', '39.jpg', '333.jpg', '397.jpg', '81.jpg', '154.jpg', '690.jpg', '386.jpg', '234.jpg', '694.jpg', '615.jpg', '152.jpg', '425.jpg', '127.jpg', '312.jpg', '124.jpg', '614.jpg', '174.jpg', '339.jpg', '557.jpg', '530.jpg', '513.jpg', '11.jpg', '130.jpg', '199.jpg', '242.jpg', '86.jpg', '310.jpg', '180.jpg', '378.jpg', '481.jpg', '628.jpg', '286.jpg', '187.jpg', '192.jpg', '532.jpg', '36.jpg', '13.jpg', '126.jpg', '543.jpg', '276.jpg', '358.jpg', '389.jpg', '216.jpg', '355.jpg', '409.jpg', '676.jpg', '18.jpg', '689.jpg', '637.jpg', '462.jpg', '373.jpg', '346.jpg', '318.jpg', '170.jpg', '27.jpg', '322.jpg', '536.jpg', '156.jpg', '423.jpg', '413.jpg', '87.jpg', '398.jpg', '446.jpg', '298.jpg', '528.jpg', '61.jpg', '297.jpg', '699.jpg', '609.jpg', '221.jpg', '576.jpg', '135.jpg', '430.jpg', '256.jpg', '219.jpg', '106.jpg', '24.jpg', '472.jpg', '432.jpg', '638.jpg', '452.jpg', '403.jpg', '669.jpg', '182.jpg', '544.jpg', '561.jpg', '501.jpg', '267.jpg', '494.jpg', '208.jpg', '383.jpg', '85.jpg', '210.jpg', '683.jpg', '251.jpg', '258.jpg', '53.jpg', '316.jpg', '575.jpg', '424.jpg', '382.jpg', '435.jpg', '495.jpg', '223.jpg', '354.jpg', '402.jpg', '629.jpg', '377.jpg', '99.jpg', '548.jpg', '625.jpg', '148.jpg', '611.jpg', '265.jpg', '147.jpg', '190.jpg', '567.jpg', '369.jpg', '117.jpg', '534.jpg', '281.jpg']\n",
            "['535.jpg', '72.jpg', '75.jpg', '441.jpg', '1399.jpg', '1385.jpg', '851.jpg', '549.jpg', '30.jpg', '1454.jpg', '1158.jpg', '1038.jpg', '809.jpg', '567.jpg', '720.jpg', '534.jpg', '310.jpg', '493.jpg', '1213.jpg', '1013.jpg', '183.jpg', '522.jpg', '1079.jpg', '33.jpg', '1289.jpg', '569.jpg', '109.jpg', '934.jpg', '945.jpg', '554.jpg', '107.jpg', '1267.jpg', '62.jpg', '1424.jpg', '163.jpg', '1104.jpg', '1059.jpg', '1165.jpg', '898.jpg', '283.jpg', '87.jpg', '1061.jpg', '303.jpg', '92.jpg', '1264.jpg', '982.jpg', '147.jpg', '1371.jpg', '227.jpg', '1481.jpg', '100.jpg', '344.jpg', '818.jpg', '1207.jpg', '1171.jpg', '1309.jpg', '1442.jpg', '728.jpg', '667.jpg', '307.jpg', '1282.jpg', '364.jpg', '1133.jpg', '985.jpg', '518.jpg', '162.jpg', '577.jpg', '34.jpg', '407.jpg', '537.jpg', '1425.jpg', '761.jpg', '102.jpg', '1409.jpg', '1076.jpg', '383.jpg', '1241.jpg', '249.jpg', '870.jpg', '460.jpg', '1018.jpg', '250.jpg', '354.jpg', '453.jpg', '398.jpg', '206.jpg', '1021.jpg', '923.jpg', '448.jpg', '281.jpg', '1123.jpg', '1191.jpg', '26.jpg', '374.jpg', '1437.jpg', '783.jpg', '18.jpg', '1089.jpg', '723.jpg', '1239.jpg', '425.jpg', '1162.jpg', '1105.jpg', '806.jpg', '5.jpg', '603.jpg', '1295.jpg', '1310.jpg', '513.jpg', '381.jpg', '986.jpg', '265.jpg', '171.jpg', '1150.jpg', '35.jpg', '1466.jpg', '907.jpg', '24.jpg', '1151.jpg', '606.jpg', '647.jpg', '469.jpg', '274.jpg', '431.jpg', '956.jpg', '801.jpg', '1488.jpg', '1313.jpg', '639.jpg', '726.jpg', '816.jpg', '781.jpg', '1330.jpg', '892.jpg', '143.jpg', '520.jpg', '299.jpg', '983.jpg', '738.jpg', '1243.jpg', '1188.jpg', '1317.jpg', '1090.jpg', '446.jpg', '1389.jpg', '358.jpg', '1410.jpg', '807.jpg', '1232.jpg', '1406.jpg', '1220.jpg', '465.jpg', '415.jpg', '184.jpg', '309.jpg', '55.jpg', '1070.jpg', '1345.jpg', '210.jpg', '1414.jpg', '908.jpg', '695.jpg', '925.jpg', '83.jpg', '1069.jpg', '747.jpg', '1372.jpg', '449.jpg', '1028.jpg', '1015.jpg', '1086.jpg', '992.jpg', '1056.jpg', '151.jpg', '192.jpg', '524.jpg', '1405.jpg', '111.jpg', '376.jpg', '73.jpg', '1433.jpg', '115.jpg', '822.jpg', '910.jpg', '751.jpg', '298.jpg', '108.jpg', '1027.jpg', '1418.jpg', '345.jpg', '921.jpg', '1095.jpg', '623.jpg', '586.jpg', '865.jpg', '37.jpg', '159.jpg', '1301.jpg', '1055.jpg', '547.jpg', '17.jpg', '1305.jpg', '1293.jpg', '756.jpg', '1431.jpg', '1279.jpg', '1472.jpg', '944.jpg', '1263.jpg', '1175.jpg', '1166.jpg', '1099.jpg', '884.jpg', '233.jpg', '325.jpg', '8.jpg', '1391.jpg', '842.jpg', '824.jpg', '1183.jpg', '663.jpg', '557.jpg', '1091.jpg', '116.jpg', '826.jpg', '1138.jpg', '702.jpg', '308.jpg', '579.jpg', '89.jpg', '862.jpg', '1073.jpg', '942.jpg', '127.jpg', '335.jpg', '1352.jpg', '1181.jpg', '275.jpg', '1201.jpg', '315.jpg', '719.jpg', '1236.jpg', '355.jpg', '1011.jpg', '872.jpg', '922.jpg', '563.jpg', '22.jpg', '1189.jpg', '486.jpg', '150.jpg', '495.jpg', '1182.jpg', '461.jpg', '498.jpg', '593.jpg', '1246.jpg', '1315.jpg', '792.jpg', '813.jpg', '829.jpg', '1378.jpg', '1174.jpg', '550.jpg', '1333.jpg', '483.jpg', '405.jpg', '114.jpg', '1216.jpg', '587.jpg', '1361.jpg', '47.jpg', '392.jpg', '1272.jpg', '791.jpg', '917.jpg', '591.jpg', '444.jpg', '320.jpg', '627.jpg', '1120.jpg', '1368.jpg', '1009.jpg', '1005.jpg', '244.jpg', '1036.jpg', '939.jpg', '430.jpg', '1064.jpg', '1002.jpg', '211.jpg', '1254.jpg', '1443.jpg', '458.jpg', '589.jpg', '1354.jpg', '767.jpg', '1062.jpg', '608.jpg', '859.jpg', '953.jpg', '359.jpg', '771.jpg', '409.jpg', '525.jpg', '132.jpg', '736.jpg', '994.jpg', '1428.jpg', '515.jpg', '1211.jpg', '1049.jpg', '336.jpg', '611.jpg', '270.jpg', '1085.jpg', '1075.jpg', '1172.jpg', '849.jpg', '240.jpg', '1193.jpg', '1222.jpg', '1294.jpg', '1221.jpg', '286.jpg', '1109.jpg', '673.jpg', '1234.jpg', '1468.jpg', '101.jpg', '1026.jpg', '681.jpg', '974.jpg', '169.jpg', '120.jpg', '664.jpg', '831.jpg', '740.jpg', '199.jpg', '436.jpg', '588.jpg', '1116.jpg', '1223.jpg', '533.jpg', '1380.jpg', '1020.jpg', '1357.jpg', '718.jpg', '1314.jpg', '931.jpg', '1118.jpg', '1167.jpg', '1050.jpg', '1214.jpg', '122.jpg', '517.jpg', '1331.jpg', '714.jpg', '1367.jpg', '599.jpg', '20.jpg', '1204.jpg', '50.jpg', '42.jpg', '1159.jpg', '65.jpg', '1047.jpg', '914.jpg', '305.jpg', '505.jpg', '1422.jpg', '632.jpg', '996.jpg', '933.jpg', '290.jpg', '180.jpg', '1356.jpg', '203.jpg', '754.jpg', '243.jpg', '128.jpg', '1329.jpg', '1444.jpg', '221.jpg', '175.jpg', '375.jpg', '389.jpg', '1259.jpg', '896.jpg', '142.jpg', '640.jpg', '373.jpg', '60.jpg', '66.jpg', '1274.jpg', '1400.jpg', '291.jpg', '356.jpg', '1439.jpg', '634.jpg', '789.jpg', '668.jpg', '815.jpg', '1480.jpg', '1303.jpg', '1200.jpg', '153.jpg', '112.jpg', '80.jpg', '629.jpg', '704.jpg', '256.jpg', '311.jpg', '1244.jpg', '71.jpg', '644.jpg', '678.jpg', '694.jpg', '144.jpg', '1194.jpg', '752.jpg', '866.jpg', '1224.jpg', '437.jpg', '390.jpg', '504.jpg', '349.jpg', '1037.jpg', '725.jpg', '1321.jpg', '730.jpg', '749.jpg', '130.jpg', '1255.jpg', '1280.jpg', '1147.jpg', '348.jpg', '1497.jpg', '456.jpg', '1226.jpg', '976.jpg', '666.jpg', '14.jpg', '1144.jpg', '1195.jpg', '1235.jpg', '635.jpg', '628.jpg', '1081.jpg', '1126.jpg', '500.jpg', '368.jpg', '1292.jpg', '208.jpg', '1080.jpg', '564.jpg', '913.jpg', '1286.jpg', '95.jpg', '1495.jpg', '1196.jpg', '1461.jpg', '1483.jpg', '158.jpg', '367.jpg', '594.jpg', '419.jpg', '1192.jpg', '686.jpg', '1007.jpg', '840.jpg', '919.jpg', '1304.jpg', '920.jpg', '894.jpg', '1355.jpg', '254.jpg', '1.jpg', '1248.jpg', '245.jpg', '1441.jpg', '891.jpg', '216.jpg', '450.jpg', '566.jpg', '385.jpg', '1176.jpg', '6.jpg', '580.jpg', '687.jpg', '1115.jpg', '484.jpg', '616.jpg', '268.jpg', '1489.jpg', '205.jpg', '445.jpg', '1429.jpg', '786.jpg', '1231.jpg', '542.jpg', '1257.jpg', '1319.jpg', '294.jpg', '820.jpg', '476.jpg', '1460.jpg', '839.jpg', '531.jpg', '300.jpg', '207.jpg', '1040.jpg', '1048.jpg', '1300.jpg', '597.jpg', '1265.jpg', '188.jpg', '701.jpg', '651.jpg', '1046.jpg', '967.jpg', '1386.jpg', '1336.jpg', '1256.jpg', '292.jpg', '778.jpg', '179.jpg', '990.jpg', '464.jpg', '1077.jpg', '1258.jpg', '776.jpg', '760.jpg', '932.jpg', '879.jpg', '648.jpg', '197.jpg', '88.jpg', '21.jpg', '49.jpg', '860.jpg', '645.jpg', '669.jpg', '1392.jpg', '659.jpg', '530.jpg', '139.jpg', '478.jpg', '1432.jpg', '287.jpg', '928.jpg', '1212.jpg', '165.jpg', '492.jpg', '852.jpg', '242.jpg', '289.jpg', '386.jpg', '672.jpg', '1228.jpg', '693.jpg', '463.jpg', '643.jpg', '79.jpg', '279.jpg', '1262.jpg', '677.jpg', '1341.jpg', '1276.jpg', '817.jpg', '1376.jpg', '361.jpg', '841.jpg', '506.jpg', '1334.jpg', '235.jpg', '1475.jpg', '1271.jpg', '1325.jpg', '795.jpg', '1322.jpg', '201.jpg', '803.jpg', '582.jpg', '170.jpg', '362.jpg', '257.jpg', '421.jpg', '167.jpg', '1098.jpg', '794.jpg', '125.jpg', '716.jpg', '1452.jpg', '467.jpg', '1209.jpg', '858.jpg', '462.jpg', '1324.jpg', '798.jpg', '900.jpg', '435.jpg', '1000.jpg', '1393.jpg', '1350.jpg', '1440.jpg', '1332.jpg', '1465.jpg', '748.jpg', '1387.jpg', '1106.jpg', '742.jpg', '1164.jpg', '1494.jpg', '561.jpg', '331.jpg', '418.jpg', '406.jpg', '103.jpg', '655.jpg', '1219.jpg', '989.jpg', '543.jpg', '1008.jpg', '796.jpg', '29.jpg', '459.jpg', '732.jpg', '947.jpg', '610.jpg', '1270.jpg', '1337.jpg', '938.jpg', '975.jpg', '382.jpg', '312.jpg', '63.jpg', '656.jpg', '1029.jpg', '886.jpg', '434.jpg', '93.jpg', '926.jpg', '45.jpg', '755.jpg', '1072.jpg', '705.jpg', '788.jpg', '968.jpg', '316.jpg', '137.jpg', '1318.jpg', '351.jpg', '473.jpg', '141.jpg', '1451.jpg', '733.jpg', '984.jpg', '1017.jpg', '1044.jpg', '1014.jpg', '1179.jpg', '1252.jpg', '1030.jpg', '302.jpg', '438.jpg', '1177.jpg', '876.jpg', '1067.jpg', '1210.jpg', '1127.jpg', '915.jpg', '576.jpg', '273.jpg', '1218.jpg', '638.jpg', '804.jpg', '828.jpg', '321.jpg', '1082.jpg', '581.jpg', '422.jpg', '378.jpg', '53.jpg', '724.jpg', '350.jpg', '954.jpg', '391.jpg', '790.jpg', '856.jpg', '1384.jpg', '157.jpg', '1467.jpg', '690.jpg', '753.jpg', '323.jpg', '1453.jpg', '1168.jpg', '1340.jpg', '3.jpg', '474.jpg', '1135.jpg', '388.jpg', '1287.jpg', '56.jpg', '1148.jpg', '395.jpg', '936.jpg', '214.jpg', '1375.jpg', '40.jpg', '871.jpg', '1034.jpg', '969.jpg', '1446.jpg', '995.jpg', '1458.jpg', '1022.jpg', '572.jpg', '782.jpg', '295.jpg', '76.jpg', '805.jpg', '1348.jpg', '1023.jpg', '172.jpg', '491.jpg', '698.jpg', '410.jpg', '1297.jpg', '84.jpg', '670.jpg', '1124.jpg', '585.jpg', '119.jpg', '121.jpg', '1482.jpg', '539.jpg', '91.jpg', '993.jpg', '1471.jpg', '1413.jpg', '1113.jpg', '583.jpg', '1186.jpg', '133.jpg', '955.jpg', '117.jpg', '988.jpg', '999.jpg', '176.jpg', '1149.jpg', '1296.jpg', '1019.jpg', '727.jpg', '739.jpg', '1197.jpg', '1247.jpg', '124.jpg', '708.jpg', '607.jpg', '709.jpg', '916.jpg', '1010.jpg', '1438.jpg', '104.jpg', '1498.jpg', '962.jpg', '875.jpg', '1132.jpg', '653.jpg', '326.jpg', '1373.jpg', '762.jpg', '1031.jpg', '327.jpg', '149.jpg', '1125.jpg', '1112.jpg', '981.jpg', '200.jpg', '236.jpg', '630.jpg', '164.jpg', '217.jpg', '400.jpg', '417.jpg', '935.jpg', '154.jpg', '237.jpg', '833.jpg', '1421.jpg', '218.jpg', '897.jpg', '710.jpg', '893.jpg', '261.jpg', '570.jpg', '1122.jpg', '41.jpg', '403.jpg', '198.jpg', '703.jpg', '979.jpg', '1145.jpg', '642.jpg', '707.jpg', '1283.jpg', '413.jpg', '190.jpg', '759.jpg', '1377.jpg', '334.jpg', '420.jpg', '59.jpg', '568.jpg', '717.jpg', '692.jpg', '1229.jpg', '1338.jpg', '963.jpg', '885.jpg', '558.jpg', '626.jpg', '1445.jpg', '1448.jpg', '1366.jpg', '1094.jpg', '844.jpg', '1001.jpg', '909.jpg', '1240.jpg', '1455.jpg', '238.jpg', '439.jpg', '1374.jpg', '470.jpg', '288.jpg', '625.jpg', '509.jpg', '712.jpg', '555.jpg', '1004.jpg', '924.jpg', '9.jpg', '1045.jpg', '765.jpg', '1060.jpg', '857.jpg', '32.jpg', '1408.jpg', '324.jpg', '602.jpg', '1499.jpg', '136.jpg', '529.jpg', '322.jpg', '764.jpg', '1024.jpg', '239.jpg', '878.jpg', '1032.jpg', '991.jpg', '231.jpg', '1473.jpg', '660.jpg', '847.jpg', '1003.jpg', '387.jpg', '253.jpg', '838.jpg', '1155.jpg', '574.jpg', '744.jpg', '1093.jpg', '276.jpg', '1306.jpg', '952.jpg', '411.jpg', '225.jpg', '1261.jpg', '285.jpg', '202.jpg', '160.jpg', '428.jpg', '313.jpg', '1327.jpg', '1311.jpg', '443.jpg', '64.jpg', '972.jpg', '105.jpg', '1121.jpg', '987.jpg', '1491.jpg', '98.jpg', '880.jpg', '330.jpg', '1205.jpg', '475.jpg', '178.jpg', '126.jpg', '1143.jpg', '78.jpg', '138.jpg', '134.jpg', '485.jpg', '1312.jpg', '25.jpg', '965.jpg', '220.jpg', '432.jpg', '38.jpg', '454.jpg', '821.jpg', '977.jpg', '1470.jpg', '971.jpg', '347.jpg', '696.jpg', '1360.jpg', '67.jpg', '689.jpg', '1397.jpg', '613.jpg', '1131.jpg', '832.jpg', '551.jpg', '384.jpg', '1402.jpg', '1225.jpg', '1230.jpg', '51.jpg', '958.jpg', '1096.jpg', '540.jpg', '1068.jpg', '592.jpg', '722.jpg', '502.jpg', '70.jpg', '1365.jpg', '877.jpg', '1407.jpg', '1025.jpg', '802.jpg', '416.jpg', '219.jpg', '1130.jpg', '612.jpg', '1129.jpg', '82.jpg', '1343.jpg', '1249.jpg', '1449.jpg', '99.jpg', '360.jpg', '772.jpg', '342.jpg', '1278.jpg', '333.jpg', '1063.jpg', '397.jpg', '481.jpg', '1435.jpg', '604.jpg', '777.jpg', '497.jpg', '487.jpg', '766.jpg', '1417.jpg', '697.jpg', '633.jpg', '489.jpg', '118.jpg', '193.jpg', '1284.jpg', '1479.jpg', '338.jpg', '426.jpg', '1237.jpg', '15.jpg', '521.jpg', '978.jpg', '614.jpg', '918.jpg', '370.jpg', '745.jpg', '68.jpg', '2.jpg', '113.jpg', '797.jpg', '779.jpg', '501.jpg', '480.jpg', '252.jpg', '427.jpg', '1423.jpg', '1277.jpg', '980.jpg', '301.jpg', '1379.jpg', '808.jpg', '1141.jpg', '684.jpg', '140.jpg', '575.jpg', '1242.jpg', '123.jpg', '565.jpg', '966.jpg', '304.jpg', '1326.jpg', '1339.jpg', '596.jpg', '452.jpg', '479.jpg', '182.jpg', '658.jpg', '329.jpg', '1457.jpg', '1415.jpg', '590.jpg', '1459.jpg', '1058.jpg', '1323.jpg', '895.jpg', '773.jpg', '372.jpg', '810.jpg', '1137.jpg', '1154.jpg', '1102.jpg', '1173.jpg', '867.jpg', '1114.jpg', '168.jpg', '499.jpg', '1344.jpg', '1190.jpg', '973.jpg', '319.jpg', '339.jpg', '881.jpg', '234.jpg', '1434.jpg', '402.jpg', '964.jpg', '598.jpg', '77.jpg', '1260.jpg', '930.jpg', '1157.jpg', '1153.jpg', '512.jpg', '507.jpg', '317.jpg', '223.jpg', '508.jpg', '46.jpg', '1208.jpg', '731.jpg', '96.jpg', '902.jpg', '556.jpg', '1088.jpg', '617.jpg', '181.jpg', '780.jpg', '58.jpg', '911.jpg', '424.jpg', '1087.jpg', '36.jpg', '1041.jpg', '396.jpg', '835.jpg', '899.jpg', '31.jpg', '1206.jpg', '332.jpg', '1215.jpg', '145.jpg', '1170.jpg', '649.jpg', '622.jpg', '683.jpg', '887.jpg', '69.jpg', '228.jpg', '1184.jpg', '297.jpg', '185.jpg', '251.jpg', '1142.jpg', '1035.jpg', '1381.jpg', '357.jpg', '1071.jpg', '830.jpg', '353.jpg', '685.jpg', '1492.jpg', '1039.jpg', '814.jpg', '784.jpg', '1251.jpg', '412.jpg', '7.jpg', '1074.jpg', '1398.jpg', '94.jpg', '282.jpg', '1477.jpg', '863.jpg', '267.jpg', '1476.jpg', '129.jpg', '763.jpg', '1107.jpg', '957.jpg', '472.jpg', '713.jpg', '1291.jpg', '284.jpg', '110.jpg', '641.jpg', '601.jpg', '195.jpg', '468.jpg', '1053.jpg', '1275.jpg', '377.jpg', '1474.jpg', '1383.jpg', '573.jpg', '774.jpg', '186.jpg', '519.jpg', '1298.jpg', '488.jpg', '1390.jpg', '85.jpg', '1430.jpg', '1185.jpg', '318.jpg', '477.jpg', '553.jpg', '57.jpg', '1404.jpg', '1238.jpg', '43.jpg', '1198.jpg', '940.jpg', '494.jpg', '189.jpg', '538.jpg', '676.jpg', '1427.jpg', '337.jpg', '823.jpg', '734.jpg', '1156.jpg', '1245.jpg', '173.jpg', '523.jpg', '948.jpg', '854.jpg', '545.jpg', '1217.jpg', '800.jpg', '937.jpg', '869.jpg', '785.jpg', '949.jpg', '229.jpg', '52.jpg', '1097.jpg', '213.jpg', '1396.jpg', '260.jpg', '401.jpg', '1110.jpg', '901.jpg', '837.jpg', '1299.jpg', '10.jpg', '343.jpg', '1362.jpg', '328.jpg', '61.jpg', '86.jpg', '1290.jpg', '440.jpg', '950.jpg', '1328.jpg', '393.jpg', '1033.jpg', '874.jpg', '471.jpg', '546.jpg', '1051.jpg', '1436.jpg', '528.jpg', '1078.jpg', '1485.jpg', '843.jpg', '706.jpg', '1307.jpg', '1054.jpg', '853.jpg', '48.jpg', '1100.jpg', '620.jpg', '836.jpg', '340.jpg', '414.jpg', '743.jpg', '131.jpg', '166.jpg', '1199.jpg', '1394.jpg', '652.jpg', '1316.jpg', '675.jpg', '812.jpg', '455.jpg', '490.jpg', '1370.jpg', '306.jpg', '1136.jpg', '905.jpg', '1353.jpg', '799.jpg', '1493.jpg', '259.jpg', '929.jpg', '1233.jpg', '1342.jpg', '1152.jpg', '1103.jpg', '1359.jpg', '618.jpg', '1117.jpg', '394.jpg', '366.jpg', '746.jpg', '1146.jpg', '352.jpg', '399.jpg', '848.jpg', '688.jpg', '39.jpg', '1180.jpg', '961.jpg', '624.jpg', '204.jpg', '423.jpg', '654.jpg', '906.jpg', '215.jpg', '196.jpg', '1462.jpg', '864.jpg', '559.jpg', '941.jpg', '1042.jpg', '1043.jpg', '1139.jpg', '263.jpg', '1108.jpg', '271.jpg', '811.jpg', '230.jpg', '769.jpg', '527.jpg', '775.jpg', '825.jpg', '1160.jpg', '451.jpg', '516.jpg', '1401.jpg', '584.jpg', '1335.jpg', '1419.jpg', '605.jpg', '711.jpg', '1450.jpg', '861.jpg', '819.jpg', '16.jpg', '1369.jpg', '1320.jpg', '447.jpg', '404.jpg', '1302.jpg', '514.jpg', '433.jpg', '1269.jpg', '510.jpg', '408.jpg', '280.jpg', '951.jpg', '23.jpg', '636.jpg', '1057.jpg', '264.jpg', '90.jpg', '1496.jpg', '1363.jpg', '662.jpg', '737.jpg', '363.jpg', '1416.jpg', '97.jpg', '1253.jpg', '262.jpg', '834.jpg', '106.jpg', '1486.jpg', '1464.jpg', '258.jpg', '1382.jpg', '1169.jpg', '889.jpg', '19.jpg', '466.jpg', '1447.jpg', '191.jpg', '209.jpg', '341.jpg', '1388.jpg', '1203.jpg', '552.jpg', '272.jpg', '232.jpg', '1134.jpg', '314.jpg', '135.jpg', '770.jpg', '13.jpg', '621.jpg', '1411.jpg', '457.jpg', '511.jpg', '1266.jpg', '1111.jpg', '526.jpg', '369.jpg', '482.jpg', '222.jpg', '152.jpg', '904.jpg', '888.jpg', '1227.jpg', '665.jpg', '296.jpg', '27.jpg', '54.jpg', '997.jpg', '1403.jpg', '247.jpg', '532.jpg', '503.jpg', '787.jpg', '855.jpg', '758.jpg', '671.jpg', '194.jpg', '578.jpg', '248.jpg', '646.jpg', '637.jpg', '266.jpg', '1065.jpg', '1273.jpg', '998.jpg', '346.jpg', '1395.jpg', '959.jpg', '1487.jpg', '700.jpg', '11.jpg', '873.jpg', '1347.jpg', '293.jpg', '1163.jpg', '631.jpg', '212.jpg', '927.jpg', '365.jpg', '1490.jpg', '615.jpg', '4.jpg', '1426.jpg', '1161.jpg', '1092.jpg', '429.jpg', '1469.jpg', '548.jpg', '560.jpg', '544.jpg', '241.jpg', '600.jpg', '661.jpg', '757.jpg', '1178.jpg', '1478.jpg', '1084.jpg', '680.jpg', '380.jpg', '0.jpg', '741.jpg', '946.jpg', '650.jpg', '682.jpg', '1250.jpg', '146.jpg', '1346.jpg', '1202.jpg', '1463.jpg', '1285.jpg', '1281.jpg', '768.jpg', '269.jpg', '371.jpg', '1140.jpg', '657.jpg', '174.jpg', '1456.jpg', '1484.jpg', '1288.jpg', '1101.jpg', '868.jpg', '1128.jpg', '1420.jpg', '278.jpg', '187.jpg', '177.jpg', '846.jpg', '226.jpg', '1358.jpg', '735.jpg', '793.jpg', '379.jpg', '442.jpg', '903.jpg', '44.jpg', '1412.jpg', '1012.jpg', '1016.jpg', '619.jpg', '1083.jpg', '12.jpg', '155.jpg', '148.jpg', '1006.jpg', '883.jpg', '729.jpg', '536.jpg', '1187.jpg', '161.jpg', '571.jpg', '827.jpg', '1351.jpg', '277.jpg', '595.jpg', '943.jpg', '845.jpg', '912.jpg', '721.jpg', '81.jpg', '562.jpg', '691.jpg', '1268.jpg', '496.jpg', '850.jpg', '1349.jpg', '541.jpg', '1119.jpg', '882.jpg', '609.jpg', '28.jpg', '74.jpg', '715.jpg', '890.jpg', '750.jpg', '674.jpg', '224.jpg', '156.jpg', '970.jpg', '1066.jpg', '246.jpg', '255.jpg', '1308.jpg', '1052.jpg', '679.jpg', '1364.jpg', '960.jpg', '699.jpg']\n",
            "['917.jpg', '523.jpg', '726.jpg', '1336.jpg', '1236.jpg', '596.jpg', '1360.jpg', '497.jpg', '272.jpg', '1125.jpg', '1321.jpg', '623.jpg', '980.jpg', '667.jpg', '1122.jpg', '1327.jpg', '394.jpg', '1399.jpg', '371.jpg', '38.jpg', '530.jpg', '1349.jpg', '686.jpg', '853.jpg', '1175.jpg', '137.jpg', '1133.jpg', '982.jpg', '818.jpg', '341.jpg', '7.jpg', '1213.jpg', '200.jpg', '757.jpg', '1144.jpg', '1473.jpg', '307.jpg', '332.jpg', '1080.jpg', '880.jpg', '452.jpg', '377.jpg', '1.jpg', '936.jpg', '1304.jpg', '1163.jpg', '1081.jpg', '1365.jpg', '1452.jpg', '1264.jpg', '602.jpg', '1298.jpg', '1253.jpg', '1431.jpg', '128.jpg', '861.jpg', '1465.jpg', '22.jpg', '422.jpg', '1323.jpg', '1351.jpg', '1190.jpg', '637.jpg', '896.jpg', '989.jpg', '201.jpg', '528.jpg', '590.jpg', '867.jpg', '642.jpg', '843.jpg', '1425.jpg', '978.jpg', '1429.jpg', '1094.jpg', '857.jpg', '247.jpg', '122.jpg', '1149.jpg', '1291.jpg', '700.jpg', '962.jpg', '111.jpg', '1205.jpg', '997.jpg', '319.jpg', '557.jpg', '664.jpg', '617.jpg', '1484.jpg', '124.jpg', '808.jpg', '1282.jpg', '1063.jpg', '281.jpg', '1337.jpg', '906.jpg', '836.jpg', '837.jpg', '707.jpg', '19.jpg', '1314.jpg', '1020.jpg', '372.jpg', '367.jpg', '569.jpg', '80.jpg', '784.jpg', '713.jpg', '1355.jpg', '844.jpg', '1157.jpg', '56.jpg', '901.jpg', '1348.jpg', '70.jpg', '1212.jpg', '222.jpg', '1490.jpg', '1146.jpg', '1038.jpg', '400.jpg', '77.jpg', '1333.jpg', '96.jpg', '1404.jpg', '752.jpg', '574.jpg', '35.jpg', '918.jpg', '955.jpg', '854.jpg', '573.jpg', '629.jpg', '1173.jpg', '765.jpg', '501.jpg', '84.jpg', '269.jpg', '214.jpg', '441.jpg', '1492.jpg', '1251.jpg', '775.jpg', '961.jpg', '321.jpg', '722.jpg', '1370.jpg', '728.jpg', '840.jpg', '280.jpg', '50.jpg', '601.jpg', '393.jpg', '1422.jpg', '1027.jpg', '195.jpg', '679.jpg', '577.jpg', '1389.jpg', '1086.jpg', '163.jpg', '551.jpg', '554.jpg', '235.jpg', '1040.jpg', '928.jpg', '826.jpg', '451.jpg', '754.jpg', '1148.jpg', '467.jpg', '1090.jpg', '1223.jpg', '673.jpg', '1411.jpg', '571.jpg', '1380.jpg', '672.jpg', '1393.jpg', '1230.jpg', '1044.jpg', '479.jpg', '1417.jpg', '127.jpg', '227.jpg', '1029.jpg', '1421.jpg', '1287.jpg', '991.jpg', '375.jpg', '1077.jpg', '1091.jpg', '1046.jpg', '234.jpg', '725.jpg', '1103.jpg', '428.jpg', '303.jpg', '1461.jpg', '1059.jpg', '420.jpg', '859.jpg', '102.jpg', '1468.jpg', '882.jpg', '168.jpg', '744.jpg', '267.jpg', '368.jpg', '223.jpg', '1397.jpg', '1286.jpg', '1087.jpg', '691.jpg', '413.jpg', '1396.jpg', '984.jpg', '1320.jpg', '647.jpg', '742.jpg', '1315.jpg', '1280.jpg', '1089.jpg', '732.jpg', '13.jpg', '1070.jpg', '312.jpg', '1106.jpg', '286.jpg', '1012.jpg', '538.jpg', '188.jpg', '114.jpg', '493.jpg', '57.jpg', '249.jpg', '1054.jpg', '1235.jpg', '194.jpg', '1407.jpg', '1167.jpg', '339.jpg', '1241.jpg', '1031.jpg', '704.jpg', '40.jpg', '1293.jpg', '866.jpg', '949.jpg', '715.jpg', '48.jpg', '356.jpg', '123.jpg', '233.jpg', '890.jpg', '1332.jpg', '1102.jpg', '1459.jpg', '1104.jpg', '1177.jpg', '626.jpg', '1475.jpg', '1165.jpg', '1222.jpg', '256.jpg', '915.jpg', '940.jpg', '591.jpg', '753.jpg', '225.jpg', '348.jpg', '1119.jpg', '1301.jpg', '149.jpg', '472.jpg', '631.jpg', '1142.jpg', '779.jpg', '1184.jpg', '1441.jpg', '892.jpg', '354.jpg', '151.jpg', '392.jpg', '718.jpg', '1116.jpg', '54.jpg', '904.jpg', '1432.jpg', '581.jpg', '447.jpg', '889.jpg', '1019.jpg', '690.jpg', '1453.jpg', '44.jpg', '858.jpg', '891.jpg', '1379.jpg', '444.jpg', '343.jpg', '457.jpg', '366.jpg', '733.jpg', '1018.jpg', '1455.jpg', '1406.jpg', '1112.jpg', '359.jpg', '1246.jpg', '1340.jpg', '335.jpg', '624.jpg', '230.jpg', '545.jpg', '641.jpg', '95.jpg', '337.jpg', '449.jpg', '139.jpg', '117.jpg', '1440.jpg', '189.jpg', '652.jpg', '874.jpg', '592.jpg', '1341.jpg', '663.jpg', '374.jpg', '1097.jpg', '1426.jpg', '1134.jpg', '511.jpg', '787.jpg', '1352.jpg', '250.jpg', '175.jpg', '1115.jpg', '662.jpg', '681.jpg', '1181.jpg', '379.jpg', '466.jpg', '1489.jpg', '1109.jpg', '1166.jpg', '105.jpg', '10.jpg', '94.jpg']\n",
            "['72.jpg', '75.jpg', '30.jpg', '310.jpg', '183.jpg', '33.jpg', '109.jpg', '107.jpg', '62.jpg', '163.jpg', '283.jpg', '87.jpg', '303.jpg', '92.jpg', '147.jpg', '227.jpg', '100.jpg', '344.jpg', '307.jpg', '364.jpg', '162.jpg', '34.jpg', '407.jpg', '102.jpg', '383.jpg', '249.jpg', '250.jpg', '354.jpg', '398.jpg', '206.jpg', '281.jpg', '26.jpg', '374.jpg', '18.jpg', '425.jpg', '5.jpg', '381.jpg', '265.jpg', '171.jpg', '35.jpg', '24.jpg', '274.jpg', '143.jpg', '299.jpg', '358.jpg', '415.jpg', '184.jpg', '309.jpg', '55.jpg', '210.jpg', '83.jpg', '151.jpg', '192.jpg', '111.jpg', '376.jpg', '73.jpg', '115.jpg', '298.jpg', '108.jpg', '345.jpg', '37.jpg', '159.jpg', '17.jpg', '233.jpg', '325.jpg', '8.jpg', '116.jpg', '308.jpg', '89.jpg', '127.jpg', '335.jpg', '275.jpg', '315.jpg', '355.jpg', '22.jpg', '150.jpg', '405.jpg', '114.jpg', '47.jpg', '392.jpg', '320.jpg', '244.jpg', '211.jpg', '359.jpg', '409.jpg', '132.jpg', '336.jpg', '270.jpg', '240.jpg', '286.jpg', '101.jpg', '169.jpg', '120.jpg', '199.jpg', '122.jpg', '20.jpg', '50.jpg', '42.jpg', '65.jpg', '305.jpg', '290.jpg', '180.jpg', '203.jpg', '243.jpg', '128.jpg', '221.jpg', '175.jpg', '375.jpg', '389.jpg', '142.jpg', '373.jpg', '60.jpg', '66.jpg', '291.jpg', '356.jpg', '153.jpg', '112.jpg', '80.jpg', '256.jpg', '311.jpg', '71.jpg', '144.jpg', '390.jpg', '349.jpg', '130.jpg', '348.jpg', '14.jpg', '368.jpg', '208.jpg', '95.jpg', '158.jpg', '367.jpg', '419.jpg', '254.jpg', '1.jpg', '245.jpg', '216.jpg', '385.jpg', '6.jpg', '268.jpg', '205.jpg', '294.jpg', '300.jpg', '207.jpg', '188.jpg', '292.jpg', '179.jpg', '197.jpg', '88.jpg', '21.jpg', '49.jpg', '139.jpg', '287.jpg', '165.jpg', '242.jpg', '289.jpg', '386.jpg', '79.jpg', '279.jpg', '361.jpg', '235.jpg', '201.jpg', '170.jpg', '362.jpg', '257.jpg', '421.jpg', '167.jpg', '125.jpg', '331.jpg', '418.jpg', '406.jpg', '103.jpg', '29.jpg', '382.jpg', '312.jpg', '63.jpg', '93.jpg', '45.jpg', '316.jpg', '137.jpg', '351.jpg', '141.jpg', '302.jpg', '273.jpg', '321.jpg', '422.jpg', '378.jpg', '53.jpg', '350.jpg', '391.jpg', '157.jpg', '323.jpg', '3.jpg', '388.jpg', '56.jpg', '395.jpg', '214.jpg', '40.jpg', '295.jpg', '76.jpg', '172.jpg', '410.jpg', '84.jpg', '119.jpg', '121.jpg', '91.jpg', '133.jpg', '117.jpg', '176.jpg', '124.jpg', '104.jpg', '326.jpg', '327.jpg', '149.jpg', '200.jpg', '236.jpg', '164.jpg', '217.jpg', '400.jpg', '417.jpg', '154.jpg', '237.jpg', '218.jpg', '261.jpg', '41.jpg', '403.jpg', '198.jpg', '413.jpg', '190.jpg', '334.jpg', '420.jpg', '59.jpg', '238.jpg', '288.jpg', '9.jpg', '32.jpg', '324.jpg', '136.jpg', '322.jpg', '239.jpg', '231.jpg', '387.jpg', '253.jpg', '276.jpg', '411.jpg', '225.jpg', '285.jpg', '202.jpg', '160.jpg', '428.jpg', '313.jpg', '64.jpg', '105.jpg', '98.jpg', '330.jpg', '178.jpg', '126.jpg', '78.jpg', '138.jpg', '134.jpg', '25.jpg', '220.jpg', '38.jpg', '347.jpg', '67.jpg', '384.jpg', '51.jpg', '70.jpg', '416.jpg', '219.jpg', '82.jpg', '99.jpg', '360.jpg', '342.jpg', '333.jpg', '397.jpg', '118.jpg', '193.jpg', '338.jpg', '426.jpg', '15.jpg', '370.jpg', '68.jpg', '2.jpg', '113.jpg', '252.jpg', '427.jpg', '301.jpg', '140.jpg', '123.jpg', '304.jpg', '182.jpg', '329.jpg', '372.jpg', '168.jpg', '319.jpg', '339.jpg', '234.jpg', '402.jpg', '77.jpg', '317.jpg', '223.jpg', '46.jpg', '96.jpg', '181.jpg', '58.jpg', '424.jpg', '36.jpg', '396.jpg', '31.jpg', '332.jpg', '145.jpg', '69.jpg', '228.jpg', '297.jpg', '185.jpg', '251.jpg', '357.jpg', '353.jpg', '412.jpg', '7.jpg', '94.jpg', '282.jpg', '267.jpg', '129.jpg', '284.jpg', '110.jpg', '195.jpg', '377.jpg', '186.jpg', '85.jpg', '318.jpg', '57.jpg', '43.jpg', '189.jpg', '337.jpg', '173.jpg', '229.jpg', '52.jpg', '213.jpg', '260.jpg', '401.jpg', '10.jpg', '343.jpg', '328.jpg', '61.jpg', '86.jpg', '393.jpg', '48.jpg', '340.jpg', '414.jpg', '131.jpg', '166.jpg', '306.jpg', '259.jpg', '394.jpg', '366.jpg', '352.jpg', '399.jpg', '39.jpg', '204.jpg', '423.jpg', '215.jpg', '196.jpg', '263.jpg', '271.jpg', '230.jpg', '16.jpg', '404.jpg', '408.jpg', '280.jpg', '23.jpg', '264.jpg', '90.jpg', '363.jpg', '97.jpg', '262.jpg', '106.jpg', '258.jpg', '19.jpg', '191.jpg', '209.jpg', '341.jpg', '272.jpg', '232.jpg', '314.jpg', '135.jpg', '13.jpg', '369.jpg', '222.jpg', '152.jpg', '296.jpg', '27.jpg', '54.jpg', '247.jpg', '194.jpg', '248.jpg', '266.jpg', '346.jpg', '11.jpg', '293.jpg', '212.jpg', '365.jpg', '4.jpg', '241.jpg', '380.jpg', '0.jpg', '146.jpg', '269.jpg', '371.jpg', '174.jpg', '278.jpg', '187.jpg', '177.jpg', '226.jpg', '379.jpg', '44.jpg', '12.jpg', '155.jpg', '148.jpg', '161.jpg', '277.jpg', '81.jpg', '28.jpg', '74.jpg', '224.jpg', '156.jpg', '246.jpg', '255.jpg']\n",
            "['89.jpg', '182.jpg', '174.jpg', '296.jpg', '374.jpg', '158.jpg', '37.jpg', '98.jpg', '222.jpg', '420.jpg', '387.jpg', '43.jpg', '56.jpg', '4.jpg', '375.jpg', '55.jpg', '428.jpg', '147.jpg', '76.jpg', '237.jpg', '145.jpg', '152.jpg', '27.jpg', '75.jpg', '366.jpg', '190.jpg', '216.jpg', '408.jpg', '80.jpg', '46.jpg', '192.jpg', '170.jpg', '227.jpg', '87.jpg', '92.jpg', '57.jpg', '193.jpg', '183.jpg', '395.jpg', '131.jpg', '373.jpg', '164.jpg', '23.jpg', '278.jpg', '82.jpg', '291.jpg', '41.jpg', '277.jpg', '2.jpg', '311.jpg', '93.jpg', '256.jpg', '86.jpg', '66.jpg', '32.jpg', '88.jpg', '194.jpg', '149.jpg', '113.jpg', '377.jpg', '151.jpg', '20.jpg', '282.jpg', '139.jpg', '159.jpg', '406.jpg', '126.jpg', '13.jpg', '134.jpg', '343.jpg', '42.jpg', '289.jpg', '292.jpg', '317.jpg', '178.jpg', '138.jpg', '410.jpg', '223.jpg', '344.jpg', '225.jpg', '130.jpg', '133.jpg', '327.jpg', '260.jpg', '240.jpg', '53.jpg', '15.jpg', '323.jpg', '358.jpg', '341.jpg', '25.jpg', '73.jpg', '359.jpg', '51.jpg', '166.jpg', '391.jpg', '313.jpg', '248.jpg', '231.jpg', '407.jpg', '79.jpg', '297.jpg', '96.jpg', '339.jpg', '189.jpg', '270.jpg', '336.jpg', '78.jpg', '112.jpg', '109.jpg', '203.jpg', '118.jpg', '10.jpg', '106.jpg', '117.jpg', '347.jpg', '258.jpg', '319.jpg', '351.jpg', '363.jpg', '385.jpg', '251.jpg', '30.jpg', '214.jpg', '38.jpg', '116.jpg', '384.jpg', '301.jpg', '221.jpg', '400.jpg', '398.jpg', '285.jpg', '378.jpg', '246.jpg', '191.jpg', '353.jpg', '306.jpg', '326.jpg', '160.jpg', '302.jpg', '262.jpg', '45.jpg', '72.jpg', '397.jpg', '357.jpg', '418.jpg', '9.jpg', '314.jpg', '293.jpg', '101.jpg', '120.jpg', '184.jpg', '28.jpg', '100.jpg', '381.jpg', '143.jpg', '62.jpg', '59.jpg', '107.jpg', '207.jpg', '368.jpg', '396.jpg', '115.jpg', '122.jpg', '69.jpg', '90.jpg', '5.jpg', '132.jpg', '244.jpg', '280.jpg', '230.jpg', '268.jpg', '49.jpg', '238.jpg', '137.jpg', '211.jpg', '416.jpg', '144.jpg', '206.jpg', '412.jpg', '392.jpg', '65.jpg', '267.jpg', '226.jpg', '119.jpg', '177.jpg', '110.jpg', '354.jpg', '325.jpg', '148.jpg', '284.jpg', '204.jpg', '111.jpg', '352.jpg', '369.jpg', '124.jpg', '33.jpg', '298.jpg', '224.jpg', '180.jpg', '265.jpg', '163.jpg', '321.jpg', '274.jpg', '356.jpg', '332.jpg', '95.jpg', '382.jpg', '142.jpg', '94.jpg', '135.jpg', '337.jpg', '201.jpg', '121.jpg', '161.jpg', '419.jpg', '153.jpg', '99.jpg', '1.jpg', '167.jpg', '232.jpg', '334.jpg', '29.jpg', '197.jpg', '209.jpg', '331.jpg', '423.jpg', '154.jpg', '318.jpg', '350.jpg', '405.jpg', '74.jpg', '376.jpg', '303.jpg', '47.jpg', '307.jpg', '364.jpg', '304.jpg', '295.jpg', '24.jpg', '175.jpg', '188.jpg', '85.jpg', '18.jpg', '424.jpg', '219.jpg', '413.jpg', '271.jpg', '229.jpg', '241.jpg', '36.jpg', '299.jpg', '361.jpg', '136.jpg', '123.jpg', '50.jpg', '404.jpg', '328.jpg', '249.jpg', '346.jpg', '179.jpg', '68.jpg', '141.jpg', '210.jpg', '14.jpg', '250.jpg', '305.jpg', '150.jpg', '218.jpg', '105.jpg', '239.jpg', '173.jpg', '386.jpg', '372.jpg', '315.jpg', '279.jpg', '12.jpg', '393.jpg', '212.jpg', '39.jpg', '425.jpg', '329.jpg', '129.jpg', '58.jpg', '255.jpg', '383.jpg', '399.jpg', '205.jpg', '103.jpg', '365.jpg', '48.jpg', '417.jpg', '81.jpg', '252.jpg', '283.jpg', '34.jpg', '228.jpg', '200.jpg', '342.jpg', '330.jpg', '21.jpg', '220.jpg', '157.jpg', '322.jpg', '340.jpg', '40.jpg', '309.jpg', '367.jpg', '64.jpg', '370.jpg', '379.jpg', '281.jpg', '60.jpg', '114.jpg', '266.jpg', '169.jpg', '17.jpg', '414.jpg', '22.jpg', '335.jpg', '202.jpg', '247.jpg', '403.jpg', '259.jpg', '168.jpg', '312.jpg', '276.jpg', '290.jpg', '388.jpg', '245.jpg', '71.jpg', '19.jpg', '44.jpg', '84.jpg', '31.jpg', '243.jpg', '355.jpg', '411.jpg', '402.jpg', '242.jpg', '104.jpg', '77.jpg', '0.jpg', '185.jpg', '286.jpg', '208.jpg', '300.jpg', '108.jpg', '181.jpg', '6.jpg']\n",
            "['535.jpg', '72.jpg', '75.jpg', '441.jpg', '851.jpg', '549.jpg', '30.jpg', '809.jpg', '567.jpg', '720.jpg', '534.jpg', '310.jpg', '493.jpg', '183.jpg', '522.jpg', '33.jpg', '569.jpg', '109.jpg', '934.jpg', '945.jpg', '554.jpg', '107.jpg', '62.jpg', '163.jpg', '898.jpg', '283.jpg', '87.jpg', '303.jpg', '92.jpg', '982.jpg', '147.jpg', '227.jpg', '100.jpg', '344.jpg', '818.jpg', '728.jpg', '667.jpg', '307.jpg', '364.jpg', '985.jpg', '518.jpg', '162.jpg', '577.jpg', '34.jpg', '407.jpg', '537.jpg', '761.jpg', '102.jpg', '383.jpg', '249.jpg', '870.jpg', '460.jpg', '250.jpg', '354.jpg', '453.jpg', '398.jpg', '206.jpg', '923.jpg', '448.jpg', '281.jpg', '26.jpg', '374.jpg', '783.jpg', '18.jpg', '723.jpg', '425.jpg', '806.jpg', '5.jpg', '603.jpg', '513.jpg', '381.jpg', '265.jpg', '171.jpg', '35.jpg', '907.jpg', '24.jpg', '606.jpg', '647.jpg', '469.jpg', '274.jpg', '431.jpg', '956.jpg', '801.jpg', '639.jpg', '726.jpg', '816.jpg', '781.jpg', '892.jpg', '143.jpg', '520.jpg', '299.jpg', '983.jpg', '738.jpg', '446.jpg', '358.jpg', '807.jpg', '465.jpg', '415.jpg', '184.jpg', '309.jpg', '55.jpg', '210.jpg', '908.jpg', '695.jpg', '925.jpg', '83.jpg', '747.jpg', '449.jpg', '151.jpg', '192.jpg', '524.jpg', '111.jpg', '376.jpg', '73.jpg', '115.jpg', '822.jpg', '910.jpg', '751.jpg', '298.jpg', '108.jpg', '345.jpg', '921.jpg', '623.jpg', '586.jpg', '865.jpg', '37.jpg', '159.jpg', '547.jpg', '17.jpg', '756.jpg', '944.jpg', '884.jpg', '233.jpg', '325.jpg', '8.jpg', '842.jpg', '824.jpg', '663.jpg', '557.jpg', '116.jpg', '826.jpg', '702.jpg', '308.jpg', '579.jpg', '89.jpg', '862.jpg', '942.jpg', '127.jpg', '335.jpg', '275.jpg', '315.jpg', '719.jpg', '355.jpg', '872.jpg', '922.jpg', '563.jpg', '22.jpg', '486.jpg', '150.jpg', '495.jpg', '461.jpg', '498.jpg', '593.jpg', '792.jpg', '813.jpg', '829.jpg', '550.jpg', '483.jpg', '405.jpg', '114.jpg', '587.jpg', '47.jpg', '392.jpg', '791.jpg', '917.jpg', '591.jpg', '444.jpg', '320.jpg', '627.jpg', '244.jpg', '939.jpg', '430.jpg', '211.jpg', '458.jpg', '589.jpg', '767.jpg', '608.jpg', '859.jpg', '953.jpg', '359.jpg', '771.jpg', '409.jpg', '525.jpg', '132.jpg', '736.jpg', '515.jpg', '336.jpg', '611.jpg', '270.jpg', '849.jpg', '240.jpg', '286.jpg', '673.jpg', '101.jpg', '681.jpg', '974.jpg', '169.jpg', '120.jpg', '664.jpg', '831.jpg', '740.jpg', '199.jpg', '436.jpg', '588.jpg', '533.jpg', '718.jpg', '931.jpg', '122.jpg', '517.jpg', '714.jpg', '599.jpg', '20.jpg', '50.jpg', '42.jpg', '65.jpg', '914.jpg', '305.jpg', '505.jpg', '632.jpg', '933.jpg', '290.jpg', '180.jpg', '203.jpg', '754.jpg', '243.jpg', '128.jpg', '221.jpg', '175.jpg', '375.jpg', '389.jpg', '896.jpg', '142.jpg', '640.jpg', '373.jpg', '60.jpg', '66.jpg', '291.jpg', '356.jpg', '634.jpg', '789.jpg', '668.jpg', '815.jpg', '153.jpg', '112.jpg', '80.jpg', '629.jpg', '704.jpg', '256.jpg', '311.jpg', '71.jpg', '644.jpg', '678.jpg', '694.jpg', '144.jpg', '752.jpg', '866.jpg', '437.jpg', '390.jpg', '504.jpg', '349.jpg', '725.jpg', '730.jpg', '749.jpg', '130.jpg', '348.jpg', '456.jpg', '976.jpg', '666.jpg', '14.jpg', '635.jpg', '628.jpg', '500.jpg', '368.jpg', '208.jpg', '564.jpg', '913.jpg', '95.jpg', '158.jpg', '367.jpg', '594.jpg', '419.jpg', '686.jpg', '840.jpg', '919.jpg', '920.jpg', '894.jpg', '254.jpg', '1.jpg', '245.jpg', '891.jpg', '216.jpg', '450.jpg', '566.jpg', '385.jpg', '6.jpg', '580.jpg', '687.jpg', '484.jpg', '616.jpg', '268.jpg', '205.jpg', '445.jpg', '786.jpg', '542.jpg', '294.jpg', '820.jpg', '476.jpg', '839.jpg', '531.jpg', '300.jpg', '207.jpg', '597.jpg', '188.jpg', '701.jpg', '651.jpg', '967.jpg', '292.jpg', '778.jpg', '179.jpg', '464.jpg', '776.jpg', '760.jpg', '932.jpg', '879.jpg', '648.jpg', '197.jpg', '88.jpg', '21.jpg', '49.jpg', '860.jpg', '645.jpg', '669.jpg', '659.jpg', '530.jpg', '139.jpg', '478.jpg', '287.jpg', '928.jpg', '165.jpg', '492.jpg', '852.jpg', '242.jpg', '289.jpg', '386.jpg', '672.jpg', '693.jpg', '463.jpg', '643.jpg', '79.jpg', '279.jpg', '677.jpg', '817.jpg', '361.jpg', '841.jpg', '506.jpg', '235.jpg', '795.jpg', '201.jpg', '803.jpg', '582.jpg', '170.jpg', '362.jpg', '257.jpg', '421.jpg', '167.jpg', '794.jpg', '125.jpg', '716.jpg', '467.jpg', '858.jpg', '462.jpg', '798.jpg', '900.jpg', '435.jpg', '748.jpg', '742.jpg', '561.jpg', '331.jpg', '418.jpg', '406.jpg', '103.jpg', '655.jpg', '543.jpg', '796.jpg', '29.jpg', '459.jpg', '732.jpg', '947.jpg', '610.jpg', '938.jpg', '975.jpg', '382.jpg', '312.jpg', '63.jpg', '656.jpg', '886.jpg', '434.jpg', '93.jpg', '926.jpg', '45.jpg', '755.jpg', '705.jpg', '788.jpg', '968.jpg', '316.jpg', '137.jpg', '351.jpg', '473.jpg', '141.jpg', '733.jpg', '984.jpg', '302.jpg', '438.jpg', '876.jpg', '915.jpg', '576.jpg', '273.jpg', '638.jpg', '804.jpg', '828.jpg', '321.jpg', '581.jpg', '422.jpg', '378.jpg', '53.jpg', '724.jpg', '350.jpg', '954.jpg', '391.jpg', '790.jpg', '856.jpg', '157.jpg', '690.jpg', '753.jpg', '323.jpg', '3.jpg', '474.jpg', '388.jpg', '56.jpg', '395.jpg', '936.jpg', '214.jpg', '40.jpg', '871.jpg', '969.jpg', '572.jpg', '782.jpg', '295.jpg', '76.jpg', '805.jpg', '172.jpg', '491.jpg', '698.jpg', '410.jpg', '84.jpg', '670.jpg', '585.jpg', '119.jpg', '121.jpg', '539.jpg', '91.jpg', '583.jpg', '133.jpg', '955.jpg', '117.jpg', '176.jpg', '727.jpg', '739.jpg', '124.jpg', '708.jpg', '607.jpg', '709.jpg', '916.jpg', '104.jpg', '962.jpg', '875.jpg', '653.jpg', '326.jpg', '762.jpg', '327.jpg', '149.jpg', '981.jpg', '200.jpg', '236.jpg', '630.jpg', '164.jpg', '217.jpg', '400.jpg', '417.jpg', '935.jpg', '154.jpg', '237.jpg', '833.jpg', '218.jpg', '897.jpg', '710.jpg', '893.jpg', '261.jpg', '570.jpg', '41.jpg', '403.jpg', '198.jpg', '703.jpg', '979.jpg', '642.jpg', '707.jpg', '413.jpg', '190.jpg', '759.jpg', '334.jpg', '420.jpg', '59.jpg', '568.jpg', '717.jpg', '692.jpg', '963.jpg', '885.jpg', '558.jpg', '626.jpg', '844.jpg', '909.jpg', '238.jpg', '439.jpg', '470.jpg', '288.jpg', '625.jpg', '509.jpg', '712.jpg', '555.jpg', '924.jpg', '9.jpg', '765.jpg', '857.jpg', '32.jpg', '324.jpg', '602.jpg', '136.jpg', '529.jpg', '322.jpg', '764.jpg', '239.jpg', '878.jpg', '231.jpg', '660.jpg', '847.jpg', '387.jpg', '253.jpg', '838.jpg', '574.jpg', '744.jpg', '276.jpg', '952.jpg', '411.jpg', '225.jpg', '285.jpg', '202.jpg', '160.jpg', '428.jpg', '313.jpg', '443.jpg', '64.jpg', '972.jpg', '105.jpg', '98.jpg', '880.jpg', '330.jpg', '475.jpg', '178.jpg', '126.jpg', '78.jpg', '138.jpg', '134.jpg', '485.jpg', '25.jpg', '965.jpg', '220.jpg', '432.jpg', '38.jpg', '454.jpg', '821.jpg', '977.jpg', '971.jpg', '347.jpg', '696.jpg', '67.jpg', '689.jpg', '613.jpg', '832.jpg', '551.jpg', '384.jpg', '51.jpg', '958.jpg', '540.jpg', '592.jpg', '722.jpg', '502.jpg', '70.jpg', '877.jpg', '802.jpg', '416.jpg', '219.jpg', '612.jpg', '82.jpg', '99.jpg', '360.jpg', '772.jpg', '342.jpg', '333.jpg', '397.jpg', '481.jpg', '604.jpg', '777.jpg', '497.jpg', '487.jpg', '766.jpg', '697.jpg', '633.jpg', '489.jpg', '118.jpg', '193.jpg', '338.jpg', '426.jpg', '15.jpg', '521.jpg', '978.jpg', '614.jpg', '918.jpg', '370.jpg', '745.jpg', '68.jpg', '2.jpg', '113.jpg', '797.jpg', '779.jpg', '501.jpg', '480.jpg', '252.jpg', '427.jpg', '980.jpg', '301.jpg', '808.jpg', '684.jpg', '140.jpg', '575.jpg', '123.jpg', '565.jpg', '966.jpg', '304.jpg', '596.jpg', '452.jpg', '479.jpg', '182.jpg', '658.jpg', '329.jpg', '590.jpg', '895.jpg', '773.jpg', '372.jpg', '810.jpg', '867.jpg', '168.jpg', '499.jpg', '973.jpg', '319.jpg', '339.jpg', '881.jpg', '234.jpg', '402.jpg', '964.jpg', '598.jpg', '77.jpg', '930.jpg', '512.jpg', '507.jpg', '317.jpg', '223.jpg', '508.jpg', '46.jpg', '731.jpg', '96.jpg', '902.jpg', '556.jpg', '617.jpg', '181.jpg', '780.jpg', '58.jpg', '911.jpg', '424.jpg', '36.jpg', '396.jpg', '835.jpg', '899.jpg', '31.jpg', '332.jpg', '145.jpg', '649.jpg', '622.jpg', '683.jpg', '887.jpg', '69.jpg', '228.jpg', '297.jpg', '185.jpg', '251.jpg', '357.jpg', '830.jpg', '353.jpg', '685.jpg', '814.jpg', '784.jpg', '412.jpg', '7.jpg', '94.jpg', '282.jpg', '863.jpg', '267.jpg', '129.jpg', '763.jpg', '957.jpg', '472.jpg', '713.jpg', '284.jpg', '110.jpg', '641.jpg', '601.jpg', '195.jpg', '468.jpg', '377.jpg', '573.jpg', '774.jpg', '186.jpg', '519.jpg', '488.jpg', '85.jpg', '318.jpg', '477.jpg', '553.jpg', '57.jpg', '43.jpg', '940.jpg', '494.jpg', '189.jpg', '538.jpg', '676.jpg', '337.jpg', '823.jpg', '734.jpg', '173.jpg', '523.jpg', '948.jpg', '854.jpg', '545.jpg', '800.jpg', '937.jpg', '869.jpg', '785.jpg', '949.jpg', '229.jpg', '52.jpg', '213.jpg', '260.jpg', '401.jpg', '901.jpg', '837.jpg', '10.jpg', '343.jpg', '328.jpg', '61.jpg', '86.jpg', '440.jpg', '950.jpg', '393.jpg', '874.jpg', '471.jpg', '546.jpg', '528.jpg', '843.jpg', '706.jpg', '853.jpg', '48.jpg', '620.jpg', '836.jpg', '340.jpg', '414.jpg', '743.jpg', '131.jpg', '166.jpg', '652.jpg', '675.jpg', '812.jpg', '455.jpg', '490.jpg', '306.jpg', '905.jpg', '799.jpg', '259.jpg', '929.jpg', '618.jpg', '394.jpg', '366.jpg', '746.jpg', '352.jpg', '399.jpg', '848.jpg', '688.jpg', '39.jpg', '961.jpg', '624.jpg', '204.jpg', '423.jpg', '654.jpg', '906.jpg', '215.jpg', '196.jpg', '864.jpg', '559.jpg', '941.jpg', '263.jpg', '271.jpg', '811.jpg', '230.jpg', '769.jpg', '527.jpg', '775.jpg', '825.jpg', '451.jpg', '516.jpg', '584.jpg', '605.jpg', '711.jpg', '861.jpg', '819.jpg', '16.jpg', '447.jpg', '404.jpg', '514.jpg', '433.jpg', '510.jpg', '408.jpg', '280.jpg', '951.jpg', '23.jpg', '636.jpg', '264.jpg', '90.jpg', '662.jpg', '737.jpg', '363.jpg', '97.jpg', '262.jpg', '834.jpg', '106.jpg', '258.jpg', '889.jpg', '19.jpg', '466.jpg', '191.jpg', '209.jpg', '341.jpg', '552.jpg', '272.jpg', '232.jpg', '314.jpg', '135.jpg', '770.jpg', '13.jpg', '621.jpg', '457.jpg', '511.jpg', '526.jpg', '369.jpg', '482.jpg', '222.jpg', '152.jpg', '904.jpg', '888.jpg', '665.jpg', '296.jpg', '27.jpg', '54.jpg', '247.jpg', '532.jpg', '503.jpg', '787.jpg', '855.jpg', '758.jpg', '671.jpg', '194.jpg', '578.jpg', '248.jpg', '646.jpg', '637.jpg', '266.jpg', '346.jpg', '959.jpg', '700.jpg', '11.jpg', '873.jpg', '293.jpg', '631.jpg', '212.jpg', '927.jpg', '365.jpg', '615.jpg', '4.jpg', '429.jpg', '548.jpg', '560.jpg', '544.jpg', '241.jpg', '600.jpg', '661.jpg', '757.jpg', '680.jpg', '380.jpg', '0.jpg', '741.jpg', '946.jpg', '650.jpg', '682.jpg', '146.jpg', '768.jpg', '269.jpg', '371.jpg', '657.jpg', '174.jpg', '868.jpg', '278.jpg', '187.jpg', '177.jpg', '846.jpg', '226.jpg', '735.jpg', '793.jpg', '379.jpg', '442.jpg', '903.jpg', '44.jpg', '619.jpg', '12.jpg', '155.jpg', '148.jpg', '883.jpg', '729.jpg', '536.jpg', '161.jpg', '571.jpg', '827.jpg', '277.jpg', '595.jpg', '943.jpg', '845.jpg', '912.jpg', '721.jpg', '81.jpg', '562.jpg', '691.jpg', '496.jpg', '850.jpg', '541.jpg', '882.jpg', '609.jpg', '28.jpg', '74.jpg', '715.jpg', '890.jpg', '750.jpg', '674.jpg', '224.jpg', '156.jpg', '970.jpg', '246.jpg', '255.jpg', '679.jpg', '960.jpg', '699.jpg']\n",
            "['663.jpg', '485.jpg', '209.jpg', '906.jpg', '874.jpg', '723.jpg', '678.jpg', '345.jpg', '261.jpg', '440.jpg', '172.jpg', '104.jpg', '372.jpg', '418.jpg', '618.jpg', '533.jpg', '465.jpg', '935.jpg', '982.jpg', '4.jpg', '662.jpg', '938.jpg', '753.jpg', '497.jpg', '950.jpg', '528.jpg', '75.jpg', '185.jpg', '782.jpg', '749.jpg', '573.jpg', '255.jpg', '243.jpg', '502.jpg', '925.jpg', '680.jpg', '967.jpg', '227.jpg', '62.jpg', '87.jpg', '895.jpg', '847.jpg', '720.jpg', '266.jpg', '103.jpg', '31.jpg', '20.jpg', '422.jpg', '85.jpg', '496.jpg', '9.jpg', '505.jpg', '246.jpg', '56.jpg', '674.jpg', '160.jpg', '375.jpg', '386.jpg', '221.jpg', '181.jpg', '65.jpg', '750.jpg', '91.jpg', '254.jpg', '44.jpg', '273.jpg', '363.jpg', '443.jpg', '304.jpg', '908.jpg', '771.jpg', '501.jpg', '519.jpg', '369.jpg', '385.jpg', '586.jpg', '854.jpg', '645.jpg', '161.jpg', '957.jpg', '703.jpg', '187.jpg', '334.jpg', '280.jpg', '508.jpg', '736.jpg', '205.jpg', '419.jpg', '958.jpg', '198.jpg', '191.jpg', '190.jpg', '312.jpg', '592.jpg', '135.jpg', '728.jpg', '981.jpg', '634.jpg', '545.jpg', '961.jpg', '968.jpg', '915.jpg', '77.jpg', '320.jpg', '794.jpg', '952.jpg', '784.jpg', '743.jpg', '902.jpg', '823.jpg', '435.jpg', '143.jpg', '395.jpg', '598.jpg', '420.jpg', '524.jpg', '652.jpg', '483.jpg', '470.jpg', '834.jpg', '787.jpg', '858.jpg', '237.jpg', '494.jpg', '147.jpg', '607.jpg', '407.jpg', '820.jpg', '412.jpg', '193.jpg', '877.jpg', '347.jpg', '63.jpg', '658.jpg', '917.jpg', '392.jpg', '642.jpg', '203.jpg', '493.jpg', '48.jpg', '681.jpg', '231.jpg', '365.jpg', '175.jpg', '316.jpg', '885.jpg', '289.jpg', '971.jpg', '817.jpg', '155.jpg', '456.jpg', '881.jpg', '447.jpg', '487.jpg', '553.jpg', '549.jpg', '543.jpg', '306.jpg', '523.jpg', '692.jpg', '233.jpg', '238.jpg', '166.jpg', '880.jpg', '740.jpg', '350.jpg', '923.jpg', '200.jpg', '421.jpg', '25.jpg', '428.jpg', '514.jpg', '413.jpg', '876.jpg', '217.jpg', '235.jpg', '904.jpg', '672.jpg', '72.jpg', '878.jpg', '660.jpg', '745.jpg', '489.jpg', '860.jpg', '539.jpg', '360.jpg', '92.jpg', '128.jpg', '808.jpg', '430.jpg', '225.jpg', '551.jpg', '767.jpg', '446.jpg', '285.jpg', '156.jpg', '344.jpg', '96.jpg', '171.jpg', '816.jpg', '109.jpg', '410.jpg', '522.jpg', '901.jpg', '837.jpg', '158.jpg', '629.jpg', '451.jpg', '376.jpg', '68.jpg', '359.jpg', '711.jpg', '1.jpg', '265.jpg', '47.jpg', '792.jpg', '620.jpg', '174.jpg', '951.jpg', '973.jpg', '635.jpg', '329.jpg', '11.jpg', '450.jpg', '670.jpg', '526.jpg', '464.jpg', '570.jpg', '875.jpg', '910.jpg', '898.jpg', '300.jpg', '459.jpg', '242.jpg', '581.jpg', '525.jpg', '752.jpg', '111.jpg', '71.jpg', '568.jpg', '882.jpg', '604.jpg', '690.jpg', '107.jpg', '290.jpg', '934.jpg', '434.jpg', '275.jpg', '667.jpg', '468.jpg', '813.jpg', '827.jpg', '7.jpg', '759.jpg', '780.jpg', '654.jpg', '838.jpg', '914.jpg', '480.jpg', '297.jpg', '626.jpg', '491.jpg', '632.jpg', '509.jpg', '590.jpg', '619.jpg', '656.jpg', '556.jpg', '821.jpg', '179.jpg', '825.jpg', '252.jpg', '713.jpg', '26.jpg', '580.jpg', '17.jpg', '122.jpg', '383.jpg', '542.jpg', '706.jpg', '469.jpg', '839.jpg', '129.jpg', '593.jpg', '600.jpg', '126.jpg', '311.jpg', '325.jpg', '567.jpg', '215.jpg', '364.jpg', '722.jpg', '50.jpg', '665.jpg', '583.jpg', '591.jpg', '370.jpg', '59.jpg', '58.jpg', '331.jpg', '974.jpg', '693.jpg', '210.jpg', '536.jpg', '38.jpg', '721.jpg', '883.jpg', '270.jpg', '897.jpg', '747.jpg', '81.jpg', '927.jpg', '848.jpg', '671.jpg', '943.jpg', '879.jpg', '633.jpg', '705.jpg', '367.jpg', '186.jpg', '461.jpg', '223.jpg', '197.jpg', '475.jpg', '557.jpg', '928.jpg', '790.jpg', '517.jpg', '571.jpg', '184.jpg', '28.jpg', '276.jpg', '10.jpg', '529.jpg', '352.jpg', '602.jpg', '896.jpg', '806.jpg', '162.jpg', '781.jpg', '824.jpg', '791.jpg', '587.jpg', '929.jpg', '596.jpg', '348.jpg', '293.jpg', '455.jpg', '110.jpg', '213.jpg']\n",
            "['72.jpg', '75.jpg', '30.jpg', '310.jpg', '183.jpg', '33.jpg', '109.jpg', '107.jpg', '62.jpg', '163.jpg', '283.jpg', '87.jpg', '303.jpg', '92.jpg', '147.jpg', '227.jpg', '100.jpg', '344.jpg', '307.jpg', '364.jpg', '162.jpg', '34.jpg', '407.jpg', '102.jpg', '383.jpg', '249.jpg', '250.jpg', '354.jpg', '398.jpg', '206.jpg', '281.jpg', '26.jpg', '374.jpg', '18.jpg', '425.jpg', '5.jpg', '381.jpg', '265.jpg', '171.jpg', '35.jpg', '24.jpg', '274.jpg', '431.jpg', '143.jpg', '299.jpg', '358.jpg', '415.jpg', '184.jpg', '309.jpg', '55.jpg', '210.jpg', '83.jpg', '151.jpg', '192.jpg', '111.jpg', '376.jpg', '73.jpg', '115.jpg', '298.jpg', '108.jpg', '345.jpg', '37.jpg', '159.jpg', '17.jpg', '233.jpg', '325.jpg', '8.jpg', '116.jpg', '308.jpg', '89.jpg', '127.jpg', '335.jpg', '275.jpg', '315.jpg', '355.jpg', '22.jpg', '150.jpg', '405.jpg', '114.jpg', '47.jpg', '392.jpg', '320.jpg', '244.jpg', '430.jpg', '211.jpg', '359.jpg', '409.jpg', '132.jpg', '336.jpg', '270.jpg', '240.jpg', '286.jpg', '101.jpg', '169.jpg', '120.jpg', '199.jpg', '436.jpg', '122.jpg', '20.jpg', '50.jpg', '42.jpg', '65.jpg', '305.jpg', '290.jpg', '180.jpg', '203.jpg', '243.jpg', '128.jpg', '221.jpg', '175.jpg', '375.jpg', '389.jpg', '142.jpg', '373.jpg', '60.jpg', '66.jpg', '291.jpg', '356.jpg', '153.jpg', '112.jpg', '80.jpg', '256.jpg', '311.jpg', '71.jpg', '144.jpg', '437.jpg', '390.jpg', '349.jpg', '130.jpg', '348.jpg', '14.jpg', '368.jpg', '208.jpg', '95.jpg', '158.jpg', '367.jpg', '419.jpg', '254.jpg', '1.jpg', '245.jpg', '216.jpg', '385.jpg', '6.jpg', '268.jpg', '205.jpg', '294.jpg', '300.jpg', '207.jpg', '188.jpg', '292.jpg', '179.jpg', '197.jpg', '88.jpg', '21.jpg', '49.jpg', '139.jpg', '287.jpg', '165.jpg', '242.jpg', '289.jpg', '386.jpg', '79.jpg', '279.jpg', '361.jpg', '235.jpg', '201.jpg', '170.jpg', '362.jpg', '257.jpg', '421.jpg', '167.jpg', '125.jpg', '435.jpg', '331.jpg', '418.jpg', '406.jpg', '103.jpg', '29.jpg', '382.jpg', '312.jpg', '63.jpg', '434.jpg', '93.jpg', '45.jpg', '316.jpg', '137.jpg', '351.jpg', '141.jpg', '302.jpg', '438.jpg', '273.jpg', '321.jpg', '422.jpg', '378.jpg', '53.jpg', '350.jpg', '391.jpg', '157.jpg', '323.jpg', '3.jpg', '388.jpg', '56.jpg', '395.jpg', '214.jpg', '40.jpg', '295.jpg', '76.jpg', '172.jpg', '410.jpg', '84.jpg', '119.jpg', '121.jpg', '91.jpg', '133.jpg', '117.jpg', '176.jpg', '124.jpg', '104.jpg', '326.jpg', '327.jpg', '149.jpg', '200.jpg', '236.jpg', '164.jpg', '217.jpg', '400.jpg', '417.jpg', '154.jpg', '237.jpg', '218.jpg', '261.jpg', '41.jpg', '403.jpg', '198.jpg', '413.jpg', '190.jpg', '334.jpg', '420.jpg', '59.jpg', '238.jpg', '439.jpg', '288.jpg', '9.jpg', '32.jpg', '324.jpg', '136.jpg', '322.jpg', '239.jpg', '231.jpg', '387.jpg', '253.jpg', '276.jpg', '411.jpg', '225.jpg', '285.jpg', '202.jpg', '160.jpg', '428.jpg', '313.jpg', '64.jpg', '105.jpg', '98.jpg', '330.jpg', '178.jpg', '126.jpg', '78.jpg', '138.jpg', '134.jpg', '25.jpg', '220.jpg', '432.jpg', '38.jpg', '347.jpg', '67.jpg', '384.jpg', '51.jpg', '70.jpg', '416.jpg', '219.jpg', '82.jpg', '99.jpg', '360.jpg', '342.jpg', '333.jpg', '397.jpg', '118.jpg', '193.jpg', '338.jpg', '426.jpg', '15.jpg', '370.jpg', '68.jpg', '2.jpg', '113.jpg', '252.jpg', '427.jpg', '301.jpg', '140.jpg', '123.jpg', '304.jpg', '182.jpg', '329.jpg', '372.jpg', '168.jpg', '319.jpg', '339.jpg', '234.jpg', '402.jpg', '77.jpg', '317.jpg', '223.jpg', '46.jpg', '96.jpg', '181.jpg', '58.jpg', '424.jpg', '36.jpg', '396.jpg', '31.jpg', '332.jpg', '145.jpg', '69.jpg', '228.jpg', '297.jpg', '185.jpg', '251.jpg', '357.jpg', '353.jpg', '412.jpg', '7.jpg', '94.jpg', '282.jpg', '267.jpg', '129.jpg', '284.jpg', '110.jpg', '195.jpg', '377.jpg', '186.jpg', '85.jpg', '318.jpg', '57.jpg', '43.jpg', '189.jpg', '337.jpg', '173.jpg', '229.jpg', '52.jpg', '213.jpg', '260.jpg', '401.jpg', '10.jpg', '343.jpg', '328.jpg', '61.jpg', '86.jpg', '393.jpg', '48.jpg', '340.jpg', '414.jpg', '131.jpg', '166.jpg', '306.jpg', '259.jpg', '394.jpg', '366.jpg', '352.jpg', '399.jpg', '39.jpg', '204.jpg', '423.jpg', '215.jpg', '196.jpg', '263.jpg', '271.jpg', '230.jpg', '16.jpg', '404.jpg', '433.jpg', '408.jpg', '280.jpg', '23.jpg', '264.jpg', '90.jpg', '363.jpg', '97.jpg', '262.jpg', '106.jpg', '258.jpg', '19.jpg', '191.jpg', '209.jpg', '341.jpg', '272.jpg', '232.jpg', '314.jpg', '135.jpg', '13.jpg', '369.jpg', '222.jpg', '152.jpg', '296.jpg', '27.jpg', '54.jpg', '247.jpg', '194.jpg', '248.jpg', '266.jpg', '346.jpg', '11.jpg', '293.jpg', '212.jpg', '365.jpg', '4.jpg', '429.jpg', '241.jpg', '380.jpg', '0.jpg', '146.jpg', '269.jpg', '371.jpg', '174.jpg', '278.jpg', '187.jpg', '177.jpg', '226.jpg', '379.jpg', '44.jpg', '12.jpg', '155.jpg', '148.jpg', '161.jpg', '277.jpg', '81.jpg', '28.jpg', '74.jpg', '224.jpg', '156.jpg', '246.jpg', '255.jpg']\n",
            "['308.jpg', '68.jpg', '81.jpg', '293.jpg', '209.jpg', '374.jpg', '14.jpg', '345.jpg', '225.jpg', '19.jpg', '261.jpg', '288.jpg', '129.jpg', '53.jpg', '54.jpg', '128.jpg', '309.jpg', '387.jpg', '147.jpg', '3.jpg', '200.jpg', '46.jpg', '191.jpg', '341.jpg', '75.jpg', '393.jpg', '237.jpg', '419.jpg', '204.jpg', '224.jpg', '356.jpg', '372.jpg', '151.jpg', '279.jpg', '227.jpg', '87.jpg', '92.jpg', '267.jpg', '416.jpg', '183.jpg', '350.jpg', '10.jpg', '375.jpg', '124.jpg', '215.jpg', '174.jpg', '432.jpg', '373.jpg', '74.jpg', '217.jpg', '161.jpg', '333.jpg', '112.jpg', '103.jpg', '153.jpg', '229.jpg', '142.jpg', '190.jpg', '188.jpg', '247.jpg', '133.jpg', '397.jpg', '412.jpg', '83.jpg', '199.jpg', '228.jpg', '423.jpg', '197.jpg', '37.jpg', '167.jpg', '212.jpg', '394.jpg', '160.jpg', '135.jpg', '64.jpg', '189.jpg', '122.jpg', '139.jpg', '294.jpg', '182.jpg', '202.jpg', '313.jpg', '56.jpg', '329.jpg', '344.jpg', '136.jpg', '144.jpg', '76.jpg', '91.jpg', '318.jpg', '336.jpg', '141.jpg', '99.jpg', '173.jpg', '321.jpg', '299.jpg', '0.jpg', '85.jpg', '105.jpg', '376.jpg', '430.jpg', '138.jpg', '48.jpg', '438.jpg', '253.jpg', '194.jpg', '439.jpg', '407.jpg', '165.jpg', '58.jpg', '168.jpg', '301.jpg', '377.jpg', '132.jpg', '409.jpg', '428.jpg', '291.jpg', '109.jpg', '305.jpg', '70.jpg', '52.jpg', '97.jpg', '172.jpg', '178.jpg', '262.jpg', '427.jpg', '63.jpg', '264.jpg', '254.jpg', '332.jpg', '30.jpg', '391.jpg', '330.jpg', '8.jpg', '78.jpg', '338.jpg', '203.jpg', '326.jpg', '398.jpg', '322.jpg', '351.jpg', '246.jpg', '258.jpg', '69.jpg', '340.jpg', '121.jpg', '231.jpg', '93.jpg', '369.jpg', '29.jpg', '72.jpg', '51.jpg', '145.jpg', '421.jpg', '413.jpg', '232.jpg', '11.jpg', '240.jpg', '360.jpg', '101.jpg', '415.jpg', '156.jpg', '100.jpg', '381.jpg', '431.jpg', '62.jpg', '41.jpg', '107.jpg', '268.jpg', '349.jpg', '146.jpg', '73.jpg', '120.jpg', '424.jpg', '23.jpg', '5.jpg', '359.jpg', '320.jpg', '219.jpg', '251.jpg', '245.jpg', '179.jpg', '403.jpg', '235.jpg', '285.jpg', '256.jpg', '206.jpg', '271.jpg', '47.jpg', '20.jpg', '357.jpg', '177.jpg', '214.jpg', '187.jpg', '234.jpg', '354.jpg', '233.jpg', '155.jpg', '304.jpg', '98.jpg', '192.jpg', '306.jpg', '13.jpg', '84.jpg', '33.jpg', '115.jpg', '152.jpg', '65.jpg', '265.jpg', '163.jpg', '316.jpg', '274.jpg', '60.jpg', '181.jpg', '348.jpg', '331.jpg', '175.jpg', '366.jpg', '408.jpg', '25.jpg', '79.jpg', '40.jpg', '370.jpg', '208.jpg', '66.jpg', '118.jpg', '158.jpg', '170.jpg', '347.jpg', '185.jpg', '435.jpg', '207.jpg', '295.jpg', '244.jpg', '257.jpg', '327.jpg', '164.jpg', '284.jpg', '302.jpg', '150.jpg', '28.jpg', '111.jpg', '303.jpg', '114.jpg', '307.jpg', '364.jpg', '276.jpg', '388.jpg', '273.jpg', '24.jpg', '243.jpg', '205.jpg', '32.jpg', '18.jpg', '317.jpg', '38.jpg', '9.jpg', '196.jpg', '401.jpg', '166.jpg', '140.jpg', '143.jpg', '289.jpg', '44.jpg', '45.jpg', '436.jpg', '16.jpg', '260.jpg', '249.jpg', '266.jpg', '300.jpg', '420.jpg', '2.jpg', '55.jpg', '390.jpg', '250.jpg', '50.jpg', '22.jpg', '400.jpg', '272.jpg', '198.jpg', '43.jpg', '287.jpg', '404.jpg', '275.jpg', '104.jpg', '363.jpg', '39.jpg', '242.jpg', '353.jpg', '425.jpg', '57.jpg', '239.jpg', '323.jpg', '255.jpg', '383.jpg', '259.jpg', '216.jpg', '334.jpg', '365.jpg', '328.jpg', '6.jpg', '277.jpg', '296.jpg', '283.jpg', '34.jpg', '292.jpg', '382.jpg', '426.jpg', '193.jpg', '417.jpg', '36.jpg', '325.jpg', '184.jpg', '352.jpg', '437.jpg', '433.jpg', '67.jpg', '281.jpg', '389.jpg', '405.jpg', '361.jpg', '286.jpg', '380.jpg', '159.jpg', '86.jpg', '355.jpg', '127.jpg', '110.jpg', '226.jpg', '4.jpg', '96.jpg', '263.jpg', '406.jpg', '131.jpg', '42.jpg', '222.jpg', '1.jpg', '236.jpg', '71.jpg', '77.jpg', '248.jpg', '7.jpg', '195.jpg', '315.jpg', '90.jpg', '429.jpg', '59.jpg', '367.jpg', '95.jpg']\n",
            "['72.jpg', '75.jpg', '30.jpg', '183.jpg', '33.jpg', '109.jpg', '107.jpg', '62.jpg', '163.jpg', '87.jpg', '92.jpg', '147.jpg', '227.jpg', '100.jpg', '162.jpg', '34.jpg', '102.jpg', '249.jpg', '250.jpg', '206.jpg', '26.jpg', '18.jpg', '5.jpg', '265.jpg', '171.jpg', '35.jpg', '24.jpg', '274.jpg', '143.jpg', '184.jpg', '55.jpg', '210.jpg', '83.jpg', '151.jpg', '192.jpg', '111.jpg', '73.jpg', '115.jpg', '108.jpg', '37.jpg', '159.jpg', '17.jpg', '233.jpg', '8.jpg', '116.jpg', '89.jpg', '127.jpg', '275.jpg', '22.jpg', '150.jpg', '114.jpg', '47.jpg', '244.jpg', '211.jpg', '132.jpg', '270.jpg', '240.jpg', '101.jpg', '169.jpg', '120.jpg', '199.jpg', '122.jpg', '20.jpg', '50.jpg', '42.jpg', '65.jpg', '180.jpg', '203.jpg', '243.jpg', '128.jpg', '221.jpg', '175.jpg', '142.jpg', '60.jpg', '66.jpg', '153.jpg', '112.jpg', '80.jpg', '256.jpg', '71.jpg', '144.jpg', '130.jpg', '14.jpg', '208.jpg', '95.jpg', '158.jpg', '254.jpg', '1.jpg', '245.jpg', '216.jpg', '6.jpg', '268.jpg', '205.jpg', '207.jpg', '188.jpg', '179.jpg', '197.jpg', '88.jpg', '21.jpg', '49.jpg', '139.jpg', '165.jpg', '242.jpg', '79.jpg', '279.jpg', '235.jpg', '201.jpg', '170.jpg', '257.jpg', '167.jpg', '125.jpg', '103.jpg', '29.jpg', '63.jpg', '93.jpg', '45.jpg', '137.jpg', '141.jpg', '273.jpg', '53.jpg', '157.jpg', '3.jpg', '56.jpg', '214.jpg', '40.jpg', '76.jpg', '172.jpg', '84.jpg', '119.jpg', '121.jpg', '91.jpg', '133.jpg', '117.jpg', '176.jpg', '124.jpg', '104.jpg', '149.jpg', '200.jpg', '236.jpg', '164.jpg', '217.jpg', '154.jpg', '237.jpg', '218.jpg', '261.jpg', '41.jpg', '198.jpg', '190.jpg', '59.jpg', '238.jpg', '9.jpg', '32.jpg', '136.jpg', '239.jpg', '231.jpg', '253.jpg', '276.jpg', '225.jpg', '202.jpg', '160.jpg', '64.jpg', '105.jpg', '98.jpg', '178.jpg', '126.jpg', '78.jpg', '138.jpg', '134.jpg', '25.jpg', '220.jpg', '38.jpg', '67.jpg', '51.jpg', '70.jpg', '219.jpg', '82.jpg', '99.jpg', '118.jpg', '193.jpg', '15.jpg', '68.jpg', '2.jpg', '113.jpg', '252.jpg', '140.jpg', '123.jpg', '182.jpg', '168.jpg', '234.jpg', '77.jpg', '223.jpg', '46.jpg', '96.jpg', '181.jpg', '58.jpg', '36.jpg', '31.jpg', '145.jpg', '69.jpg', '228.jpg', '185.jpg', '251.jpg', '7.jpg', '94.jpg', '267.jpg', '129.jpg', '110.jpg', '195.jpg', '186.jpg', '85.jpg', '57.jpg', '43.jpg', '189.jpg', '173.jpg', '229.jpg', '52.jpg', '213.jpg', '260.jpg', '10.jpg', '61.jpg', '86.jpg', '48.jpg', '131.jpg', '166.jpg', '259.jpg', '39.jpg', '204.jpg', '215.jpg', '196.jpg', '263.jpg', '271.jpg', '230.jpg', '16.jpg', '23.jpg', '264.jpg', '90.jpg', '97.jpg', '262.jpg', '106.jpg', '258.jpg', '19.jpg', '191.jpg', '209.jpg', '272.jpg', '232.jpg', '135.jpg', '13.jpg', '222.jpg', '152.jpg', '27.jpg', '54.jpg', '247.jpg', '194.jpg', '248.jpg', '266.jpg', '11.jpg', '212.jpg', '4.jpg', '241.jpg', '0.jpg', '146.jpg', '269.jpg', '174.jpg', '278.jpg', '187.jpg', '177.jpg', '226.jpg', '44.jpg', '12.jpg', '155.jpg', '148.jpg', '161.jpg', '277.jpg', '81.jpg', '28.jpg', '74.jpg', '224.jpg', '156.jpg', '246.jpg', '255.jpg']\n",
            "['243.jpg', '83.jpg', '91.jpg', '199.jpg', '248.jpg', '271.jpg', '191.jpg', '58.jpg', '170.jpg', '22.jpg', '27.jpg', '162.jpg', '228.jpg', '48.jpg', '75.jpg', '196.jpg', '149.jpg', '141.jpg', '244.jpg', '98.jpg', '34.jpg', '147.jpg', '100.jpg', '33.jpg', '36.jpg', '82.jpg', '270.jpg', '152.jpg', '257.jpg', '123.jpg', '62.jpg', '104.jpg', '240.jpg', '11.jpg', '29.jpg', '19.jpg', '172.jpg', '154.jpg', '120.jpg', '245.jpg', '81.jpg', '70.jpg', '222.jpg', '277.jpg', '174.jpg', '66.jpg', '109.jpg', '201.jpg', '229.jpg', '237.jpg', '126.jpg', '35.jpg', '275.jpg', '105.jpg', '54.jpg', '86.jpg', '153.jpg', '55.jpg', '223.jpg', '158.jpg', '140.jpg', '113.jpg', '119.jpg', '247.jpg', '121.jpg', '189.jpg', '67.jpg', '148.jpg', '80.jpg', '142.jpg', '9.jpg', '84.jpg', '52.jpg', '139.jpg', '85.jpg', '163.jpg', '56.jpg', '20.jpg', '226.jpg', '79.jpg', '16.jpg', '38.jpg', '116.jpg', '207.jpg', '217.jpg', '15.jpg', '51.jpg', '234.jpg', '179.jpg', '5.jpg', '135.jpg', '220.jpg', '156.jpg', '274.jpg', '17.jpg', '176.jpg', '110.jpg', '188.jpg', '76.jpg', '155.jpg', '157.jpg', '241.jpg', '256.jpg', '225.jpg', '32.jpg', '59.jpg', '252.jpg', '78.jpg', '8.jpg', '173.jpg', '260.jpg', '169.jpg', '183.jpg', '47.jpg', '236.jpg', '13.jpg', '258.jpg', '185.jpg', '133.jpg', '232.jpg', '190.jpg', '6.jpg', '90.jpg', '255.jpg', '263.jpg', '177.jpg', '21.jpg', '204.jpg', '151.jpg', '117.jpg', '218.jpg', '269.jpg', '167.jpg', '12.jpg', '214.jpg', '31.jpg', '209.jpg', '138.jpg', '195.jpg', '235.jpg', '40.jpg', '268.jpg', '44.jpg', '64.jpg', '72.jpg', '95.jpg', '99.jpg', '68.jpg', '25.jpg', '89.jpg', '127.jpg', '265.jpg', '65.jpg', '212.jpg', '161.jpg', '97.jpg', '254.jpg', '87.jpg', '92.jpg', '103.jpg', '30.jpg', '101.jpg', '231.jpg', '197.jpg', '137.jpg', '111.jpg', '210.jpg', '192.jpg', '198.jpg', '242.jpg', '71.jpg', '96.jpg', '145.jpg', '115.jpg', '267.jpg', '18.jpg', '26.jpg', '246.jpg', '203.jpg', '279.jpg', '124.jpg', '77.jpg', '14.jpg', '181.jpg', '200.jpg', '136.jpg', '216.jpg', '39.jpg', '50.jpg', '224.jpg', '164.jpg', '134.jpg', '37.jpg', '150.jpg', '69.jpg', '211.jpg', '171.jpg', '266.jpg', '4.jpg', '125.jpg', '186.jpg', '24.jpg', '43.jpg', '74.jpg', '53.jpg', '143.jpg', '166.jpg', '114.jpg', '250.jpg', '272.jpg', '146.jpg', '273.jpg', '42.jpg', '132.jpg', '264.jpg', '276.jpg', '160.jpg', '88.jpg', '205.jpg', '61.jpg', '187.jpg', '259.jpg', '73.jpg', '28.jpg', '128.jpg', '233.jpg', '159.jpg', '182.jpg', '278.jpg', '215.jpg', '206.jpg', '253.jpg', '130.jpg', '262.jpg', '41.jpg', '221.jpg', '2.jpg', '168.jpg', '180.jpg', '3.jpg', '118.jpg', '165.jpg', '102.jpg', '230.jpg', '194.jpg', '60.jpg', '57.jpg', '184.jpg', '49.jpg', '1.jpg', '219.jpg', '144.jpg', '208.jpg', '251.jpg', '122.jpg', '46.jpg', '202.jpg', '227.jpg', '107.jpg', '193.jpg', '238.jpg', '106.jpg', '7.jpg', '175.jpg', '0.jpg', '213.jpg', '63.jpg', '45.jpg', '10.jpg', '108.jpg', '129.jpg', '93.jpg', '23.jpg', '112.jpg', '178.jpg', '239.jpg', '249.jpg', '94.jpg', '131.jpg', '261.jpg']\n",
            "['535.jpg', '72.jpg', '75.jpg', '441.jpg', '1399.jpg', '1385.jpg', '851.jpg', '549.jpg', '30.jpg', '1454.jpg', '1158.jpg', '1038.jpg', '809.jpg', '567.jpg', '720.jpg', '534.jpg', '310.jpg', '493.jpg', '1213.jpg', '1013.jpg', '183.jpg', '522.jpg', '1079.jpg', '33.jpg', '1289.jpg', '569.jpg', '109.jpg', '934.jpg', '945.jpg', '554.jpg', '107.jpg', '1267.jpg', '62.jpg', '1424.jpg', '163.jpg', '1104.jpg', '1059.jpg', '1165.jpg', '898.jpg', '283.jpg', '87.jpg', '1061.jpg', '303.jpg', '92.jpg', '1264.jpg', '982.jpg', '147.jpg', '1371.jpg', '227.jpg', '1481.jpg', '100.jpg', '344.jpg', '818.jpg', '1207.jpg', '1171.jpg', '1309.jpg', '1442.jpg', '728.jpg', '667.jpg', '307.jpg', '1282.jpg', '364.jpg', '1133.jpg', '985.jpg', '518.jpg', '162.jpg', '577.jpg', '34.jpg', '407.jpg', '537.jpg', '1425.jpg', '761.jpg', '102.jpg', '1409.jpg', '1076.jpg', '383.jpg', '1241.jpg', '249.jpg', '870.jpg', '460.jpg', '1018.jpg', '250.jpg', '354.jpg', '453.jpg', '398.jpg', '206.jpg', '1021.jpg', '923.jpg', '448.jpg', '281.jpg', '1123.jpg', '1191.jpg', '26.jpg', '374.jpg', '1437.jpg', '783.jpg', '18.jpg', '1089.jpg', '723.jpg', '1239.jpg', '425.jpg', '1162.jpg', '1105.jpg', '806.jpg', '5.jpg', '603.jpg', '1295.jpg', '1310.jpg', '513.jpg', '381.jpg', '986.jpg', '265.jpg', '171.jpg', '1150.jpg', '35.jpg', '1466.jpg', '907.jpg', '24.jpg', '1151.jpg', '606.jpg', '647.jpg', '469.jpg', '274.jpg', '431.jpg', '956.jpg', '801.jpg', '1488.jpg', '1313.jpg', '639.jpg', '726.jpg', '816.jpg', '781.jpg', '1330.jpg', '892.jpg', '143.jpg', '520.jpg', '299.jpg', '983.jpg', '738.jpg', '1243.jpg', '1188.jpg', '1317.jpg', '1090.jpg', '446.jpg', '1389.jpg', '358.jpg', '1410.jpg', '807.jpg', '1232.jpg', '1406.jpg', '1220.jpg', '465.jpg', '415.jpg', '184.jpg', '309.jpg', '55.jpg', '1070.jpg', '1345.jpg', '210.jpg', '1414.jpg', '908.jpg', '695.jpg', '925.jpg', '83.jpg', '1069.jpg', '747.jpg', '1372.jpg', '449.jpg', '1028.jpg', '1015.jpg', '1086.jpg', '992.jpg', '1056.jpg', '151.jpg', '192.jpg', '524.jpg', '1405.jpg', '111.jpg', '376.jpg', '73.jpg', '1433.jpg', '115.jpg', '822.jpg', '910.jpg', '751.jpg', '298.jpg', '108.jpg', '1027.jpg', '1418.jpg', '345.jpg', '921.jpg', '1095.jpg', '623.jpg', '586.jpg', '865.jpg', '37.jpg', '159.jpg', '1301.jpg', '1055.jpg', '547.jpg', '17.jpg', '1305.jpg', '1293.jpg', '756.jpg', '1431.jpg', '1279.jpg', '1472.jpg', '944.jpg', '1263.jpg', '1175.jpg', '1166.jpg', '1099.jpg', '884.jpg', '233.jpg', '325.jpg', '8.jpg', '1391.jpg', '842.jpg', '824.jpg', '1183.jpg', '663.jpg', '557.jpg', '1091.jpg', '116.jpg', '826.jpg', '1138.jpg', '702.jpg', '308.jpg', '579.jpg', '89.jpg', '862.jpg', '1073.jpg', '942.jpg', '127.jpg', '335.jpg', '1352.jpg', '1181.jpg', '275.jpg', '1201.jpg', '315.jpg', '719.jpg', '1236.jpg', '355.jpg', '1011.jpg', '872.jpg', '922.jpg', '563.jpg', '22.jpg', '1189.jpg', '486.jpg', '150.jpg', '495.jpg', '1182.jpg', '461.jpg', '498.jpg', '593.jpg', '1246.jpg', '1315.jpg', '792.jpg', '813.jpg', '829.jpg', '1378.jpg', '1174.jpg', '550.jpg', '1333.jpg', '483.jpg', '405.jpg', '114.jpg', '1216.jpg', '587.jpg', '1361.jpg', '47.jpg', '392.jpg', '1272.jpg', '791.jpg', '917.jpg', '591.jpg', '444.jpg', '320.jpg', '627.jpg', '1120.jpg', '1368.jpg', '1009.jpg', '1005.jpg', '244.jpg', '1036.jpg', '939.jpg', '430.jpg', '1064.jpg', '1002.jpg', '211.jpg', '1254.jpg', '1443.jpg', '458.jpg', '589.jpg', '1354.jpg', '767.jpg', '1062.jpg', '608.jpg', '859.jpg', '953.jpg', '359.jpg', '771.jpg', '409.jpg', '525.jpg', '132.jpg', '736.jpg', '994.jpg', '1428.jpg', '515.jpg', '1211.jpg', '1049.jpg', '336.jpg', '611.jpg', '270.jpg', '1085.jpg', '1075.jpg', '1172.jpg', '849.jpg', '240.jpg', '1193.jpg', '1222.jpg', '1294.jpg', '1221.jpg', '286.jpg', '1109.jpg', '673.jpg', '1234.jpg', '1468.jpg', '101.jpg', '1026.jpg', '681.jpg', '974.jpg', '169.jpg', '120.jpg', '664.jpg', '831.jpg', '740.jpg', '199.jpg', '436.jpg', '588.jpg', '1116.jpg', '1223.jpg', '533.jpg', '1380.jpg', '1020.jpg', '1357.jpg', '718.jpg', '1314.jpg', '931.jpg', '1118.jpg', '1167.jpg', '1050.jpg', '1214.jpg', '122.jpg', '517.jpg', '1331.jpg', '714.jpg', '1367.jpg', '599.jpg', '20.jpg', '1204.jpg', '50.jpg', '42.jpg', '1159.jpg', '65.jpg', '1047.jpg', '914.jpg', '305.jpg', '505.jpg', '1422.jpg', '632.jpg', '996.jpg', '933.jpg', '290.jpg', '180.jpg', '1356.jpg', '203.jpg', '754.jpg', '243.jpg', '128.jpg', '1329.jpg', '1444.jpg', '221.jpg', '175.jpg', '375.jpg', '389.jpg', '1259.jpg', '896.jpg', '142.jpg', '640.jpg', '373.jpg', '60.jpg', '66.jpg', '1274.jpg', '1400.jpg', '291.jpg', '356.jpg', '1439.jpg', '634.jpg', '789.jpg', '668.jpg', '815.jpg', '1480.jpg', '1303.jpg', '1200.jpg', '153.jpg', '112.jpg', '80.jpg', '629.jpg', '704.jpg', '256.jpg', '311.jpg', '1244.jpg', '71.jpg', '644.jpg', '678.jpg', '694.jpg', '144.jpg', '1194.jpg', '752.jpg', '866.jpg', '1224.jpg', '437.jpg', '390.jpg', '504.jpg', '349.jpg', '1037.jpg', '725.jpg', '1321.jpg', '730.jpg', '749.jpg', '130.jpg', '1255.jpg', '1280.jpg', '1147.jpg', '348.jpg', '1497.jpg', '456.jpg', '1226.jpg', '976.jpg', '666.jpg', '14.jpg', '1144.jpg', '1195.jpg', '1235.jpg', '635.jpg', '628.jpg', '1081.jpg', '1126.jpg', '500.jpg', '368.jpg', '1292.jpg', '208.jpg', '1080.jpg', '564.jpg', '913.jpg', '1286.jpg', '95.jpg', '1495.jpg', '1196.jpg', '1461.jpg', '1483.jpg', '158.jpg', '367.jpg', '594.jpg', '419.jpg', '1192.jpg', '686.jpg', '1007.jpg', '840.jpg', '919.jpg', '1304.jpg', '920.jpg', '894.jpg', '1355.jpg', '254.jpg', '1.jpg', '1248.jpg', '245.jpg', '1441.jpg', '891.jpg', '216.jpg', '450.jpg', '566.jpg', '385.jpg', '1176.jpg', '6.jpg', '580.jpg', '687.jpg', '1115.jpg', '484.jpg', '616.jpg', '268.jpg', '1489.jpg', '205.jpg', '445.jpg', '1429.jpg', '786.jpg', '1231.jpg', '542.jpg', '1257.jpg', '1319.jpg', '294.jpg', '820.jpg', '476.jpg', '1460.jpg', '839.jpg', '531.jpg', '300.jpg', '207.jpg', '1040.jpg', '1048.jpg', '1300.jpg', '597.jpg', '1265.jpg', '188.jpg', '701.jpg', '651.jpg', '1046.jpg', '967.jpg', '1386.jpg', '1336.jpg', '1256.jpg', '292.jpg', '778.jpg', '179.jpg', '990.jpg', '464.jpg', '1077.jpg', '1258.jpg', '776.jpg', '760.jpg', '932.jpg', '879.jpg', '648.jpg', '197.jpg', '88.jpg', '21.jpg', '49.jpg', '860.jpg', '645.jpg', '669.jpg', '1392.jpg', '659.jpg', '530.jpg', '139.jpg', '478.jpg', '1432.jpg', '287.jpg', '928.jpg', '1212.jpg', '165.jpg', '492.jpg', '852.jpg', '242.jpg', '289.jpg', '386.jpg', '672.jpg', '1228.jpg', '693.jpg', '463.jpg', '643.jpg', '79.jpg', '279.jpg', '1262.jpg', '677.jpg', '1341.jpg', '1276.jpg', '817.jpg', '1376.jpg', '361.jpg', '841.jpg', '506.jpg', '1334.jpg', '235.jpg', '1475.jpg', '1271.jpg', '1325.jpg', '795.jpg', '1322.jpg', '201.jpg', '803.jpg', '582.jpg', '170.jpg', '362.jpg', '257.jpg', '421.jpg', '167.jpg', '1098.jpg', '794.jpg', '125.jpg', '716.jpg', '1452.jpg', '467.jpg', '1209.jpg', '858.jpg', '462.jpg', '1324.jpg', '798.jpg', '900.jpg', '435.jpg', '1000.jpg', '1393.jpg', '1350.jpg', '1440.jpg', '1332.jpg', '1465.jpg', '748.jpg', '1387.jpg', '1106.jpg', '742.jpg', '1164.jpg', '1494.jpg', '561.jpg', '331.jpg', '418.jpg', '406.jpg', '103.jpg', '655.jpg', '1219.jpg', '989.jpg', '543.jpg', '1008.jpg', '796.jpg', '29.jpg', '459.jpg', '732.jpg', '947.jpg', '610.jpg', '1270.jpg', '1337.jpg', '938.jpg', '975.jpg', '382.jpg', '312.jpg', '63.jpg', '656.jpg', '1029.jpg', '886.jpg', '434.jpg', '93.jpg', '926.jpg', '45.jpg', '755.jpg', '1072.jpg', '705.jpg', '788.jpg', '968.jpg', '316.jpg', '137.jpg', '1318.jpg', '351.jpg', '473.jpg', '141.jpg', '1451.jpg', '733.jpg', '984.jpg', '1017.jpg', '1044.jpg', '1014.jpg', '1179.jpg', '1252.jpg', '1030.jpg', '302.jpg', '438.jpg', '1177.jpg', '876.jpg', '1067.jpg', '1210.jpg', '1127.jpg', '915.jpg', '576.jpg', '273.jpg', '1218.jpg', '638.jpg', '804.jpg', '828.jpg', '321.jpg', '1082.jpg', '581.jpg', '422.jpg', '378.jpg', '53.jpg', '724.jpg', '350.jpg', '954.jpg', '391.jpg', '790.jpg', '856.jpg', '1384.jpg', '157.jpg', '1467.jpg', '690.jpg', '753.jpg', '323.jpg', '1453.jpg', '1168.jpg', '1340.jpg', '3.jpg', '474.jpg', '1135.jpg', '388.jpg', '1287.jpg', '56.jpg', '1148.jpg', '395.jpg', '936.jpg', '214.jpg', '1375.jpg', '40.jpg', '871.jpg', '1034.jpg', '969.jpg', '1446.jpg', '995.jpg', '1458.jpg', '1022.jpg', '572.jpg', '782.jpg', '295.jpg', '76.jpg', '805.jpg', '1348.jpg', '1023.jpg', '172.jpg', '491.jpg', '698.jpg', '410.jpg', '1297.jpg', '84.jpg', '670.jpg', '1124.jpg', '585.jpg', '119.jpg', '121.jpg', '1482.jpg', '539.jpg', '91.jpg', '993.jpg', '1471.jpg', '1413.jpg', '1113.jpg', '583.jpg', '1186.jpg', '133.jpg', '955.jpg', '117.jpg', '988.jpg', '999.jpg', '176.jpg', '1149.jpg', '1296.jpg', '1019.jpg', '727.jpg', '739.jpg', '1197.jpg', '1247.jpg', '124.jpg', '708.jpg', '607.jpg', '709.jpg', '916.jpg', '1010.jpg', '1438.jpg', '104.jpg', '1498.jpg', '962.jpg', '875.jpg', '1132.jpg', '653.jpg', '326.jpg', '1373.jpg', '762.jpg', '1031.jpg', '327.jpg', '149.jpg', '1125.jpg', '1112.jpg', '981.jpg', '200.jpg', '236.jpg', '630.jpg', '164.jpg', '217.jpg', '400.jpg', '417.jpg', '935.jpg', '154.jpg', '237.jpg', '833.jpg', '1421.jpg', '218.jpg', '897.jpg', '710.jpg', '893.jpg', '261.jpg', '570.jpg', '1122.jpg', '41.jpg', '403.jpg', '198.jpg', '703.jpg', '979.jpg', '1145.jpg', '642.jpg', '707.jpg', '1283.jpg', '413.jpg', '190.jpg', '759.jpg', '1377.jpg', '334.jpg', '420.jpg', '59.jpg', '568.jpg', '717.jpg', '692.jpg', '1229.jpg', '1338.jpg', '963.jpg', '885.jpg', '558.jpg', '626.jpg', '1445.jpg', '1448.jpg', '1366.jpg', '1094.jpg', '844.jpg', '1001.jpg', '909.jpg', '1240.jpg', '1455.jpg', '238.jpg', '439.jpg', '1374.jpg', '470.jpg', '288.jpg', '625.jpg', '509.jpg', '712.jpg', '555.jpg', '1004.jpg', '924.jpg', '9.jpg', '1045.jpg', '765.jpg', '1060.jpg', '857.jpg', '32.jpg', '1408.jpg', '324.jpg', '602.jpg', '1499.jpg', '136.jpg', '529.jpg', '322.jpg', '764.jpg', '1024.jpg', '239.jpg', '878.jpg', '1032.jpg', '991.jpg', '231.jpg', '1473.jpg', '660.jpg', '847.jpg', '1003.jpg', '387.jpg', '253.jpg', '838.jpg', '1155.jpg', '574.jpg', '744.jpg', '1093.jpg', '276.jpg', '1306.jpg', '952.jpg', '411.jpg', '225.jpg', '1261.jpg', '285.jpg', '202.jpg', '160.jpg', '428.jpg', '313.jpg', '1327.jpg', '1311.jpg', '443.jpg', '64.jpg', '972.jpg', '105.jpg', '1121.jpg', '987.jpg', '1491.jpg', '98.jpg', '880.jpg', '330.jpg', '1205.jpg', '475.jpg', '178.jpg', '126.jpg', '1143.jpg', '78.jpg', '138.jpg', '134.jpg', '485.jpg', '1312.jpg', '25.jpg', '965.jpg', '220.jpg', '432.jpg', '38.jpg', '454.jpg', '821.jpg', '977.jpg', '1470.jpg', '971.jpg', '347.jpg', '696.jpg', '1360.jpg', '67.jpg', '689.jpg', '1397.jpg', '613.jpg', '1131.jpg', '832.jpg', '551.jpg', '384.jpg', '1402.jpg', '1225.jpg', '1230.jpg', '51.jpg', '958.jpg', '1096.jpg', '540.jpg', '1068.jpg', '592.jpg', '722.jpg', '502.jpg', '70.jpg', '1365.jpg', '877.jpg', '1407.jpg', '1025.jpg', '802.jpg', '416.jpg', '219.jpg', '1130.jpg', '612.jpg', '1129.jpg', '82.jpg', '1343.jpg', '1249.jpg', '1449.jpg', '99.jpg', '360.jpg', '772.jpg', '342.jpg', '1278.jpg', '333.jpg', '1063.jpg', '397.jpg', '481.jpg', '1435.jpg', '604.jpg', '777.jpg', '497.jpg', '487.jpg', '766.jpg', '1417.jpg', '697.jpg', '633.jpg', '489.jpg', '118.jpg', '193.jpg', '1284.jpg', '1479.jpg', '338.jpg', '426.jpg', '1237.jpg', '15.jpg', '521.jpg', '978.jpg', '614.jpg', '918.jpg', '370.jpg', '745.jpg', '68.jpg', '2.jpg', '113.jpg', '797.jpg', '779.jpg', '501.jpg', '480.jpg', '252.jpg', '427.jpg', '1423.jpg', '1277.jpg', '980.jpg', '301.jpg', '1379.jpg', '808.jpg', '1141.jpg', '684.jpg', '140.jpg', '575.jpg', '1242.jpg', '123.jpg', '565.jpg', '966.jpg', '304.jpg', '1326.jpg', '1339.jpg', '596.jpg', '452.jpg', '479.jpg', '182.jpg', '658.jpg', '329.jpg', '1457.jpg', '1415.jpg', '590.jpg', '1459.jpg', '1058.jpg', '1323.jpg', '895.jpg', '773.jpg', '372.jpg', '810.jpg', '1137.jpg', '1154.jpg', '1102.jpg', '1173.jpg', '867.jpg', '1114.jpg', '168.jpg', '499.jpg', '1344.jpg', '1190.jpg', '973.jpg', '319.jpg', '339.jpg', '881.jpg', '234.jpg', '1434.jpg', '402.jpg', '964.jpg', '598.jpg', '77.jpg', '1260.jpg', '930.jpg', '1157.jpg', '1153.jpg', '512.jpg', '507.jpg', '317.jpg', '223.jpg', '508.jpg', '46.jpg', '1208.jpg', '731.jpg', '96.jpg', '902.jpg', '556.jpg', '1088.jpg', '617.jpg', '181.jpg', '780.jpg', '58.jpg', '911.jpg', '424.jpg', '1087.jpg', '36.jpg', '1041.jpg', '396.jpg', '835.jpg', '899.jpg', '31.jpg', '1206.jpg', '332.jpg', '1215.jpg', '145.jpg', '1170.jpg', '649.jpg', '622.jpg', '683.jpg', '887.jpg', '69.jpg', '228.jpg', '1184.jpg', '297.jpg', '185.jpg', '251.jpg', '1142.jpg', '1035.jpg', '1381.jpg', '357.jpg', '1071.jpg', '830.jpg', '353.jpg', '685.jpg', '1492.jpg', '1039.jpg', '814.jpg', '784.jpg', '1251.jpg', '412.jpg', '7.jpg', '1074.jpg', '1398.jpg', '94.jpg', '282.jpg', '1477.jpg', '863.jpg', '267.jpg', '1476.jpg', '129.jpg', '763.jpg', '1107.jpg', '957.jpg', '472.jpg', '713.jpg', '1291.jpg', '284.jpg', '110.jpg', '641.jpg', '601.jpg', '195.jpg', '468.jpg', '1053.jpg', '1275.jpg', '377.jpg', '1474.jpg', '1383.jpg', '573.jpg', '774.jpg', '186.jpg', '519.jpg', '1298.jpg', '488.jpg', '1390.jpg', '85.jpg', '1430.jpg', '1185.jpg', '318.jpg', '477.jpg', '553.jpg', '57.jpg', '1404.jpg', '1238.jpg', '43.jpg', '1198.jpg', '940.jpg', '494.jpg', '189.jpg', '538.jpg', '676.jpg', '1427.jpg', '337.jpg', '823.jpg', '734.jpg', '1156.jpg', '1245.jpg', '173.jpg', '523.jpg', '948.jpg', '854.jpg', '545.jpg', '1217.jpg', '800.jpg', '937.jpg', '869.jpg', '785.jpg', '949.jpg', '229.jpg', '52.jpg', '1097.jpg', '213.jpg', '1396.jpg', '260.jpg', '401.jpg', '1110.jpg', '901.jpg', '837.jpg', '1299.jpg', '10.jpg', '343.jpg', '1362.jpg', '328.jpg', '61.jpg', '86.jpg', '1290.jpg', '440.jpg', '950.jpg', '1328.jpg', '393.jpg', '1033.jpg', '874.jpg', '471.jpg', '546.jpg', '1051.jpg', '1436.jpg', '528.jpg', '1078.jpg', '1485.jpg', '843.jpg', '706.jpg', '1307.jpg', '1054.jpg', '853.jpg', '48.jpg', '1100.jpg', '620.jpg', '836.jpg', '340.jpg', '414.jpg', '743.jpg', '131.jpg', '166.jpg', '1199.jpg', '1394.jpg', '652.jpg', '1316.jpg', '675.jpg', '812.jpg', '455.jpg', '490.jpg', '1370.jpg', '306.jpg', '1136.jpg', '905.jpg', '1353.jpg', '799.jpg', '1493.jpg', '259.jpg', '929.jpg', '1233.jpg', '1342.jpg', '1152.jpg', '1103.jpg', '1359.jpg', '618.jpg', '1117.jpg', '394.jpg', '366.jpg', '746.jpg', '1146.jpg', '352.jpg', '399.jpg', '848.jpg', '688.jpg', '39.jpg', '1180.jpg', '961.jpg', '624.jpg', '204.jpg', '423.jpg', '654.jpg', '906.jpg', '215.jpg', '196.jpg', '1462.jpg', '864.jpg', '559.jpg', '941.jpg', '1042.jpg', '1043.jpg', '1139.jpg', '263.jpg', '1108.jpg', '271.jpg', '811.jpg', '230.jpg', '769.jpg', '527.jpg', '775.jpg', '825.jpg', '1160.jpg', '451.jpg', '516.jpg', '1401.jpg', '584.jpg', '1335.jpg', '1419.jpg', '605.jpg', '711.jpg', '1450.jpg', '861.jpg', '819.jpg', '16.jpg', '1369.jpg', '1320.jpg', '447.jpg', '404.jpg', '1302.jpg', '514.jpg', '433.jpg', '1269.jpg', '510.jpg', '408.jpg', '280.jpg', '951.jpg', '23.jpg', '636.jpg', '1057.jpg', '264.jpg', '90.jpg', '1496.jpg', '1363.jpg', '662.jpg', '737.jpg', '363.jpg', '1416.jpg', '97.jpg', '1253.jpg', '262.jpg', '834.jpg', '106.jpg', '1486.jpg', '1464.jpg', '258.jpg', '1382.jpg', '1169.jpg', '889.jpg', '19.jpg', '466.jpg', '1447.jpg', '191.jpg', '209.jpg', '341.jpg', '1388.jpg', '1203.jpg', '552.jpg', '272.jpg', '232.jpg', '1134.jpg', '314.jpg', '135.jpg', '770.jpg', '13.jpg', '621.jpg', '1411.jpg', '457.jpg', '511.jpg', '1266.jpg', '1111.jpg', '526.jpg', '369.jpg', '482.jpg', '222.jpg', '152.jpg', '904.jpg', '888.jpg', '1227.jpg', '665.jpg', '296.jpg', '27.jpg', '54.jpg', '997.jpg', '1403.jpg', '247.jpg', '532.jpg', '503.jpg', '787.jpg', '855.jpg', '758.jpg', '671.jpg', '194.jpg', '578.jpg', '248.jpg', '646.jpg', '637.jpg', '266.jpg', '1065.jpg', '1273.jpg', '998.jpg', '346.jpg', '1395.jpg', '959.jpg', '1487.jpg', '700.jpg', '11.jpg', '873.jpg', '1347.jpg', '293.jpg', '1163.jpg', '631.jpg', '212.jpg', '927.jpg', '365.jpg', '1490.jpg', '615.jpg', '4.jpg', '1426.jpg', '1161.jpg', '1092.jpg', '429.jpg', '1469.jpg', '548.jpg', '560.jpg', '544.jpg', '241.jpg', '600.jpg', '661.jpg', '757.jpg', '1178.jpg', '1478.jpg', '1084.jpg', '680.jpg', '380.jpg', '0.jpg', '741.jpg', '946.jpg', '650.jpg', '682.jpg', '1250.jpg', '146.jpg', '1346.jpg', '1202.jpg', '1463.jpg', '1285.jpg', '1281.jpg', '768.jpg', '269.jpg', '371.jpg', '1140.jpg', '657.jpg', '174.jpg', '1456.jpg', '1484.jpg', '1288.jpg', '1101.jpg', '868.jpg', '1128.jpg', '1420.jpg', '278.jpg', '187.jpg', '177.jpg', '846.jpg', '226.jpg', '1358.jpg', '735.jpg', '793.jpg', '379.jpg', '442.jpg', '903.jpg', '44.jpg', '1412.jpg', '1012.jpg', '1016.jpg', '619.jpg', '1083.jpg', '12.jpg', '155.jpg', '148.jpg', '1006.jpg', '883.jpg', '729.jpg', '536.jpg', '1187.jpg', '161.jpg', '571.jpg', '827.jpg', '1351.jpg', '277.jpg', '595.jpg', '943.jpg', '845.jpg', '912.jpg', '721.jpg', '81.jpg', '562.jpg', '691.jpg', '1268.jpg', '496.jpg', '850.jpg', '1349.jpg', '541.jpg', '1119.jpg', '882.jpg', '609.jpg', '28.jpg', '74.jpg', '715.jpg', '890.jpg', '750.jpg', '674.jpg', '224.jpg', '156.jpg', '970.jpg', '1066.jpg', '246.jpg', '255.jpg', '1308.jpg', '1052.jpg', '679.jpg', '1364.jpg', '960.jpg', '699.jpg']\n",
            "['917.jpg', '523.jpg', '726.jpg', '1336.jpg', '1236.jpg', '596.jpg', '1360.jpg', '497.jpg', '272.jpg', '1125.jpg', '1321.jpg', '623.jpg', '980.jpg', '667.jpg', '1122.jpg', '1327.jpg', '394.jpg', '1399.jpg', '371.jpg', '38.jpg', '530.jpg', '1349.jpg', '686.jpg', '853.jpg', '1175.jpg', '137.jpg', '1133.jpg', '982.jpg', '818.jpg', '341.jpg', '7.jpg', '1213.jpg', '200.jpg', '757.jpg', '1144.jpg', '1473.jpg', '307.jpg', '332.jpg', '1080.jpg', '880.jpg', '452.jpg', '377.jpg', '1.jpg', '936.jpg', '1304.jpg', '1163.jpg', '1081.jpg', '1365.jpg', '1452.jpg', '1264.jpg', '602.jpg', '1298.jpg', '1253.jpg', '1431.jpg', '128.jpg', '861.jpg', '1465.jpg', '22.jpg', '422.jpg', '1323.jpg', '1351.jpg', '1190.jpg', '637.jpg', '896.jpg', '989.jpg', '201.jpg', '528.jpg', '590.jpg', '867.jpg', '642.jpg', '843.jpg', '1425.jpg', '978.jpg', '1429.jpg', '1094.jpg', '857.jpg', '247.jpg', '122.jpg', '1149.jpg', '1291.jpg', '700.jpg', '962.jpg', '111.jpg', '1205.jpg', '997.jpg', '319.jpg', '557.jpg', '664.jpg', '617.jpg', '1484.jpg', '124.jpg', '808.jpg', '1282.jpg', '1063.jpg', '281.jpg', '1337.jpg', '906.jpg', '836.jpg', '837.jpg', '707.jpg', '19.jpg', '1314.jpg', '1020.jpg', '372.jpg', '367.jpg', '569.jpg', '80.jpg', '784.jpg', '713.jpg', '1355.jpg', '844.jpg', '1157.jpg', '56.jpg', '901.jpg', '1348.jpg', '70.jpg', '1212.jpg', '222.jpg', '1490.jpg', '1146.jpg', '1038.jpg', '400.jpg', '77.jpg', '1333.jpg', '96.jpg', '1404.jpg', '752.jpg', '574.jpg', '35.jpg', '918.jpg', '955.jpg', '854.jpg', '573.jpg', '629.jpg', '1173.jpg', '765.jpg', '501.jpg', '84.jpg', '269.jpg', '214.jpg', '441.jpg', '1492.jpg', '1251.jpg', '775.jpg', '961.jpg', '321.jpg', '722.jpg', '1370.jpg', '728.jpg', '840.jpg', '280.jpg', '50.jpg', '601.jpg', '393.jpg', '1422.jpg', '1027.jpg', '195.jpg', '679.jpg', '577.jpg', '1389.jpg', '1086.jpg', '163.jpg', '551.jpg', '554.jpg', '235.jpg', '1040.jpg', '928.jpg', '826.jpg', '451.jpg', '754.jpg', '1148.jpg', '467.jpg', '1090.jpg', '1223.jpg', '673.jpg', '1411.jpg', '571.jpg', '1380.jpg', '672.jpg', '1393.jpg', '1230.jpg', '1044.jpg', '479.jpg', '1417.jpg', '127.jpg', '227.jpg', '1029.jpg', '1421.jpg', '1287.jpg', '991.jpg', '375.jpg', '1077.jpg', '1091.jpg', '1046.jpg', '234.jpg', '725.jpg', '1103.jpg', '428.jpg', '303.jpg', '1461.jpg', '1059.jpg', '420.jpg', '859.jpg', '102.jpg', '1468.jpg', '882.jpg', '168.jpg', '744.jpg', '267.jpg', '368.jpg', '223.jpg', '1397.jpg', '1286.jpg', '1087.jpg', '691.jpg', '413.jpg', '1396.jpg', '984.jpg', '1320.jpg', '647.jpg', '742.jpg', '1315.jpg', '1280.jpg', '1089.jpg', '732.jpg', '13.jpg', '1070.jpg', '312.jpg', '1106.jpg', '286.jpg', '1012.jpg', '538.jpg', '188.jpg', '114.jpg', '493.jpg', '57.jpg', '249.jpg', '1054.jpg', '1235.jpg', '194.jpg', '1407.jpg', '1167.jpg', '339.jpg', '1241.jpg', '1031.jpg', '704.jpg', '40.jpg', '1293.jpg', '866.jpg', '949.jpg', '715.jpg', '48.jpg', '356.jpg', '123.jpg', '233.jpg', '890.jpg', '1332.jpg', '1102.jpg', '1459.jpg', '1104.jpg', '1177.jpg', '626.jpg', '1475.jpg', '1165.jpg', '1222.jpg', '256.jpg', '915.jpg', '940.jpg', '591.jpg', '753.jpg', '225.jpg', '348.jpg', '1119.jpg', '1301.jpg', '149.jpg', '472.jpg', '631.jpg', '1142.jpg', '779.jpg', '1184.jpg', '1441.jpg', '892.jpg', '354.jpg', '151.jpg', '392.jpg', '718.jpg', '1116.jpg', '54.jpg', '904.jpg', '1432.jpg', '581.jpg', '447.jpg', '889.jpg', '1019.jpg', '690.jpg', '1453.jpg', '44.jpg', '858.jpg', '891.jpg', '1379.jpg', '444.jpg', '343.jpg', '457.jpg', '366.jpg', '733.jpg', '1018.jpg', '1455.jpg', '1406.jpg', '1112.jpg', '359.jpg', '1246.jpg', '1340.jpg', '335.jpg', '624.jpg', '230.jpg', '545.jpg', '641.jpg', '95.jpg', '337.jpg', '449.jpg', '139.jpg', '117.jpg', '1440.jpg', '189.jpg', '652.jpg', '874.jpg', '592.jpg', '1341.jpg', '663.jpg', '374.jpg', '1097.jpg', '1426.jpg', '1134.jpg', '511.jpg', '787.jpg', '1352.jpg', '250.jpg', '175.jpg', '1115.jpg', '662.jpg', '681.jpg', '1181.jpg', '379.jpg', '466.jpg', '1489.jpg', '1109.jpg', '1166.jpg', '105.jpg', '10.jpg', '94.jpg']\n",
            "['535.jpg', '72.jpg', '75.jpg', '441.jpg', '851.jpg', '549.jpg', '30.jpg', '809.jpg', '567.jpg', '720.jpg', '534.jpg', '310.jpg', '493.jpg', '183.jpg', '522.jpg', '33.jpg', '569.jpg', '109.jpg', '934.jpg', '945.jpg', '554.jpg', '107.jpg', '62.jpg', '163.jpg', '898.jpg', '283.jpg', '87.jpg', '303.jpg', '92.jpg', '982.jpg', '147.jpg', '227.jpg', '100.jpg', '344.jpg', '818.jpg', '728.jpg', '667.jpg', '307.jpg', '364.jpg', '985.jpg', '518.jpg', '162.jpg', '577.jpg', '34.jpg', '407.jpg', '537.jpg', '761.jpg', '102.jpg', '383.jpg', '249.jpg', '870.jpg', '460.jpg', '250.jpg', '354.jpg', '453.jpg', '398.jpg', '206.jpg', '923.jpg', '448.jpg', '281.jpg', '26.jpg', '374.jpg', '783.jpg', '18.jpg', '723.jpg', '425.jpg', '806.jpg', '5.jpg', '603.jpg', '513.jpg', '381.jpg', '986.jpg', '265.jpg', '171.jpg', '35.jpg', '907.jpg', '24.jpg', '606.jpg', '647.jpg', '469.jpg', '274.jpg', '431.jpg', '956.jpg', '801.jpg', '639.jpg', '726.jpg', '816.jpg', '781.jpg', '892.jpg', '143.jpg', '520.jpg', '299.jpg', '983.jpg', '738.jpg', '446.jpg', '358.jpg', '807.jpg', '465.jpg', '415.jpg', '184.jpg', '309.jpg', '55.jpg', '210.jpg', '908.jpg', '695.jpg', '925.jpg', '83.jpg', '747.jpg', '449.jpg', '992.jpg', '151.jpg', '192.jpg', '524.jpg', '111.jpg', '376.jpg', '73.jpg', '115.jpg', '822.jpg', '910.jpg', '751.jpg', '298.jpg', '108.jpg', '345.jpg', '921.jpg', '623.jpg', '586.jpg', '865.jpg', '37.jpg', '159.jpg', '547.jpg', '17.jpg', '756.jpg', '944.jpg', '884.jpg', '233.jpg', '325.jpg', '8.jpg', '842.jpg', '824.jpg', '663.jpg', '557.jpg', '116.jpg', '826.jpg', '702.jpg', '308.jpg', '579.jpg', '89.jpg', '862.jpg', '942.jpg', '127.jpg', '335.jpg', '275.jpg', '315.jpg', '719.jpg', '355.jpg', '872.jpg', '922.jpg', '563.jpg', '22.jpg', '486.jpg', '150.jpg', '495.jpg', '461.jpg', '498.jpg', '593.jpg', '792.jpg', '813.jpg', '829.jpg', '550.jpg', '483.jpg', '405.jpg', '114.jpg', '587.jpg', '47.jpg', '392.jpg', '791.jpg', '917.jpg', '591.jpg', '444.jpg', '320.jpg', '627.jpg', '244.jpg', '939.jpg', '430.jpg', '211.jpg', '458.jpg', '589.jpg', '767.jpg', '608.jpg', '859.jpg', '953.jpg', '359.jpg', '771.jpg', '409.jpg', '525.jpg', '132.jpg', '736.jpg', '515.jpg', '336.jpg', '611.jpg', '270.jpg', '849.jpg', '240.jpg', '286.jpg', '673.jpg', '101.jpg', '681.jpg', '974.jpg', '169.jpg', '120.jpg', '664.jpg', '831.jpg', '740.jpg', '199.jpg', '436.jpg', '588.jpg', '533.jpg', '718.jpg', '931.jpg', '122.jpg', '517.jpg', '714.jpg', '599.jpg', '20.jpg', '50.jpg', '42.jpg', '65.jpg', '914.jpg', '305.jpg', '505.jpg', '632.jpg', '933.jpg', '290.jpg', '180.jpg', '203.jpg', '754.jpg', '243.jpg', '128.jpg', '221.jpg', '175.jpg', '375.jpg', '389.jpg', '896.jpg', '142.jpg', '640.jpg', '373.jpg', '60.jpg', '66.jpg', '291.jpg', '356.jpg', '634.jpg', '789.jpg', '668.jpg', '815.jpg', '153.jpg', '112.jpg', '80.jpg', '629.jpg', '704.jpg', '256.jpg', '311.jpg', '71.jpg', '644.jpg', '678.jpg', '694.jpg', '144.jpg', '752.jpg', '866.jpg', '437.jpg', '390.jpg', '504.jpg', '349.jpg', '725.jpg', '730.jpg', '749.jpg', '130.jpg', '348.jpg', '456.jpg', '976.jpg', '666.jpg', '14.jpg', '635.jpg', '628.jpg', '500.jpg', '368.jpg', '208.jpg', '564.jpg', '913.jpg', '95.jpg', '158.jpg', '367.jpg', '594.jpg', '419.jpg', '686.jpg', '840.jpg', '919.jpg', '920.jpg', '894.jpg', '254.jpg', '1.jpg', '245.jpg', '891.jpg', '216.jpg', '450.jpg', '566.jpg', '385.jpg', '6.jpg', '580.jpg', '687.jpg', '484.jpg', '616.jpg', '268.jpg', '205.jpg', '445.jpg', '786.jpg', '542.jpg', '294.jpg', '820.jpg', '476.jpg', '839.jpg', '531.jpg', '300.jpg', '207.jpg', '597.jpg', '188.jpg', '701.jpg', '651.jpg', '967.jpg', '292.jpg', '778.jpg', '179.jpg', '990.jpg', '464.jpg', '776.jpg', '760.jpg', '932.jpg', '879.jpg', '648.jpg', '197.jpg', '88.jpg', '21.jpg', '49.jpg', '860.jpg', '645.jpg', '669.jpg', '659.jpg', '530.jpg', '139.jpg', '478.jpg', '287.jpg', '928.jpg', '165.jpg', '492.jpg', '852.jpg', '242.jpg', '289.jpg', '386.jpg', '672.jpg', '693.jpg', '463.jpg', '643.jpg', '79.jpg', '279.jpg', '677.jpg', '817.jpg', '361.jpg', '841.jpg', '506.jpg', '235.jpg', '795.jpg', '201.jpg', '803.jpg', '582.jpg', '170.jpg', '362.jpg', '257.jpg', '421.jpg', '167.jpg', '794.jpg', '125.jpg', '716.jpg', '467.jpg', '858.jpg', '462.jpg', '798.jpg', '900.jpg', '435.jpg', '748.jpg', '742.jpg', '561.jpg', '331.jpg', '418.jpg', '406.jpg', '103.jpg', '655.jpg', '989.jpg', '543.jpg', '796.jpg', '29.jpg', '459.jpg', '732.jpg', '947.jpg', '610.jpg', '938.jpg', '975.jpg', '382.jpg', '312.jpg', '63.jpg', '656.jpg', '886.jpg', '434.jpg', '93.jpg', '926.jpg', '45.jpg', '755.jpg', '705.jpg', '788.jpg', '968.jpg', '316.jpg', '137.jpg', '351.jpg', '473.jpg', '141.jpg', '733.jpg', '984.jpg', '302.jpg', '438.jpg', '876.jpg', '915.jpg', '576.jpg', '273.jpg', '638.jpg', '804.jpg', '828.jpg', '321.jpg', '581.jpg', '422.jpg', '378.jpg', '53.jpg', '724.jpg', '350.jpg', '954.jpg', '391.jpg', '790.jpg', '856.jpg', '157.jpg', '690.jpg', '753.jpg', '323.jpg', '3.jpg', '474.jpg', '388.jpg', '56.jpg', '395.jpg', '936.jpg', '214.jpg', '40.jpg', '871.jpg', '969.jpg', '572.jpg', '782.jpg', '295.jpg', '76.jpg', '805.jpg', '172.jpg', '491.jpg', '698.jpg', '410.jpg', '84.jpg', '670.jpg', '585.jpg', '119.jpg', '121.jpg', '539.jpg', '91.jpg', '993.jpg', '583.jpg', '133.jpg', '955.jpg', '117.jpg', '988.jpg', '176.jpg', '727.jpg', '739.jpg', '124.jpg', '708.jpg', '607.jpg', '709.jpg', '916.jpg', '104.jpg', '962.jpg', '875.jpg', '653.jpg', '326.jpg', '762.jpg', '327.jpg', '149.jpg', '981.jpg', '200.jpg', '236.jpg', '630.jpg', '164.jpg', '217.jpg', '400.jpg', '417.jpg', '935.jpg', '154.jpg', '237.jpg', '833.jpg', '218.jpg', '897.jpg', '710.jpg', '893.jpg', '261.jpg', '570.jpg', '41.jpg', '403.jpg', '198.jpg', '703.jpg', '979.jpg', '642.jpg', '707.jpg', '413.jpg', '190.jpg', '759.jpg', '334.jpg', '420.jpg', '59.jpg', '568.jpg', '717.jpg', '692.jpg', '963.jpg', '885.jpg', '558.jpg', '626.jpg', '844.jpg', '909.jpg', '238.jpg', '439.jpg', '470.jpg', '288.jpg', '625.jpg', '509.jpg', '712.jpg', '555.jpg', '924.jpg', '9.jpg', '765.jpg', '857.jpg', '32.jpg', '324.jpg', '602.jpg', '136.jpg', '529.jpg', '322.jpg', '764.jpg', '239.jpg', '878.jpg', '991.jpg', '231.jpg', '660.jpg', '847.jpg', '387.jpg', '253.jpg', '838.jpg', '574.jpg', '744.jpg', '276.jpg', '952.jpg', '411.jpg', '225.jpg', '285.jpg', '202.jpg', '160.jpg', '428.jpg', '313.jpg', '443.jpg', '64.jpg', '972.jpg', '105.jpg', '987.jpg', '98.jpg', '880.jpg', '330.jpg', '475.jpg', '178.jpg', '126.jpg', '78.jpg', '138.jpg', '134.jpg', '485.jpg', '25.jpg', '965.jpg', '220.jpg', '432.jpg', '38.jpg', '454.jpg', '821.jpg', '977.jpg', '971.jpg', '347.jpg', '696.jpg', '67.jpg', '689.jpg', '613.jpg', '832.jpg', '551.jpg', '384.jpg', '51.jpg', '958.jpg', '540.jpg', '592.jpg', '722.jpg', '502.jpg', '70.jpg', '877.jpg', '802.jpg', '416.jpg', '219.jpg', '612.jpg', '82.jpg', '99.jpg', '360.jpg', '772.jpg', '342.jpg', '333.jpg', '397.jpg', '481.jpg', '604.jpg', '777.jpg', '497.jpg', '487.jpg', '766.jpg', '697.jpg', '633.jpg', '489.jpg', '118.jpg', '193.jpg', '338.jpg', '426.jpg', '15.jpg', '521.jpg', '978.jpg', '614.jpg', '918.jpg', '370.jpg', '745.jpg', '68.jpg', '2.jpg', '113.jpg', '797.jpg', '779.jpg', '501.jpg', '480.jpg', '252.jpg', '427.jpg', '980.jpg', '301.jpg', '808.jpg', '684.jpg', '140.jpg', '575.jpg', '123.jpg', '565.jpg', '966.jpg', '304.jpg', '596.jpg', '452.jpg', '479.jpg', '182.jpg', '658.jpg', '329.jpg', '590.jpg', '895.jpg', '773.jpg', '372.jpg', '810.jpg', '867.jpg', '168.jpg', '499.jpg', '973.jpg', '319.jpg', '339.jpg', '881.jpg', '234.jpg', '402.jpg', '964.jpg', '598.jpg', '77.jpg', '930.jpg', '512.jpg', '507.jpg', '317.jpg', '223.jpg', '508.jpg', '46.jpg', '731.jpg', '96.jpg', '902.jpg', '556.jpg', '617.jpg', '181.jpg', '780.jpg', '58.jpg', '911.jpg', '424.jpg', '36.jpg', '396.jpg', '835.jpg', '899.jpg', '31.jpg', '332.jpg', '145.jpg', '649.jpg', '622.jpg', '683.jpg', '887.jpg', '69.jpg', '228.jpg', '297.jpg', '185.jpg', '251.jpg', '357.jpg', '830.jpg', '353.jpg', '685.jpg', '814.jpg', '784.jpg', '412.jpg', '7.jpg', '94.jpg', '282.jpg', '863.jpg', '267.jpg', '129.jpg', '763.jpg', '957.jpg', '472.jpg', '713.jpg', '284.jpg', '110.jpg', '641.jpg', '601.jpg', '195.jpg', '468.jpg', '377.jpg', '573.jpg', '774.jpg', '186.jpg', '519.jpg', '488.jpg', '85.jpg', '318.jpg', '477.jpg', '553.jpg', '57.jpg', '43.jpg', '940.jpg', '494.jpg', '189.jpg', '538.jpg', '676.jpg', '337.jpg', '823.jpg', '734.jpg', '173.jpg', '523.jpg', '948.jpg', '854.jpg', '545.jpg', '800.jpg', '937.jpg', '869.jpg', '785.jpg', '949.jpg', '229.jpg', '52.jpg', '213.jpg', '260.jpg', '401.jpg', '901.jpg', '837.jpg', '10.jpg', '343.jpg', '328.jpg', '61.jpg', '86.jpg', '440.jpg', '950.jpg', '393.jpg', '874.jpg', '471.jpg', '546.jpg', '528.jpg', '843.jpg', '706.jpg', '853.jpg', '48.jpg', '620.jpg', '836.jpg', '340.jpg', '414.jpg', '743.jpg', '131.jpg', '166.jpg', '652.jpg', '675.jpg', '812.jpg', '455.jpg', '490.jpg', '306.jpg', '905.jpg', '799.jpg', '259.jpg', '929.jpg', '618.jpg', '394.jpg', '366.jpg', '746.jpg', '352.jpg', '399.jpg', '848.jpg', '688.jpg', '39.jpg', '961.jpg', '624.jpg', '204.jpg', '423.jpg', '654.jpg', '906.jpg', '215.jpg', '196.jpg', '864.jpg', '559.jpg', '941.jpg', '263.jpg', '271.jpg', '811.jpg', '230.jpg', '769.jpg', '527.jpg', '775.jpg', '825.jpg', '451.jpg', '516.jpg', '584.jpg', '605.jpg', '711.jpg', '861.jpg', '819.jpg', '16.jpg', '447.jpg', '404.jpg', '514.jpg', '433.jpg', '510.jpg', '408.jpg', '280.jpg', '951.jpg', '23.jpg', '636.jpg', '264.jpg', '90.jpg', '662.jpg', '737.jpg', '363.jpg', '97.jpg', '262.jpg', '834.jpg', '106.jpg', '258.jpg', '889.jpg', '19.jpg', '466.jpg', '191.jpg', '209.jpg', '341.jpg', '552.jpg', '272.jpg', '232.jpg', '314.jpg', '135.jpg', '770.jpg', '13.jpg', '621.jpg', '457.jpg', '511.jpg', '526.jpg', '369.jpg', '482.jpg', '222.jpg', '152.jpg', '904.jpg', '888.jpg', '665.jpg', '296.jpg', '27.jpg', '54.jpg', '247.jpg', '532.jpg', '503.jpg', '787.jpg', '855.jpg', '758.jpg', '671.jpg', '194.jpg', '578.jpg', '248.jpg', '646.jpg', '637.jpg', '266.jpg', '346.jpg', '959.jpg', '700.jpg', '11.jpg', '873.jpg', '293.jpg', '631.jpg', '212.jpg', '927.jpg', '365.jpg', '615.jpg', '4.jpg', '429.jpg', '548.jpg', '560.jpg', '544.jpg', '241.jpg', '600.jpg', '661.jpg', '757.jpg', '680.jpg', '380.jpg', '0.jpg', '741.jpg', '946.jpg', '650.jpg', '682.jpg', '146.jpg', '768.jpg', '269.jpg', '371.jpg', '657.jpg', '174.jpg', '868.jpg', '278.jpg', '187.jpg', '177.jpg', '846.jpg', '226.jpg', '735.jpg', '793.jpg', '379.jpg', '442.jpg', '903.jpg', '44.jpg', '619.jpg', '12.jpg', '155.jpg', '148.jpg', '883.jpg', '729.jpg', '536.jpg', '161.jpg', '571.jpg', '827.jpg', '277.jpg', '595.jpg', '943.jpg', '845.jpg', '912.jpg', '721.jpg', '81.jpg', '562.jpg', '691.jpg', '496.jpg', '850.jpg', '541.jpg', '882.jpg', '609.jpg', '28.jpg', '74.jpg', '715.jpg', '890.jpg', '750.jpg', '674.jpg', '224.jpg', '156.jpg', '970.jpg', '246.jpg', '255.jpg', '679.jpg', '960.jpg', '699.jpg']\n",
            "['842.jpg', '880.jpg', '262.jpg', '848.jpg', '10.jpg', '723.jpg', '71.jpg', '298.jpg', '237.jpg', '401.jpg', '782.jpg', '739.jpg', '452.jpg', '742.jpg', '812.jpg', '436.jpg', '807.jpg', '236.jpg', '982.jpg', '11.jpg', '510.jpg', '459.jpg', '790.jpg', '360.jpg', '901.jpg', '61.jpg', '75.jpg', '145.jpg', '40.jpg', '725.jpg', '713.jpg', '255.jpg', '203.jpg', '832.jpg', '695.jpg', '429.jpg', '701.jpg', '227.jpg', '62.jpg', '87.jpg', '304.jpg', '322.jpg', '720.jpg', '855.jpg', '331.jpg', '780.jpg', '714.jpg', '804.jpg', '195.jpg', '496.jpg', '288.jpg', '914.jpg', '246.jpg', '323.jpg', '674.jpg', '744.jpg', '221.jpg', '852.jpg', '243.jpg', '223.jpg', '50.jpg', '750.jpg', '585.jpg', '920.jpg', '44.jpg', '438.jpg', '280.jpg', '411.jpg', '301.jpg', '210.jpg', '953.jpg', '918.jpg', '641.jpg', '314.jpg', '450.jpg', '921.jpg', '538.jpg', '21.jpg', '161.jpg', '412.jpg', '893.jpg', '187.jpg', '979.jpg', '819.jpg', '964.jpg', '525.jpg', '616.jpg', '367.jpg', '696.jpg', '758.jpg', '710.jpg', '97.jpg', '198.jpg', '610.jpg', '689.jpg', '466.jpg', '728.jpg', '875.jpg', '291.jpg', '676.jpg', '394.jpg', '45.jpg', '984.jpg', '973.jpg', '591.jpg', '257.jpg', '847.jpg', '297.jpg', '843.jpg', '512.jpg', '57.jpg', '462.jpg', '892.jpg', '3.jpg', '499.jpg', '642.jpg', '151.jpg', '48.jpg', '829.jpg', '558.jpg', '636.jpg', '503.jpg', '125.jpg', '164.jpg', '488.jpg', '147.jpg', '988.jpg', '407.jpg', '542.jpg', '185.jpg', '777.jpg', '384.jpg', '965.jpg', '938.jpg', '123.jpg', '392.jpg', '587.jpg', '570.jpg', '290.jpg', '493.jpg', '393.jpg', '673.jpg', '136.jpg', '526.jpg', '128.jpg', '755.jpg', '420.jpg', '492.jpg', '25.jpg', '79.jpg', '680.jpg', '130.jpg', '372.jpg', '16.jpg', '772.jpg', '573.jpg', '549.jpg', '406.jpg', '743.jpg', '494.jpg', '759.jpg', '654.jpg', '944.jpg', '963.jpg', '853.jpg', '428.jpg', '664.jpg', '422.jpg', '923.jpg', '653.jpg', '170.jpg', '330.jpg', '276.jpg', '404.jpg', '403.jpg', '733.jpg', '149.jpg', '361.jpg', '152.jpg', '242.jpg', '72.jpg', '602.jpg', '529.jpg', '338.jpg', '652.jpg', '481.jpg', '88.jpg', '670.jpg', '70.jpg', '92.jpg', '754.jpg', '797.jpg', '244.jpg', '253.jpg', '977.jpg', '458.jpg', '738.jpg', '838.jpg', '156.jpg', '344.jpg', '930.jpg', '265.jpg', '726.jpg', '109.jpg', '805.jpg', '522.jpg', '869.jpg', '785.jpg', '913.jpg', '112.jpg', '825.jpg', '524.jpg', '426.jpg', '859.jpg', '605.jpg', '894.jpg', '986.jpg', '114.jpg', '498.jpg', '706.jpg', '174.jpg', '241.jpg', '590.jpg', '666.jpg', '565.jpg', '691.jpg', '891.jpg', '491.jpg', '511.jpg', '778.jpg', '833.jpg', '708.jpg', '115.jpg', '898.jpg', '839.jpg', '989.jpg', '165.jpg', '638.jpg', '771.jpg', '694.jpg', '192.jpg', '256.jpg', '774.jpg', '413.jpg', '882.jpg', '82.jpg', '391.jpg', '107.jpg', '632.jpg', '934.jpg', '312.jpg', '127.jpg', '667.jpg', '957.jpg', '593.jpg', '827.jpg', '251.jpg', '703.jpg', '508.jpg', '204.jpg', '878.jpg', '42.jpg', '370.jpg', '332.jpg', '568.jpg', '295.jpg', '305.jpg', '909.jpg', '966.jpg', '619.jpg', '975.jpg', '507.jpg', '134.jpg', '292.jpg', '775.jpg', '745.jpg', '129.jpg', '26.jpg', '385.jpg', '159.jpg', '718.jpg', '383.jpg', '445.jpg', '546.jpg', '647.jpg', '820.jpg', '683.jpg', '461.jpg', '600.jpg', '972.jpg', '704.jpg', '884.jpg', '567.jpg', '864.jpg', '364.jpg', '613.jpg', '599.jpg', '688.jpg', '119.jpg', '791.jpg', '193.jpg', '707.jpg', '556.jpg', '748.jpg', '101.jpg', '289.jpg', '55.jpg', '423.jpg', '78.jpg', '721.jpg', '883.jpg', '336.jpg', '417.jpg', '83.jpg', '81.jpg', '927.jpg', '352.jpg', '671.jpg', '874.jpg', '776.jpg', '397.jpg', '93.jpg', '95.jpg', '468.jpg', '150.jpg', '528.jpg', '932.jpg', '443.jpg', '824.jpg', '139.jpg', '724.jpg', '931.jpg', '571.jpg', '415.jpg', '28.jpg', '660.jpg', '380.jpg', '765.jpg', '366.jpg', '924.jpg', '375.jpg', '806.jpg', '162.jpg', '816.jpg', '8.jpg', '47.jpg', '405.jpg', '799.jpg', '23.jpg', '749.jpg']\n",
            "['535.jpg', '72.jpg', '75.jpg', '441.jpg', '549.jpg', '30.jpg', '809.jpg', '567.jpg', '720.jpg', '534.jpg', '310.jpg', '493.jpg', '183.jpg', '522.jpg', '33.jpg', '569.jpg', '109.jpg', '554.jpg', '107.jpg', '62.jpg', '163.jpg', '283.jpg', '87.jpg', '303.jpg', '92.jpg', '147.jpg', '227.jpg', '100.jpg', '344.jpg', '818.jpg', '728.jpg', '667.jpg', '307.jpg', '364.jpg', '518.jpg', '162.jpg', '577.jpg', '34.jpg', '407.jpg', '537.jpg', '761.jpg', '102.jpg', '383.jpg', '249.jpg', '460.jpg', '250.jpg', '354.jpg', '453.jpg', '398.jpg', '206.jpg', '448.jpg', '281.jpg', '26.jpg', '374.jpg', '783.jpg', '18.jpg', '723.jpg', '425.jpg', '806.jpg', '5.jpg', '603.jpg', '513.jpg', '381.jpg', '265.jpg', '171.jpg', '35.jpg', '24.jpg', '606.jpg', '647.jpg', '469.jpg', '274.jpg', '431.jpg', '801.jpg', '639.jpg', '726.jpg', '816.jpg', '781.jpg', '143.jpg', '520.jpg', '299.jpg', '738.jpg', '446.jpg', '358.jpg', '807.jpg', '465.jpg', '415.jpg', '184.jpg', '309.jpg', '55.jpg', '210.jpg', '695.jpg', '83.jpg', '747.jpg', '449.jpg', '151.jpg', '192.jpg', '524.jpg', '111.jpg', '376.jpg', '73.jpg', '115.jpg', '822.jpg', '751.jpg', '298.jpg', '108.jpg', '345.jpg', '623.jpg', '586.jpg', '37.jpg', '159.jpg', '547.jpg', '17.jpg', '756.jpg', '233.jpg', '325.jpg', '8.jpg', '842.jpg', '824.jpg', '663.jpg', '557.jpg', '116.jpg', '826.jpg', '702.jpg', '308.jpg', '579.jpg', '89.jpg', '127.jpg', '335.jpg', '275.jpg', '315.jpg', '719.jpg', '355.jpg', '563.jpg', '22.jpg', '486.jpg', '150.jpg', '495.jpg', '461.jpg', '498.jpg', '593.jpg', '792.jpg', '813.jpg', '829.jpg', '550.jpg', '483.jpg', '405.jpg', '114.jpg', '587.jpg', '47.jpg', '392.jpg', '791.jpg', '591.jpg', '444.jpg', '320.jpg', '627.jpg', '244.jpg', '430.jpg', '211.jpg', '458.jpg', '589.jpg', '767.jpg', '608.jpg', '359.jpg', '771.jpg', '409.jpg', '525.jpg', '132.jpg', '736.jpg', '515.jpg', '336.jpg', '611.jpg', '270.jpg', '240.jpg', '286.jpg', '673.jpg', '101.jpg', '681.jpg', '169.jpg', '120.jpg', '664.jpg', '831.jpg', '740.jpg', '199.jpg', '436.jpg', '588.jpg', '533.jpg', '718.jpg', '122.jpg', '517.jpg', '714.jpg', '599.jpg', '20.jpg', '50.jpg', '42.jpg', '65.jpg', '305.jpg', '505.jpg', '632.jpg', '290.jpg', '180.jpg', '203.jpg', '754.jpg', '243.jpg', '128.jpg', '221.jpg', '175.jpg', '375.jpg', '389.jpg', '142.jpg', '640.jpg', '373.jpg', '60.jpg', '66.jpg', '291.jpg', '356.jpg', '634.jpg', '789.jpg', '668.jpg', '815.jpg', '153.jpg', '112.jpg', '80.jpg', '629.jpg', '704.jpg', '256.jpg', '311.jpg', '71.jpg', '644.jpg', '678.jpg', '694.jpg', '144.jpg', '752.jpg', '437.jpg', '390.jpg', '504.jpg', '349.jpg', '725.jpg', '730.jpg', '749.jpg', '130.jpg', '348.jpg', '456.jpg', '666.jpg', '14.jpg', '635.jpg', '628.jpg', '500.jpg', '368.jpg', '208.jpg', '564.jpg', '95.jpg', '158.jpg', '367.jpg', '594.jpg', '419.jpg', '686.jpg', '840.jpg', '254.jpg', '1.jpg', '245.jpg', '216.jpg', '450.jpg', '566.jpg', '385.jpg', '6.jpg', '580.jpg', '687.jpg', '484.jpg', '616.jpg', '268.jpg', '205.jpg', '445.jpg', '786.jpg', '542.jpg', '294.jpg', '820.jpg', '476.jpg', '839.jpg', '531.jpg', '300.jpg', '207.jpg', '597.jpg', '188.jpg', '701.jpg', '651.jpg', '292.jpg', '778.jpg', '179.jpg', '464.jpg', '776.jpg', '760.jpg', '648.jpg', '197.jpg', '88.jpg', '21.jpg', '49.jpg', '645.jpg', '669.jpg', '659.jpg', '530.jpg', '139.jpg', '478.jpg', '287.jpg', '165.jpg', '492.jpg', '242.jpg', '289.jpg', '386.jpg', '672.jpg', '693.jpg', '463.jpg', '643.jpg', '79.jpg', '279.jpg', '677.jpg', '817.jpg', '361.jpg', '841.jpg', '506.jpg', '235.jpg', '795.jpg', '201.jpg', '803.jpg', '582.jpg', '170.jpg', '362.jpg', '257.jpg', '421.jpg', '167.jpg', '794.jpg', '125.jpg', '716.jpg', '467.jpg', '462.jpg', '798.jpg', '435.jpg', '748.jpg', '742.jpg', '561.jpg', '331.jpg', '418.jpg', '406.jpg', '103.jpg', '655.jpg', '543.jpg', '796.jpg', '29.jpg', '459.jpg', '732.jpg', '610.jpg', '382.jpg', '312.jpg', '63.jpg', '656.jpg', '434.jpg', '93.jpg', '45.jpg', '755.jpg', '705.jpg', '788.jpg', '316.jpg', '137.jpg', '351.jpg', '473.jpg', '141.jpg', '733.jpg', '302.jpg', '438.jpg', '576.jpg', '273.jpg', '638.jpg', '804.jpg', '828.jpg', '321.jpg', '581.jpg', '422.jpg', '378.jpg', '53.jpg', '724.jpg', '350.jpg', '391.jpg', '790.jpg', '157.jpg', '690.jpg', '753.jpg', '323.jpg', '3.jpg', '474.jpg', '388.jpg', '56.jpg', '395.jpg', '214.jpg', '40.jpg', '572.jpg', '782.jpg', '295.jpg', '76.jpg', '805.jpg', '172.jpg', '491.jpg', '698.jpg', '410.jpg', '84.jpg', '670.jpg', '585.jpg', '119.jpg', '121.jpg', '539.jpg', '91.jpg', '583.jpg', '133.jpg', '117.jpg', '176.jpg', '727.jpg', '739.jpg', '124.jpg', '708.jpg', '607.jpg', '709.jpg', '104.jpg', '653.jpg', '326.jpg', '762.jpg', '327.jpg', '149.jpg', '200.jpg', '236.jpg', '630.jpg', '164.jpg', '217.jpg', '400.jpg', '417.jpg', '154.jpg', '237.jpg', '833.jpg', '218.jpg', '710.jpg', '261.jpg', '570.jpg', '41.jpg', '403.jpg', '198.jpg', '703.jpg', '642.jpg', '707.jpg', '413.jpg', '190.jpg', '759.jpg', '334.jpg', '420.jpg', '59.jpg', '568.jpg', '717.jpg', '692.jpg', '558.jpg', '626.jpg', '844.jpg', '238.jpg', '439.jpg', '470.jpg', '288.jpg', '625.jpg', '509.jpg', '712.jpg', '555.jpg', '9.jpg', '765.jpg', '32.jpg', '324.jpg', '602.jpg', '136.jpg', '529.jpg', '322.jpg', '764.jpg', '239.jpg', '231.jpg', '660.jpg', '847.jpg', '387.jpg', '253.jpg', '838.jpg', '574.jpg', '744.jpg', '276.jpg', '411.jpg', '225.jpg', '285.jpg', '202.jpg', '160.jpg', '428.jpg', '313.jpg', '443.jpg', '64.jpg', '105.jpg', '98.jpg', '330.jpg', '475.jpg', '178.jpg', '126.jpg', '78.jpg', '138.jpg', '134.jpg', '485.jpg', '25.jpg', '220.jpg', '432.jpg', '38.jpg', '454.jpg', '821.jpg', '347.jpg', '696.jpg', '67.jpg', '689.jpg', '613.jpg', '832.jpg', '551.jpg', '384.jpg', '51.jpg', '540.jpg', '592.jpg', '722.jpg', '502.jpg', '70.jpg', '802.jpg', '416.jpg', '219.jpg', '612.jpg', '82.jpg', '99.jpg', '360.jpg', '772.jpg', '342.jpg', '333.jpg', '397.jpg', '481.jpg', '604.jpg', '777.jpg', '497.jpg', '487.jpg', '766.jpg', '697.jpg', '633.jpg', '489.jpg', '118.jpg', '193.jpg', '338.jpg', '426.jpg', '15.jpg', '521.jpg', '614.jpg', '370.jpg', '745.jpg', '68.jpg', '2.jpg', '113.jpg', '797.jpg', '779.jpg', '501.jpg', '480.jpg', '252.jpg', '427.jpg', '301.jpg', '808.jpg', '684.jpg', '140.jpg', '575.jpg', '123.jpg', '565.jpg', '304.jpg', '596.jpg', '452.jpg', '479.jpg', '182.jpg', '658.jpg', '329.jpg', '590.jpg', '773.jpg', '372.jpg', '810.jpg', '168.jpg', '499.jpg', '319.jpg', '339.jpg', '234.jpg', '402.jpg', '598.jpg', '77.jpg', '512.jpg', '507.jpg', '317.jpg', '223.jpg', '508.jpg', '46.jpg', '731.jpg', '96.jpg', '556.jpg', '617.jpg', '181.jpg', '780.jpg', '58.jpg', '424.jpg', '36.jpg', '396.jpg', '835.jpg', '31.jpg', '332.jpg', '145.jpg', '649.jpg', '622.jpg', '683.jpg', '69.jpg', '228.jpg', '297.jpg', '185.jpg', '251.jpg', '357.jpg', '830.jpg', '353.jpg', '685.jpg', '814.jpg', '784.jpg', '412.jpg', '7.jpg', '94.jpg', '282.jpg', '267.jpg', '129.jpg', '763.jpg', '472.jpg', '713.jpg', '284.jpg', '110.jpg', '641.jpg', '601.jpg', '195.jpg', '468.jpg', '377.jpg', '573.jpg', '774.jpg', '186.jpg', '519.jpg', '488.jpg', '85.jpg', '318.jpg', '477.jpg', '553.jpg', '57.jpg', '43.jpg', '494.jpg', '189.jpg', '538.jpg', '676.jpg', '337.jpg', '823.jpg', '734.jpg', '173.jpg', '523.jpg', '545.jpg', '800.jpg', '785.jpg', '229.jpg', '52.jpg', '213.jpg', '260.jpg', '401.jpg', '837.jpg', '10.jpg', '343.jpg', '328.jpg', '61.jpg', '86.jpg', '440.jpg', '393.jpg', '471.jpg', '546.jpg', '528.jpg', '843.jpg', '706.jpg', '48.jpg', '620.jpg', '836.jpg', '340.jpg', '414.jpg', '743.jpg', '131.jpg', '166.jpg', '652.jpg', '675.jpg', '812.jpg', '455.jpg', '490.jpg', '306.jpg', '799.jpg', '259.jpg', '618.jpg', '394.jpg', '366.jpg', '746.jpg', '352.jpg', '399.jpg', '688.jpg', '39.jpg', '624.jpg', '204.jpg', '423.jpg', '654.jpg', '215.jpg', '196.jpg', '559.jpg', '263.jpg', '271.jpg', '811.jpg', '230.jpg', '769.jpg', '527.jpg', '775.jpg', '825.jpg', '451.jpg', '516.jpg', '584.jpg', '605.jpg', '711.jpg', '819.jpg', '16.jpg', '447.jpg', '404.jpg', '514.jpg', '433.jpg', '510.jpg', '408.jpg', '280.jpg', '23.jpg', '636.jpg', '264.jpg', '90.jpg', '662.jpg', '737.jpg', '363.jpg', '97.jpg', '262.jpg', '834.jpg', '106.jpg', '258.jpg', '19.jpg', '466.jpg', '191.jpg', '209.jpg', '341.jpg', '552.jpg', '272.jpg', '232.jpg', '314.jpg', '135.jpg', '770.jpg', '13.jpg', '621.jpg', '457.jpg', '511.jpg', '526.jpg', '369.jpg', '482.jpg', '222.jpg', '152.jpg', '665.jpg', '296.jpg', '27.jpg', '54.jpg', '247.jpg', '532.jpg', '503.jpg', '787.jpg', '758.jpg', '671.jpg', '194.jpg', '578.jpg', '248.jpg', '646.jpg', '637.jpg', '266.jpg', '346.jpg', '700.jpg', '11.jpg', '293.jpg', '631.jpg', '212.jpg', '365.jpg', '615.jpg', '4.jpg', '429.jpg', '548.jpg', '560.jpg', '544.jpg', '241.jpg', '600.jpg', '661.jpg', '757.jpg', '680.jpg', '380.jpg', '0.jpg', '741.jpg', '650.jpg', '682.jpg', '146.jpg', '768.jpg', '269.jpg', '371.jpg', '657.jpg', '174.jpg', '278.jpg', '187.jpg', '177.jpg', '846.jpg', '226.jpg', '735.jpg', '793.jpg', '379.jpg', '442.jpg', '44.jpg', '619.jpg', '12.jpg', '155.jpg', '148.jpg', '729.jpg', '536.jpg', '161.jpg', '571.jpg', '827.jpg', '277.jpg', '595.jpg', '845.jpg', '721.jpg', '81.jpg', '562.jpg', '691.jpg', '496.jpg', '541.jpg', '609.jpg', '28.jpg', '74.jpg', '715.jpg', '750.jpg', '674.jpg', '224.jpg', '156.jpg', '246.jpg', '255.jpg', '679.jpg', '699.jpg']\n",
            "['461.jpg', '339.jpg', '148.jpg', '293.jpg', '171.jpg', '450.jpg', '116.jpg', '454.jpg', '346.jpg', '288.jpg', '276.jpg', '343.jpg', '388.jpg', '174.jpg', '356.jpg', '524.jpg', '78.jpg', '818.jpg', '491.jpg', '642.jpg', '7.jpg', '700.jpg', '365.jpg', '75.jpg', '230.jpg', '844.jpg', '786.jpg', '97.jpg', '504.jpg', '332.jpg', '108.jpg', '362.jpg', '667.jpg', '87.jpg', '227.jpg', '837.jpg', '113.jpg', '534.jpg', '395.jpg', '624.jpg', '80.jpg', '154.jpg', '19.jpg', '721.jpg', '697.jpg', '644.jpg', '246.jpg', '334.jpg', '750.jpg', '123.jpg', '749.jpg', '656.jpg', '725.jpg', '259.jpg', '256.jpg', '715.jpg', '136.jpg', '645.jpg', '793.jpg', '236.jpg', '596.jpg', '545.jpg', '751.jpg', '599.jpg', '477.jpg', '106.jpg', '165.jpg', '308.jpg', '482.jpg', '418.jpg', '155.jpg', '510.jpg', '689.jpg', '657.jpg', '592.jpg', '652.jpg', '65.jpg', '463.jpg', '760.jpg', '36.jpg', '67.jpg', '51.jpg', '84.jpg', '835.jpg', '162.jpg', '443.jpg', '208.jpg', '727.jpg', '149.jpg', '836.jpg', '169.jpg', '422.jpg', '301.jpg', '584.jpg', '490.jpg', '690.jpg', '55.jpg', '420.jpg', '620.jpg', '722.jpg', '547.jpg', '736.jpg', '397.jpg', '27.jpg', '350.jpg', '134.jpg', '728.jpg', '838.jpg', '460.jpg', '817.jpg', '605.jpg', '713.jpg', '649.jpg', '46.jpg', '670.jpg', '213.jpg', '673.jpg', '240.jpg', '832.jpg', '437.jpg', '183.jpg', '221.jpg', '68.jpg', '621.jpg', '730.jpg', '739.jpg', '612.jpg', '63.jpg', '508.jpg', '137.jpg', '544.jpg', '820.jpg', '528.jpg', '447.jpg', '94.jpg', '30.jpg', '40.jpg', '416.jpg', '563.jpg', '342.jpg', '329.jpg', '373.jpg', '710.jpg', '425.jpg', '64.jpg', '321.jpg', '234.jpg', '565.jpg', '514.jpg', '384.jpg', '327.jpg', '475.jpg', '733.jpg', '369.jpg', '434.jpg', '72.jpg', '745.jpg', '2.jpg', '774.jpg', '763.jpg', '331.jpg', '602.jpg', '251.jpg', '344.jpg', '349.jpg', '538.jpg', '740.jpg', '684.jpg', '780.jpg', '533.jpg', '449.jpg', '140.jpg', '224.jpg', '364.jpg', '801.jpg', '415.jpg', '554.jpg', '712.jpg', '33.jpg', '179.jpg', '686.jpg', '825.jpg', '756.jpg', '186.jpg', '714.jpg', '363.jpg', '669.jpg', '431.jpg', '270.jpg', '771.jpg', '775.jpg', '768.jpg', '280.jpg', '300.jpg', '478.jpg', '9.jpg', '794.jpg', '821.jpg', '225.jpg', '842.jpg', '92.jpg', '235.jpg', '295.jpg', '312.jpg', '417.jpg', '50.jpg', '6.jpg', '17.jpg', '245.jpg', '70.jpg', '691.jpg', '784.jpg', '703.jpg', '283.jpg', '144.jpg', '107.jpg', '121.jpg', '392.jpg', '577.jpg', '409.jpg', '729.jpg', '540.jpg', '654.jpg', '501.jpg', '311.jpg', '99.jpg', '625.jpg', '678.jpg', '777.jpg', '379.jpg', '585.jpg', '317.jpg', '167.jpg', '267.jpg', '603.jpg', '242.jpg', '275.jpg', '668.jpg', '398.jpg', '279.jpg', '471.jpg', '520.jpg', '841.jpg', '297.jpg', '359.jpg', '429.jpg', '810.jpg', '1.jpg', '22.jpg', '720.jpg', '196.jpg', '407.jpg', '629.jpg', '39.jpg', '529.jpg', '101.jpg', '502.jpg', '617.jpg', '474.jpg', '175.jpg', '93.jpg', '822.jpg', '215.jpg', '595.jpg', '290.jpg', '220.jpg', '623.jpg', '845.jpg', '11.jpg', '352.jpg', '247.jpg', '440.jpg', '462.jpg', '117.jpg', '464.jpg', '641.jpg', '767.jpg', '507.jpg', '435.jpg', '498.jpg', '459.jpg', '41.jpg', '815.jpg', '255.jpg', '376.jpg', '541.jpg', '427.jpg', '636.jpg', '15.jpg', '366.jpg', '338.jpg', '348.jpg', '24.jpg', '102.jpg', '184.jpg', '495.jpg', '286.jpg', '611.jpg', '575.jpg', '294.jpg', '266.jpg', '129.jpg', '615.jpg', '378.jpg', '29.jpg', '732.jpg', '494.jpg', '659.jpg', '779.jpg', '138.jpg', '304.jpg', '319.jpg', '357.jpg', '761.jpg', '708.jpg', '726.jpg', '56.jpg', '791.jpg', '228.jpg', '610.jpg', '824.jpg', '830.jpg', '145.jpg', '694.jpg', '807.jpg', '542.jpg', '278.jpg', '287.jpg', '82.jpg', '324.jpg', '701.jpg', '341.jpg', '354.jpg', '552.jpg', '433.jpg', '61.jpg', '706.jpg', '60.jpg', '806.jpg', '762.jpg', '692.jpg', '353.jpg', '163.jpg', '562.jpg', '702.jpg', '466.jpg', '139.jpg', '634.jpg', '358.jpg', '5.jpg']\n"
          ]
        }
      ],
      "source": [
        "# PARSE IMAGES THAT WE USE FOR TRAINING. \n",
        "\n",
        "DATA_PATH = '/content/'\n",
        "\n",
        "path_training = os.path.join(DATA_PATH, \"training\")\n",
        "for folder in os.listdir(path_training):\n",
        "  class_index = FOOD.index(folder)\n",
        "  seed(1) # I wanted to fixted randomization for clarifity of the accuracy but it can be closed. \n",
        "  image_count = [i for i in os.listdir(path_training + \"/\" + folder)]\n",
        "  print(image_count)\n",
        "  if len(image_count) < 350:\n",
        "    subset = sample(image_count, len(image_count))\n",
        "  else: \n",
        "    subset = sample(image_count, 350)\n",
        "  print(subset)\n",
        "  for image_name in subset:\n",
        "    img = Image.open(path_training + \"/\" + folder + \"/\" + image_name)\n",
        "    food_label = (np.arange(NUM_FOOD) == class_index).astype(np.float32)\n",
        "    training_data.append(np.array(img))\n",
        "    training_labels.append(food_label)"
      ]
    },
    {
      "cell_type": "code",
      "execution_count": 7,
      "metadata": {
        "id": "jVRdccm7HGh5"
      },
      "outputs": [],
      "source": [
        "data = {\"train_data\":training_data,\"val_data\":validation_data}\n",
        "labels = {\"train_labels\":np.array(training_labels),\"val_labels\":np.array(validation_labels)}\n",
        "evaluation_dict = {\"evaluation_data\":evaluation_data,\"evaluation_labels\":evaluation_labels}"
      ]
    },
    {
      "cell_type": "code",
      "execution_count": 8,
      "metadata": {
        "colab": {
          "base_uri": "https://localhost:8080/"
        },
        "id": "lJw551mqHNLd",
        "outputId": "3e3f82d8-3ec0-49a7-9a5e-9359b34c5943"
      },
      "outputs": [
        {
          "output_type": "stream",
          "name": "stdout",
          "text": [
            "Number of images in training data : 3780\n",
            "Number of images in validation data : 3430\n",
            "Number of images in evaluation data : 11\n"
          ]
        }
      ],
      "source": [
        "len_train = len(data[\"train_data\"])\n",
        "print(\"Number of images in training data : {}\".format(len_train))\n",
        "\n",
        "len_validation = len(data[\"val_data\"])\n",
        "print(\"Number of images in validation data : {}\".format(len_validation))\n",
        "\n",
        "len_evaluation = len(evaluation_dict[\"evaluation_data\"])\n",
        "print(\"Number of images in evaluation data : {}\".format(len_evaluation))"
      ]
    },
    {
      "cell_type": "code",
      "execution_count": 9,
      "metadata": {
        "colab": {
          "base_uri": "https://localhost:8080/"
        },
        "id": "nGwSB2EAHamY",
        "outputId": "0828d0f7-1c69-4e20-e347-21bc861f28a9"
      },
      "outputs": [
        {
          "output_type": "stream",
          "name": "stdout",
          "text": [
            "Requirement already satisfied: visdom in /usr/local/lib/python3.7/dist-packages (0.1.8.9)\n",
            "Requirement already satisfied: scipy in /usr/local/lib/python3.7/dist-packages (from visdom) (1.4.1)\n",
            "Requirement already satisfied: websocket-client in /usr/local/lib/python3.7/dist-packages (from visdom) (1.3.1)\n",
            "Requirement already satisfied: torchfile in /usr/local/lib/python3.7/dist-packages (from visdom) (0.1.0)\n",
            "Requirement already satisfied: requests in /usr/local/lib/python3.7/dist-packages (from visdom) (2.23.0)\n",
            "Requirement already satisfied: six in /usr/local/lib/python3.7/dist-packages (from visdom) (1.15.0)\n",
            "Requirement already satisfied: pyzmq in /usr/local/lib/python3.7/dist-packages (from visdom) (22.3.0)\n",
            "Requirement already satisfied: tornado in /usr/local/lib/python3.7/dist-packages (from visdom) (5.1.1)\n",
            "Requirement already satisfied: pillow in /usr/local/lib/python3.7/dist-packages (from visdom) (7.1.2)\n",
            "Requirement already satisfied: jsonpatch in /usr/local/lib/python3.7/dist-packages (from visdom) (1.32)\n",
            "Requirement already satisfied: numpy>=1.8 in /usr/local/lib/python3.7/dist-packages (from visdom) (1.21.5)\n",
            "Requirement already satisfied: jsonpointer>=1.9 in /usr/local/lib/python3.7/dist-packages (from jsonpatch->visdom) (2.2)\n",
            "Requirement already satisfied: idna<3,>=2.5 in /usr/local/lib/python3.7/dist-packages (from requests->visdom) (2.10)\n",
            "Requirement already satisfied: urllib3!=1.25.0,!=1.25.1,<1.26,>=1.21.1 in /usr/local/lib/python3.7/dist-packages (from requests->visdom) (1.24.3)\n",
            "Requirement already satisfied: chardet<4,>=3.0.2 in /usr/local/lib/python3.7/dist-packages (from requests->visdom) (3.0.4)\n",
            "Requirement already satisfied: certifi>=2017.4.17 in /usr/local/lib/python3.7/dist-packages (from requests->visdom) (2021.10.8)\n"
          ]
        }
      ],
      "source": [
        "# VISDOM is used to visulize run time training and validation accuracies. \n",
        "!pip install visdom"
      ]
    },
    {
      "cell_type": "code",
      "execution_count": 10,
      "metadata": {
        "id": "biGw9umLHnF9"
      },
      "outputs": [],
      "source": [
        "import torch\n",
        "from torch.nn import CrossEntropyLoss\n",
        "from torchvision import datasets, models\n",
        "from torch import optim\n",
        "from torchvision import transforms, utils\n",
        "import numpy as np\n",
        "import os\n",
        "from PIL import Image,ImageFile\n",
        "\n",
        "LR = 1e-2\n",
        "Momentum = 0.9 # If you use SGD with momentum\n",
        "BATCH_SIZE = 8\n",
        "USE_CUDA = False\n",
        "POOLING = False\n",
        "NUM_EPOCHS = 50\n",
        "PATIENCE = -1\n",
        "TRAIN_PERCENT = 0.7\n",
        "VAL_PERCENT = 0.3\n",
        "NUM_ARTISTS = 11\n",
        "ImageFile.LOAD_TRUNCATED_IMAGES = True \n",
        "\n",
        "import torchvision.models as models\n",
        "import numpy as np"
      ]
    },
    {
      "cell_type": "code",
      "execution_count": 11,
      "metadata": {
        "id": "iTky6aQoHzde"
      },
      "outputs": [],
      "source": [
        "import torch\n",
        "from torch.utils.data import Dataset\n",
        "\n",
        "from PIL import Image\n",
        "\n",
        "class LoaderClass(Dataset):\n",
        "    def __init__(self,data,labels,phase,transforms):\n",
        "        super(LoaderClass, self).__init__()\n",
        "        self.transforms = transforms\n",
        "        self.labels = labels[phase + \"_labels\"]\n",
        "        self.data = data[phase + \"_data\"]\n",
        "        self.phase = phase\n",
        "\n",
        "    def __len__(self):\n",
        "        return len(self.labels)\n",
        "\n",
        "    def __getitem__(self, idx):\n",
        "        label = self.labels[idx]\n",
        "        img = self.data[idx]\n",
        "        img = Image.fromarray(img)\n",
        "        img = self.transforms(img)\n",
        "        return img,torch.from_numpy(label)\n",
        "\n",
        "class SimpleCNN(torch.nn.Module):\n",
        "    def __init__(self,use_cuda=False,pooling= False):\n",
        "        super(SimpleCNN, self).__init__()\n",
        "        self.use_cuda = use_cuda\n",
        "        self.pooling = pooling\n",
        "        self.conv_layer1 = torch.nn.Conv2d(in_channels=3,out_channels=12,kernel_size=5,stride=1)\n",
        "        self.dropout_layer_1 = torch.nn.Dropout2d(0.5) # yeni eklendi\n",
        "        self.pool_layer1 = torch.nn.MaxPool2d(kernel_size=2,stride=2)\n",
        "        self.conv_layer2 = torch.nn.Conv2d(in_channels=12,out_channels=15,kernel_size=5,stride=1)\n",
        "        self.pool_layer2 = torch.nn.MaxPool2d(kernel_size=2,stride=2)\n",
        "        self.conv_layer3 = torch.nn.Conv2d(in_channels=15,out_channels=12,kernel_size=5,stride=1)\n",
        "        self.pool_layer3 = torch.nn.MaxPool2d(kernel_size=2,stride=2) \n",
        "        self.bathcnorm1 = torch.nn.BatchNorm2d(12)\n",
        "        self.bathcnorm2 = torch.nn.BatchNorm2d(15)\n",
        "        self.bathcnorm3 = torch.nn.BatchNorm2d(8) \n",
        "        if pooling:\n",
        "          self.fully_connected_layer1 = nn.Linear(1215,256) \n",
        "          self.fully_connected_layer2 = nn.Linear(256,256)    \n",
        "          self.bathcnormFC1 = torch.nn.BatchNorm1d(256)\n",
        "          self.bathcnormFC2 = torch.nn.BatchNorm1d(256)         \n",
        "          self.final_layer = nn.Linear(256,11) \n",
        "        else:\n",
        "          self.bathcnormFC1 = torch.nn.BatchNorm1d(512)\n",
        "          self.bathcnormFC2 = torch.nn.BatchNorm1d(512)\n",
        "          self.fully_connected_layer1 = nn.Linear(26460,512) \n",
        "          self.fully_connected_layer2 = nn.Linear(512,512)           \n",
        "          self.final_layer = nn.Linear(512, 11)\n",
        "    def forward(self,inp):\n",
        "        x = torch.nn.functional.relu(self.bathcnorm1(self.conv_layer1(inp)))\n",
        "        #print('CONV1 OUT',x.shape)\n",
        "        if self.pooling:\n",
        "            x = self.pool_layer1(x)\n",
        "            #print('CONV1+POOLING OUT',x.shape)\n",
        "        x = torch.nn.functional.relu(self.bathcnorm2(self.conv_layer2(x)))\n",
        "        #print('CONV2 OUT',x.shape)\n",
        "        if self.pooling:\n",
        "            x = self.pool_layer2(x)\n",
        "            #print('CONV2+POOLING OUT',x.shape)\n",
        "        #x = torch.nn.functional.relu(self.bathcnorm3(self.conv_layer3(x)))\n",
        "        #if self.pooling: \n",
        "            #x = self.pool_layer3(x)\n",
        "        #x = self.dropout_layer_1(x)\n",
        "        x = x.reshape(x.size(0),-1)\n",
        "        #print('DROPOUT OUT',x.shape)\n",
        "        x = torch.nn.functional.relu(self.bathcnormFC1(self.fully_connected_layer1(x)))\n",
        "        #print('FC1 OUT',x.shape)\n",
        "        x = torch.nn.functional.relu(self.bathcnormFC2(self.fully_connected_layer2(x)))\n",
        "        #print('FC2 OUT',x.shape)\n",
        "        x = self.final_layer(x)\n",
        "        return x"
      ]
    },
    {
      "cell_type": "code",
      "execution_count": 12,
      "metadata": {
        "colab": {
          "base_uri": "https://localhost:8080/"
        },
        "id": "i-BHUSe4IEU1",
        "outputId": "79fe956e-9696-4747-f092-1156639bc2bc"
      },
      "outputs": [
        {
          "output_type": "stream",
          "name": "stdout",
          "text": [
            "\u001b[K\u001b[?25h/tools/node/bin/lt -> /tools/node/lib/node_modules/localtunnel/bin/lt.js\n",
            "+ localtunnel@2.0.2\n",
            "updated 1 package in 0.625s\n",
            "your url is: https://soft-swan-75.loca.lt\n",
            "your url is: https://tasty-mole-49.loca.lt\n",
            "your url is: https://fast-insect-61.loca.lt\n"
          ]
        },
        {
          "output_type": "stream",
          "name": "stderr",
          "text": [
            "Setting up a new session...\n",
            "/usr/local/lib/python3.7/dist-packages/torch/utils/data/dataloader.py:481: UserWarning: This DataLoader will create 4 worker processes in total. Our suggested max number of worker in current system is 2, which is smaller than what this DataLoader is going to create. Please be aware that excessive worker creation might get DataLoader running slow or even freeze, lower the worker number to avoid potential slowness/freeze if necessary.\n",
            "  cpuset_checked))\n",
            "Epoch 0,phase: Training: 1it [00:00, 31775.03it/s, train_loss : ?, train_acc: ?]/usr/local/lib/python3.7/dist-packages/ipykernel_launcher.py:69: UserWarning: Implicit dimension choice for softmax has been deprecated. Change the call to include dim=X as an argument.\n",
            "Epoch 0,phase: Training: 1it [00:12, 12.66s/it, train acc:  0.190,train loss:  2.348]/usr/local/lib/python3.7/dist-packages/torch/optim/lr_scheduler.py:154: UserWarning: The epoch parameter in `scheduler.step()` was not necessary and is being deprecated where possible. Please use `scheduler.step()` to step the scheduler. During the deprecation, if epoch is different from None, the closed form is used instead of the new chainable form, where available. Please open an issue if you are unable to replicate your use case: https://github.com/pytorch/pytorch/issues/new/choose.\n",
            "  warnings.warn(EPOCH_DEPRECATION_WARNING, UserWarning)\n",
            "/usr/local/lib/python3.7/dist-packages/torch/optim/lr_scheduler.py:379: UserWarning: __floordiv__ is deprecated, and its behavior will change in a future version of pytorch. It currently rounds toward 0 (like the 'trunc' function NOT 'floor'). This results in incorrect rounding for negative values. To keep the current behavior, use torch.div(a, b, rounding_mode='trunc'), or for actual floor division, use torch.div(a, b, rounding_mode='floor').\n",
            "  for base_lr in self.base_lrs]\n",
            "Epoch 1,phase: Training: 2it [00:22, 11.15s/it, val acc:  0.281,val loss:  2.259]  "
          ]
        },
        {
          "output_type": "stream",
          "name": "stdout",
          "text": [
            "New best loss, loss is:  2.258782970628073 acc is:  0.2813411078717201\n"
          ]
        },
        {
          "output_type": "stream",
          "name": "stderr",
          "text": [
            "Epoch 2,phase: Training: 3it [00:43, 15.22s/it, val acc:  0.366,val loss:  2.185]  "
          ]
        },
        {
          "output_type": "stream",
          "name": "stdout",
          "text": [
            "New best loss, loss is:  2.18479355213254 acc is:  0.36676384839650145\n"
          ]
        },
        {
          "output_type": "stream",
          "name": "stderr",
          "text": [
            "Epoch 3,phase: Training: 4it [01:03, 17.21s/it, val acc:  0.418,val loss:  2.138]  "
          ]
        },
        {
          "output_type": "stream",
          "name": "stdout",
          "text": [
            "New best loss, loss is:  2.138088425924612 acc is:  0.41953352769679303\n"
          ]
        },
        {
          "output_type": "stream",
          "name": "stderr",
          "text": [
            "Epoch 4,phase: Training: 5it [01:24, 18.32s/it, val acc:  0.456,val loss:  2.100]  "
          ]
        },
        {
          "output_type": "stream",
          "name": "stdout",
          "text": [
            "New best loss, loss is:  2.1002350341442018 acc is:  0.4574344023323615\n"
          ]
        },
        {
          "output_type": "stream",
          "name": "stderr",
          "text": [
            "Epoch 5,phase: Training: 6it [01:44, 19.07s/it, val acc:  0.472,val loss:  2.082]  "
          ]
        },
        {
          "output_type": "stream",
          "name": "stdout",
          "text": [
            "New best loss, loss is:  2.0817655646523763 acc is:  0.4728862973760933\n"
          ]
        },
        {
          "output_type": "stream",
          "name": "stderr",
          "text": [
            "Epoch 6,phase: Training: 7it [02:05, 19.65s/it, val acc:  0.461,val loss:  2.082]  "
          ]
        },
        {
          "output_type": "stream",
          "name": "stdout",
          "text": [
            "Not a better score\n"
          ]
        },
        {
          "output_type": "stream",
          "name": "stderr",
          "text": [
            "Epoch 7,phase: Training: 8it [02:26, 20.03s/it, val acc:  0.494,val loss:  2.055]  "
          ]
        },
        {
          "output_type": "stream",
          "name": "stdout",
          "text": [
            "New best loss, loss is:  2.054798023090806 acc is:  0.4956268221574344\n"
          ]
        },
        {
          "output_type": "stream",
          "name": "stderr",
          "text": [
            "Epoch 8,phase: Training: 9it [02:47, 20.23s/it, val acc:  0.514,val loss:  2.034]  "
          ]
        },
        {
          "output_type": "stream",
          "name": "stdout",
          "text": [
            "New best loss, loss is:  2.033673750522525 acc is:  0.5157434402332362\n"
          ]
        },
        {
          "output_type": "stream",
          "name": "stderr",
          "text": [
            "Epoch 9,phase: Training: 10it [03:07, 20.42s/it, val acc:  0.508,val loss:  2.035]  "
          ]
        },
        {
          "output_type": "stream",
          "name": "stdout",
          "text": [
            "Not a better score\n"
          ]
        },
        {
          "output_type": "stream",
          "name": "stderr",
          "text": [
            "Epoch 10,phase: Training: 11it [03:28, 20.48s/it, val acc:  0.514,val loss:  2.030] "
          ]
        },
        {
          "output_type": "stream",
          "name": "stdout",
          "text": [
            "New best loss, loss is:  2.0299254262170128 acc is:  0.5151603498542274\n"
          ]
        },
        {
          "output_type": "stream",
          "name": "stderr",
          "text": [
            "Epoch 11,phase: Training: 12it [03:49, 20.55s/it, val acc:  0.531,val loss:  2.011]  "
          ]
        },
        {
          "output_type": "stream",
          "name": "stdout",
          "text": [
            "New best loss, loss is:  2.0110223459642986 acc is:  0.5326530612244897\n"
          ]
        },
        {
          "output_type": "stream",
          "name": "stderr",
          "text": [
            "Epoch 12,phase: Training: 13it [04:09, 20.49s/it, val acc:  0.537,val loss:  2.004]  "
          ]
        },
        {
          "output_type": "stream",
          "name": "stdout",
          "text": [
            "New best loss, loss is:  2.004403578957846 acc is:  0.5384839650145773\n"
          ]
        },
        {
          "output_type": "stream",
          "name": "stderr",
          "text": [
            "Epoch 13,phase: Training: 14it [04:30, 20.47s/it, val acc:  0.524,val loss:  2.018]  "
          ]
        },
        {
          "output_type": "stream",
          "name": "stdout",
          "text": [
            "Not a better score\n"
          ]
        },
        {
          "output_type": "stream",
          "name": "stderr",
          "text": [
            "Epoch 14,phase: Training: 15it [04:50, 20.44s/it, val acc:  0.551,val loss:  1.993]  "
          ]
        },
        {
          "output_type": "stream",
          "name": "stdout",
          "text": [
            "New best loss, loss is:  1.9931021834528724 acc is:  0.5527696793002915\n"
          ]
        },
        {
          "output_type": "stream",
          "name": "stderr",
          "text": [
            "Epoch 15,phase: Training: 16it [05:10, 20.42s/it, val acc:  0.515,val loss:  2.025]  "
          ]
        },
        {
          "output_type": "stream",
          "name": "stdout",
          "text": [
            "Not a better score\n"
          ]
        },
        {
          "output_type": "stream",
          "name": "stderr",
          "text": [
            "Epoch 16,phase: Training: 17it [05:31, 20.48s/it, val acc:  0.556,val loss:  1.990]  "
          ]
        },
        {
          "output_type": "stream",
          "name": "stdout",
          "text": [
            "New best loss, loss is:  1.9895670413970947 acc is:  0.5574344023323615\n"
          ]
        },
        {
          "output_type": "stream",
          "name": "stderr",
          "text": [
            "Epoch 17,phase: Training: 18it [05:51, 20.48s/it, val acc:  0.542,val loss:  2.000]  "
          ]
        },
        {
          "output_type": "stream",
          "name": "stdout",
          "text": [
            "Not a better score\n"
          ]
        },
        {
          "output_type": "stream",
          "name": "stderr",
          "text": [
            "Epoch 18,phase: Training: 19it [06:12, 20.54s/it, val acc:  0.564,val loss:  1.982]  "
          ]
        },
        {
          "output_type": "stream",
          "name": "stdout",
          "text": [
            "New best loss, loss is:  1.9817716182664384 acc is:  0.565597667638484\n"
          ]
        },
        {
          "output_type": "stream",
          "name": "stderr",
          "text": [
            "Epoch 19,phase: Training: 20it [06:32, 20.48s/it, val acc:  0.533,val loss:  2.012]  "
          ]
        },
        {
          "output_type": "stream",
          "name": "stdout",
          "text": [
            "Not a better score\n"
          ]
        },
        {
          "output_type": "stream",
          "name": "stderr",
          "text": [
            "Epoch 20,phase: Training: 21it [06:53, 20.38s/it, val acc:  0.551,val loss:  1.992]  "
          ]
        },
        {
          "output_type": "stream",
          "name": "stdout",
          "text": [
            "Not a better score\n"
          ]
        },
        {
          "output_type": "stream",
          "name": "stderr",
          "text": [
            "Epoch 21,phase: Training: 22it [07:13, 20.41s/it, val acc:  0.543,val loss:  1.997]  "
          ]
        },
        {
          "output_type": "stream",
          "name": "stdout",
          "text": [
            "Not a better score\n"
          ]
        },
        {
          "output_type": "stream",
          "name": "stderr",
          "text": [
            "Epoch 22,phase: Training: 23it [07:33, 20.37s/it, val acc:  0.538,val loss:  2.002]  "
          ]
        },
        {
          "output_type": "stream",
          "name": "stdout",
          "text": [
            "Not a better score\n"
          ]
        },
        {
          "output_type": "stream",
          "name": "stderr",
          "text": [
            "Epoch 23,phase: Training: 24it [07:54, 20.34s/it, val acc:  0.549,val loss:  1.993]  "
          ]
        },
        {
          "output_type": "stream",
          "name": "stdout",
          "text": [
            "Not a better score\n"
          ]
        },
        {
          "output_type": "stream",
          "name": "stderr",
          "text": [
            "Epoch 24,phase: Training: 25it [08:14, 20.30s/it, val acc:  0.549,val loss:  1.988]  "
          ]
        },
        {
          "output_type": "stream",
          "name": "stdout",
          "text": [
            "Not a better score\n"
          ]
        },
        {
          "output_type": "stream",
          "name": "stderr",
          "text": [
            "Epoch 25,phase: Training: 26it [08:34, 20.27s/it, val acc:  0.556,val loss:  1.987]  "
          ]
        },
        {
          "output_type": "stream",
          "name": "stdout",
          "text": [
            "Not a better score\n"
          ]
        },
        {
          "output_type": "stream",
          "name": "stderr",
          "text": [
            "Epoch 26,phase: Training: 27it [08:54, 20.26s/it, val acc:  0.549,val loss:  1.987]  "
          ]
        },
        {
          "output_type": "stream",
          "name": "stdout",
          "text": [
            "Not a better score\n"
          ]
        },
        {
          "output_type": "stream",
          "name": "stderr",
          "text": [
            "Epoch 27,phase: Training: 28it [09:15, 20.34s/it, val acc:  0.548,val loss:  1.993]  "
          ]
        },
        {
          "output_type": "stream",
          "name": "stdout",
          "text": [
            "Not a better score\n"
          ]
        },
        {
          "output_type": "stream",
          "name": "stderr",
          "text": [
            "Epoch 28,phase: Training: 29it [09:35, 20.36s/it, val acc:  0.573,val loss:  1.970]  "
          ]
        },
        {
          "output_type": "stream",
          "name": "stdout",
          "text": [
            "New best loss, loss is:  1.9697669129038966 acc is:  0.574927113702624\n"
          ]
        },
        {
          "output_type": "stream",
          "name": "stderr",
          "text": [
            "Epoch 29,phase: Training: 30it [09:56, 20.41s/it, val acc:  0.549,val loss:  1.993]  "
          ]
        },
        {
          "output_type": "stream",
          "name": "stdout",
          "text": [
            "Not a better score\n"
          ]
        },
        {
          "output_type": "stream",
          "name": "stderr",
          "text": [
            "Epoch 30,phase: Training: 31it [10:16, 20.44s/it, val acc:  0.587,val loss:  1.958]  "
          ]
        },
        {
          "output_type": "stream",
          "name": "stdout",
          "text": [
            "New best loss, loss is:  1.9582860791405967 acc is:  0.5883381924198251\n"
          ]
        },
        {
          "output_type": "stream",
          "name": "stderr",
          "text": [
            "Epoch 31,phase: Training: 32it [10:37, 20.45s/it, val acc:  0.561,val loss:  1.981]  "
          ]
        },
        {
          "output_type": "stream",
          "name": "stdout",
          "text": [
            "Not a better score\n"
          ]
        },
        {
          "output_type": "stream",
          "name": "stderr",
          "text": [
            "Epoch 32,phase: Training: 33it [10:57, 20.50s/it, val acc:  0.574,val loss:  1.967]  "
          ]
        },
        {
          "output_type": "stream",
          "name": "stdout",
          "text": [
            "Not a better score\n"
          ]
        },
        {
          "output_type": "stream",
          "name": "stderr",
          "text": [
            "Epoch 33,phase: Training: 34it [11:18, 20.45s/it, val acc:  0.565,val loss:  1.975]  "
          ]
        },
        {
          "output_type": "stream",
          "name": "stdout",
          "text": [
            "Not a better score\n"
          ]
        },
        {
          "output_type": "stream",
          "name": "stderr",
          "text": [
            "Epoch 34,phase: Training: 35it [11:38, 20.42s/it, val acc:  0.552,val loss:  1.987]  "
          ]
        },
        {
          "output_type": "stream",
          "name": "stdout",
          "text": [
            "Not a better score\n"
          ]
        },
        {
          "output_type": "stream",
          "name": "stderr",
          "text": [
            "Epoch 35,phase: Training: 36it [11:58, 20.35s/it, val acc:  0.560,val loss:  1.977]  "
          ]
        },
        {
          "output_type": "stream",
          "name": "stdout",
          "text": [
            "Not a better score\n"
          ]
        },
        {
          "output_type": "stream",
          "name": "stderr",
          "text": [
            "Epoch 36,phase: Training: 37it [12:19, 20.45s/it, val acc:  0.561,val loss:  1.980]  "
          ]
        },
        {
          "output_type": "stream",
          "name": "stdout",
          "text": [
            "Not a better score\n"
          ]
        },
        {
          "output_type": "stream",
          "name": "stderr",
          "text": [
            "Epoch 37,phase: Training: 38it [12:40, 20.64s/it, val acc:  0.578,val loss:  1.961]  "
          ]
        },
        {
          "output_type": "stream",
          "name": "stdout",
          "text": [
            "Not a better score\n"
          ]
        },
        {
          "output_type": "stream",
          "name": "stderr",
          "text": [
            "Epoch 38,phase: Training: 39it [13:01, 20.70s/it, val acc:  0.550,val loss:  1.989]  "
          ]
        },
        {
          "output_type": "stream",
          "name": "stdout",
          "text": [
            "Not a better score\n"
          ]
        },
        {
          "output_type": "stream",
          "name": "stderr",
          "text": [
            "Epoch 39,phase: Training: 40it [13:21, 20.66s/it, val acc:  0.578,val loss:  1.965]  "
          ]
        },
        {
          "output_type": "stream",
          "name": "stdout",
          "text": [
            "Not a better score\n"
          ]
        },
        {
          "output_type": "stream",
          "name": "stderr",
          "text": [
            "Epoch 40,phase: Training: 41it [13:42, 20.54s/it, val acc:  0.566,val loss:  1.975]  "
          ]
        },
        {
          "output_type": "stream",
          "name": "stdout",
          "text": [
            "Not a better score\n"
          ]
        },
        {
          "output_type": "stream",
          "name": "stderr",
          "text": [
            "Epoch 41,phase: Training: 42it [14:02, 20.51s/it, val acc:  0.559,val loss:  1.982]  "
          ]
        },
        {
          "output_type": "stream",
          "name": "stdout",
          "text": [
            "Not a better score\n"
          ]
        },
        {
          "output_type": "stream",
          "name": "stderr",
          "text": [
            "Epoch 42,phase: Training: 43it [14:22, 20.47s/it, val acc:  0.578,val loss:  1.963]  "
          ]
        },
        {
          "output_type": "stream",
          "name": "stdout",
          "text": [
            "Not a better score\n"
          ]
        },
        {
          "output_type": "stream",
          "name": "stderr",
          "text": [
            "Epoch 43,phase: Training: 44it [14:43, 20.43s/it, val acc:  0.556,val loss:  1.985]  "
          ]
        },
        {
          "output_type": "stream",
          "name": "stdout",
          "text": [
            "Not a better score\n"
          ]
        },
        {
          "output_type": "stream",
          "name": "stderr",
          "text": [
            "Epoch 44,phase: Training: 45it [15:03, 20.37s/it, val acc:  0.564,val loss:  1.979]  "
          ]
        },
        {
          "output_type": "stream",
          "name": "stdout",
          "text": [
            "Not a better score\n"
          ]
        },
        {
          "output_type": "stream",
          "name": "stderr",
          "text": [
            "Epoch 45,phase: Training: 46it [15:23, 20.34s/it, val acc:  0.576,val loss:  1.965]  "
          ]
        },
        {
          "output_type": "stream",
          "name": "stdout",
          "text": [
            "Not a better score\n"
          ]
        },
        {
          "output_type": "stream",
          "name": "stderr",
          "text": [
            "Epoch 46,phase: Training: 47it [15:44, 20.36s/it, val acc:  0.565,val loss:  1.973]  "
          ]
        },
        {
          "output_type": "stream",
          "name": "stdout",
          "text": [
            "Not a better score\n"
          ]
        },
        {
          "output_type": "stream",
          "name": "stderr",
          "text": [
            "Epoch 47,phase: Training: 48it [16:04, 20.28s/it, val acc:  0.553,val loss:  1.985]  "
          ]
        },
        {
          "output_type": "stream",
          "name": "stdout",
          "text": [
            "Not a better score\n"
          ]
        },
        {
          "output_type": "stream",
          "name": "stderr",
          "text": [
            "Epoch 48,phase: Training: 49it [16:24, 20.26s/it, val acc:  0.568,val loss:  1.975]  "
          ]
        },
        {
          "output_type": "stream",
          "name": "stdout",
          "text": [
            "Not a better score\n"
          ]
        },
        {
          "output_type": "stream",
          "name": "stderr",
          "text": [
            "Epoch 49,phase: Training: 50it [16:45, 20.34s/it, val acc:  0.579,val loss:  1.961]  "
          ]
        },
        {
          "output_type": "stream",
          "name": "stdout",
          "text": [
            "Not a better score\n"
          ]
        },
        {
          "output_type": "stream",
          "name": "stderr",
          "text": [
            "Epoch 50,phase: Training: 51it [17:05, 20.29s/it, val acc:  0.573,val loss:  1.967]  "
          ]
        },
        {
          "output_type": "stream",
          "name": "stdout",
          "text": [
            "Not a better score\n"
          ]
        },
        {
          "output_type": "stream",
          "name": "stderr",
          "text": [
            "Epoch 51,phase: Training: 52it [17:25, 20.32s/it, val acc:  0.571,val loss:  1.970]  "
          ]
        },
        {
          "output_type": "stream",
          "name": "stdout",
          "text": [
            "Not a better score\n"
          ]
        },
        {
          "output_type": "stream",
          "name": "stderr",
          "text": [
            "Epoch 52,phase: Training: 53it [17:45, 20.33s/it, val acc:  0.557,val loss:  1.981]  "
          ]
        },
        {
          "output_type": "stream",
          "name": "stdout",
          "text": [
            "Not a better score\n"
          ]
        },
        {
          "output_type": "stream",
          "name": "stderr",
          "text": [
            "Epoch 53,phase: Training: 54it [18:06, 20.39s/it, val acc:  0.565,val loss:  1.973]  "
          ]
        },
        {
          "output_type": "stream",
          "name": "stdout",
          "text": [
            "Not a better score\n"
          ]
        },
        {
          "output_type": "stream",
          "name": "stderr",
          "text": [
            "Epoch 54,phase: Training: 55it [18:27, 20.46s/it, val acc:  0.569,val loss:  1.970]  "
          ]
        },
        {
          "output_type": "stream",
          "name": "stdout",
          "text": [
            "Not a better score\n"
          ]
        },
        {
          "output_type": "stream",
          "name": "stderr",
          "text": [
            "Epoch 55,phase: Training: 56it [18:47, 20.50s/it, val acc:  0.577,val loss:  1.969]  "
          ]
        },
        {
          "output_type": "stream",
          "name": "stdout",
          "text": [
            "Not a better score\n"
          ]
        },
        {
          "output_type": "stream",
          "name": "stderr",
          "text": [
            "Epoch 56,phase: Training: 57it [19:08, 20.55s/it, val acc:  0.563,val loss:  1.978]  "
          ]
        },
        {
          "output_type": "stream",
          "name": "stdout",
          "text": [
            "Not a better score\n"
          ]
        },
        {
          "output_type": "stream",
          "name": "stderr",
          "text": [
            "Epoch 57,phase: Training: 58it [19:28, 20.49s/it, val acc:  0.587,val loss:  1.952]  "
          ]
        },
        {
          "output_type": "stream",
          "name": "stdout",
          "text": [
            "New best loss, loss is:  1.9522114626196927 acc is:  0.5883381924198251\n"
          ]
        },
        {
          "output_type": "stream",
          "name": "stderr",
          "text": [
            "Epoch 58,phase: Training: 59it [19:49, 20.44s/it, val acc:  0.581,val loss:  1.958]  "
          ]
        },
        {
          "output_type": "stream",
          "name": "stdout",
          "text": [
            "Not a better score\n"
          ]
        },
        {
          "output_type": "stream",
          "name": "stderr",
          "text": [
            "Epoch 59,phase: Training: 60it [20:09, 20.44s/it, val acc:  0.569,val loss:  1.970]  "
          ]
        },
        {
          "output_type": "stream",
          "name": "stdout",
          "text": [
            "Not a better score\n"
          ]
        },
        {
          "output_type": "stream",
          "name": "stderr",
          "text": [
            "Epoch 60,phase: Training: 61it [20:29, 20.45s/it, val acc:  0.572,val loss:  1.967]  "
          ]
        },
        {
          "output_type": "stream",
          "name": "stdout",
          "text": [
            "Not a better score\n"
          ]
        },
        {
          "output_type": "stream",
          "name": "stderr",
          "text": [
            "Epoch 61,phase: Training: 62it [20:50, 20.50s/it, val acc:  0.571,val loss:  1.970]  "
          ]
        },
        {
          "output_type": "stream",
          "name": "stdout",
          "text": [
            "Not a better score\n"
          ]
        },
        {
          "output_type": "stream",
          "name": "stderr",
          "text": [
            "Epoch 62,phase: Training: 63it [21:10, 20.48s/it, val acc:  0.592,val loss:  1.950]  "
          ]
        },
        {
          "output_type": "stream",
          "name": "stdout",
          "text": [
            "New best loss, loss is:  1.9497596186260844 acc is:  0.5938775510204082\n"
          ]
        },
        {
          "output_type": "stream",
          "name": "stderr",
          "text": [
            "Epoch 63,phase: Training: 64it [21:31, 20.41s/it, val acc:  0.572,val loss:  1.968]  "
          ]
        },
        {
          "output_type": "stream",
          "name": "stdout",
          "text": [
            "Not a better score\n"
          ]
        },
        {
          "output_type": "stream",
          "name": "stderr",
          "text": [
            "Epoch 64,phase: Training: 65it [21:51, 20.43s/it, val acc:  0.581,val loss:  1.965]  "
          ]
        },
        {
          "output_type": "stream",
          "name": "stdout",
          "text": [
            "Not a better score\n"
          ]
        },
        {
          "output_type": "stream",
          "name": "stderr",
          "text": [
            "Epoch 65,phase: Training: 66it [22:12, 20.50s/it, val acc:  0.583,val loss:  1.957]  "
          ]
        },
        {
          "output_type": "stream",
          "name": "stdout",
          "text": [
            "Not a better score\n"
          ]
        },
        {
          "output_type": "stream",
          "name": "stderr",
          "text": [
            "Epoch 66,phase: Training: 67it [22:32, 20.46s/it, val acc:  0.582,val loss:  1.957]  "
          ]
        },
        {
          "output_type": "stream",
          "name": "stdout",
          "text": [
            "Not a better score\n"
          ]
        },
        {
          "output_type": "stream",
          "name": "stderr",
          "text": [
            "Epoch 67,phase: Training: 68it [22:53, 20.41s/it, val acc:  0.590,val loss:  1.949]  "
          ]
        },
        {
          "output_type": "stream",
          "name": "stdout",
          "text": [
            "New best loss, loss is:  1.9488883711570917 acc is:  0.5918367346938775\n"
          ]
        },
        {
          "output_type": "stream",
          "name": "stderr",
          "text": [
            "Epoch 68,phase: Training: 69it [23:13, 20.39s/it, val acc:  0.576,val loss:  1.959]  "
          ]
        },
        {
          "output_type": "stream",
          "name": "stdout",
          "text": [
            "Not a better score\n"
          ]
        },
        {
          "output_type": "stream",
          "name": "stderr",
          "text": [
            "Epoch 69,phase: Training: 70it [23:33, 20.42s/it, val acc:  0.573,val loss:  1.967]  "
          ]
        },
        {
          "output_type": "stream",
          "name": "stdout",
          "text": [
            "Not a better score\n"
          ]
        },
        {
          "output_type": "stream",
          "name": "stderr",
          "text": [
            "Epoch 70,phase: Training: 71it [23:54, 20.33s/it, val acc:  0.593,val loss:  1.948]  "
          ]
        },
        {
          "output_type": "stream",
          "name": "stdout",
          "text": [
            "New best loss, loss is:  1.9481183290481567 acc is:  0.5944606413994169\n"
          ]
        },
        {
          "output_type": "stream",
          "name": "stderr",
          "text": [
            "Epoch 71,phase: Training: 72it [24:14, 20.36s/it, val acc:  0.585,val loss:  1.955]  "
          ]
        },
        {
          "output_type": "stream",
          "name": "stdout",
          "text": [
            "Not a better score\n"
          ]
        },
        {
          "output_type": "stream",
          "name": "stderr",
          "text": [
            "Epoch 72,phase: Training: 73it [24:34, 20.35s/it, val acc:  0.578,val loss:  1.962]  "
          ]
        },
        {
          "output_type": "stream",
          "name": "stdout",
          "text": [
            "Not a better score\n"
          ]
        },
        {
          "output_type": "stream",
          "name": "stderr",
          "text": [
            "Epoch 73,phase: Training: 74it [24:55, 20.41s/it, val acc:  0.589,val loss:  1.951]  "
          ]
        },
        {
          "output_type": "stream",
          "name": "stdout",
          "text": [
            "Not a better score\n"
          ]
        },
        {
          "output_type": "stream",
          "name": "stderr",
          "text": [
            "Epoch 74,phase: Training: 75it [25:15, 20.41s/it, val acc:  0.576,val loss:  1.966]  "
          ]
        },
        {
          "output_type": "stream",
          "name": "stdout",
          "text": [
            "Not a better score\n"
          ]
        },
        {
          "output_type": "stream",
          "name": "stderr",
          "text": [
            "Epoch 75,phase: Training: 76it [25:36, 20.39s/it, val acc:  0.574,val loss:  1.965]  "
          ]
        },
        {
          "output_type": "stream",
          "name": "stdout",
          "text": [
            "Not a better score\n"
          ]
        },
        {
          "output_type": "stream",
          "name": "stderr",
          "text": [
            "Epoch 76,phase: Training: 77it [25:56, 20.53s/it, val acc:  0.564,val loss:  1.975]  "
          ]
        },
        {
          "output_type": "stream",
          "name": "stdout",
          "text": [
            "Not a better score\n"
          ]
        },
        {
          "output_type": "stream",
          "name": "stderr",
          "text": [
            "Epoch 77,phase: Training: 78it [26:17, 20.56s/it, val acc:  0.571,val loss:  1.969]  "
          ]
        },
        {
          "output_type": "stream",
          "name": "stdout",
          "text": [
            "Not a better score\n"
          ]
        },
        {
          "output_type": "stream",
          "name": "stderr",
          "text": [
            "Epoch 78,phase: Training: 79it [26:38, 20.53s/it, val acc:  0.590,val loss:  1.952]  "
          ]
        },
        {
          "output_type": "stream",
          "name": "stdout",
          "text": [
            "Not a better score\n"
          ]
        },
        {
          "output_type": "stream",
          "name": "stderr",
          "text": [
            "Epoch 79,phase: Training: 80it [26:58, 20.62s/it, val acc:  0.569,val loss:  1.970]  "
          ]
        },
        {
          "output_type": "stream",
          "name": "stdout",
          "text": [
            "Not a better score\n"
          ]
        },
        {
          "output_type": "stream",
          "name": "stderr",
          "text": [
            "Epoch 80,phase: Training: 81it [27:19, 20.61s/it, val acc:  0.584,val loss:  1.956]  "
          ]
        },
        {
          "output_type": "stream",
          "name": "stdout",
          "text": [
            "Not a better score\n"
          ]
        },
        {
          "output_type": "stream",
          "name": "stderr",
          "text": [
            "Epoch 81,phase: Training: 82it [27:39, 20.57s/it, val acc:  0.578,val loss:  1.960]  "
          ]
        },
        {
          "output_type": "stream",
          "name": "stdout",
          "text": [
            "Not a better score\n"
          ]
        },
        {
          "output_type": "stream",
          "name": "stderr",
          "text": [
            "Epoch 82,phase: Training: 83it [28:00, 20.50s/it, val acc:  0.574,val loss:  1.966]  "
          ]
        },
        {
          "output_type": "stream",
          "name": "stdout",
          "text": [
            "Not a better score\n"
          ]
        },
        {
          "output_type": "stream",
          "name": "stderr",
          "text": [
            "Epoch 83,phase: Training: 84it [28:20, 20.46s/it, val acc:  0.580,val loss:  1.960]  "
          ]
        },
        {
          "output_type": "stream",
          "name": "stdout",
          "text": [
            "Not a better score\n"
          ]
        },
        {
          "output_type": "stream",
          "name": "stderr",
          "text": [
            "Epoch 84,phase: Training: 85it [28:41, 20.51s/it, val acc:  0.601,val loss:  1.940]  "
          ]
        },
        {
          "output_type": "stream",
          "name": "stdout",
          "text": [
            "New best loss, loss is:  1.9395085539928703 acc is:  0.6029154518950437\n"
          ]
        },
        {
          "output_type": "stream",
          "name": "stderr",
          "text": [
            "Epoch 85,phase: Training: 86it [29:01, 20.56s/it, val acc:  0.585,val loss:  1.953]  "
          ]
        },
        {
          "output_type": "stream",
          "name": "stdout",
          "text": [
            "Not a better score\n"
          ]
        },
        {
          "output_type": "stream",
          "name": "stderr",
          "text": [
            "Epoch 86,phase: Training: 87it [29:22, 20.53s/it, val acc:  0.588,val loss:  1.950]  "
          ]
        },
        {
          "output_type": "stream",
          "name": "stdout",
          "text": [
            "Not a better score\n"
          ]
        },
        {
          "output_type": "stream",
          "name": "stderr",
          "text": [
            "Epoch 87,phase: Training: 88it [29:43, 20.66s/it, val acc:  0.587,val loss:  1.954]  "
          ]
        },
        {
          "output_type": "stream",
          "name": "stdout",
          "text": [
            "Not a better score\n"
          ]
        },
        {
          "output_type": "stream",
          "name": "stderr",
          "text": [
            "Epoch 88,phase: Training: 89it [30:04, 20.70s/it, val acc:  0.581,val loss:  1.958]  "
          ]
        },
        {
          "output_type": "stream",
          "name": "stdout",
          "text": [
            "Not a better score\n"
          ]
        },
        {
          "output_type": "stream",
          "name": "stderr",
          "text": [
            "Epoch 89,phase: Training: 90it [30:24, 20.71s/it, val acc:  0.554,val loss:  1.981]  "
          ]
        },
        {
          "output_type": "stream",
          "name": "stdout",
          "text": [
            "Not a better score\n"
          ]
        },
        {
          "output_type": "stream",
          "name": "stderr",
          "text": [
            "Epoch 90,phase: Training: 91it [30:45, 20.69s/it, val acc:  0.544,val loss:  1.995]  "
          ]
        },
        {
          "output_type": "stream",
          "name": "stdout",
          "text": [
            "Not a better score\n"
          ]
        },
        {
          "output_type": "stream",
          "name": "stderr",
          "text": [
            "Epoch 91,phase: Training: 92it [31:05, 20.60s/it, val acc:  0.583,val loss:  1.954]  "
          ]
        },
        {
          "output_type": "stream",
          "name": "stdout",
          "text": [
            "Not a better score\n"
          ]
        },
        {
          "output_type": "stream",
          "name": "stderr",
          "text": [
            "Epoch 92,phase: Training: 93it [31:26, 20.58s/it, val acc:  0.585,val loss:  1.957]  "
          ]
        },
        {
          "output_type": "stream",
          "name": "stdout",
          "text": [
            "Not a better score\n"
          ]
        },
        {
          "output_type": "stream",
          "name": "stderr",
          "text": [
            "Epoch 93,phase: Training: 94it [31:47, 20.66s/it, val acc:  0.581,val loss:  1.958]  "
          ]
        },
        {
          "output_type": "stream",
          "name": "stdout",
          "text": [
            "Not a better score\n"
          ]
        },
        {
          "output_type": "stream",
          "name": "stderr",
          "text": [
            "Epoch 94,phase: Training: 95it [32:07, 20.68s/it, val acc:  0.597,val loss:  1.943]  "
          ]
        },
        {
          "output_type": "stream",
          "name": "stdout",
          "text": [
            "Not a better score\n"
          ]
        },
        {
          "output_type": "stream",
          "name": "stderr",
          "text": [
            "Epoch 95,phase: Training: 96it [32:28, 20.65s/it, val acc:  0.602,val loss:  1.940]  "
          ]
        },
        {
          "output_type": "stream",
          "name": "stdout",
          "text": [
            "Not a better score\n"
          ]
        },
        {
          "output_type": "stream",
          "name": "stderr",
          "text": [
            "Epoch 96,phase: Training: 97it [32:49, 20.74s/it, val acc:  0.611,val loss:  1.932]  "
          ]
        },
        {
          "output_type": "stream",
          "name": "stdout",
          "text": [
            "New best loss, loss is:  1.932319910581722 acc is:  0.6128279883381924\n"
          ]
        },
        {
          "output_type": "stream",
          "name": "stderr",
          "text": [
            "Epoch 97,phase: Training: 98it [33:10, 20.76s/it, val acc:  0.608,val loss:  1.936]  "
          ]
        },
        {
          "output_type": "stream",
          "name": "stdout",
          "text": [
            "Not a better score\n"
          ]
        },
        {
          "output_type": "stream",
          "name": "stderr",
          "text": [
            "Epoch 98,phase: Training: 99it [33:30, 20.70s/it, val acc:  0.607,val loss:  1.936]  "
          ]
        },
        {
          "output_type": "stream",
          "name": "stdout",
          "text": [
            "Not a better score\n"
          ]
        },
        {
          "output_type": "stream",
          "name": "stderr",
          "text": [
            "Epoch 99,phase: Training: 100it [33:51, 20.65s/it, val acc:  0.611,val loss:  1.932]  "
          ]
        },
        {
          "output_type": "stream",
          "name": "stdout",
          "text": [
            "New best loss, loss is:  1.9318599933801694 acc is:  0.6128279883381924\n"
          ]
        },
        {
          "output_type": "stream",
          "name": "stderr",
          "text": [
            "Epoch 100,phase: Training: 101it [34:12, 20.68s/it, val acc:  0.627,val loss:  1.914] "
          ]
        },
        {
          "output_type": "stream",
          "name": "stdout",
          "text": [
            "New best loss, loss is:  1.9139246585757232 acc is:  0.6285714285714286\n"
          ]
        },
        {
          "output_type": "stream",
          "name": "stderr",
          "text": [
            "Epoch 101,phase: Training: 102it [34:32, 20.72s/it, val acc:  0.636,val loss:  1.909]  "
          ]
        },
        {
          "output_type": "stream",
          "name": "stdout",
          "text": [
            "New best loss, loss is:  1.9092111593069032 acc is:  0.6376093294460642\n"
          ]
        },
        {
          "output_type": "stream",
          "name": "stderr",
          "text": [
            "Epoch 102,phase: Training: 103it [34:53, 20.65s/it, val acc:  0.624,val loss:  1.919]  "
          ]
        },
        {
          "output_type": "stream",
          "name": "stdout",
          "text": [
            "Not a better score\n"
          ]
        },
        {
          "output_type": "stream",
          "name": "stderr",
          "text": [
            "Epoch 103,phase: Training: 104it [35:14, 20.73s/it, val acc:  0.591,val loss:  1.949]  "
          ]
        },
        {
          "output_type": "stream",
          "name": "stdout",
          "text": [
            "Not a better score\n"
          ]
        },
        {
          "output_type": "stream",
          "name": "stderr",
          "text": [
            "Epoch 104,phase: Training: 105it [35:35, 20.78s/it, val acc:  0.629,val loss:  1.913]  "
          ]
        },
        {
          "output_type": "stream",
          "name": "stdout",
          "text": [
            "Not a better score\n"
          ]
        },
        {
          "output_type": "stream",
          "name": "stderr",
          "text": [
            "Epoch 105,phase: Training: 106it [35:56, 20.78s/it, val acc:  0.611,val loss:  1.932]  "
          ]
        },
        {
          "output_type": "stream",
          "name": "stdout",
          "text": [
            "Not a better score\n"
          ]
        },
        {
          "output_type": "stream",
          "name": "stderr",
          "text": [
            "Epoch 106,phase: Training: 107it [36:16, 20.80s/it, val acc:  0.612,val loss:  1.930]  "
          ]
        },
        {
          "output_type": "stream",
          "name": "stdout",
          "text": [
            "Not a better score\n"
          ]
        },
        {
          "output_type": "stream",
          "name": "stderr",
          "text": [
            "Epoch 107,phase: Training: 108it [36:37, 20.82s/it, val acc:  0.622,val loss:  1.918]  "
          ]
        },
        {
          "output_type": "stream",
          "name": "stdout",
          "text": [
            "Not a better score\n"
          ]
        },
        {
          "output_type": "stream",
          "name": "stderr",
          "text": [
            "Epoch 108,phase: Training: 109it [36:58, 20.80s/it, val acc:  0.625,val loss:  1.917]  "
          ]
        },
        {
          "output_type": "stream",
          "name": "stdout",
          "text": [
            "Not a better score\n"
          ]
        },
        {
          "output_type": "stream",
          "name": "stderr",
          "text": [
            "Epoch 109,phase: Training: 110it [37:19, 20.77s/it, val acc:  0.608,val loss:  1.932]  "
          ]
        },
        {
          "output_type": "stream",
          "name": "stdout",
          "text": [
            "Not a better score\n"
          ]
        },
        {
          "output_type": "stream",
          "name": "stderr",
          "text": [
            "Epoch 110,phase: Training: 111it [37:39, 20.71s/it, val acc:  0.607,val loss:  1.932]  "
          ]
        },
        {
          "output_type": "stream",
          "name": "stdout",
          "text": [
            "Not a better score\n"
          ]
        },
        {
          "output_type": "stream",
          "name": "stderr",
          "text": [
            "Epoch 111,phase: Training: 112it [38:00, 20.59s/it, val acc:  0.599,val loss:  1.939]  "
          ]
        },
        {
          "output_type": "stream",
          "name": "stdout",
          "text": [
            "Not a better score\n"
          ]
        },
        {
          "output_type": "stream",
          "name": "stderr",
          "text": [
            "Epoch 112,phase: Training: 113it [38:20, 20.64s/it, val acc:  0.615,val loss:  1.926]  "
          ]
        },
        {
          "output_type": "stream",
          "name": "stdout",
          "text": [
            "Not a better score\n"
          ]
        },
        {
          "output_type": "stream",
          "name": "stderr",
          "text": [
            "Epoch 113,phase: Training: 114it [38:41, 20.55s/it, val acc:  0.617,val loss:  1.928]  "
          ]
        },
        {
          "output_type": "stream",
          "name": "stdout",
          "text": [
            "Not a better score\n"
          ]
        },
        {
          "output_type": "stream",
          "name": "stderr",
          "text": [
            "Epoch 114,phase: Training: 115it [39:01, 20.54s/it, val acc:  0.625,val loss:  1.918]  "
          ]
        },
        {
          "output_type": "stream",
          "name": "stdout",
          "text": [
            "Not a better score\n"
          ]
        },
        {
          "output_type": "stream",
          "name": "stderr",
          "text": [
            "Epoch 115,phase: Training: 116it [39:22, 20.63s/it, val acc:  0.637,val loss:  1.906]  "
          ]
        },
        {
          "output_type": "stream",
          "name": "stdout",
          "text": [
            "New best loss, loss is:  1.9062739815822867 acc is:  0.639067055393586\n"
          ]
        },
        {
          "output_type": "stream",
          "name": "stderr",
          "text": [
            "Epoch 116,phase: Training: 117it [39:43, 20.62s/it, val acc:  0.625,val loss:  1.914]  "
          ]
        },
        {
          "output_type": "stream",
          "name": "stdout",
          "text": [
            "Not a better score\n"
          ]
        },
        {
          "output_type": "stream",
          "name": "stderr",
          "text": [
            "Epoch 117,phase: Training: 118it [40:03, 20.53s/it, val acc:  0.615,val loss:  1.929]  "
          ]
        },
        {
          "output_type": "stream",
          "name": "stdout",
          "text": [
            "Not a better score\n"
          ]
        },
        {
          "output_type": "stream",
          "name": "stderr",
          "text": [
            "Epoch 118,phase: Training: 119it [40:24, 20.55s/it, val acc:  0.632,val loss:  1.908]  "
          ]
        },
        {
          "output_type": "stream",
          "name": "stdout",
          "text": [
            "Not a better score\n"
          ]
        },
        {
          "output_type": "stream",
          "name": "stderr",
          "text": [
            "Epoch 119,phase: Training: 120it [40:44, 20.62s/it, val acc:  0.609,val loss:  1.931]  "
          ]
        },
        {
          "output_type": "stream",
          "name": "stdout",
          "text": [
            "Not a better score\n"
          ]
        },
        {
          "output_type": "stream",
          "name": "stderr",
          "text": [
            "Epoch 120,phase: Training: 121it [41:05, 20.69s/it, val acc:  0.599,val loss:  1.941]  "
          ]
        },
        {
          "output_type": "stream",
          "name": "stdout",
          "text": [
            "Not a better score\n"
          ]
        },
        {
          "output_type": "stream",
          "name": "stderr",
          "text": [
            "Epoch 121,phase: Training: 122it [41:26, 20.73s/it, val acc:  0.619,val loss:  1.920]  "
          ]
        },
        {
          "output_type": "stream",
          "name": "stdout",
          "text": [
            "Not a better score\n"
          ]
        },
        {
          "output_type": "stream",
          "name": "stderr",
          "text": [
            "Epoch 122,phase: Training: 123it [41:47, 20.68s/it, val acc:  0.615,val loss:  1.928]  "
          ]
        },
        {
          "output_type": "stream",
          "name": "stdout",
          "text": [
            "Not a better score\n"
          ]
        },
        {
          "output_type": "stream",
          "name": "stderr",
          "text": [
            "Epoch 123,phase: Training: 124it [42:07, 20.71s/it, val acc:  0.617,val loss:  1.925]  "
          ]
        },
        {
          "output_type": "stream",
          "name": "stdout",
          "text": [
            "Not a better score\n"
          ]
        },
        {
          "output_type": "stream",
          "name": "stderr",
          "text": [
            "Epoch 124,phase: Training: 125it [42:28, 20.70s/it, val acc:  0.626,val loss:  1.916]  "
          ]
        },
        {
          "output_type": "stream",
          "name": "stdout",
          "text": [
            "Not a better score\n"
          ]
        },
        {
          "output_type": "stream",
          "name": "stderr",
          "text": [
            "Epoch 125,phase: Training: 126it [42:49, 20.73s/it, val acc:  0.629,val loss:  1.911]  "
          ]
        },
        {
          "output_type": "stream",
          "name": "stdout",
          "text": [
            "Not a better score\n"
          ]
        },
        {
          "output_type": "stream",
          "name": "stderr",
          "text": [
            "Epoch 126,phase: Training: 127it [43:10, 20.81s/it, val acc:  0.626,val loss:  1.911]  "
          ]
        },
        {
          "output_type": "stream",
          "name": "stdout",
          "text": [
            "Not a better score\n"
          ]
        },
        {
          "output_type": "stream",
          "name": "stderr",
          "text": [
            "Epoch 127,phase: Training: 128it [43:31, 20.94s/it, val acc:  0.619,val loss:  1.927]  "
          ]
        },
        {
          "output_type": "stream",
          "name": "stdout",
          "text": [
            "Not a better score\n"
          ]
        },
        {
          "output_type": "stream",
          "name": "stderr",
          "text": [
            "Epoch 128,phase: Training: 129it [43:52, 20.90s/it, val acc:  0.623,val loss:  1.918]  "
          ]
        },
        {
          "output_type": "stream",
          "name": "stdout",
          "text": [
            "Not a better score\n"
          ]
        },
        {
          "output_type": "stream",
          "name": "stderr",
          "text": [
            "Epoch 129,phase: Training: 130it [44:13, 20.86s/it, val acc:  0.620,val loss:  1.923]  "
          ]
        },
        {
          "output_type": "stream",
          "name": "stdout",
          "text": [
            "Not a better score\n"
          ]
        },
        {
          "output_type": "stream",
          "name": "stderr",
          "text": [
            "Epoch 130,phase: Training: 131it [44:34, 20.97s/it, val acc:  0.627,val loss:  1.916]  "
          ]
        },
        {
          "output_type": "stream",
          "name": "stdout",
          "text": [
            "Not a better score\n"
          ]
        },
        {
          "output_type": "stream",
          "name": "stderr",
          "text": [
            "Epoch 131,phase: Training: 132it [44:55, 21.12s/it, val acc:  0.635,val loss:  1.906]  "
          ]
        },
        {
          "output_type": "stream",
          "name": "stdout",
          "text": [
            "Not a better score\n"
          ]
        },
        {
          "output_type": "stream",
          "name": "stderr",
          "text": [
            "Epoch 132,phase: Training: 133it [45:16, 21.09s/it, val acc:  0.628,val loss:  1.911]  "
          ]
        },
        {
          "output_type": "stream",
          "name": "stdout",
          "text": [
            "Not a better score\n"
          ]
        },
        {
          "output_type": "stream",
          "name": "stderr",
          "text": [
            "Epoch 133,phase: Training: 134it [45:38, 21.11s/it, val acc:  0.619,val loss:  1.922]  "
          ]
        },
        {
          "output_type": "stream",
          "name": "stdout",
          "text": [
            "Not a better score\n"
          ]
        },
        {
          "output_type": "stream",
          "name": "stderr",
          "text": [
            "Epoch 134,phase: Training: 135it [45:59, 21.08s/it, val acc:  0.636,val loss:  1.906]  "
          ]
        },
        {
          "output_type": "stream",
          "name": "stdout",
          "text": [
            "Not a better score\n"
          ]
        },
        {
          "output_type": "stream",
          "name": "stderr",
          "text": [
            "Epoch 135,phase: Training: 136it [46:20, 21.21s/it, val acc:  0.625,val loss:  1.916]  "
          ]
        },
        {
          "output_type": "stream",
          "name": "stdout",
          "text": [
            "Not a better score\n"
          ]
        },
        {
          "output_type": "stream",
          "name": "stderr",
          "text": [
            "Epoch 136,phase: Training: 137it [46:42, 21.44s/it, val acc:  0.625,val loss:  1.915]  "
          ]
        },
        {
          "output_type": "stream",
          "name": "stdout",
          "text": [
            "Not a better score\n"
          ]
        },
        {
          "output_type": "stream",
          "name": "stderr",
          "text": [
            "Epoch 137,phase: Training: 138it [47:03, 21.44s/it, val acc:  0.637,val loss:  1.906]  "
          ]
        },
        {
          "output_type": "stream",
          "name": "stdout",
          "text": [
            "Not a better score\n"
          ]
        },
        {
          "output_type": "stream",
          "name": "stderr",
          "text": [
            "Epoch 138,phase: Training: 139it [47:25, 21.33s/it, val acc:  0.645,val loss:  1.895]  "
          ]
        },
        {
          "output_type": "stream",
          "name": "stdout",
          "text": [
            "New best loss, loss is:  1.8947178252907686 acc is:  0.6469387755102041\n"
          ]
        },
        {
          "output_type": "stream",
          "name": "stderr",
          "text": [
            "Epoch 139,phase: Training: 140it [47:46, 21.28s/it, val acc:  0.617,val loss:  1.925]  "
          ]
        },
        {
          "output_type": "stream",
          "name": "stdout",
          "text": [
            "Not a better score\n"
          ]
        },
        {
          "output_type": "stream",
          "name": "stderr",
          "text": [
            "Epoch 140,phase: Training: 141it [48:07, 21.17s/it, val acc:  0.641,val loss:  1.902]  "
          ]
        },
        {
          "output_type": "stream",
          "name": "stdout",
          "text": [
            "Not a better score\n"
          ]
        },
        {
          "output_type": "stream",
          "name": "stderr",
          "text": [
            "Epoch 141,phase: Training: 142it [48:28, 21.21s/it, val acc:  0.629,val loss:  1.913]  "
          ]
        },
        {
          "output_type": "stream",
          "name": "stdout",
          "text": [
            "Not a better score\n"
          ]
        },
        {
          "output_type": "stream",
          "name": "stderr",
          "text": [
            "Epoch 142,phase: Training: 143it [48:49, 21.11s/it, val acc:  0.603,val loss:  1.936]  "
          ]
        },
        {
          "output_type": "stream",
          "name": "stdout",
          "text": [
            "Not a better score\n"
          ]
        },
        {
          "output_type": "stream",
          "name": "stderr",
          "text": [
            "Epoch 143,phase: Training: 144it [49:10, 21.06s/it, val acc:  0.629,val loss:  1.912]  "
          ]
        },
        {
          "output_type": "stream",
          "name": "stdout",
          "text": [
            "Not a better score\n"
          ]
        },
        {
          "output_type": "stream",
          "name": "stderr",
          "text": [
            "Epoch 144,phase: Training: 145it [49:31, 21.02s/it, val acc:  0.645,val loss:  1.899]  "
          ]
        },
        {
          "output_type": "stream",
          "name": "stdout",
          "text": [
            "Not a better score\n"
          ]
        },
        {
          "output_type": "stream",
          "name": "stderr",
          "text": [
            "Epoch 145,phase: Training: 146it [49:52, 21.03s/it, val acc:  0.632,val loss:  1.909]  "
          ]
        },
        {
          "output_type": "stream",
          "name": "stdout",
          "text": [
            "Not a better score\n"
          ]
        },
        {
          "output_type": "stream",
          "name": "stderr",
          "text": [
            "Epoch 146,phase: Training: 147it [50:13, 21.10s/it, val acc:  0.620,val loss:  1.922]  "
          ]
        },
        {
          "output_type": "stream",
          "name": "stdout",
          "text": [
            "Not a better score\n"
          ]
        },
        {
          "output_type": "stream",
          "name": "stderr",
          "text": [
            "Epoch 147,phase: Training: 148it [50:34, 21.16s/it, val acc:  0.635,val loss:  1.907]  "
          ]
        },
        {
          "output_type": "stream",
          "name": "stdout",
          "text": [
            "Not a better score\n"
          ]
        },
        {
          "output_type": "stream",
          "name": "stderr",
          "text": [
            "Epoch 148,phase: Training: 149it [50:55, 21.09s/it, val acc:  0.629,val loss:  1.912]  "
          ]
        },
        {
          "output_type": "stream",
          "name": "stdout",
          "text": [
            "Not a better score\n"
          ]
        },
        {
          "output_type": "stream",
          "name": "stderr",
          "text": [
            "Epoch 149,phase: Training: 150it [51:16, 21.05s/it, val acc:  0.638,val loss:  1.901]  "
          ]
        },
        {
          "output_type": "stream",
          "name": "stdout",
          "text": [
            "Not a better score\n"
          ]
        },
        {
          "output_type": "stream",
          "name": "stderr",
          "text": [
            "Epoch 150,phase: Training: 151it [51:37, 21.09s/it, val acc:  0.622,val loss:  1.920]  "
          ]
        },
        {
          "output_type": "stream",
          "name": "stdout",
          "text": [
            "Not a better score\n"
          ]
        },
        {
          "output_type": "stream",
          "name": "stderr",
          "text": [
            "Epoch 151,phase: Training: 152it [51:59, 21.14s/it, val acc:  0.635,val loss:  1.910]  "
          ]
        },
        {
          "output_type": "stream",
          "name": "stdout",
          "text": [
            "Not a better score\n"
          ]
        },
        {
          "output_type": "stream",
          "name": "stderr",
          "text": [
            "Epoch 152,phase: Training: 153it [52:20, 21.08s/it, val acc:  0.630,val loss:  1.913]  "
          ]
        },
        {
          "output_type": "stream",
          "name": "stdout",
          "text": [
            "Not a better score\n"
          ]
        },
        {
          "output_type": "stream",
          "name": "stderr",
          "text": [
            "Epoch 153,phase: Training: 154it [52:41, 21.09s/it, val acc:  0.636,val loss:  1.907]  "
          ]
        },
        {
          "output_type": "stream",
          "name": "stdout",
          "text": [
            "Not a better score\n"
          ]
        },
        {
          "output_type": "stream",
          "name": "stderr",
          "text": [
            "Epoch 154,phase: Training: 155it [53:02, 21.12s/it, val acc:  0.621,val loss:  1.919]  "
          ]
        },
        {
          "output_type": "stream",
          "name": "stdout",
          "text": [
            "Not a better score\n"
          ]
        },
        {
          "output_type": "stream",
          "name": "stderr",
          "text": [
            "Epoch 155,phase: Training: 156it [53:23, 21.08s/it, val acc:  0.644,val loss:  1.892]  "
          ]
        },
        {
          "output_type": "stream",
          "name": "stdout",
          "text": [
            "New best loss, loss is:  1.892491152120191 acc is:  0.646064139941691\n"
          ]
        },
        {
          "output_type": "stream",
          "name": "stderr",
          "text": [
            "Epoch 156,phase: Training: 157it [53:44, 21.09s/it, val acc:  0.658,val loss:  1.886]  "
          ]
        },
        {
          "output_type": "stream",
          "name": "stdout",
          "text": [
            "New best loss, loss is:  1.8855652232502782 acc is:  0.6603498542274052\n"
          ]
        },
        {
          "output_type": "stream",
          "name": "stderr",
          "text": [
            "Epoch 157,phase: Training: 158it [54:05, 21.04s/it, val acc:  0.641,val loss:  1.900]  "
          ]
        },
        {
          "output_type": "stream",
          "name": "stdout",
          "text": [
            "Not a better score\n"
          ]
        },
        {
          "output_type": "stream",
          "name": "stderr",
          "text": [
            "Epoch 158,phase: Training: 159it [54:26, 21.07s/it, val acc:  0.641,val loss:  1.902]  "
          ]
        },
        {
          "output_type": "stream",
          "name": "stdout",
          "text": [
            "Not a better score\n"
          ]
        },
        {
          "output_type": "stream",
          "name": "stderr",
          "text": [
            "Epoch 159,phase: Training: 160it [54:47, 21.08s/it, val acc:  0.645,val loss:  1.899]  "
          ]
        },
        {
          "output_type": "stream",
          "name": "stdout",
          "text": [
            "Not a better score\n"
          ]
        },
        {
          "output_type": "stream",
          "name": "stderr",
          "text": [
            "Epoch 160,phase: Training: 161it [55:08, 21.06s/it, val acc:  0.635,val loss:  1.907]  "
          ]
        },
        {
          "output_type": "stream",
          "name": "stdout",
          "text": [
            "Not a better score\n"
          ]
        },
        {
          "output_type": "stream",
          "name": "stderr",
          "text": [
            "Epoch 161,phase: Training: 162it [55:29, 21.07s/it, val acc:  0.640,val loss:  1.902]  "
          ]
        },
        {
          "output_type": "stream",
          "name": "stdout",
          "text": [
            "Not a better score\n"
          ]
        },
        {
          "output_type": "stream",
          "name": "stderr",
          "text": [
            "Epoch 162,phase: Training: 163it [55:50, 21.07s/it, val acc:  0.624,val loss:  1.918]  "
          ]
        },
        {
          "output_type": "stream",
          "name": "stdout",
          "text": [
            "Not a better score\n"
          ]
        },
        {
          "output_type": "stream",
          "name": "stderr",
          "text": [
            "Epoch 163,phase: Training: 164it [56:11, 21.06s/it, val acc:  0.640,val loss:  1.905]  "
          ]
        },
        {
          "output_type": "stream",
          "name": "stdout",
          "text": [
            "Not a better score\n"
          ]
        },
        {
          "output_type": "stream",
          "name": "stderr",
          "text": [
            "Epoch 164,phase: Training: 165it [56:32, 21.08s/it, val acc:  0.623,val loss:  1.915]  "
          ]
        },
        {
          "output_type": "stream",
          "name": "stdout",
          "text": [
            "Not a better score\n"
          ]
        },
        {
          "output_type": "stream",
          "name": "stderr",
          "text": [
            "Epoch 165,phase: Training: 166it [56:53, 21.06s/it, val acc:  0.631,val loss:  1.912]  "
          ]
        },
        {
          "output_type": "stream",
          "name": "stdout",
          "text": [
            "Not a better score\n"
          ]
        },
        {
          "output_type": "stream",
          "name": "stderr",
          "text": [
            "Epoch 166,phase: Training: 167it [57:15, 21.07s/it, val acc:  0.620,val loss:  1.920]  "
          ]
        },
        {
          "output_type": "stream",
          "name": "stdout",
          "text": [
            "Not a better score\n"
          ]
        },
        {
          "output_type": "stream",
          "name": "stderr",
          "text": [
            "Epoch 167,phase: Training: 168it [57:36, 21.09s/it, val acc:  0.638,val loss:  1.903]  "
          ]
        },
        {
          "output_type": "stream",
          "name": "stdout",
          "text": [
            "Not a better score\n"
          ]
        },
        {
          "output_type": "stream",
          "name": "stderr",
          "text": [
            "Epoch 168,phase: Training: 169it [57:57, 21.05s/it, val acc:  0.626,val loss:  1.911]  "
          ]
        },
        {
          "output_type": "stream",
          "name": "stdout",
          "text": [
            "Not a better score\n"
          ]
        },
        {
          "output_type": "stream",
          "name": "stderr",
          "text": [
            "Epoch 169,phase: Training: 170it [58:18, 21.08s/it, val acc:  0.627,val loss:  1.916]  "
          ]
        },
        {
          "output_type": "stream",
          "name": "stdout",
          "text": [
            "Not a better score\n"
          ]
        },
        {
          "output_type": "stream",
          "name": "stderr",
          "text": [
            "Epoch 170,phase: Training: 171it [58:39, 21.17s/it, val acc:  0.631,val loss:  1.911]  "
          ]
        },
        {
          "output_type": "stream",
          "name": "stdout",
          "text": [
            "Not a better score\n"
          ]
        },
        {
          "output_type": "stream",
          "name": "stderr",
          "text": [
            "Epoch 171,phase: Training: 172it [59:00, 21.19s/it, val acc:  0.628,val loss:  1.917]  "
          ]
        },
        {
          "output_type": "stream",
          "name": "stdout",
          "text": [
            "Not a better score\n"
          ]
        },
        {
          "output_type": "stream",
          "name": "stderr",
          "text": [
            "Epoch 172,phase: Training: 173it [59:21, 21.12s/it, val acc:  0.625,val loss:  1.912]  "
          ]
        },
        {
          "output_type": "stream",
          "name": "stdout",
          "text": [
            "Not a better score\n"
          ]
        },
        {
          "output_type": "stream",
          "name": "stderr",
          "text": [
            "Epoch 173,phase: Training: 174it [59:43, 21.12s/it, val acc:  0.619,val loss:  1.921]  "
          ]
        },
        {
          "output_type": "stream",
          "name": "stdout",
          "text": [
            "Not a better score\n"
          ]
        },
        {
          "output_type": "stream",
          "name": "stderr",
          "text": [
            "Epoch 174,phase: Training: 175it [1:00:04, 21.12s/it, val acc:  0.612,val loss:  1.932]  "
          ]
        },
        {
          "output_type": "stream",
          "name": "stdout",
          "text": [
            "Not a better score\n"
          ]
        },
        {
          "output_type": "stream",
          "name": "stderr",
          "text": [
            "Epoch 175,phase: Training: 176it [1:00:25, 21.13s/it, val acc:  0.630,val loss:  1.909]  "
          ]
        },
        {
          "output_type": "stream",
          "name": "stdout",
          "text": [
            "Not a better score\n"
          ]
        },
        {
          "output_type": "stream",
          "name": "stderr",
          "text": [
            "Epoch 176,phase: Training: 177it [1:00:46, 21.13s/it, val acc:  0.639,val loss:  1.901]  "
          ]
        },
        {
          "output_type": "stream",
          "name": "stdout",
          "text": [
            "Not a better score\n"
          ]
        },
        {
          "output_type": "stream",
          "name": "stderr",
          "text": [
            "Epoch 177,phase: Training: 178it [1:01:07, 21.15s/it, val acc:  0.653,val loss:  1.890]  "
          ]
        },
        {
          "output_type": "stream",
          "name": "stdout",
          "text": [
            "Not a better score\n"
          ]
        },
        {
          "output_type": "stream",
          "name": "stderr",
          "text": [
            "Epoch 178,phase: Training: 179it [1:01:28, 21.19s/it, val acc:  0.626,val loss:  1.914]  "
          ]
        },
        {
          "output_type": "stream",
          "name": "stdout",
          "text": [
            "Not a better score\n"
          ]
        },
        {
          "output_type": "stream",
          "name": "stderr",
          "text": [
            "Epoch 179,phase: Training: 180it [1:01:49, 21.16s/it, val acc:  0.642,val loss:  1.897]  "
          ]
        },
        {
          "output_type": "stream",
          "name": "stdout",
          "text": [
            "Not a better score\n"
          ]
        },
        {
          "output_type": "stream",
          "name": "stderr",
          "text": [
            "Epoch 180,phase: Training: 181it [1:02:11, 21.20s/it, val acc:  0.650,val loss:  1.892]  "
          ]
        },
        {
          "output_type": "stream",
          "name": "stdout",
          "text": [
            "Not a better score\n"
          ]
        },
        {
          "output_type": "stream",
          "name": "stderr",
          "text": [
            "Epoch 181,phase: Training: 182it [1:02:32, 21.27s/it, val acc:  0.641,val loss:  1.902]  "
          ]
        },
        {
          "output_type": "stream",
          "name": "stdout",
          "text": [
            "Not a better score\n"
          ]
        },
        {
          "output_type": "stream",
          "name": "stderr",
          "text": [
            "Epoch 182,phase: Training: 183it [1:02:53, 21.23s/it, val acc:  0.619,val loss:  1.919]  "
          ]
        },
        {
          "output_type": "stream",
          "name": "stdout",
          "text": [
            "Not a better score\n"
          ]
        },
        {
          "output_type": "stream",
          "name": "stderr",
          "text": [
            "Epoch 183,phase: Training: 184it [1:03:14, 21.15s/it, val acc:  0.629,val loss:  1.914]  "
          ]
        },
        {
          "output_type": "stream",
          "name": "stdout",
          "text": [
            "Not a better score\n"
          ]
        },
        {
          "output_type": "stream",
          "name": "stderr",
          "text": [
            "Epoch 184,phase: Training: 185it [1:03:35, 21.05s/it, val acc:  0.640,val loss:  1.899]  "
          ]
        },
        {
          "output_type": "stream",
          "name": "stdout",
          "text": [
            "Not a better score\n"
          ]
        },
        {
          "output_type": "stream",
          "name": "stderr",
          "text": [
            "Epoch 185,phase: Training: 186it [1:03:56, 21.01s/it, val acc:  0.634,val loss:  1.910]  "
          ]
        },
        {
          "output_type": "stream",
          "name": "stdout",
          "text": [
            "Not a better score\n"
          ]
        },
        {
          "output_type": "stream",
          "name": "stderr",
          "text": [
            "Epoch 186,phase: Training: 187it [1:04:17, 20.92s/it, val acc:  0.626,val loss:  1.913]  "
          ]
        },
        {
          "output_type": "stream",
          "name": "stdout",
          "text": [
            "Not a better score\n"
          ]
        },
        {
          "output_type": "stream",
          "name": "stderr",
          "text": [
            "Epoch 187,phase: Training: 188it [1:04:38, 20.91s/it, val acc:  0.635,val loss:  1.906]  "
          ]
        },
        {
          "output_type": "stream",
          "name": "stdout",
          "text": [
            "Not a better score\n"
          ]
        },
        {
          "output_type": "stream",
          "name": "stderr",
          "text": [
            "Epoch 188,phase: Training: 189it [1:04:58, 20.88s/it, val acc:  0.633,val loss:  1.910]  "
          ]
        },
        {
          "output_type": "stream",
          "name": "stdout",
          "text": [
            "Not a better score\n"
          ]
        },
        {
          "output_type": "stream",
          "name": "stderr",
          "text": [
            "Epoch 189,phase: Training: 190it [1:05:19, 20.92s/it, val acc:  0.644,val loss:  1.900]  "
          ]
        },
        {
          "output_type": "stream",
          "name": "stdout",
          "text": [
            "Not a better score\n"
          ]
        },
        {
          "output_type": "stream",
          "name": "stderr",
          "text": [
            "Epoch 190,phase: Training: 191it [1:05:40, 20.90s/it, val acc:  0.641,val loss:  1.900]  "
          ]
        },
        {
          "output_type": "stream",
          "name": "stdout",
          "text": [
            "Not a better score\n"
          ]
        },
        {
          "output_type": "stream",
          "name": "stderr",
          "text": [
            "Epoch 191,phase: Training: 192it [1:06:01, 20.85s/it, val acc:  0.633,val loss:  1.906]  "
          ]
        },
        {
          "output_type": "stream",
          "name": "stdout",
          "text": [
            "Not a better score\n"
          ]
        },
        {
          "output_type": "stream",
          "name": "stderr",
          "text": [
            "Epoch 192,phase: Training: 193it [1:06:22, 20.85s/it, val acc:  0.636,val loss:  1.904]  "
          ]
        },
        {
          "output_type": "stream",
          "name": "stdout",
          "text": [
            "Not a better score\n"
          ]
        },
        {
          "output_type": "stream",
          "name": "stderr",
          "text": [
            "Epoch 193,phase: Training: 194it [1:06:43, 20.91s/it, val acc:  0.628,val loss:  1.913]  "
          ]
        },
        {
          "output_type": "stream",
          "name": "stdout",
          "text": [
            "Not a better score\n"
          ]
        },
        {
          "output_type": "stream",
          "name": "stderr",
          "text": [
            "Epoch 194,phase: Training: 195it [1:07:04, 20.88s/it, val acc:  0.637,val loss:  1.903]  "
          ]
        },
        {
          "output_type": "stream",
          "name": "stdout",
          "text": [
            "Not a better score\n"
          ]
        },
        {
          "output_type": "stream",
          "name": "stderr",
          "text": [
            "Epoch 195,phase: Training: 196it [1:07:25, 20.86s/it, val acc:  0.629,val loss:  1.910]  "
          ]
        },
        {
          "output_type": "stream",
          "name": "stdout",
          "text": [
            "Not a better score\n"
          ]
        },
        {
          "output_type": "stream",
          "name": "stderr",
          "text": [
            "Epoch 196,phase: Training: 197it [1:07:46, 20.89s/it, val acc:  0.634,val loss:  1.910]  "
          ]
        },
        {
          "output_type": "stream",
          "name": "stdout",
          "text": [
            "Not a better score\n"
          ]
        },
        {
          "output_type": "stream",
          "name": "stderr",
          "text": [
            "Epoch 197,phase: Training: 198it [1:08:06, 20.90s/it, val acc:  0.630,val loss:  1.907]  "
          ]
        },
        {
          "output_type": "stream",
          "name": "stdout",
          "text": [
            "Not a better score\n"
          ]
        },
        {
          "output_type": "stream",
          "name": "stderr",
          "text": [
            "Epoch 198,phase: Training: 199it [1:08:28, 20.95s/it, val acc:  0.650,val loss:  1.891]  "
          ]
        },
        {
          "output_type": "stream",
          "name": "stdout",
          "text": [
            "Not a better score\n"
          ]
        },
        {
          "output_type": "stream",
          "name": "stderr",
          "text": [
            "Epoch 199,phase: Training: 200it [1:08:48, 20.91s/it, val acc:  0.626,val loss:  1.912]  "
          ]
        },
        {
          "output_type": "stream",
          "name": "stdout",
          "text": [
            "Not a better score\n"
          ]
        },
        {
          "output_type": "stream",
          "name": "stderr",
          "text": [
            "Epoch 199,phase: Validation: 200it [1:09:09, 20.75s/it, val acc:  0.632,val loss:  1.911]"
          ]
        },
        {
          "output_type": "stream",
          "name": "stdout",
          "text": [
            "Not a better score\n",
            "Training ended returning the best model\n",
            "Best val acc: 0.6603498542274052, Best val loss: 1.8855652232502782, Best train acc: 0.798941798941799, Best train loss: 1.7450914206887096 \n"
          ]
        },
        {
          "output_type": "stream",
          "name": "stderr",
          "text": [
            "\n"
          ]
        },
        {
          "output_type": "execute_result",
          "data": {
            "text/plain": [
              "Ellipsis"
            ]
          },
          "metadata": {},
          "execution_count": 12
        }
      ],
      "source": [
        "from torch import nn\n",
        "import time\n",
        "import torch\n",
        "from torch.nn import CrossEntropyLoss\n",
        "import tqdm\n",
        "class Trainer():\n",
        "    def __init__(self,model,criterion,tr_loader,val_loader,optimizer,num_epoch,patience,batch_size,lr_scheduler=None,display=None):\n",
        "        self.model = model\n",
        "        self.tr_loader = tr_loader\n",
        "        self.val_loader = val_loader\n",
        "        self.optimizer = optimizer\n",
        "        self.num_epoch = num_epoch\n",
        "        self.patience = patience\n",
        "        self.lr_scheduler = lr_scheduler\n",
        "        self.criterion = criterion\n",
        "        self.softmax = nn.Softmax()\n",
        "        self.no_inc = 0\n",
        "        self.best_loss = 9999\n",
        "        self.phases = [\"train\",\"val\"]\n",
        "        self.best_model = []\n",
        "        self.best_val_acc = 0\n",
        "        self.best_train_acc = 0\n",
        "        self.best_val_loss = 0\n",
        "        self.best_train_loss = 0\n",
        "        self.batch_size = batch_size\n",
        "        self.display = display\n",
        "        self.model = model.to(torch.device(0))\n",
        "        #if self.model.use_cuda:\n",
        "            #self.model = self.model.cuda()\n",
        "\n",
        "\n",
        "        pass\n",
        "    def train(self):\n",
        "        val_accuracies = [] # yeni\n",
        "        val_win = None # yeni\n",
        "        train_accuracies = [] # yeni\n",
        "        train_win = None # yeni     \n",
        "        pbar = tqdm.tqdm(desc= \"Epoch 0, phase: Train\",postfix=\"train_loss : ?, train_acc: ?\")\n",
        "        for i in range(self.num_epoch):\n",
        "            last_train_acc = 0\n",
        "            last_val_acc = 0\n",
        "            last_val_loss = 0\n",
        "            last_train_loss = 0\n",
        "            pbar.update(1)\n",
        "\n",
        "            for phase in self.phases:\n",
        "                total_acc = 0\n",
        "                total_loss = 0\n",
        "                start = time.time()\n",
        "                if phase == \"train\":\n",
        "                    pbar.set_description_str(\"Epoch %d,\"% i + \"phase: Training\")\n",
        "                    loader = self.tr_loader\n",
        "                    self.model.train()\n",
        "                else:\n",
        "                    pbar.set_description_str(\"Epoch %d,\"% i + \"phase: Validation\")\n",
        "                    loader = self.val_loader\n",
        "                    self.model.eval()\n",
        "                iter = 0\n",
        "                for images,labels in loader:\n",
        "                    iter += 1\n",
        "                    #if self.model.use_cuda:\n",
        "                    #images = images.to(0)\n",
        "                    #labels = labels.to(0)\n",
        "                    images = images.to(torch.device(0))\n",
        "                    labels = labels.to(torch.device(0))\n",
        "\n",
        "                    self.optimizer.zero_grad()\n",
        "                    logits = self.model(images)\n",
        "                    softmaxed_scores = self.softmax(logits)\n",
        "                    _, predictions = torch.max(softmaxed_scores,1)\n",
        "                    _, labels = torch.max(labels,1)\n",
        "                    loss = self.criterion(softmaxed_scores.float(),labels.long())\n",
        "                    total_loss += loss.item()\n",
        "                    total_acc += torch.sum(predictions == labels).item()\n",
        "\n",
        "                    if phase == \"train\":\n",
        "                        pbar.set_postfix_str(\"train acc: %6.3f,\" %(total_acc/ (iter*self.batch_size)) + (\"train loss: %6.3f\" % (total_loss / iter)))\n",
        "                        loss.backward()\n",
        "                        self.optimizer.step()\n",
        "                    else:\n",
        "                        pbar.set_postfix_str(\"val acc: %6.3f,\" %(total_acc/ (iter*self.batch_size)) + (\"val loss: %6.3f\" % (total_loss / iter)))\n",
        "\n",
        "\n",
        "                if phase == \"train\":\n",
        "                    if self.lr_scheduler:\n",
        "\n",
        "                        self.lr_scheduler.step(loss)\n",
        "                end = time.time()\n",
        "                if phase == \"train\":\n",
        "                    loss_p = total_loss / iter\n",
        "                    acc_p = total_acc / len(self.tr_loader.dataset)\n",
        "                    last_train_acc = acc_p\n",
        "                    last_train_loss = loss_p\n",
        "                    # yeni eklendi\n",
        "                    train_accuracies.append(last_train_acc)\n",
        "                    if len(train_accuracies) > 0:\n",
        "                      train_win = self.display.line(Y=np.array(train_accuracies),\n",
        "                      X=np.arange(len(train_accuracies)),\n",
        "                      win=train_win,\n",
        "                      opts={\n",
        "                            \"title\": \"train accuracy\",\n",
        "                            \"xlabel\": \"Epochs\",\n",
        "                            \"ylabel\": \"Accuracy\",\n",
        "                        },)\n",
        "                      # buraya kadar\n",
        "                else:\n",
        "                    loss_p = total_loss / iter\n",
        "                    acc_p = total_acc / len(self.val_loader.dataset)\n",
        "                    last_val_acc = acc_p\n",
        "                    last_val_loss = loss_p\n",
        "                    # yeni baslangic\n",
        "                    val_accuracies.append(last_val_acc)\n",
        "                    if len(val_accuracies) > 0:\n",
        "                      val_win = self.display.line(Y=np.array(val_accuracies),\n",
        "                      X=np.arange(len(val_accuracies)),\n",
        "                      win=val_win,\n",
        "                      opts={\n",
        "                            \"title\": \"Validation accuracy\",\n",
        "                            \"xlabel\": \"Epochs\",\n",
        "                            \"ylabel\": \"Accuracy\",\n",
        "                        },)\n",
        "                    # yeni buraya kadar\n",
        "                    if loss_p < self.best_loss:\n",
        "                        print(\"New best loss, loss is: \",str(loss_p), \"acc is: \",acc_p )\n",
        "                        self.best_loss = loss_p\n",
        "                        self.no_inc = 0\n",
        "                        self.best_model = self.model\n",
        "                        self.best_train_acc = last_train_acc\n",
        "                        self.best_train_loss = last_train_loss\n",
        "                        self.best_val_loss = last_val_loss\n",
        "                        self.best_val_acc = last_val_acc\n",
        "                    else:\n",
        "                        print(\"Not a better score\")\n",
        "                        self.no_inc += 1\n",
        "                        if self.no_inc == self.patience:\n",
        "                            print(\"Out of patience returning the best model\")\n",
        "                            print(\n",
        "                                \"Best val acc: {}, Best val loss: {}, Best train acc: {}, Best train loss: {} \".format(\n",
        "                                    self.best_val_acc, self.best_val_loss, self.best_train_acc, self.best_train_loss\n",
        "                                ))  # Stats of the best model\n",
        "                            return self.best_model\n",
        "        print(\"Training ended returning the best model\")\n",
        "        print(\n",
        "            \"Best val acc: {}, Best val loss: {}, Best train acc: {}, Best train loss: {} \".format(\n",
        "                self.best_val_acc, self.best_val_loss, self.best_train_acc, self.best_train_loss\n",
        "            ))  # Stats of the best model\n",
        "        return self.best_model\n",
        "        \n",
        "def train2(model, trainloader, criterion, optimizer, epochs = 5):\n",
        "    train_loss =[]\n",
        "    for e in range(epochs):\n",
        "        running_loss =0\n",
        "        for images, labels in trainloader:\n",
        "            inputs, labels = images, labels\n",
        "\n",
        "            optimizer.zero_grad()\n",
        "            img = model(inputs)\n",
        "            loss = criterion(img, torch.max(labels, 1)[1])\n",
        "            running_loss+=loss\n",
        "            loss.backward()\n",
        "            optimizer.step()\n",
        "        print(\"Epoch : {}/{}..\".format(e+1,epochs),\n",
        "         \"Training Loss: {:.6f}\".format(running_loss/len(trainloader))) \n",
        "        train_loss.append(running_loss)\n",
        "    plt.plot(train_loss,label=\"Training Loss\")\n",
        "    plt.show() \n",
        "\n",
        "import torch\n",
        "from torch.nn import CrossEntropyLoss\n",
        "from torchvision import datasets, models\n",
        "from torch import optim\n",
        "from torchvision import transforms, utils\n",
        "import numpy as np\n",
        "import os\n",
        "from PIL import Image,ImageFile\n",
        "\n",
        "LR = 1e-2\n",
        "Momentum = 0.9 # If you use SGD with momentum\n",
        "BATCH_SIZE = 16\n",
        "USE_CUDA = False\n",
        "POOLING = False\n",
        "NUM_EPOCHS = 50\n",
        "PATIENCE = -1\n",
        "TRAIN_PERCENT = 0.7\n",
        "VAL_PERCENT = 0.3\n",
        "NUM_ARTISTS = 11\n",
        "ImageFile.LOAD_TRUNCATED_IMAGES = True # Do not change this\n",
        "\n",
        "import torchvision.models as models\n",
        "import numpy as np\n",
        "if __name__ == \"__main__\":\n",
        "    ! npm install -g localtunnel\n",
        "    get_ipython().system_raw('python3 -m pip install visdom')\n",
        "    get_ipython().system_raw('python3 -m visdom.server -port 6006 >> visdomlog.txt 2>&1 &')\n",
        "    get_ipython().system_raw('lt --port 6006 >> url.txt 2>&1 &')\n",
        "    import time\n",
        "    time.sleep(5)\n",
        "    ! cat url.txt\n",
        "    import visdom\n",
        "    time.sleep(5)\n",
        "    viz = visdom.Visdom(port='6006')\n",
        "    \n",
        "    ##### IF YOU WANT TO TRAIN FROM STRATCH COMMENT THIS LINES \n",
        "    model_transfer = models.resnet18(pretrained=True)\n",
        "    num_ftrs = model_transfer.fc.in_features \n",
        "    model_transfer.fc = nn.Linear(num_ftrs, 11)\n",
        "    criterion = torch.nn.CrossEntropyLoss()\n",
        "    optimizer_ft = optim.SGD(model_transfer.parameters(), lr=0.001, momentum=0.9)\n",
        "    lr_sche = optim.lr_scheduler.StepLR(optimizer_ft, step_size=7, gamma=0.1)\n",
        "    ####\n",
        "    transforms = {\n",
        "        'train': transforms.Compose([\n",
        "            transforms.Resize((50,50)),\n",
        "            transforms.RandomResizedCrop(50),\n",
        "            transforms.RandomHorizontalFlip(),\n",
        "            transforms.ToTensor(), \n",
        "            transforms.Normalize([0.485, 0.456, 0.406], [0.229, 0.224, 0.225])           \n",
        "            \n",
        "        ]),\n",
        "        'val': transforms.Compose([\n",
        "            transforms.Resize((50,50)),\n",
        "            transforms.CenterCrop(50),\n",
        "            transforms.ToTensor(), \n",
        "            transforms.Normalize([0.485, 0.456, 0.406], [0.229, 0.224, 0.225])\n",
        "            \n",
        "            \n",
        "        ]),\n",
        "        }\n",
        "    train_dataset = LoaderClass(data,labels,\"train\",transforms[\"train\"])\n",
        "    valid_dataset = LoaderClass(data,labels,\"val\",transforms[\"val\"])\n",
        "\n",
        "    train_loader = torch.utils.data.DataLoader(train_dataset,\n",
        "                                               batch_size=BATCH_SIZE,\n",
        "                                               shuffle=True, num_workers=4, pin_memory=True)\n",
        "    val_loader = torch.utils.data.DataLoader(valid_dataset,\n",
        "                                             batch_size=BATCH_SIZE,\n",
        "                                             shuffle=False, num_workers=4, pin_memory=True)\n",
        "    ### IF YOU WANT TO TRAIN FROM STRATCH COMMENT THIS LINES \n",
        "    trainer_m = Trainer(model_transfer, criterion, train_loader, val_loader, optimizer_ft, num_epoch=200, patience=PATIENCE,batch_size=BATCH_SIZE,lr_scheduler= lr_sche,display=viz)\n",
        "    best_model = trainer_m.train()\n",
        "    ### \n",
        "\n",
        "    ''' IF YOU WANT TO TRAIN FROM STRATCH COMMENT OUT THIS LINES. \n",
        "    criterion = CrossEntropyLoss()\n",
        "    trainer_m = Trainer(model, criterion, train_loader, val_loader, optimizer, num_epoch=200, patience=PATIENCE,batch_size=BATCH_SIZE,lr_scheduler= lr_sche,display=viz)\n",
        "    best_model = trainer_m.train()\n",
        "'''\n",
        "\n",
        "..."
      ]
    }
  ],
  "metadata": {
    "accelerator": "GPU",
    "colab": {
      "name": "ASSIGNMENT1",
      "provenance": [],
      "collapsed_sections": [],
      "authorship_tag": "ABX9TyPIwwE0aXuAKk8aAs6DQB/j",
      "include_colab_link": true
    },
    "kernelspec": {
      "display_name": "Python 3",
      "name": "python3"
    },
    "language_info": {
      "name": "python"
    }
  },
  "nbformat": 4,
  "nbformat_minor": 0
}